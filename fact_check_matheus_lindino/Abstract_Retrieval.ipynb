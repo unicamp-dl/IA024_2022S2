{
 "cells": [
  {
   "cell_type": "markdown",
   "id": "d919edd9-cc78-4018-bb82-12a9c3bce2c4",
   "metadata": {},
   "source": [
    "# Abstract Retrieval\n",
    "\n",
    "This notebook contains:\n",
    "- BM25 (with Pyserini and Rank_BM25);\n",
    "- BERT and T5 refined to Abstract Retrieval;\n",
    "- Abstract-Level Metrics."
   ]
  },
  {
   "cell_type": "code",
   "execution_count": 2,
   "id": "d2ec9475-3068-4a71-ba56-953cc5373b93",
   "metadata": {},
   "outputs": [
    {
     "name": "stdout",
     "output_type": "stream",
     "text": [
      "Defaulting to user installation because normal site-packages is not writeable\n",
      "Collecting protobuf==3.20.*\n",
      "  Downloading protobuf-3.20.3-cp38-cp38-manylinux_2_5_x86_64.manylinux1_x86_64.whl (1.0 MB)\n",
      "\u001b[2K     \u001b[90m━━━━━━━━━━━━━━━━━━━━━━━━━━━━━━━━━━━━━━━━\u001b[0m \u001b[32m1.0/1.0 MB\u001b[0m \u001b[31m26.1 MB/s\u001b[0m eta \u001b[36m0:00:00\u001b[0m00:01\u001b[0m\n",
      "\u001b[?25hInstalling collected packages: protobuf\n",
      "Successfully installed protobuf-3.20.3\n",
      "Note: you may need to restart the kernel to use updated packages.\n"
     ]
    }
   ],
   "source": [
    "pip install protobuf==3.20.*"
   ]
  },
  {
   "cell_type": "code",
   "execution_count": 2,
   "id": "35cb9d31-9bdf-4397-85f0-37c214e44a1b",
   "metadata": {
    "collapsed": true,
    "jupyter": {
     "outputs_hidden": true
    },
    "tags": []
   },
   "outputs": [
    {
     "name": "stdout",
     "output_type": "stream",
     "text": [
      "Defaulting to user installation because normal site-packages is not writeable\n",
      "Ignoring dataclasses: markers 'python_version < \"3.7\"' don't match your environment\n",
      "Collecting coloredlogs==14.0\n",
      "  Downloading coloredlogs-14.0-py2.py3-none-any.whl (43 kB)\n",
      "\u001b[2K     \u001b[90m━━━━━━━━━━━━━━━━━━━━━━━━━━━━━━━━━━━━━━━━\u001b[0m \u001b[32m43.9/43.9 kB\u001b[0m \u001b[31m9.4 MB/s\u001b[0m eta \u001b[36m0:00:00\u001b[0m\n",
      "\u001b[?25hRequirement already satisfied: numpy>=1.18 in /usr/local/lib/python3.8/dist-packages (from -r pygaggle/requirements.txt (line 3)) (1.23.5)\n",
      "Collecting pydantic==1.7.4\n",
      "  Downloading pydantic-1.7.4-cp38-cp38-manylinux2014_x86_64.whl (12.3 MB)\n",
      "\u001b[2K     \u001b[90m━━━━━━━━━━━━━━━━━━━━━━━━━━━━━━━━━━━━━━━━\u001b[0m \u001b[32m12.3/12.3 MB\u001b[0m \u001b[31m67.9 MB/s\u001b[0m eta \u001b[36m0:00:00\u001b[0m00:01\u001b[0m00:01\u001b[0m\n",
      "\u001b[?25hRequirement already satisfied: pyserini>=0.16.0 in /usr/local/lib/python3.8/dist-packages (from -r pygaggle/requirements.txt (line 5)) (0.19.1)\n",
      "Collecting scikit-learn==0.24.2\n",
      "  Downloading scikit_learn-0.24.2-cp38-cp38-manylinux2010_x86_64.whl (24.9 MB)\n",
      "\u001b[2K     \u001b[90m━━━━━━━━━━━━━━━━━━━━━━━━━━━━━━━━━━━━━━━━\u001b[0m \u001b[32m24.9/24.9 MB\u001b[0m \u001b[31m45.9 MB/s\u001b[0m eta \u001b[36m0:00:00\u001b[0m00:01\u001b[0m00:01\u001b[0m\n",
      "\u001b[?25hCollecting scipy==1.5.4\n",
      "  Downloading scipy-1.5.4-cp38-cp38-manylinux1_x86_64.whl (25.8 MB)\n",
      "\u001b[2K     \u001b[90m━━━━━━━━━━━━━━━━━━━━━━━━━━━━━━━━━━━━━━━━\u001b[0m \u001b[32m25.8/25.8 MB\u001b[0m \u001b[31m46.3 MB/s\u001b[0m eta \u001b[36m0:00:00\u001b[0m00:01\u001b[0m00:01\u001b[0m\n",
      "\u001b[?25hRequirement already satisfied: spacy>=3.2.1 in /usr/local/lib/python3.8/dist-packages (from -r pygaggle/requirements.txt (line 8)) (3.4.3)\n",
      "Collecting tensorboard==2.5.0\n",
      "  Downloading tensorboard-2.5.0-py3-none-any.whl (6.0 MB)\n",
      "\u001b[2K     \u001b[90m━━━━━━━━━━━━━━━━━━━━━━━━━━━━━━━━━━━━━━━━\u001b[0m \u001b[32m6.0/6.0 MB\u001b[0m \u001b[31m72.3 MB/s\u001b[0m eta \u001b[36m0:00:00\u001b[0m:00:01\u001b[0m00:01\u001b[0m\n",
      "\u001b[?25hCollecting tensorflow==2.5.0\n",
      "  Downloading tensorflow-2.5.0-cp38-cp38-manylinux2010_x86_64.whl (454.4 MB)\n",
      "\u001b[2K     \u001b[90m━━━━━━━━━━━━━━━━━━━━━━━━━━━━━━━━━━━━━━━\u001b[0m \u001b[32m454.4/454.4 MB\u001b[0m \u001b[31m4.8 MB/s\u001b[0m eta \u001b[36m0:00:00\u001b[0m00:01\u001b[0m00:01\u001b[0m\n",
      "\u001b[?25hCollecting tokenizers==0.10.2\n",
      "  Downloading tokenizers-0.10.2-cp38-cp38-manylinux2010_x86_64.whl (3.3 MB)\n",
      "\u001b[2K     \u001b[90m━━━━━━━━━━━━━━━━━━━━━━━━━━━━━━━━━━━━━━━━\u001b[0m \u001b[32m3.3/3.3 MB\u001b[0m \u001b[31m42.7 MB/s\u001b[0m eta \u001b[36m0:00:00\u001b[0m00:01\u001b[0m00:01\u001b[0m\n",
      "\u001b[?25hCollecting tqdm==4.56.0\n",
      "  Downloading tqdm-4.56.0-py2.py3-none-any.whl (72 kB)\n",
      "\u001b[2K     \u001b[90m━━━━━━━━━━━━━━━━━━━━━━━━━━━━━━━━━━━━━━━━\u001b[0m \u001b[32m72.5/72.5 kB\u001b[0m \u001b[31m17.1 MB/s\u001b[0m eta \u001b[36m0:00:00\u001b[0m\n",
      "\u001b[?25hCollecting transformers==4.6.1\n",
      "  Downloading transformers-4.6.1-py3-none-any.whl (2.2 MB)\n",
      "\u001b[2K     \u001b[90m━━━━━━━━━━━━━━━━━━━━━━━━━━━━━━━━━━━━━━━━\u001b[0m \u001b[32m2.2/2.2 MB\u001b[0m \u001b[31m40.3 MB/s\u001b[0m eta \u001b[36m0:00:00\u001b[0ma \u001b[36m0:00:01\u001b[0m\n",
      "\u001b[?25hCollecting sentencepiece==0.1.95\n",
      "  Downloading sentencepiece-0.1.95-cp38-cp38-manylinux2014_x86_64.whl (1.2 MB)\n",
      "\u001b[2K     \u001b[90m━━━━━━━━━━━━━━━━━━━━━━━━━━━━━━━━━━━━━━━━\u001b[0m \u001b[32m1.2/1.2 MB\u001b[0m \u001b[31m38.8 MB/s\u001b[0m eta \u001b[36m0:00:00\u001b[0m\n",
      "\u001b[?25hCollecting sentence_transformers==2.0.0\n",
      "  Downloading sentence-transformers-2.0.0.tar.gz (85 kB)\n",
      "\u001b[2K     \u001b[90m━━━━━━━━━━━━━━━━━━━━━━━━━━━━━━━━━━━━━━━━\u001b[0m \u001b[32m85.5/85.5 kB\u001b[0m \u001b[31m17.3 MB/s\u001b[0m eta \u001b[36m0:00:00\u001b[0m\n",
      "\u001b[?25h  Preparing metadata (setup.py) ... \u001b[?25ldone\n",
      "\u001b[?25hRequirement already satisfied: torch>=1.8.1 in /usr/local/lib/python3.8/dist-packages (from -r pygaggle/requirements.txt (line 16)) (1.11.0+cu113)\n",
      "Requirement already satisfied: humanfriendly>=7.1 in /usr/local/lib/python3.8/dist-packages (from coloredlogs==14.0->-r pygaggle/requirements.txt (line 1)) (10.0)\n",
      "Requirement already satisfied: threadpoolctl>=2.0.0 in /usr/local/lib/python3.8/dist-packages (from scikit-learn==0.24.2->-r pygaggle/requirements.txt (line 6)) (3.1.0)\n",
      "Requirement already satisfied: joblib>=0.11 in /usr/local/lib/python3.8/dist-packages (from scikit-learn==0.24.2->-r pygaggle/requirements.txt (line 6)) (1.2.0)\n",
      "Collecting tensorboard-plugin-wit>=1.6.0\n",
      "  Downloading tensorboard_plugin_wit-1.8.1-py3-none-any.whl (781 kB)\n",
      "\u001b[2K     \u001b[90m━━━━━━━━━━━━━━━━━━━━━━━━━━━━━━━━━━━━━━\u001b[0m \u001b[32m781.3/781.3 kB\u001b[0m \u001b[31m39.7 MB/s\u001b[0m eta \u001b[36m0:00:00\u001b[0m\n",
      "\u001b[?25hCollecting absl-py>=0.4\n",
      "  Downloading absl_py-1.3.0-py3-none-any.whl (124 kB)\n",
      "\u001b[2K     \u001b[90m━━━━━━━━━━━━━━━━━━━━━━━━━━━━━━━━━━━━━━\u001b[0m \u001b[32m124.6/124.6 kB\u001b[0m \u001b[31m24.2 MB/s\u001b[0m eta \u001b[36m0:00:00\u001b[0m\n",
      "\u001b[?25hCollecting google-auth-oauthlib<0.5,>=0.4.1\n",
      "  Downloading google_auth_oauthlib-0.4.6-py2.py3-none-any.whl (18 kB)\n",
      "Collecting tensorboard-data-server<0.7.0,>=0.6.0\n",
      "  Downloading tensorboard_data_server-0.6.1-py3-none-manylinux2010_x86_64.whl (4.9 MB)\n",
      "\u001b[2K     \u001b[90m━━━━━━━━━━━━━━━━━━━━━━━━━━━━━━━━━━━━━━━━\u001b[0m \u001b[32m4.9/4.9 MB\u001b[0m \u001b[31m42.4 MB/s\u001b[0m eta \u001b[36m0:00:00\u001b[0m00:01\u001b[0m00:01\u001b[0m\n",
      "\u001b[?25hCollecting grpcio>=1.24.3\n",
      "  Downloading grpcio-1.51.1-cp38-cp38-manylinux_2_17_x86_64.manylinux2014_x86_64.whl (4.8 MB)\n",
      "\u001b[2K     \u001b[90m━━━━━━━━━━━━━━━━━━━━━━━━━━━━━━━━━━━━━━━━\u001b[0m \u001b[32m4.8/4.8 MB\u001b[0m \u001b[31m47.8 MB/s\u001b[0m eta \u001b[36m0:00:00\u001b[0ma \u001b[36m0:00:01\u001b[0m\n",
      "\u001b[?25hCollecting google-auth<2,>=1.6.3\n",
      "  Downloading google_auth-1.35.0-py2.py3-none-any.whl (152 kB)\n",
      "\u001b[2K     \u001b[90m━━━━━━━━━━━━━━━━━━━━━━━━━━━━━━━━━━━━━━\u001b[0m \u001b[32m152.9/152.9 kB\u001b[0m \u001b[31m33.7 MB/s\u001b[0m eta \u001b[36m0:00:00\u001b[0m\n",
      "\u001b[?25hCollecting werkzeug>=0.11.15\n",
      "  Downloading Werkzeug-2.2.2-py3-none-any.whl (232 kB)\n",
      "\u001b[2K     \u001b[90m━━━━━━━━━━━━━━━━━━━━━━━━━━━━━━━━━━━━━━\u001b[0m \u001b[32m232.7/232.7 kB\u001b[0m \u001b[31m34.3 MB/s\u001b[0m eta \u001b[36m0:00:00\u001b[0m\n",
      "\u001b[?25hRequirement already satisfied: wheel>=0.26 in /usr/lib/python3/dist-packages (from tensorboard==2.5.0->-r pygaggle/requirements.txt (line 9)) (0.34.2)\n",
      "Requirement already satisfied: protobuf>=3.6.0 in /usr/local/lib/python3.8/dist-packages (from tensorboard==2.5.0->-r pygaggle/requirements.txt (line 9)) (4.21.9)\n",
      "Collecting markdown>=2.6.8\n",
      "  Downloading Markdown-3.4.1-py3-none-any.whl (93 kB)\n",
      "\u001b[2K     \u001b[90m━━━━━━━━━━━━━━━━━━━━━━━━━━━━━━━━━━━━━━━━\u001b[0m \u001b[32m93.3/93.3 kB\u001b[0m \u001b[31m20.1 MB/s\u001b[0m eta \u001b[36m0:00:00\u001b[0m\n",
      "\u001b[?25hRequirement already satisfied: setuptools>=41.0.0 in /usr/local/lib/python3.8/dist-packages (from tensorboard==2.5.0->-r pygaggle/requirements.txt (line 9)) (65.6.3)\n",
      "Requirement already satisfied: requests<3,>=2.21.0 in /usr/lib/python3/dist-packages (from tensorboard==2.5.0->-r pygaggle/requirements.txt (line 9)) (2.22.0)\n",
      "Collecting six~=1.15.0\n",
      "  Downloading six-1.15.0-py2.py3-none-any.whl (10 kB)\n",
      "Collecting h5py~=3.1.0\n",
      "  Downloading h5py-3.1.0-cp38-cp38-manylinux1_x86_64.whl (4.4 MB)\n",
      "\u001b[2K     \u001b[90m━━━━━━━━━━━━━━━━━━━━━━━━━━━━━━━━━━━━━━━━\u001b[0m \u001b[32m4.4/4.4 MB\u001b[0m \u001b[31m47.2 MB/s\u001b[0m eta \u001b[36m0:00:00\u001b[0m00:01\u001b[0m00:01\u001b[0m\n",
      "\u001b[?25hCollecting grpcio>=1.24.3\n",
      "  Downloading grpcio-1.34.1-cp38-cp38-manylinux2014_x86_64.whl (4.0 MB)\n",
      "\u001b[2K     \u001b[90m━━━━━━━━━━━━━━━━━━━━━━━━━━━━━━━━━━━━━━━━\u001b[0m \u001b[32m4.0/4.0 MB\u001b[0m \u001b[31m49.4 MB/s\u001b[0m eta \u001b[36m0:00:00\u001b[0m00:01\u001b[0m00:01\u001b[0m\n",
      "\u001b[?25hCollecting termcolor~=1.1.0\n",
      "  Downloading termcolor-1.1.0.tar.gz (3.9 kB)\n",
      "  Preparing metadata (setup.py) ... \u001b[?25ldone\n",
      "\u001b[?25hCollecting numpy>=1.18\n",
      "  Downloading numpy-1.19.5-cp38-cp38-manylinux2010_x86_64.whl (14.9 MB)\n",
      "\u001b[2K     \u001b[90m━━━━━━━━━━━━━━━━━━━━━━━━━━━━━━━━━━━━━━━━\u001b[0m \u001b[32m14.9/14.9 MB\u001b[0m \u001b[31m42.5 MB/s\u001b[0m eta \u001b[36m0:00:00\u001b[0m00:01\u001b[0m00:01\u001b[0m\n",
      "\u001b[?25hCollecting opt-einsum~=3.3.0\n",
      "  Downloading opt_einsum-3.3.0-py3-none-any.whl (65 kB)\n",
      "\u001b[2K     \u001b[90m━━━━━━━━━━━━━━━━━━━━━━━━━━━━━━━━━━━━━━━━\u001b[0m \u001b[32m65.5/65.5 kB\u001b[0m \u001b[31m18.6 MB/s\u001b[0m eta \u001b[36m0:00:00\u001b[0m\n",
      "\u001b[?25hCollecting wheel>=0.26\n",
      "  Downloading wheel-0.38.4-py3-none-any.whl (36 kB)\n",
      "Collecting typing-extensions~=3.7.4\n",
      "  Downloading typing_extensions-3.7.4.3-py3-none-any.whl (22 kB)\n",
      "Collecting flatbuffers~=1.12.0\n",
      "  Downloading flatbuffers-1.12-py2.py3-none-any.whl (15 kB)\n",
      "Collecting google-pasta~=0.2\n",
      "  Downloading google_pasta-0.2.0-py3-none-any.whl (57 kB)\n",
      "\u001b[2K     \u001b[90m━━━━━━━━━━━━━━━━━━━━━━━━━━━━━━━━━━━━━━━━\u001b[0m \u001b[32m57.5/57.5 kB\u001b[0m \u001b[31m11.5 MB/s\u001b[0m eta \u001b[36m0:00:00\u001b[0m\n",
      "\u001b[?25hCollecting keras-preprocessing~=1.1.2\n",
      "  Downloading Keras_Preprocessing-1.1.2-py2.py3-none-any.whl (42 kB)\n",
      "\u001b[2K     \u001b[90m━━━━━━━━━━━━━━━━━━━━━━━━━━━━━━━━━━━━━━━━\u001b[0m \u001b[32m42.6/42.6 kB\u001b[0m \u001b[31m5.0 MB/s\u001b[0m eta \u001b[36m0:00:00\u001b[0m\n",
      "\u001b[?25hCollecting absl-py>=0.4\n",
      "  Downloading absl_py-0.15.0-py3-none-any.whl (132 kB)\n",
      "\u001b[2K     \u001b[90m━━━━━━━━━━━━━━━━━━━━━━━━━━━━━━━━━━━━━━\u001b[0m \u001b[32m132.0/132.0 kB\u001b[0m \u001b[31m22.7 MB/s\u001b[0m eta \u001b[36m0:00:00\u001b[0m\n",
      "\u001b[?25hCollecting wrapt~=1.12.1\n",
      "  Downloading wrapt-1.12.1.tar.gz (27 kB)\n",
      "  Preparing metadata (setup.py) ... \u001b[?25ldone\n",
      "\u001b[?25hCollecting astunparse~=1.6.3\n",
      "  Downloading astunparse-1.6.3-py2.py3-none-any.whl (12 kB)\n",
      "Collecting gast==0.4.0\n",
      "  Downloading gast-0.4.0-py3-none-any.whl (9.8 kB)\n",
      "Collecting tensorflow-estimator<2.6.0,>=2.5.0rc0\n",
      "  Downloading tensorflow_estimator-2.5.0-py2.py3-none-any.whl (462 kB)\n",
      "\u001b[2K     \u001b[90m━━━━━━━━━━━━━━━━━━━━━━━━━━━━━━━━━━━━━━\u001b[0m \u001b[32m462.4/462.4 kB\u001b[0m \u001b[31m35.5 MB/s\u001b[0m eta \u001b[36m0:00:00\u001b[0m\n",
      "\u001b[?25hCollecting keras-nightly~=2.5.0.dev\n",
      "  Downloading keras_nightly-2.5.0.dev2021032900-py2.py3-none-any.whl (1.2 MB)\n",
      "\u001b[2K     \u001b[90m━━━━━━━━━━━━━━━━━━━━━━━━━━━━━━━━━━━━━━━━\u001b[0m \u001b[32m1.2/1.2 MB\u001b[0m \u001b[31m45.8 MB/s\u001b[0m eta \u001b[36m0:00:00\u001b[0m\n",
      "\u001b[?25hRequirement already satisfied: regex!=2019.12.17 in /usr/local/lib/python3.8/dist-packages (from transformers==4.6.1->-r pygaggle/requirements.txt (line 13)) (2022.10.31)\n",
      "Collecting huggingface-hub==0.0.8\n",
      "  Downloading huggingface_hub-0.0.8-py3-none-any.whl (34 kB)\n",
      "Collecting sacremoses\n",
      "  Downloading sacremoses-0.0.53.tar.gz (880 kB)\n",
      "\u001b[2K     \u001b[90m━━━━━━━━━━━━━━━━━━━━━━━━━━━━━━━━━━━━━━\u001b[0m \u001b[32m880.6/880.6 kB\u001b[0m \u001b[31m45.2 MB/s\u001b[0m eta \u001b[36m0:00:00\u001b[0m\n",
      "\u001b[?25h  Preparing metadata (setup.py) ... \u001b[?25ldone\n",
      "\u001b[?25hRequirement already satisfied: filelock in /usr/local/lib/python3.8/dist-packages (from transformers==4.6.1->-r pygaggle/requirements.txt (line 13)) (3.8.0)\n",
      "Requirement already satisfied: packaging in /usr/local/lib/python3.8/dist-packages (from transformers==4.6.1->-r pygaggle/requirements.txt (line 13)) (21.3)\n",
      "Requirement already satisfied: torchvision in /usr/local/lib/python3.8/dist-packages (from sentence_transformers==2.0.0->-r pygaggle/requirements.txt (line 15)) (0.12.0+cu113)\n",
      "Collecting nltk\n",
      "  Downloading nltk-3.7-py3-none-any.whl (1.5 MB)\n",
      "\u001b[2K     \u001b[90m━━━━━━━━━━━━━━━━━━━━━━━━━━━━━━━━━━━━━━━━\u001b[0m \u001b[32m1.5/1.5 MB\u001b[0m \u001b[31m48.3 MB/s\u001b[0m eta \u001b[36m0:00:00\u001b[0m\n",
      "\u001b[?25hRequirement already satisfied: nmslib>=2.1.1 in /usr/local/lib/python3.8/dist-packages (from pyserini>=0.16.0->-r pygaggle/requirements.txt (line 5)) (2.1.1)\n",
      "Requirement already satisfied: onnxruntime>=1.8.1 in /usr/local/lib/python3.8/dist-packages (from pyserini>=0.16.0->-r pygaggle/requirements.txt (line 5)) (1.13.1)\n",
      "Requirement already satisfied: Cython>=0.29.21 in /usr/local/lib/python3.8/dist-packages (from pyserini>=0.16.0->-r pygaggle/requirements.txt (line 5)) (0.29.32)\n",
      "Requirement already satisfied: pandas>=1.1.5 in /usr/local/lib/python3.8/dist-packages (from pyserini>=0.16.0->-r pygaggle/requirements.txt (line 5)) (1.5.2)\n",
      "Requirement already satisfied: lightgbm>=3.3.2 in /usr/local/lib/python3.8/dist-packages (from pyserini>=0.16.0->-r pygaggle/requirements.txt (line 5)) (3.3.3)\n",
      "Requirement already satisfied: pyjnius>=1.4.0 in /usr/local/lib/python3.8/dist-packages (from pyserini>=0.16.0->-r pygaggle/requirements.txt (line 5)) (1.4.2)\n",
      "Requirement already satisfied: jinja2 in /usr/local/lib/python3.8/dist-packages (from spacy>=3.2.1->-r pygaggle/requirements.txt (line 8)) (3.1.2)\n",
      "Requirement already satisfied: spacy-legacy<3.1.0,>=3.0.10 in /usr/local/lib/python3.8/dist-packages (from spacy>=3.2.1->-r pygaggle/requirements.txt (line 8)) (3.0.10)\n",
      "Requirement already satisfied: pathy>=0.3.5 in /usr/local/lib/python3.8/dist-packages (from spacy>=3.2.1->-r pygaggle/requirements.txt (line 8)) (0.10.0)\n",
      "Requirement already satisfied: preshed<3.1.0,>=3.0.2 in /usr/local/lib/python3.8/dist-packages (from spacy>=3.2.1->-r pygaggle/requirements.txt (line 8)) (3.0.8)\n",
      "Requirement already satisfied: cymem<2.1.0,>=2.0.2 in /usr/local/lib/python3.8/dist-packages (from spacy>=3.2.1->-r pygaggle/requirements.txt (line 8)) (2.0.7)\n",
      "Requirement already satisfied: srsly<3.0.0,>=2.4.3 in /usr/local/lib/python3.8/dist-packages (from spacy>=3.2.1->-r pygaggle/requirements.txt (line 8)) (2.4.5)\n",
      "Requirement already satisfied: wasabi<1.1.0,>=0.9.1 in /usr/local/lib/python3.8/dist-packages (from spacy>=3.2.1->-r pygaggle/requirements.txt (line 8)) (0.10.1)\n",
      "Requirement already satisfied: typer<0.8.0,>=0.3.0 in /usr/local/lib/python3.8/dist-packages (from spacy>=3.2.1->-r pygaggle/requirements.txt (line 8)) (0.7.0)\n",
      "Requirement already satisfied: spacy-loggers<2.0.0,>=1.0.0 in /usr/local/lib/python3.8/dist-packages (from spacy>=3.2.1->-r pygaggle/requirements.txt (line 8)) (1.0.3)\n",
      "Requirement already satisfied: thinc<8.2.0,>=8.1.0 in /usr/local/lib/python3.8/dist-packages (from spacy>=3.2.1->-r pygaggle/requirements.txt (line 8)) (8.1.5)\n",
      "Requirement already satisfied: catalogue<2.1.0,>=2.0.6 in /usr/local/lib/python3.8/dist-packages (from spacy>=3.2.1->-r pygaggle/requirements.txt (line 8)) (2.0.8)\n",
      "Requirement already satisfied: langcodes<4.0.0,>=3.2.0 in /usr/local/lib/python3.8/dist-packages (from spacy>=3.2.1->-r pygaggle/requirements.txt (line 8)) (3.3.0)\n",
      "Requirement already satisfied: murmurhash<1.1.0,>=0.28.0 in /usr/local/lib/python3.8/dist-packages (from spacy>=3.2.1->-r pygaggle/requirements.txt (line 8)) (1.0.9)\n",
      "Collecting cachetools<5.0,>=2.0.0\n",
      "  Downloading cachetools-4.2.4-py3-none-any.whl (10 kB)\n",
      "Collecting rsa<5,>=3.1.4\n",
      "  Downloading rsa-4.9-py3-none-any.whl (34 kB)\n",
      "Collecting pyasn1-modules>=0.2.1\n",
      "  Downloading pyasn1_modules-0.2.8-py2.py3-none-any.whl (155 kB)\n",
      "\u001b[2K     \u001b[90m━━━━━━━━━━━━━━━━━━━━━━━━━━━━━━━━━━━━━━\u001b[0m \u001b[32m155.3/155.3 kB\u001b[0m \u001b[31m33.1 MB/s\u001b[0m eta \u001b[36m0:00:00\u001b[0m\n",
      "\u001b[?25hRequirement already satisfied: requests-oauthlib>=0.7.0 in /usr/local/lib/python3.8/dist-packages (from google-auth-oauthlib<0.5,>=0.4.1->tensorboard==2.5.0->-r pygaggle/requirements.txt (line 9)) (1.3.1)\n",
      "Requirement already satisfied: importlib-metadata>=4.4 in /usr/local/lib/python3.8/dist-packages (from markdown>=2.6.8->tensorboard==2.5.0->-r pygaggle/requirements.txt (line 9)) (5.1.0)\n",
      "Requirement already satisfied: pybind11<2.6.2 in /usr/local/lib/python3.8/dist-packages (from nmslib>=2.1.1->pyserini>=0.16.0->-r pygaggle/requirements.txt (line 5)) (2.6.1)\n",
      "Requirement already satisfied: psutil in /usr/local/lib/python3.8/dist-packages (from nmslib>=2.1.1->pyserini>=0.16.0->-r pygaggle/requirements.txt (line 5)) (5.9.4)\n",
      "Collecting onnxruntime>=1.8.1\n",
      "  Downloading onnxruntime-1.12.1-cp38-cp38-manylinux_2_27_x86_64.whl (4.9 MB)\n",
      "\u001b[2K     \u001b[90m━━━━━━━━━━━━━━━━━━━━━━━━━━━━━━━━━━━━━━━━\u001b[0m \u001b[32m4.9/4.9 MB\u001b[0m \u001b[31m54.3 MB/s\u001b[0m eta \u001b[36m0:00:00\u001b[0m00:01\u001b[0m00:01\u001b[0m\n",
      "\u001b[?25h  Downloading onnxruntime-1.12.0-cp38-cp38-manylinux_2_27_x86_64.whl (4.9 MB)\n",
      "\u001b[2K     \u001b[90m━━━━━━━━━━━━━━━━━━━━━━━━━━━━━━━━━━━━━━━━\u001b[0m \u001b[32m4.9/4.9 MB\u001b[0m \u001b[31m57.1 MB/s\u001b[0m eta \u001b[36m0:00:00\u001b[0m00:01\u001b[0m00:01\u001b[0m\n",
      "\u001b[?25h  Downloading onnxruntime-1.11.1-cp38-cp38-manylinux_2_17_x86_64.manylinux2014_x86_64.whl (5.2 MB)\n",
      "\u001b[2K     \u001b[90m━━━━━━━━━━━━━━━━━━━━━━━━━━━━━━━━━━━━━━━━\u001b[0m \u001b[32m5.2/5.2 MB\u001b[0m \u001b[31m57.1 MB/s\u001b[0m eta \u001b[36m0:00:00\u001b[0m00:01\u001b[0m00:01\u001b[0m\n",
      "\u001b[?25h  Downloading onnxruntime-1.11.0-cp38-cp38-manylinux_2_17_x86_64.manylinux2014_x86_64.whl (5.2 MB)\n",
      "\u001b[2K     \u001b[90m━━━━━━━━━━━━━━━━━━━━━━━━━━━━━━━━━━━━━━━━\u001b[0m \u001b[32m5.2/5.2 MB\u001b[0m \u001b[31m56.2 MB/s\u001b[0m eta \u001b[36m0:00:00\u001b[0m00:01\u001b[0m00:01\u001b[0m\n",
      "\u001b[?25h  Downloading onnxruntime-1.10.0-cp38-cp38-manylinux_2_17_x86_64.manylinux2014_x86_64.whl (4.9 MB)\n",
      "\u001b[2K     \u001b[90m━━━━━━━━━━━━━━━━━━━━━━━━━━━━━━━━━━━━━━━━\u001b[0m \u001b[32m4.9/4.9 MB\u001b[0m \u001b[31m59.3 MB/s\u001b[0m eta \u001b[36m0:00:00\u001b[0m00:01\u001b[0m00:01\u001b[0m\n",
      "\u001b[?25hRequirement already satisfied: pyparsing!=3.0.5,>=2.0.2 in /usr/local/lib/python3.8/dist-packages (from packaging->transformers==4.6.1->-r pygaggle/requirements.txt (line 13)) (3.0.9)\n",
      "Requirement already satisfied: python-dateutil>=2.8.1 in /usr/local/lib/python3.8/dist-packages (from pandas>=1.1.5->pyserini>=0.16.0->-r pygaggle/requirements.txt (line 5)) (2.8.2)\n",
      "Collecting pandas>=1.1.5\n",
      "  Downloading pandas-1.5.1-cp38-cp38-manylinux_2_17_x86_64.manylinux2014_x86_64.whl (12.2 MB)\n",
      "\u001b[2K     \u001b[90m━━━━━━━━━━━━━━━━━━━━━━━━━━━━━━━━━━━━━━━━\u001b[0m \u001b[32m12.2/12.2 MB\u001b[0m \u001b[31m56.1 MB/s\u001b[0m eta \u001b[36m0:00:00\u001b[0m00:01\u001b[0m00:01\u001b[0m\n",
      "\u001b[?25h  Downloading pandas-1.5.0-cp38-cp38-manylinux_2_17_x86_64.manylinux2014_x86_64.whl (12.2 MB)\n",
      "\u001b[2K     \u001b[90m━━━━━━━━━━━━━━━━━━━━━━━━━━━━━━━━━━━━━━━━\u001b[0m \u001b[32m12.2/12.2 MB\u001b[0m \u001b[31m57.6 MB/s\u001b[0m eta \u001b[36m0:00:00\u001b[0m00:01\u001b[0m0:01\u001b[0m\n",
      "\u001b[?25h  Downloading pandas-1.4.4-cp38-cp38-manylinux_2_17_x86_64.manylinux2014_x86_64.whl (11.7 MB)\n",
      "\u001b[2K     \u001b[90m━━━━━━━━━━━━━━━━━━━━━━━━━━━━━━━━━━━━━━━━\u001b[0m \u001b[32m11.7/11.7 MB\u001b[0m \u001b[31m62.3 MB/s\u001b[0m eta \u001b[36m0:00:00\u001b[0m00:01\u001b[0m0:01\u001b[0m\n",
      "\u001b[?25hRequirement already satisfied: pytz>=2020.1 in /usr/local/lib/python3.8/dist-packages (from pandas>=1.1.5->pyserini>=0.16.0->-r pygaggle/requirements.txt (line 5)) (2022.6)\n",
      "Requirement already satisfied: smart-open<6.0.0,>=5.2.1 in /usr/local/lib/python3.8/dist-packages (from pathy>=0.3.5->spacy>=3.2.1->-r pygaggle/requirements.txt (line 8)) (5.2.1)\n",
      "Requirement already satisfied: blis<0.8.0,>=0.7.8 in /usr/local/lib/python3.8/dist-packages (from thinc<8.2.0,>=8.1.0->spacy>=3.2.1->-r pygaggle/requirements.txt (line 8)) (0.7.9)\n",
      "Requirement already satisfied: confection<1.0.0,>=0.0.1 in /usr/local/lib/python3.8/dist-packages (from thinc<8.2.0,>=8.1.0->spacy>=3.2.1->-r pygaggle/requirements.txt (line 8)) (0.0.3)\n",
      "Requirement already satisfied: click<9.0.0,>=7.1.1 in /usr/local/lib/python3.8/dist-packages (from typer<0.8.0,>=0.3.0->spacy>=3.2.1->-r pygaggle/requirements.txt (line 8)) (8.1.3)\n",
      "Requirement already satisfied: MarkupSafe>=2.1.1 in /usr/local/lib/python3.8/dist-packages (from werkzeug>=0.11.15->tensorboard==2.5.0->-r pygaggle/requirements.txt (line 9)) (2.1.1)\n",
      "Requirement already satisfied: pillow!=8.3.*,>=5.3.0 in /usr/local/lib/python3.8/dist-packages (from torchvision->sentence_transformers==2.0.0->-r pygaggle/requirements.txt (line 15)) (9.3.0)\n",
      "Requirement already satisfied: zipp>=0.5 in /usr/local/lib/python3.8/dist-packages (from importlib-metadata>=4.4->markdown>=2.6.8->tensorboard==2.5.0->-r pygaggle/requirements.txt (line 9)) (3.11.0)\n",
      "Collecting pyasn1<0.5.0,>=0.4.6\n",
      "  Downloading pyasn1-0.4.8-py2.py3-none-any.whl (77 kB)\n",
      "\u001b[2K     \u001b[90m━━━━━━━━━━━━━━━━━━━━━━━━━━━━━━━━━━━━━━━━\u001b[0m \u001b[32m77.1/77.1 kB\u001b[0m \u001b[31m13.9 MB/s\u001b[0m eta \u001b[36m0:00:00\u001b[0m\n",
      "\u001b[?25hRequirement already satisfied: oauthlib>=3.0.0 in /usr/local/lib/python3.8/dist-packages (from requests-oauthlib>=0.7.0->google-auth-oauthlib<0.5,>=0.4.1->tensorboard==2.5.0->-r pygaggle/requirements.txt (line 9)) (3.2.2)\n",
      "Building wheels for collected packages: sentence_transformers, termcolor, wrapt, sacremoses\n",
      "  Building wheel for sentence_transformers (setup.py) ... \u001b[?25ldone\n",
      "\u001b[?25h  Created wheel for sentence_transformers: filename=sentence_transformers-2.0.0-py3-none-any.whl size=126697 sha256=2a103c4b7dc97f5f98771a217d9962c28ffc3f133033799c48f6d64be8c63290\n",
      "  Stored in directory: /home/matheus.lindino/.cache/pip/wheels/7f/65/c5/11e55f1c354f03d6e0bee4e5f7e35cb5d5ef801e1125155de8\n",
      "  Building wheel for termcolor (setup.py) ... \u001b[?25ldone\n",
      "\u001b[?25h  Created wheel for termcolor: filename=termcolor-1.1.0-py3-none-any.whl size=4831 sha256=6f1a49e62fd75f9aef1b178712d17dd79d660efd392ce2f7be8899a2ade9d129\n",
      "  Stored in directory: /home/matheus.lindino/.cache/pip/wheels/f7/de/e8/f6aec43099b5f725a5227572d0d67a987bc444298b4f14d745\n",
      "  Building wheel for wrapt (setup.py) ... \u001b[?25ldone\n",
      "\u001b[?25h  Created wheel for wrapt: filename=wrapt-1.12.1-cp38-cp38-linux_x86_64.whl size=78563 sha256=2ad17f671cf0886208af9ee368488a02cbd0f328c351ecb46e109bdc1e51d69e\n",
      "  Stored in directory: /home/matheus.lindino/.cache/pip/wheels/67/a1/46/13226bbf258069e74ce1598cd4077014852a5e63434be9f1c6\n",
      "  Building wheel for sacremoses (setup.py) ... \u001b[?25ldone\n",
      "\u001b[?25h  Created wheel for sacremoses: filename=sacremoses-0.0.53-py3-none-any.whl size=895241 sha256=b1448b21990288b03ed5dabcb1605c9f6d266ce1ffd7ce3b9aa703ddfcb8b40f\n",
      "  Stored in directory: /home/matheus.lindino/.cache/pip/wheels/64/a3/ff/01dc060d7fc51176b3ce7cf1561466a12e658164b594747547\n",
      "Successfully built sentence_transformers termcolor wrapt sacremoses\n",
      "Installing collected packages: wrapt, typing-extensions, tokenizers, termcolor, tensorflow-estimator, tensorboard-plugin-wit, sentencepiece, pyasn1, keras-nightly, flatbuffers, wheel, werkzeug, tqdm, tensorboard-data-server, six, rsa, pydantic, pyasn1-modules, numpy, gast, coloredlogs, cachetools, scipy, sacremoses, opt-einsum, onnxruntime, nltk, markdown, keras-preprocessing, huggingface-hub, h5py, grpcio, google-pasta, google-auth, astunparse, absl-py, transformers, scikit-learn, pandas, google-auth-oauthlib, tensorboard, sentence_transformers, tensorflow\n",
      "\u001b[31mERROR: pip's dependency resolver does not currently take into account all the packages that are installed. This behaviour is the source of the following dependency conflicts.\n",
      "pylint 2.15.7 requires typing-extensions>=3.10.0; python_version < \"3.10\", but you have typing-extensions 3.7.4.3 which is incompatible.\n",
      "neurokit2 0.2.2 requires scikit-learn>=1.0.0, but you have scikit-learn 0.24.2 which is incompatible.\n",
      "astroid 2.12.13 requires typing-extensions>=3.10; python_version < \"3.10\", but you have typing-extensions 3.7.4.3 which is incompatible.\u001b[0m\u001b[31m\n",
      "\u001b[0mSuccessfully installed absl-py-0.15.0 astunparse-1.6.3 cachetools-4.2.4 coloredlogs-14.0 flatbuffers-1.12 gast-0.4.0 google-auth-1.35.0 google-auth-oauthlib-0.4.6 google-pasta-0.2.0 grpcio-1.34.1 h5py-3.1.0 huggingface-hub-0.0.8 keras-nightly-2.5.0.dev2021032900 keras-preprocessing-1.1.2 markdown-3.4.1 nltk-3.7 numpy-1.19.5 onnxruntime-1.10.0 opt-einsum-3.3.0 pandas-1.4.4 pyasn1-0.4.8 pyasn1-modules-0.2.8 pydantic-1.7.4 rsa-4.9 sacremoses-0.0.53 scikit-learn-0.24.2 scipy-1.5.4 sentence_transformers-2.0.0 sentencepiece-0.1.95 six-1.15.0 tensorboard-2.5.0 tensorboard-data-server-0.6.1 tensorboard-plugin-wit-1.8.1 tensorflow-2.5.0 tensorflow-estimator-2.5.0 termcolor-1.1.0 tokenizers-0.10.2 tqdm-4.56.0 transformers-4.6.1 typing-extensions-3.7.4.3 werkzeug-2.2.2 wheel-0.38.4 wrapt-1.12.1\n"
     ]
    }
   ],
   "source": [
    "!pip install -r pygaggle/requirements.txt"
   ]
  },
  {
   "cell_type": "markdown",
   "id": "ad814eae-7e0c-426a-83a8-c31c626583fb",
   "metadata": {
    "tags": []
   },
   "source": [
    "### Imports and Global Variables"
   ]
  },
  {
   "cell_type": "code",
   "execution_count": 1,
   "id": "e5605cfa-96cc-4cca-9cb2-5a1162ae3881",
   "metadata": {},
   "outputs": [
    {
     "name": "stderr",
     "output_type": "stream",
     "text": [
      "2022-11-30 14:46:19.416195: I tensorflow/stream_executor/platform/default/dso_loader.cc:53] Successfully opened dynamic library libcudart.so.11.0\n",
      "2022-11-30 14:46:21.407732: I tensorflow/stream_executor/platform/default/dso_loader.cc:53] Successfully opened dynamic library libcuda.so.1\n",
      "2022-11-30 14:46:21.408738: I tensorflow/core/common_runtime/gpu/gpu_device.cc:1733] Found device 0 with properties: \n",
      "pciBusID: 0000:1b:00.0 name: NVIDIA Quadro RTX 5000 computeCapability: 7.5\n",
      "coreClock: 1.815GHz coreCount: 48 deviceMemorySize: 15.75GiB deviceMemoryBandwidth: 417.29GiB/s\n",
      "2022-11-30 14:46:21.409820: I tensorflow/core/common_runtime/gpu/gpu_device.cc:1733] Found device 1 with properties: \n",
      "pciBusID: 0000:3e:00.0 name: NVIDIA Quadro RTX 5000 computeCapability: 7.5\n",
      "coreClock: 1.815GHz coreCount: 48 deviceMemorySize: 15.75GiB deviceMemoryBandwidth: 417.29GiB/s\n",
      "2022-11-30 14:46:21.409841: I tensorflow/stream_executor/platform/default/dso_loader.cc:53] Successfully opened dynamic library libcudart.so.11.0\n",
      "2022-11-30 14:46:21.409920: W tensorflow/stream_executor/platform/default/dso_loader.cc:64] Could not load dynamic library 'libcublas.so.11'; dlerror: libcublas.so.11: cannot open shared object file: No such file or directory; LD_LIBRARY_PATH: /usr/local/nvidia/lib:/usr/local/nvidia/lib64\n",
      "2022-11-30 14:46:21.409965: W tensorflow/stream_executor/platform/default/dso_loader.cc:64] Could not load dynamic library 'libcublasLt.so.11'; dlerror: libcublasLt.so.11: cannot open shared object file: No such file or directory; LD_LIBRARY_PATH: /usr/local/nvidia/lib:/usr/local/nvidia/lib64\n",
      "2022-11-30 14:46:21.410005: W tensorflow/stream_executor/platform/default/dso_loader.cc:64] Could not load dynamic library 'libcufft.so.10'; dlerror: libcufft.so.10: cannot open shared object file: No such file or directory; LD_LIBRARY_PATH: /usr/local/nvidia/lib:/usr/local/nvidia/lib64\n",
      "2022-11-30 14:46:21.410043: W tensorflow/stream_executor/platform/default/dso_loader.cc:64] Could not load dynamic library 'libcurand.so.10'; dlerror: libcurand.so.10: cannot open shared object file: No such file or directory; LD_LIBRARY_PATH: /usr/local/nvidia/lib:/usr/local/nvidia/lib64\n",
      "2022-11-30 14:46:21.410080: W tensorflow/stream_executor/platform/default/dso_loader.cc:64] Could not load dynamic library 'libcusolver.so.11'; dlerror: libcusolver.so.11: cannot open shared object file: No such file or directory; LD_LIBRARY_PATH: /usr/local/nvidia/lib:/usr/local/nvidia/lib64\n",
      "2022-11-30 14:46:21.410117: W tensorflow/stream_executor/platform/default/dso_loader.cc:64] Could not load dynamic library 'libcusparse.so.11'; dlerror: libcusparse.so.11: cannot open shared object file: No such file or directory; LD_LIBRARY_PATH: /usr/local/nvidia/lib:/usr/local/nvidia/lib64\n",
      "2022-11-30 14:46:21.410155: W tensorflow/stream_executor/platform/default/dso_loader.cc:64] Could not load dynamic library 'libcudnn.so.8'; dlerror: libcudnn.so.8: cannot open shared object file: No such file or directory; LD_LIBRARY_PATH: /usr/local/nvidia/lib:/usr/local/nvidia/lib64\n",
      "2022-11-30 14:46:21.410163: W tensorflow/core/common_runtime/gpu/gpu_device.cc:1766] Cannot dlopen some GPU libraries. Please make sure the missing libraries mentioned above are installed properly if you would like to use GPU. Follow the guide at https://www.tensorflow.org/install/gpu for how to download and setup the required libraries for your platform.\n",
      "Skipping registering GPU devices...\n"
     ]
    }
   ],
   "source": [
    "import os\n",
    "import copy\n",
    "import torch\n",
    "import random\n",
    "import json\n",
    "import jsonlines\n",
    "import numpy as np\n",
    "import pandas as pd\n",
    "import plotly.express as px\n",
    "import matplotlib.pyplot as plt\n",
    "\n",
    "#from nltk import tokenize\n",
    "from torch.optim import Adam\n",
    "from tqdm.notebook import tqdm\n",
    "from rank_bm25 import BM25Okapi\n",
    "from torch.utils.data import Dataset, DataLoader\n",
    "from pyserini.search.lucene import LuceneSearcher\n",
    "from sklearn.metrics import recall_score, accuracy_score, precision_score\n",
    "from transformers import BertTokenizerFast, BertForSequenceClassification\n",
    "\n",
    "#import pygaggle\n",
    "from pygaggle.pygaggle.rerank.base import Query, Text, hits_to_texts\n",
    "from pygaggle.pygaggle.rerank.transformer import MonoT5, MonoBERT"
   ]
  },
  {
   "cell_type": "code",
   "execution_count": 2,
   "id": "931a7edf-27ca-4059-8b58-075a4c9263bd",
   "metadata": {},
   "outputs": [
    {
     "name": "stdout",
     "output_type": "stream",
     "text": [
      "Device: cuda:1\n"
     ]
    }
   ],
   "source": [
    "random.seed(42)\n",
    "np.random.seed(42)\n",
    "torch.manual_seed(42)\n",
    "\n",
    "os.environ[\"TOKENIZERS_PARALLELISM\"] = \"false\"\n",
    "\n",
    "device = torch.device('cuda:1' if torch.cuda.is_available() else 'cpu')\n",
    "print(f'Device: {device}')"
   ]
  },
  {
   "cell_type": "code",
   "execution_count": 3,
   "id": "3b0eca50-c6a4-4388-8924-48cbabc5ac24",
   "metadata": {},
   "outputs": [],
   "source": [
    "params = {\n",
    "    'batch_size': 16,\n",
    "    'optimizer': 'Adam',\n",
    "    'learning_rate': 1e-5,\n",
    "    'epochs': 1,\n",
    "    'version': 'base',\n",
    "    'model': 'bert',\n",
    "    'early_stopping': None,\n",
    "    'seed': 42,\n",
    "    'max_length': 512,\n",
    "    'evaluate_interval': 100,\n",
    "    'accumulate_grad_batches': 4\n",
    "}"
   ]
  },
  {
   "cell_type": "markdown",
   "id": "90dc0384-eac4-4d9f-a846-dc4369d60580",
   "metadata": {
    "jp-MarkdownHeadingCollapsed": true,
    "tags": []
   },
   "source": [
    "### Read Json"
   ]
  },
  {
   "cell_type": "code",
   "execution_count": 4,
   "id": "8367d865-aeb7-469b-a2c1-011d99e27f37",
   "metadata": {},
   "outputs": [],
   "source": [
    "def read_json(path):\n",
    "    docs = []\n",
    "    with jsonlines.open(path) as file:\n",
    "        for line in file.iter():\n",
    "            docs.append(line)\n",
    "            \n",
    "    return docs\n",
    "\n",
    "corpus = read_json('data/corpus.jsonl')\n",
    "train_json = read_json('data/claims_train.jsonl')\n",
    "valid_json = read_json('data/claims_dev.jsonl')\n",
    "test_json  = read_json('data/claims_test.jsonl')"
   ]
  },
  {
   "cell_type": "markdown",
   "id": "4a496856-3e2a-4b09-8409-1c4304320f0b",
   "metadata": {
    "tags": []
   },
   "source": [
    "### Metrics"
   ]
  },
  {
   "cell_type": "code",
   "execution_count": 5,
   "id": "78c9dc73-43c0-4079-a3a9-6390ad6611bb",
   "metadata": {},
   "outputs": [],
   "source": [
    "def recall_abstract(true, preds, _id_):\n",
    "    '''\n",
    "        Calculate Recall for Document Retrieval\n",
    "            Recall = No. of relevant documents retrieved / No. of total relevant documents\n",
    "    \n",
    "        Parameters\n",
    "        ----------\n",
    "        true : List\n",
    "            List of documets returned from any search engine\n",
    "        \n",
    "        preds: Set\n",
    "            List of relevant id documents\n",
    "        \n",
    "        _id_: str\n",
    "            Key of the id\n",
    "    '''\n",
    "    count = 0.0\n",
    "    for doc in preds:\n",
    "        if str(doc[_id_]) in true:\n",
    "            count += 1\n",
    "    \n",
    "    if count > len(true): count = len(true)\n",
    "\n",
    "    return count / len(true)\n",
    "\n",
    "def precision_abstract(true, preds, _id_):\n",
    "    '''\n",
    "        Calculate Precision for Document Retrieval\n",
    "            Precision = No. of relevant documents retrieved / No. of total documents retrieved\n",
    "    \n",
    "        Parameters\n",
    "        ----------\n",
    "        true : List\n",
    "            List of documets returned from any search engine\n",
    "        \n",
    "        preds: Set\n",
    "            List of relevant id documents\n",
    "        \n",
    "        _id_: str\n",
    "            Key of the id\n",
    "    '''\n",
    "    count = 0.0\n",
    "    for doc in preds:\n",
    "        if str(doc[_id_]) in true:\n",
    "            count += 1\n",
    "    \n",
    "    if count > len(true): count = len(true)\n",
    "        \n",
    "    return count / len(doc)\n",
    "\n",
    "def f1_score_abstract(recall, precision):\n",
    "    '''\n",
    "        Calculate F1 Score for Document Retrieval\n",
    "            F-Score = 2 * Precision * Recall / Precision + Recall\n",
    "    \n",
    "        Parameters\n",
    "        ----------\n",
    "        recall : Float\n",
    "        \n",
    "        precision: Float\n",
    "    '''\n",
    "    \n",
    "    return (2 * precision * recall) / (precision + recall)"
   ]
  },
  {
   "cell_type": "markdown",
   "id": "4fb42e27-b091-473b-a359-65a241ebdf49",
   "metadata": {
    "tags": []
   },
   "source": [
    "### RankBM25"
   ]
  },
  {
   "cell_type": "code",
   "execution_count": 9,
   "id": "25795172-9c8e-4b6f-9959-58f5d01b7c64",
   "metadata": {},
   "outputs": [],
   "source": [
    "def corpusTokenizer(corpus):\n",
    "    '''\n",
    "        Tokenize the entire corpus\n",
    "        \n",
    "        Parameters\n",
    "        ----------\n",
    "        corpus: Json\n",
    "            All corpus available (corpus.jsonl)\n",
    "    '''\n",
    "    \n",
    "    tokenized_corpus = []\n",
    "    for doc in corpus:\n",
    "        abstract = [item.split(' ') for item in doc['abstract']]\n",
    "        abstract = [item for sublist in abstract for item in sublist]\n",
    "\n",
    "        tokenized_corpus.append(abstract)\n",
    "\n",
    "    return tokenized_corpus\n",
    "\n",
    "def claimTokenizer(dataset):\n",
    "    '''\n",
    "        Tokenize one query\n",
    "        \n",
    "        Parameters\n",
    "        ----------\n",
    "        dataset: Json\n",
    "            One query of a dataset (E.g. fist element of train.jsonl)\n",
    "    '''\n",
    "    return dataset['claim'].split(' ')\n",
    "\n",
    "def RankBM25(claim, tokenized_corpus, corpus, top_k=30):\n",
    "    '''\n",
    "        Apply the BM25 in only one query        \n",
    "    '''\n",
    "    bm25 = BM25Okapi(tokenized_corpus)\n",
    "    results = bm25.get_top_n(claim, tokenized_corpus, n=top_k)\n",
    "    return adjust_results(results, corpus)\n",
    "\n",
    "def adjust_results(results, corpus):\n",
    "    '''\n",
    "        Adjust the bm25 result\n",
    "    '''\n",
    "    docs = []\n",
    "   \n",
    "    for sentence in results:\n",
    "        sentence = ' '.join(sentence)\n",
    "        \n",
    "        for doc in corpus:\n",
    "            sample = ' '.join(doc['abstract'])\n",
    "            if sample == sentence:\n",
    "                docs.append(doc)\n",
    "    return docs"
   ]
  },
  {
   "cell_type": "code",
   "execution_count": 10,
   "id": "edbdac8c-f5c2-40f8-b61a-9f883df79df5",
   "metadata": {},
   "outputs": [
    {
     "name": "stdout",
     "output_type": "stream",
     "text": [
      "Sample: {'id': 181, 'claim': 'Blocking the interaction between TDP-43 and respiratory complex I proteins ND3 and ND6 prevents TDP-43-induced neuronal loss.', 'evidence': {'16966326': [{'sentences': [5], 'label': 'SUPPORT'}]}, 'cited_doc_ids': [16966326]}\n",
      "Tokenized Sample: ['Blocking', 'the', 'interaction', 'between', 'TDP-43', 'and', 'respiratory', 'complex', 'I', 'proteins', 'ND3', 'and', 'ND6', 'prevents', 'TDP-43-induced', 'neuronal', 'loss.']\n"
     ]
    },
    {
     "data": {
      "text/plain": [
       "[{'doc_id': 16966326,\n",
       "  'title': 'The Inhibition of TDP-43 Mitochondrial Localization Blocks Its Neuronal Toxicity',\n",
       "  'abstract': ['Genetic mutations in TAR DNA-binding protein 43 (TARDBP, also known as TDP-43) cause amyotrophic lateral sclerosis (ALS), and an increase in the presence of TDP-43 (encoded by TARDBP) in the cytoplasm is a prominent histopathological feature of degenerating neurons in various neurodegenerative diseases.',\n",
       "   'However, the molecular mechanisms by which TDP-43 contributes to ALS pathophysiology remain elusive.',\n",
       "   'Here we have found that TDP-43 accumulates in the mitochondria of neurons in subjects with ALS or frontotemporal dementia (FTD).',\n",
       "   'Disease-associated mutations increase TDP-43 mitochondrial localization.',\n",
       "   'In mitochondria, wild-type (WT) and mutant TDP-43 preferentially bind mitochondria-transcribed messenger RNAs (mRNAs) encoding respiratory complex I subunits ND3 and ND6, impair their expression and specifically cause complex I disassembly.',\n",
       "   'The suppression of TDP-43 mitochondrial localization abolishes WT and mutant TDP-43-induced mitochondrial dysfunction and neuronal loss, and improves phenotypes of transgenic mutant TDP-43 mice.',\n",
       "   'Thus, our studies link TDP-43 toxicity directly to mitochondrial bioenergetics and propose the targeting of TDP-43 mitochondrial localization as a promising therapeutic approach for neurodegeneration.'],\n",
       "  'structured': False},\n",
       " {'doc_id': 13380011,\n",
       "  'title': 'Spare respiratory capacity rather than oxidative stress regulates glutamate excitotoxicity after partial respiratory inhibition of mitochondrial complex I with rotenone.',\n",
       "  'abstract': [\"Partial inhibition of mitochondrial respiratory complex I by rotenone reproduces aspects of Parkinson's disease in rodents.\",\n",
       "   'The hypothesis that rotenone enhancement of neuronal cell death is attributable to oxidative stress was tested in an acute glutamate excitotoxicity model using primary cultures of rat cerebellar granule neurons.',\n",
       "   'As little as 5 nM rotenone increased mitochondrial superoxide (O2*-) levels and potentiated glutamate-induced cytoplasmic Ca2+ deregulation, the first irreversible stage of necrotic cell death.',\n",
       "   'However, the potent cell-permeant O2*- trap manganese tetrakis (N-ethylpyridinium-2yl) porphyrin failed to prevent the effects of the inhibitor.',\n",
       "   'The bioenergetic consequences of rotenone addition were quantified by monitoring cell respiration.',\n",
       "   'Glutamate activation of NMDA receptors used the full respiratory capacity of the in situ mitochondria, and >80% of the glutamate-stimulated respiration was attributable to increased cellular ATP demand.',\n",
       "   'Rotenone at 20 nM inhibited basal and carbonyl cyanide p-trifluoromethoxyphenylhydrazone-stimulated cell respiration and caused respiratory failure in the presence of glutamate.',\n",
       "   'ATP synthase inhibition by oligomycin was also toxic in the presence of glutamate.',\n",
       "   'We conclude that the cell vulnerability in the rotenone model of partial complex I deficiency under these specific conditions is primarily determined by spare respiratory capacity rather than oxidative stress.'],\n",
       "  'structured': False}]"
      ]
     },
     "execution_count": 10,
     "metadata": {},
     "output_type": "execute_result"
    }
   ],
   "source": [
    "tokenized_corpus = corpusTokenizer(corpus)\n",
    "\n",
    "sample = train_json[109]\n",
    "tokenized_query = claimTokenizer(sample)\n",
    "\n",
    "## ----- Query Example ----- ##\n",
    "print(f'Sample: {sample}')\n",
    "print(f'Tokenized Sample: {tokenized_query}')\n",
    "\n",
    "docs = RankBM25(tokenized_query, tokenized_corpus, corpus, top_k=2)\n",
    "docs"
   ]
  },
  {
   "cell_type": "code",
   "execution_count": 11,
   "id": "64830519-7024-405d-bc5d-5aa443017091",
   "metadata": {},
   "outputs": [
    {
     "name": "stdout",
     "output_type": "stream",
     "text": [
      "Top_k: 1 --- Precision: 0.1422872340425532 --- Recall: 0.5527482269503546 --- F1 Score: 0.22631655720798957\n",
      "Top_k: 2 --- Precision: 0.16888297872340424 --- Recall: 0.6529255319148937 --- F1 Score: 0.2683545066446326\n",
      "Top_k: 3 --- Precision: 0.17952127659574468 --- Recall: 0.6879432624113474 --- F1 Score: 0.28473890779417044\n",
      "Top_k: 5 --- Precision: 0.19547872340425532 --- Recall: 0.7477836879432623 --- F1 Score: 0.3099366601343785\n",
      "Top_k: 10 --- Precision: 0.21409574468085107 --- Recall: 0.8036347517730497 --- F1 Score: 0.33811462117280755\n",
      "Top_k: 25 --- Precision: 0.23138297872340424 --- Recall: 0.8639184397163121 --- F1 Score: 0.3650064148376486\n",
      "Top_k: 50 --- Precision: 0.2393617021276596 --- Recall: 0.8838652482269505 --- F1 Score: 0.37670657777628513\n",
      "Top_k: 100 --- Precision: 0.24601063829787234 --- Recall: 0.9064716312056738 --- F1 Score: 0.3869936579378068\n"
     ]
    }
   ],
   "source": [
    "top_k  = [1, 2, 3, 5, 10, 25, 50, 100]\n",
    "rank_BM25_precision = []\n",
    "rank_BM25_recall    = []\n",
    "rank_BM25_f1_score  = []\n",
    "\n",
    "tokenized_corpus = corpusTokenizer(corpus)\n",
    "\n",
    "for t in top_k:\n",
    "    recall    = 0.0\n",
    "    precision = 0.0\n",
    "    data_len = 0\n",
    "    \n",
    "    for sample in valid_json:\n",
    "        claim    = claimTokenizer(sample)\n",
    "        id_label = list(sample['evidence'].keys())\n",
    "        \n",
    "        if len(id_label) < 1: continue\n",
    "        data_len += 1\n",
    "        \n",
    "        docs  = RankBM25(claim, tokenized_corpus, corpus, top_k=t)\n",
    "        \n",
    "        precision += precision_abstract(id_label, docs, 'doc_id')\n",
    "        recall    += recall_abstract(id_label, docs, 'doc_id')\n",
    "    \n",
    "    precision /= data_len\n",
    "    recall    /= data_len\n",
    "    f_score   = f1_score_abstract(recall, precision)\n",
    "    \n",
    "    rank_BM25_precision.append(precision)\n",
    "    rank_BM25_recall.append(recall)\n",
    "    rank_BM25_f1_score.append(f_score)\n",
    "    \n",
    "    print(f'Top_k: {t} --- Precision: {precision} --- Recall: {recall} --- F1 Score: {f_score}')"
   ]
  },
  {
   "cell_type": "markdown",
   "id": "c43bc7f3-1144-4b16-ae3f-16984b03c640",
   "metadata": {
    "tags": []
   },
   "source": [
    "### Pyserini"
   ]
  },
  {
   "cell_type": "code",
   "execution_count": null,
   "id": "024c4196-baa0-4fa0-a98c-8b01bd957d65",
   "metadata": {},
   "outputs": [],
   "source": [
    "def separate_corpus(corpus):\n",
    "    for idx, sample in enumerate(corpus):\n",
    "        with jsonlines.open(f'pyserini/doc_{idx}.jsonl', mode='w') as writer:\n",
    "            doc = {}\n",
    "            doc['id'] = sample['doc_id']\n",
    "            doc['contents'] = ' '.join(sample['abstract'])\n",
    "            writer.write(doc)"
   ]
  },
  {
   "cell_type": "code",
   "execution_count": null,
   "id": "7a045d51-9e86-4280-8c12-e0825613491e",
   "metadata": {
    "tags": []
   },
   "outputs": [],
   "source": [
    "!python -m pyserini.index.lucene \\\n",
    "  --collection JsonCollection \\\n",
    "  --input pyserini \\\n",
    "  --index scifact_index \\\n",
    "  --generator DefaultLuceneDocumentGenerator \\\n",
    "  --threads 1 \\\n",
    "  --storeRaw"
   ]
  },
  {
   "cell_type": "code",
   "execution_count": 6,
   "id": "c3ea4061-fda9-4cef-a3bb-bd1bd0a4a299",
   "metadata": {},
   "outputs": [],
   "source": [
    "def pyserini_search(claim, top_k, return_hits=False):\n",
    "    docs = []\n",
    "    searcher = LuceneSearcher('scifact_index')\n",
    "    hits = searcher.search(claim, k=top_k)\n",
    "\n",
    "    for i in range(len(hits)):\n",
    "        docs.append(json.loads(hits[i].raw))\n",
    "     \n",
    "    if return_hits: return hits\n",
    "    \n",
    "    return docs"
   ]
  },
  {
   "cell_type": "code",
   "execution_count": 13,
   "id": "b6f1f887-45c7-4241-8b35-764110c51999",
   "metadata": {},
   "outputs": [
    {
     "name": "stdout",
     "output_type": "stream",
     "text": [
      "Top_k: 1 --- Precision: 0.35904255319148937 --- Recall: 0.7052304964539008 --- F1 Score: 0.4758323216390335\n",
      "Top_k: 2 --- Precision: 0.4175531914893617 --- Recall: 0.8085106382978723 --- F1 Score: 0.5506992200119998\n",
      "Top_k: 3 --- Precision: 0.4441489361702128 --- Recall: 0.8497340425531915 --- F1 Score: 0.5833734228422733\n",
      "Top_k: 5 --- Precision: 0.47074468085106386 --- Recall: 0.8847517730496455 --- F1 Score: 0.6145234682660062\n",
      "Top_k: 10 --- Precision: 0.5 --- Recall: 0.924822695035461 --- F1 Score: 0.649079143852663\n",
      "Top_k: 25 --- Precision: 0.5159574468085106 --- Recall: 0.9484929078014184 --- F1 Score: 0.6683490191178952\n",
      "Top_k: 50 --- Precision: 0.5212765957446809 --- Recall: 0.950886524822695 --- F1 Score: 0.6733966958879257\n",
      "Top_k: 100 --- Precision: 0.5345744680851063 --- Recall: 0.9643617021276596 --- F1 Score: 0.6878520302613895\n"
     ]
    }
   ],
   "source": [
    "top_k  = [1, 2, 3, 5, 10, 25, 50, 100]\n",
    "pyserini_precision = []\n",
    "pyserini_recall    = []\n",
    "pyserini_f1_score  = []\n",
    "\n",
    "for t in top_k:\n",
    "    recall    = 0.0\n",
    "    precision = 0.0\n",
    "    data_len = 0\n",
    "    \n",
    "    for sample in valid_json:\n",
    "        claim   = sample['claim']\n",
    "        id_label = list(sample['evidence'].keys())\n",
    "        \n",
    "        if len(id_label) < 1: continue\n",
    "        data_len += 1\n",
    "        \n",
    "        docs  = pyserini_search(claim, t)\n",
    "        \n",
    "        precision += precision_abstract(id_label, docs, 'id')\n",
    "        recall    += recall_abstract(id_label, docs, 'id')\n",
    "    \n",
    "    precision /= data_len\n",
    "    recall    /= data_len\n",
    "    f_score   = f1_score_abstract(recall, precision)\n",
    "    \n",
    "    pyserini_precision.append(precision)\n",
    "    pyserini_recall.append(recall)\n",
    "    pyserini_f1_score.append(f_score)\n",
    "    \n",
    "    print(f'Top_k: {t} --- Precision: {precision} --- Recall: {recall} --- F1 Score: {f_score}')"
   ]
  },
  {
   "cell_type": "code",
   "execution_count": 14,
   "id": "f924df58-2bec-4a6a-84f2-2411b101faa8",
   "metadata": {},
   "outputs": [
    {
     "data": {
      "image/png": "[encoded data removed]",
      "text/plain": [
       "<Figure size 2000x500 with 3 Axes>"
      ]
     },
     "metadata": {},
     "output_type": "display_data"
    }
   ],
   "source": [
    "fig, axes = plt.subplots(1, 3, figsize=(20,5))\n",
    "\n",
    "axes[0].plot(top_k, rank_BM25_precision, '-r', label='Rank_BM25')\n",
    "axes[0].plot(top_k, pyserini_precision, '-b', label='Pyserini')\n",
    "axes[0].set_xlabel('Top K Documents'); axes[0].set_ylabel('Accuracy');\n",
    "axes[0].set_title('Precision');\n",
    "axes[0].grid(); axes[0].legend()\n",
    "\n",
    "axes[1].plot(top_k, rank_BM25_recall, '-r', label='Rank_BM25')\n",
    "axes[1].plot(top_k, pyserini_recall, '-b', label='Pyserini')\n",
    "axes[1].set_xlabel('Top K Documents'); axes[1].set_ylabel('Accuracy');\n",
    "axes[1].set_title('Recall');\n",
    "axes[1].grid(); axes[1].legend()\n",
    "\n",
    "axes[2].plot(top_k, rank_BM25_f1_score, '-r', label='Rank_BM25')\n",
    "axes[2].plot(top_k, pyserini_f1_score, '-b', label='Pyserini')\n",
    "axes[2].set_xlabel('Top K Documents'); axes[2].set_ylabel('Accuracy');\n",
    "axes[2].set_title('F1 Score');\n",
    "axes[2].grid(); axes[2].legend()\n",
    "\n",
    "plt.show()"
   ]
  },
  {
   "cell_type": "markdown",
   "id": "8b8284db-e077-45c8-b25a-145464d98c4c",
   "metadata": {
    "tags": []
   },
   "source": [
    "### monoBERT"
   ]
  },
  {
   "cell_type": "code",
   "execution_count": 9,
   "id": "8cd758b1-7439-4b7c-8e4e-dc5f66612e5f",
   "metadata": {},
   "outputs": [
    {
     "name": "stdout",
     "output_type": "stream",
     "text": [
      "Top_k: 3 --- Precision: 0.9468085106382979 --- Recall: 0.8840425531914893 --- F1 Score: 0.9143496482747536\n",
      "Top_k: 5 --- Precision: 0.9946808510638298 --- Recall: 0.9196808510638298 --- F1 Score: 0.9557116929643577\n"
     ]
    }
   ],
   "source": [
    "top_k  = [3, 5]\n",
    "bert_precision = []\n",
    "bert_recall    = []\n",
    "bert_f1_score  = []\n",
    "\n",
    "reranker =  MonoBERT()\n",
    "\n",
    "for t in top_k:\n",
    "    recall    = 0.0\n",
    "    precision = 0.0\n",
    "    data_len = 0\n",
    "    \n",
    "    for sample in valid_json:\n",
    "        claim   = sample['claim']\n",
    "        id_label = list(sample['evidence'].keys())\n",
    "        \n",
    "        if len(id_label) < 1: continue\n",
    "        data_len += 1\n",
    "        \n",
    "        hits  = pyserini_search(claim, top_k=100, return_hits=True)\n",
    "        query = Query(claim)\n",
    "        texts = hits_to_texts(hits)\n",
    "        reranked = reranker.rerank(query, texts)\n",
    "        \n",
    "        docs = []\n",
    "        for i in range(0, t):\n",
    "            docs.append({'id': reranked[i].metadata['docid']})\n",
    "    \n",
    "        precision += precision_abstract(id_label, docs, 'id')\n",
    "        recall    += recall_abstract(id_label, docs, 'id')\n",
    "    \n",
    "    precision /= data_len\n",
    "    recall    /= data_len\n",
    "    f_score   = f1_score_abstract(recall, precision)\n",
    "    \n",
    "    bert_precision.append(precision)\n",
    "    bert_recall.append(recall)\n",
    "    bert_f1_score.append(f_score)\n",
    "    \n",
    "    print(f'Top_k: {t} --- Precision: {precision} --- Recall: {recall} --- F1 Score: {f_score}')"
   ]
  },
  {
   "cell_type": "markdown",
   "id": "5be629e7-f631-4ed4-8ea8-636b3b241fe7",
   "metadata": {
    "tags": []
   },
   "source": [
    "### monoT5"
   ]
  },
  {
   "cell_type": "code",
   "execution_count": 10,
   "id": "33f3ef85-e4b8-4a75-8d84-5e61a9dc6ee4",
   "metadata": {},
   "outputs": [
    {
     "data": {
      "application/json": {
       "ascii": false,
       "bar_format": null,
       "colour": null,
       "elapsed": 0.0386042594909668,
       "initial": 0,
       "n": 0,
       "ncols": null,
       "nrows": null,
       "postfix": null,
       "prefix": "Downloading",
       "rate": null,
       "total": 1335,
       "unit": "B",
       "unit_divisor": 1000,
       "unit_scale": true
      },
      "application/vnd.jupyter.widget-view+json": {
       "model_id": "86fae4a507614c3eb45dd678f0aacc0f",
       "version_major": 2,
       "version_minor": 0
      },
      "text/plain": [
       "Downloading:   0%|          | 0.00/1.33k [00:00<?, ?B/s]"
      ]
     },
     "metadata": {},
     "output_type": "display_data"
    },
    {
     "data": {
      "application/json": {
       "ascii": false,
       "bar_format": null,
       "colour": null,
       "elapsed": 0.029118061065673828,
       "initial": 0,
       "n": 0,
       "ncols": null,
       "nrows": null,
       "postfix": null,
       "prefix": "Downloading",
       "rate": null,
       "total": 891731186,
       "unit": "B",
       "unit_divisor": 1000,
       "unit_scale": true
      },
      "application/vnd.jupyter.widget-view+json": {
       "model_id": "67ed31e242ad44f29636cfc324b5d0d8",
       "version_major": 2,
       "version_minor": 0
      },
      "text/plain": [
       "Downloading:   0%|          | 0.00/892M [00:00<?, ?B/s]"
      ]
     },
     "metadata": {},
     "output_type": "display_data"
    },
    {
     "data": {
      "application/json": {
       "ascii": false,
       "bar_format": null,
       "colour": null,
       "elapsed": 0.026062965393066406,
       "initial": 0,
       "n": 0,
       "ncols": null,
       "nrows": null,
       "postfix": null,
       "prefix": "Downloading",
       "rate": null,
       "total": 791656,
       "unit": "B",
       "unit_divisor": 1000,
       "unit_scale": true
      },
      "application/vnd.jupyter.widget-view+json": {
       "model_id": "c7860221890b4e5fa8281b3c38900ad1",
       "version_major": 2,
       "version_minor": 0
      },
      "text/plain": [
       "Downloading:   0%|          | 0.00/792k [00:00<?, ?B/s]"
      ]
     },
     "metadata": {},
     "output_type": "display_data"
    },
    {
     "data": {
      "application/json": {
       "ascii": false,
       "bar_format": null,
       "colour": null,
       "elapsed": 0.02932143211364746,
       "initial": 0,
       "n": 0,
       "ncols": null,
       "nrows": null,
       "postfix": null,
       "prefix": "Downloading",
       "rate": null,
       "total": 1786,
       "unit": "B",
       "unit_divisor": 1000,
       "unit_scale": true
      },
      "application/vnd.jupyter.widget-view+json": {
       "model_id": "86858295565042a48f2d1124e853fdd4",
       "version_major": 2,
       "version_minor": 0
      },
      "text/plain": [
       "Downloading:   0%|          | 0.00/1.79k [00:00<?, ?B/s]"
      ]
     },
     "metadata": {},
     "output_type": "display_data"
    },
    {
     "data": {
      "application/json": {
       "ascii": false,
       "bar_format": null,
       "colour": null,
       "elapsed": 0.030239105224609375,
       "initial": 0,
       "n": 0,
       "ncols": null,
       "nrows": null,
       "postfix": null,
       "prefix": "Downloading",
       "rate": null,
       "total": 1856,
       "unit": "B",
       "unit_divisor": 1000,
       "unit_scale": true
      },
      "application/vnd.jupyter.widget-view+json": {
       "model_id": "77d96a465be24dc2a44828c58b8fe002",
       "version_major": 2,
       "version_minor": 0
      },
      "text/plain": [
       "Downloading:   0%|          | 0.00/1.86k [00:00<?, ?B/s]"
      ]
     },
     "metadata": {},
     "output_type": "display_data"
    },
    {
     "name": "stdout",
     "output_type": "stream",
     "text": [
      "Top_k: 3 --- Precision: 0.9574468085106383 --- Recall: 0.8933510638297871 --- F1 Score: 0.9242890730815445\n",
      "Top_k: 5 --- Precision: 1.0159574468085106 --- Recall: 0.9289893617021276 --- F1 Score: 0.9705290200197259\n"
     ]
    }
   ],
   "source": [
    "top_k  = [3, 5]\n",
    "T5_precision = []\n",
    "T5_recall    = []\n",
    "T5_f1_score  = []\n",
    "\n",
    "reranker =  MonoT5()\n",
    "\n",
    "for t in top_k:\n",
    "    recall    = 0.0\n",
    "    precision = 0.0\n",
    "    data_len = 0\n",
    "    \n",
    "    for sample in valid_json:\n",
    "        claim   = sample['claim']\n",
    "        id_label = list(sample['evidence'].keys())\n",
    "        \n",
    "        if len(id_label) < 1: continue\n",
    "        data_len += 1\n",
    "        \n",
    "        hits  = pyserini_search(claim, top_k=100, return_hits=True)\n",
    "        query = Query(claim)\n",
    "        texts = hits_to_texts(hits)\n",
    "        reranked = reranker.rerank(query, texts)\n",
    "        \n",
    "        docs = []\n",
    "        for i in range(0, t):\n",
    "            docs.append({'id': reranked[i].metadata['docid']})\n",
    "    \n",
    "        precision += precision_abstract(id_label, docs, 'id')\n",
    "        recall    += recall_abstract(id_label, docs, 'id')\n",
    "    \n",
    "    precision /= data_len\n",
    "    recall    /= data_len\n",
    "    f_score   = f1_score_abstract(recall, precision)\n",
    "    \n",
    "    T5_precision.append(precision)\n",
    "    T5_recall.append(recall)\n",
    "    T5_f1_score.append(f_score)\n",
    "    \n",
    "    print(f'Top_k: {t} --- Precision: {precision} --- Recall: {recall} --- F1 Score: {f_score}')"
   ]
  }
 ],
 "metadata": {
  "kernelspec": {
   "display_name": "Python 3 (ipykernel)",
   "language": "python",
   "name": "python3"
  },
  "language_info": {
   "codemirror_mode": {
    "name": "ipython",
    "version": 3
   },
   "file_extension": ".py",
   "mimetype": "text/x-python",
   "name": "python",
   "nbconvert_exporter": "python",
   "pygments_lexer": "ipython3",
   "version": "3.8.10"
  }
 },
 "nbformat": 4,
 "nbformat_minor": 5
}
