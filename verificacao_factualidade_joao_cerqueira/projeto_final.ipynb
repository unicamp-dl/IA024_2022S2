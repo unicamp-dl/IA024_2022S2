{
  "nbformat": 4,
  "nbformat_minor": 0,
  "metadata": {
    "colab": {
      "provenance": [],
      "collapsed_sections": [
        "q_twT3l_G2Zo",
        "gY8kRVcpofBy",
        "GRVxTkipotzi"
      ],
      "toc_visible": true
    },
    "kernelspec": {
      "name": "python3",
      "display_name": "Python 3"
    },
    "language_info": {
      "name": "python"
    },
    "gpuClass": "premium",
    "widgets": {
      "application/vnd.jupyter.widget-state+json": {
        "5e34ace80acd472682b4e563490ed4f7": {
          "model_module": "@jupyter-widgets/controls",
          "model_name": "HBoxModel",
          "model_module_version": "1.5.0",
          "state": {
            "_dom_classes": [],
            "_model_module": "@jupyter-widgets/controls",
            "_model_module_version": "1.5.0",
            "_model_name": "HBoxModel",
            "_view_count": null,
            "_view_module": "@jupyter-widgets/controls",
            "_view_module_version": "1.5.0",
            "_view_name": "HBoxView",
            "box_style": "",
            "children": [
              "IPY_MODEL_536c7d563382488c88b41a764f045a5b",
              "IPY_MODEL_c48db58ef61a41f585946bf4bce5972e"
            ],
            "layout": "IPY_MODEL_19426be497a34d08ad14db275c522874"
          }
        },
        "536c7d563382488c88b41a764f045a5b": {
          "model_module": "@jupyter-widgets/controls",
          "model_name": "FloatProgressModel",
          "model_module_version": "1.5.0",
          "state": {
            "_dom_classes": [],
            "_model_module": "@jupyter-widgets/controls",
            "_model_module_version": "1.5.0",
            "_model_name": "FloatProgressModel",
            "_view_count": null,
            "_view_module": "@jupyter-widgets/controls",
            "_view_module_version": "1.5.0",
            "_view_name": "ProgressView",
            "bar_style": "success",
            "description": "100%",
            "description_tooltip": null,
            "layout": "IPY_MODEL_556e5936156849519ea53f902c166a60",
            "max": 809,
            "min": 0,
            "orientation": "horizontal",
            "style": "IPY_MODEL_36715a2c933c4df6a839c92bd869434d",
            "value": 809
          }
        },
        "c48db58ef61a41f585946bf4bce5972e": {
          "model_module": "@jupyter-widgets/controls",
          "model_name": "HTMLModel",
          "model_module_version": "1.5.0",
          "state": {
            "_dom_classes": [],
            "_model_module": "@jupyter-widgets/controls",
            "_model_module_version": "1.5.0",
            "_model_name": "HTMLModel",
            "_view_count": null,
            "_view_module": "@jupyter-widgets/controls",
            "_view_module_version": "1.5.0",
            "_view_name": "HTMLView",
            "description": "",
            "description_tooltip": null,
            "layout": "IPY_MODEL_54aff6f4fec742019f40b0e990d1a6ee",
            "placeholder": "​",
            "style": "IPY_MODEL_c3ff137ff4a4489a88c9141b9231eadd",
            "value": " 809/809 [03:20&lt;00:00,  4.04it/s]"
          }
        },
        "19426be497a34d08ad14db275c522874": {
          "model_module": "@jupyter-widgets/base",
          "model_name": "LayoutModel",
          "model_module_version": "1.2.0",
          "state": {
            "_model_module": "@jupyter-widgets/base",
            "_model_module_version": "1.2.0",
            "_model_name": "LayoutModel",
            "_view_count": null,
            "_view_module": "@jupyter-widgets/base",
            "_view_module_version": "1.2.0",
            "_view_name": "LayoutView",
            "align_content": null,
            "align_items": null,
            "align_self": null,
            "border": null,
            "bottom": null,
            "display": null,
            "flex": null,
            "flex_flow": null,
            "grid_area": null,
            "grid_auto_columns": null,
            "grid_auto_flow": null,
            "grid_auto_rows": null,
            "grid_column": null,
            "grid_gap": null,
            "grid_row": null,
            "grid_template_areas": null,
            "grid_template_columns": null,
            "grid_template_rows": null,
            "height": null,
            "justify_content": null,
            "justify_items": null,
            "left": null,
            "margin": null,
            "max_height": null,
            "max_width": null,
            "min_height": null,
            "min_width": null,
            "object_fit": null,
            "object_position": null,
            "order": null,
            "overflow": null,
            "overflow_x": null,
            "overflow_y": null,
            "padding": null,
            "right": null,
            "top": null,
            "visibility": null,
            "width": null
          }
        },
        "556e5936156849519ea53f902c166a60": {
          "model_module": "@jupyter-widgets/base",
          "model_name": "LayoutModel",
          "model_module_version": "1.2.0",
          "state": {
            "_model_module": "@jupyter-widgets/base",
            "_model_module_version": "1.2.0",
            "_model_name": "LayoutModel",
            "_view_count": null,
            "_view_module": "@jupyter-widgets/base",
            "_view_module_version": "1.2.0",
            "_view_name": "LayoutView",
            "align_content": null,
            "align_items": null,
            "align_self": null,
            "border": null,
            "bottom": null,
            "display": null,
            "flex": null,
            "flex_flow": null,
            "grid_area": null,
            "grid_auto_columns": null,
            "grid_auto_flow": null,
            "grid_auto_rows": null,
            "grid_column": null,
            "grid_gap": null,
            "grid_row": null,
            "grid_template_areas": null,
            "grid_template_columns": null,
            "grid_template_rows": null,
            "height": null,
            "justify_content": null,
            "justify_items": null,
            "left": null,
            "margin": null,
            "max_height": null,
            "max_width": null,
            "min_height": null,
            "min_width": null,
            "object_fit": null,
            "object_position": null,
            "order": null,
            "overflow": null,
            "overflow_x": null,
            "overflow_y": null,
            "padding": null,
            "right": null,
            "top": null,
            "visibility": null,
            "width": null
          }
        },
        "36715a2c933c4df6a839c92bd869434d": {
          "model_module": "@jupyter-widgets/controls",
          "model_name": "ProgressStyleModel",
          "model_module_version": "1.5.0",
          "state": {
            "_model_module": "@jupyter-widgets/controls",
            "_model_module_version": "1.5.0",
            "_model_name": "ProgressStyleModel",
            "_view_count": null,
            "_view_module": "@jupyter-widgets/base",
            "_view_module_version": "1.2.0",
            "_view_name": "StyleView",
            "bar_color": null,
            "description_width": "initial"
          }
        },
        "54aff6f4fec742019f40b0e990d1a6ee": {
          "model_module": "@jupyter-widgets/base",
          "model_name": "LayoutModel",
          "model_module_version": "1.2.0",
          "state": {
            "_model_module": "@jupyter-widgets/base",
            "_model_module_version": "1.2.0",
            "_model_name": "LayoutModel",
            "_view_count": null,
            "_view_module": "@jupyter-widgets/base",
            "_view_module_version": "1.2.0",
            "_view_name": "LayoutView",
            "align_content": null,
            "align_items": null,
            "align_self": null,
            "border": null,
            "bottom": null,
            "display": null,
            "flex": null,
            "flex_flow": null,
            "grid_area": null,
            "grid_auto_columns": null,
            "grid_auto_flow": null,
            "grid_auto_rows": null,
            "grid_column": null,
            "grid_gap": null,
            "grid_row": null,
            "grid_template_areas": null,
            "grid_template_columns": null,
            "grid_template_rows": null,
            "height": null,
            "justify_content": null,
            "justify_items": null,
            "left": null,
            "margin": null,
            "max_height": null,
            "max_width": null,
            "min_height": null,
            "min_width": null,
            "object_fit": null,
            "object_position": null,
            "order": null,
            "overflow": null,
            "overflow_x": null,
            "overflow_y": null,
            "padding": null,
            "right": null,
            "top": null,
            "visibility": null,
            "width": null
          }
        },
        "c3ff137ff4a4489a88c9141b9231eadd": {
          "model_module": "@jupyter-widgets/controls",
          "model_name": "DescriptionStyleModel",
          "model_module_version": "1.5.0",
          "state": {
            "_model_module": "@jupyter-widgets/controls",
            "_model_module_version": "1.5.0",
            "_model_name": "DescriptionStyleModel",
            "_view_count": null,
            "_view_module": "@jupyter-widgets/base",
            "_view_module_version": "1.2.0",
            "_view_name": "StyleView",
            "description_width": ""
          }
        },
        "5a7c0f4ad4384094adeefbc21abd733e": {
          "model_module": "@jupyter-widgets/controls",
          "model_name": "HBoxModel",
          "model_module_version": "1.5.0",
          "state": {
            "_dom_classes": [],
            "_model_module": "@jupyter-widgets/controls",
            "_model_module_version": "1.5.0",
            "_model_name": "HBoxModel",
            "_view_count": null,
            "_view_module": "@jupyter-widgets/controls",
            "_view_module_version": "1.5.0",
            "_view_name": "HBoxView",
            "box_style": "",
            "children": [
              "IPY_MODEL_b0b52f45963e4501a49221a169668ec0",
              "IPY_MODEL_d9c14afde7e342c1bdace5979791baef"
            ],
            "layout": "IPY_MODEL_dadb4283432c40e2941cee6481b397cb"
          }
        },
        "b0b52f45963e4501a49221a169668ec0": {
          "model_module": "@jupyter-widgets/controls",
          "model_name": "FloatProgressModel",
          "model_module_version": "1.5.0",
          "state": {
            "_dom_classes": [],
            "_model_module": "@jupyter-widgets/controls",
            "_model_module_version": "1.5.0",
            "_model_name": "FloatProgressModel",
            "_view_count": null,
            "_view_module": "@jupyter-widgets/controls",
            "_view_module_version": "1.5.0",
            "_view_name": "ProgressView",
            "bar_style": "success",
            "description": "100%",
            "description_tooltip": null,
            "layout": "IPY_MODEL_3e1a5cfc96894e21b3ef00cae15e3609",
            "max": 809,
            "min": 0,
            "orientation": "horizontal",
            "style": "IPY_MODEL_9f92f34ed30e421eb811610e50e5c4c7",
            "value": 809
          }
        },
        "d9c14afde7e342c1bdace5979791baef": {
          "model_module": "@jupyter-widgets/controls",
          "model_name": "HTMLModel",
          "model_module_version": "1.5.0",
          "state": {
            "_dom_classes": [],
            "_model_module": "@jupyter-widgets/controls",
            "_model_module_version": "1.5.0",
            "_model_name": "HTMLModel",
            "_view_count": null,
            "_view_module": "@jupyter-widgets/controls",
            "_view_module_version": "1.5.0",
            "_view_name": "HTMLView",
            "description": "",
            "description_tooltip": null,
            "layout": "IPY_MODEL_484ea4d8f73945bebdfe404de2ac240b",
            "placeholder": "​",
            "style": "IPY_MODEL_c9d789d12ad24fc8940f643fbfa18957",
            "value": " 809/809 [03:17&lt;00:00,  4.09it/s]"
          }
        },
        "dadb4283432c40e2941cee6481b397cb": {
          "model_module": "@jupyter-widgets/base",
          "model_name": "LayoutModel",
          "model_module_version": "1.2.0",
          "state": {
            "_model_module": "@jupyter-widgets/base",
            "_model_module_version": "1.2.0",
            "_model_name": "LayoutModel",
            "_view_count": null,
            "_view_module": "@jupyter-widgets/base",
            "_view_module_version": "1.2.0",
            "_view_name": "LayoutView",
            "align_content": null,
            "align_items": null,
            "align_self": null,
            "border": null,
            "bottom": null,
            "display": null,
            "flex": null,
            "flex_flow": null,
            "grid_area": null,
            "grid_auto_columns": null,
            "grid_auto_flow": null,
            "grid_auto_rows": null,
            "grid_column": null,
            "grid_gap": null,
            "grid_row": null,
            "grid_template_areas": null,
            "grid_template_columns": null,
            "grid_template_rows": null,
            "height": null,
            "justify_content": null,
            "justify_items": null,
            "left": null,
            "margin": null,
            "max_height": null,
            "max_width": null,
            "min_height": null,
            "min_width": null,
            "object_fit": null,
            "object_position": null,
            "order": null,
            "overflow": null,
            "overflow_x": null,
            "overflow_y": null,
            "padding": null,
            "right": null,
            "top": null,
            "visibility": null,
            "width": null
          }
        },
        "3e1a5cfc96894e21b3ef00cae15e3609": {
          "model_module": "@jupyter-widgets/base",
          "model_name": "LayoutModel",
          "model_module_version": "1.2.0",
          "state": {
            "_model_module": "@jupyter-widgets/base",
            "_model_module_version": "1.2.0",
            "_model_name": "LayoutModel",
            "_view_count": null,
            "_view_module": "@jupyter-widgets/base",
            "_view_module_version": "1.2.0",
            "_view_name": "LayoutView",
            "align_content": null,
            "align_items": null,
            "align_self": null,
            "border": null,
            "bottom": null,
            "display": null,
            "flex": null,
            "flex_flow": null,
            "grid_area": null,
            "grid_auto_columns": null,
            "grid_auto_flow": null,
            "grid_auto_rows": null,
            "grid_column": null,
            "grid_gap": null,
            "grid_row": null,
            "grid_template_areas": null,
            "grid_template_columns": null,
            "grid_template_rows": null,
            "height": null,
            "justify_content": null,
            "justify_items": null,
            "left": null,
            "margin": null,
            "max_height": null,
            "max_width": null,
            "min_height": null,
            "min_width": null,
            "object_fit": null,
            "object_position": null,
            "order": null,
            "overflow": null,
            "overflow_x": null,
            "overflow_y": null,
            "padding": null,
            "right": null,
            "top": null,
            "visibility": null,
            "width": null
          }
        },
        "9f92f34ed30e421eb811610e50e5c4c7": {
          "model_module": "@jupyter-widgets/controls",
          "model_name": "ProgressStyleModel",
          "model_module_version": "1.5.0",
          "state": {
            "_model_module": "@jupyter-widgets/controls",
            "_model_module_version": "1.5.0",
            "_model_name": "ProgressStyleModel",
            "_view_count": null,
            "_view_module": "@jupyter-widgets/base",
            "_view_module_version": "1.2.0",
            "_view_name": "StyleView",
            "bar_color": null,
            "description_width": "initial"
          }
        },
        "484ea4d8f73945bebdfe404de2ac240b": {
          "model_module": "@jupyter-widgets/base",
          "model_name": "LayoutModel",
          "model_module_version": "1.2.0",
          "state": {
            "_model_module": "@jupyter-widgets/base",
            "_model_module_version": "1.2.0",
            "_model_name": "LayoutModel",
            "_view_count": null,
            "_view_module": "@jupyter-widgets/base",
            "_view_module_version": "1.2.0",
            "_view_name": "LayoutView",
            "align_content": null,
            "align_items": null,
            "align_self": null,
            "border": null,
            "bottom": null,
            "display": null,
            "flex": null,
            "flex_flow": null,
            "grid_area": null,
            "grid_auto_columns": null,
            "grid_auto_flow": null,
            "grid_auto_rows": null,
            "grid_column": null,
            "grid_gap": null,
            "grid_row": null,
            "grid_template_areas": null,
            "grid_template_columns": null,
            "grid_template_rows": null,
            "height": null,
            "justify_content": null,
            "justify_items": null,
            "left": null,
            "margin": null,
            "max_height": null,
            "max_width": null,
            "min_height": null,
            "min_width": null,
            "object_fit": null,
            "object_position": null,
            "order": null,
            "overflow": null,
            "overflow_x": null,
            "overflow_y": null,
            "padding": null,
            "right": null,
            "top": null,
            "visibility": null,
            "width": null
          }
        },
        "c9d789d12ad24fc8940f643fbfa18957": {
          "model_module": "@jupyter-widgets/controls",
          "model_name": "DescriptionStyleModel",
          "model_module_version": "1.5.0",
          "state": {
            "_model_module": "@jupyter-widgets/controls",
            "_model_module_version": "1.5.0",
            "_model_name": "DescriptionStyleModel",
            "_view_count": null,
            "_view_module": "@jupyter-widgets/base",
            "_view_module_version": "1.2.0",
            "_view_name": "StyleView",
            "description_width": ""
          }
        },
        "21c185e77af64c249ca849597b2b7859": {
          "model_module": "@jupyter-widgets/controls",
          "model_name": "HBoxModel",
          "model_module_version": "1.5.0",
          "state": {
            "_dom_classes": [],
            "_model_module": "@jupyter-widgets/controls",
            "_model_module_version": "1.5.0",
            "_model_name": "HBoxModel",
            "_view_count": null,
            "_view_module": "@jupyter-widgets/controls",
            "_view_module_version": "1.5.0",
            "_view_name": "HBoxView",
            "box_style": "",
            "children": [
              "IPY_MODEL_26d0ffb8a11841da9d0a55a93eda8547",
              "IPY_MODEL_96e6104b07274083afed4b8d129e37c7"
            ],
            "layout": "IPY_MODEL_cfa924653bf64c4ba3e0e4bc4b88fc74"
          }
        },
        "26d0ffb8a11841da9d0a55a93eda8547": {
          "model_module": "@jupyter-widgets/controls",
          "model_name": "FloatProgressModel",
          "model_module_version": "1.5.0",
          "state": {
            "_dom_classes": [],
            "_model_module": "@jupyter-widgets/controls",
            "_model_module_version": "1.5.0",
            "_model_name": "FloatProgressModel",
            "_view_count": null,
            "_view_module": "@jupyter-widgets/controls",
            "_view_module_version": "1.5.0",
            "_view_name": "ProgressView",
            "bar_style": "success",
            "description": "100%",
            "description_tooltip": null,
            "layout": "IPY_MODEL_b752abdd62dc4811a9dd607208bc5ad0",
            "max": 809,
            "min": 0,
            "orientation": "horizontal",
            "style": "IPY_MODEL_d4425d083c13485eaa8d06cf3e6627dd",
            "value": 809
          }
        },
        "96e6104b07274083afed4b8d129e37c7": {
          "model_module": "@jupyter-widgets/controls",
          "model_name": "HTMLModel",
          "model_module_version": "1.5.0",
          "state": {
            "_dom_classes": [],
            "_model_module": "@jupyter-widgets/controls",
            "_model_module_version": "1.5.0",
            "_model_name": "HTMLModel",
            "_view_count": null,
            "_view_module": "@jupyter-widgets/controls",
            "_view_module_version": "1.5.0",
            "_view_name": "HTMLView",
            "description": "",
            "description_tooltip": null,
            "layout": "IPY_MODEL_789a920fd35a44b78036c97d4bf4f2c5",
            "placeholder": "​",
            "style": "IPY_MODEL_582efe4b42664a83af546fec9f8ff9a2",
            "value": " 809/809 [03:15&lt;00:00,  4.13it/s]"
          }
        },
        "cfa924653bf64c4ba3e0e4bc4b88fc74": {
          "model_module": "@jupyter-widgets/base",
          "model_name": "LayoutModel",
          "model_module_version": "1.2.0",
          "state": {
            "_model_module": "@jupyter-widgets/base",
            "_model_module_version": "1.2.0",
            "_model_name": "LayoutModel",
            "_view_count": null,
            "_view_module": "@jupyter-widgets/base",
            "_view_module_version": "1.2.0",
            "_view_name": "LayoutView",
            "align_content": null,
            "align_items": null,
            "align_self": null,
            "border": null,
            "bottom": null,
            "display": null,
            "flex": null,
            "flex_flow": null,
            "grid_area": null,
            "grid_auto_columns": null,
            "grid_auto_flow": null,
            "grid_auto_rows": null,
            "grid_column": null,
            "grid_gap": null,
            "grid_row": null,
            "grid_template_areas": null,
            "grid_template_columns": null,
            "grid_template_rows": null,
            "height": null,
            "justify_content": null,
            "justify_items": null,
            "left": null,
            "margin": null,
            "max_height": null,
            "max_width": null,
            "min_height": null,
            "min_width": null,
            "object_fit": null,
            "object_position": null,
            "order": null,
            "overflow": null,
            "overflow_x": null,
            "overflow_y": null,
            "padding": null,
            "right": null,
            "top": null,
            "visibility": null,
            "width": null
          }
        },
        "b752abdd62dc4811a9dd607208bc5ad0": {
          "model_module": "@jupyter-widgets/base",
          "model_name": "LayoutModel",
          "model_module_version": "1.2.0",
          "state": {
            "_model_module": "@jupyter-widgets/base",
            "_model_module_version": "1.2.0",
            "_model_name": "LayoutModel",
            "_view_count": null,
            "_view_module": "@jupyter-widgets/base",
            "_view_module_version": "1.2.0",
            "_view_name": "LayoutView",
            "align_content": null,
            "align_items": null,
            "align_self": null,
            "border": null,
            "bottom": null,
            "display": null,
            "flex": null,
            "flex_flow": null,
            "grid_area": null,
            "grid_auto_columns": null,
            "grid_auto_flow": null,
            "grid_auto_rows": null,
            "grid_column": null,
            "grid_gap": null,
            "grid_row": null,
            "grid_template_areas": null,
            "grid_template_columns": null,
            "grid_template_rows": null,
            "height": null,
            "justify_content": null,
            "justify_items": null,
            "left": null,
            "margin": null,
            "max_height": null,
            "max_width": null,
            "min_height": null,
            "min_width": null,
            "object_fit": null,
            "object_position": null,
            "order": null,
            "overflow": null,
            "overflow_x": null,
            "overflow_y": null,
            "padding": null,
            "right": null,
            "top": null,
            "visibility": null,
            "width": null
          }
        },
        "d4425d083c13485eaa8d06cf3e6627dd": {
          "model_module": "@jupyter-widgets/controls",
          "model_name": "ProgressStyleModel",
          "model_module_version": "1.5.0",
          "state": {
            "_model_module": "@jupyter-widgets/controls",
            "_model_module_version": "1.5.0",
            "_model_name": "ProgressStyleModel",
            "_view_count": null,
            "_view_module": "@jupyter-widgets/base",
            "_view_module_version": "1.2.0",
            "_view_name": "StyleView",
            "bar_color": null,
            "description_width": "initial"
          }
        },
        "789a920fd35a44b78036c97d4bf4f2c5": {
          "model_module": "@jupyter-widgets/base",
          "model_name": "LayoutModel",
          "model_module_version": "1.2.0",
          "state": {
            "_model_module": "@jupyter-widgets/base",
            "_model_module_version": "1.2.0",
            "_model_name": "LayoutModel",
            "_view_count": null,
            "_view_module": "@jupyter-widgets/base",
            "_view_module_version": "1.2.0",
            "_view_name": "LayoutView",
            "align_content": null,
            "align_items": null,
            "align_self": null,
            "border": null,
            "bottom": null,
            "display": null,
            "flex": null,
            "flex_flow": null,
            "grid_area": null,
            "grid_auto_columns": null,
            "grid_auto_flow": null,
            "grid_auto_rows": null,
            "grid_column": null,
            "grid_gap": null,
            "grid_row": null,
            "grid_template_areas": null,
            "grid_template_columns": null,
            "grid_template_rows": null,
            "height": null,
            "justify_content": null,
            "justify_items": null,
            "left": null,
            "margin": null,
            "max_height": null,
            "max_width": null,
            "min_height": null,
            "min_width": null,
            "object_fit": null,
            "object_position": null,
            "order": null,
            "overflow": null,
            "overflow_x": null,
            "overflow_y": null,
            "padding": null,
            "right": null,
            "top": null,
            "visibility": null,
            "width": null
          }
        },
        "582efe4b42664a83af546fec9f8ff9a2": {
          "model_module": "@jupyter-widgets/controls",
          "model_name": "DescriptionStyleModel",
          "model_module_version": "1.5.0",
          "state": {
            "_model_module": "@jupyter-widgets/controls",
            "_model_module_version": "1.5.0",
            "_model_name": "DescriptionStyleModel",
            "_view_count": null,
            "_view_module": "@jupyter-widgets/base",
            "_view_module_version": "1.2.0",
            "_view_name": "StyleView",
            "description_width": ""
          }
        },
        "3c6a4738e97c4b34a14f43c78af20b2b": {
          "model_module": "@jupyter-widgets/controls",
          "model_name": "HBoxModel",
          "model_module_version": "1.5.0",
          "state": {
            "_dom_classes": [],
            "_model_module": "@jupyter-widgets/controls",
            "_model_module_version": "1.5.0",
            "_model_name": "HBoxModel",
            "_view_count": null,
            "_view_module": "@jupyter-widgets/controls",
            "_view_module_version": "1.5.0",
            "_view_name": "HBoxView",
            "box_style": "",
            "children": [
              "IPY_MODEL_72242cbb3f4f432d9cc36afe07224e05",
              "IPY_MODEL_5258f3289c604d1ca77503ef2eaedffa"
            ],
            "layout": "IPY_MODEL_0bc7bd6400f34d83a2e5ad1d65f3ac77"
          }
        },
        "72242cbb3f4f432d9cc36afe07224e05": {
          "model_module": "@jupyter-widgets/controls",
          "model_name": "FloatProgressModel",
          "model_module_version": "1.5.0",
          "state": {
            "_dom_classes": [],
            "_model_module": "@jupyter-widgets/controls",
            "_model_module_version": "1.5.0",
            "_model_name": "FloatProgressModel",
            "_view_count": null,
            "_view_module": "@jupyter-widgets/controls",
            "_view_module_version": "1.5.0",
            "_view_name": "ProgressView",
            "bar_style": "success",
            "description": "100%",
            "description_tooltip": null,
            "layout": "IPY_MODEL_d79624f69b254d01b7f6965abc091109",
            "max": 809,
            "min": 0,
            "orientation": "horizontal",
            "style": "IPY_MODEL_ee33c4f6b49b4921b40c4d55e2c1349d",
            "value": 809
          }
        },
        "5258f3289c604d1ca77503ef2eaedffa": {
          "model_module": "@jupyter-widgets/controls",
          "model_name": "HTMLModel",
          "model_module_version": "1.5.0",
          "state": {
            "_dom_classes": [],
            "_model_module": "@jupyter-widgets/controls",
            "_model_module_version": "1.5.0",
            "_model_name": "HTMLModel",
            "_view_count": null,
            "_view_module": "@jupyter-widgets/controls",
            "_view_module_version": "1.5.0",
            "_view_name": "HTMLView",
            "description": "",
            "description_tooltip": null,
            "layout": "IPY_MODEL_43f27c43fbae4769b1ac4b1e3d4da52b",
            "placeholder": "​",
            "style": "IPY_MODEL_2a1570814e1a4936b48cc1f4548285fb",
            "value": " 809/809 [03:14&lt;00:00,  4.16it/s]"
          }
        },
        "0bc7bd6400f34d83a2e5ad1d65f3ac77": {
          "model_module": "@jupyter-widgets/base",
          "model_name": "LayoutModel",
          "model_module_version": "1.2.0",
          "state": {
            "_model_module": "@jupyter-widgets/base",
            "_model_module_version": "1.2.0",
            "_model_name": "LayoutModel",
            "_view_count": null,
            "_view_module": "@jupyter-widgets/base",
            "_view_module_version": "1.2.0",
            "_view_name": "LayoutView",
            "align_content": null,
            "align_items": null,
            "align_self": null,
            "border": null,
            "bottom": null,
            "display": null,
            "flex": null,
            "flex_flow": null,
            "grid_area": null,
            "grid_auto_columns": null,
            "grid_auto_flow": null,
            "grid_auto_rows": null,
            "grid_column": null,
            "grid_gap": null,
            "grid_row": null,
            "grid_template_areas": null,
            "grid_template_columns": null,
            "grid_template_rows": null,
            "height": null,
            "justify_content": null,
            "justify_items": null,
            "left": null,
            "margin": null,
            "max_height": null,
            "max_width": null,
            "min_height": null,
            "min_width": null,
            "object_fit": null,
            "object_position": null,
            "order": null,
            "overflow": null,
            "overflow_x": null,
            "overflow_y": null,
            "padding": null,
            "right": null,
            "top": null,
            "visibility": null,
            "width": null
          }
        },
        "d79624f69b254d01b7f6965abc091109": {
          "model_module": "@jupyter-widgets/base",
          "model_name": "LayoutModel",
          "model_module_version": "1.2.0",
          "state": {
            "_model_module": "@jupyter-widgets/base",
            "_model_module_version": "1.2.0",
            "_model_name": "LayoutModel",
            "_view_count": null,
            "_view_module": "@jupyter-widgets/base",
            "_view_module_version": "1.2.0",
            "_view_name": "LayoutView",
            "align_content": null,
            "align_items": null,
            "align_self": null,
            "border": null,
            "bottom": null,
            "display": null,
            "flex": null,
            "flex_flow": null,
            "grid_area": null,
            "grid_auto_columns": null,
            "grid_auto_flow": null,
            "grid_auto_rows": null,
            "grid_column": null,
            "grid_gap": null,
            "grid_row": null,
            "grid_template_areas": null,
            "grid_template_columns": null,
            "grid_template_rows": null,
            "height": null,
            "justify_content": null,
            "justify_items": null,
            "left": null,
            "margin": null,
            "max_height": null,
            "max_width": null,
            "min_height": null,
            "min_width": null,
            "object_fit": null,
            "object_position": null,
            "order": null,
            "overflow": null,
            "overflow_x": null,
            "overflow_y": null,
            "padding": null,
            "right": null,
            "top": null,
            "visibility": null,
            "width": null
          }
        },
        "ee33c4f6b49b4921b40c4d55e2c1349d": {
          "model_module": "@jupyter-widgets/controls",
          "model_name": "ProgressStyleModel",
          "model_module_version": "1.5.0",
          "state": {
            "_model_module": "@jupyter-widgets/controls",
            "_model_module_version": "1.5.0",
            "_model_name": "ProgressStyleModel",
            "_view_count": null,
            "_view_module": "@jupyter-widgets/base",
            "_view_module_version": "1.2.0",
            "_view_name": "StyleView",
            "bar_color": null,
            "description_width": "initial"
          }
        },
        "43f27c43fbae4769b1ac4b1e3d4da52b": {
          "model_module": "@jupyter-widgets/base",
          "model_name": "LayoutModel",
          "model_module_version": "1.2.0",
          "state": {
            "_model_module": "@jupyter-widgets/base",
            "_model_module_version": "1.2.0",
            "_model_name": "LayoutModel",
            "_view_count": null,
            "_view_module": "@jupyter-widgets/base",
            "_view_module_version": "1.2.0",
            "_view_name": "LayoutView",
            "align_content": null,
            "align_items": null,
            "align_self": null,
            "border": null,
            "bottom": null,
            "display": null,
            "flex": null,
            "flex_flow": null,
            "grid_area": null,
            "grid_auto_columns": null,
            "grid_auto_flow": null,
            "grid_auto_rows": null,
            "grid_column": null,
            "grid_gap": null,
            "grid_row": null,
            "grid_template_areas": null,
            "grid_template_columns": null,
            "grid_template_rows": null,
            "height": null,
            "justify_content": null,
            "justify_items": null,
            "left": null,
            "margin": null,
            "max_height": null,
            "max_width": null,
            "min_height": null,
            "min_width": null,
            "object_fit": null,
            "object_position": null,
            "order": null,
            "overflow": null,
            "overflow_x": null,
            "overflow_y": null,
            "padding": null,
            "right": null,
            "top": null,
            "visibility": null,
            "width": null
          }
        },
        "2a1570814e1a4936b48cc1f4548285fb": {
          "model_module": "@jupyter-widgets/controls",
          "model_name": "DescriptionStyleModel",
          "model_module_version": "1.5.0",
          "state": {
            "_model_module": "@jupyter-widgets/controls",
            "_model_module_version": "1.5.0",
            "_model_name": "DescriptionStyleModel",
            "_view_count": null,
            "_view_module": "@jupyter-widgets/base",
            "_view_module_version": "1.2.0",
            "_view_name": "StyleView",
            "description_width": ""
          }
        },
        "fc2184c35b5e4e66b5f844be10327090": {
          "model_module": "@jupyter-widgets/controls",
          "model_name": "HBoxModel",
          "model_module_version": "1.5.0",
          "state": {
            "_dom_classes": [],
            "_model_module": "@jupyter-widgets/controls",
            "_model_module_version": "1.5.0",
            "_model_name": "HBoxModel",
            "_view_count": null,
            "_view_module": "@jupyter-widgets/controls",
            "_view_module_version": "1.5.0",
            "_view_name": "HBoxView",
            "box_style": "",
            "children": [
              "IPY_MODEL_73812d348b6e49428479c57b4bf1292c",
              "IPY_MODEL_5a85d4fb76bf4187a10377620fff3656"
            ],
            "layout": "IPY_MODEL_91c83b03cdc64ca4a9c0511d70ad8f93"
          }
        },
        "73812d348b6e49428479c57b4bf1292c": {
          "model_module": "@jupyter-widgets/controls",
          "model_name": "FloatProgressModel",
          "model_module_version": "1.5.0",
          "state": {
            "_dom_classes": [],
            "_model_module": "@jupyter-widgets/controls",
            "_model_module_version": "1.5.0",
            "_model_name": "FloatProgressModel",
            "_view_count": null,
            "_view_module": "@jupyter-widgets/controls",
            "_view_module_version": "1.5.0",
            "_view_name": "ProgressView",
            "bar_style": "success",
            "description": "100%",
            "description_tooltip": null,
            "layout": "IPY_MODEL_3f4d2928599f43f7a2a3c9b3dfafc5f8",
            "max": 809,
            "min": 0,
            "orientation": "horizontal",
            "style": "IPY_MODEL_078733907351443b8e7e64744d3b2ac1",
            "value": 809
          }
        },
        "5a85d4fb76bf4187a10377620fff3656": {
          "model_module": "@jupyter-widgets/controls",
          "model_name": "HTMLModel",
          "model_module_version": "1.5.0",
          "state": {
            "_dom_classes": [],
            "_model_module": "@jupyter-widgets/controls",
            "_model_module_version": "1.5.0",
            "_model_name": "HTMLModel",
            "_view_count": null,
            "_view_module": "@jupyter-widgets/controls",
            "_view_module_version": "1.5.0",
            "_view_name": "HTMLView",
            "description": "",
            "description_tooltip": null,
            "layout": "IPY_MODEL_7078da97397544a4be3e0ee7a62741b2",
            "placeholder": "​",
            "style": "IPY_MODEL_6acdea48eb3c43e58dfdfff9aeeb160e",
            "value": " 809/809 [00:01&lt;00:00, 491.46it/s]"
          }
        },
        "91c83b03cdc64ca4a9c0511d70ad8f93": {
          "model_module": "@jupyter-widgets/base",
          "model_name": "LayoutModel",
          "model_module_version": "1.2.0",
          "state": {
            "_model_module": "@jupyter-widgets/base",
            "_model_module_version": "1.2.0",
            "_model_name": "LayoutModel",
            "_view_count": null,
            "_view_module": "@jupyter-widgets/base",
            "_view_module_version": "1.2.0",
            "_view_name": "LayoutView",
            "align_content": null,
            "align_items": null,
            "align_self": null,
            "border": null,
            "bottom": null,
            "display": null,
            "flex": null,
            "flex_flow": null,
            "grid_area": null,
            "grid_auto_columns": null,
            "grid_auto_flow": null,
            "grid_auto_rows": null,
            "grid_column": null,
            "grid_gap": null,
            "grid_row": null,
            "grid_template_areas": null,
            "grid_template_columns": null,
            "grid_template_rows": null,
            "height": null,
            "justify_content": null,
            "justify_items": null,
            "left": null,
            "margin": null,
            "max_height": null,
            "max_width": null,
            "min_height": null,
            "min_width": null,
            "object_fit": null,
            "object_position": null,
            "order": null,
            "overflow": null,
            "overflow_x": null,
            "overflow_y": null,
            "padding": null,
            "right": null,
            "top": null,
            "visibility": null,
            "width": null
          }
        },
        "3f4d2928599f43f7a2a3c9b3dfafc5f8": {
          "model_module": "@jupyter-widgets/base",
          "model_name": "LayoutModel",
          "model_module_version": "1.2.0",
          "state": {
            "_model_module": "@jupyter-widgets/base",
            "_model_module_version": "1.2.0",
            "_model_name": "LayoutModel",
            "_view_count": null,
            "_view_module": "@jupyter-widgets/base",
            "_view_module_version": "1.2.0",
            "_view_name": "LayoutView",
            "align_content": null,
            "align_items": null,
            "align_self": null,
            "border": null,
            "bottom": null,
            "display": null,
            "flex": null,
            "flex_flow": null,
            "grid_area": null,
            "grid_auto_columns": null,
            "grid_auto_flow": null,
            "grid_auto_rows": null,
            "grid_column": null,
            "grid_gap": null,
            "grid_row": null,
            "grid_template_areas": null,
            "grid_template_columns": null,
            "grid_template_rows": null,
            "height": null,
            "justify_content": null,
            "justify_items": null,
            "left": null,
            "margin": null,
            "max_height": null,
            "max_width": null,
            "min_height": null,
            "min_width": null,
            "object_fit": null,
            "object_position": null,
            "order": null,
            "overflow": null,
            "overflow_x": null,
            "overflow_y": null,
            "padding": null,
            "right": null,
            "top": null,
            "visibility": null,
            "width": null
          }
        },
        "078733907351443b8e7e64744d3b2ac1": {
          "model_module": "@jupyter-widgets/controls",
          "model_name": "ProgressStyleModel",
          "model_module_version": "1.5.0",
          "state": {
            "_model_module": "@jupyter-widgets/controls",
            "_model_module_version": "1.5.0",
            "_model_name": "ProgressStyleModel",
            "_view_count": null,
            "_view_module": "@jupyter-widgets/base",
            "_view_module_version": "1.2.0",
            "_view_name": "StyleView",
            "bar_color": null,
            "description_width": "initial"
          }
        },
        "7078da97397544a4be3e0ee7a62741b2": {
          "model_module": "@jupyter-widgets/base",
          "model_name": "LayoutModel",
          "model_module_version": "1.2.0",
          "state": {
            "_model_module": "@jupyter-widgets/base",
            "_model_module_version": "1.2.0",
            "_model_name": "LayoutModel",
            "_view_count": null,
            "_view_module": "@jupyter-widgets/base",
            "_view_module_version": "1.2.0",
            "_view_name": "LayoutView",
            "align_content": null,
            "align_items": null,
            "align_self": null,
            "border": null,
            "bottom": null,
            "display": null,
            "flex": null,
            "flex_flow": null,
            "grid_area": null,
            "grid_auto_columns": null,
            "grid_auto_flow": null,
            "grid_auto_rows": null,
            "grid_column": null,
            "grid_gap": null,
            "grid_row": null,
            "grid_template_areas": null,
            "grid_template_columns": null,
            "grid_template_rows": null,
            "height": null,
            "justify_content": null,
            "justify_items": null,
            "left": null,
            "margin": null,
            "max_height": null,
            "max_width": null,
            "min_height": null,
            "min_width": null,
            "object_fit": null,
            "object_position": null,
            "order": null,
            "overflow": null,
            "overflow_x": null,
            "overflow_y": null,
            "padding": null,
            "right": null,
            "top": null,
            "visibility": null,
            "width": null
          }
        },
        "6acdea48eb3c43e58dfdfff9aeeb160e": {
          "model_module": "@jupyter-widgets/controls",
          "model_name": "DescriptionStyleModel",
          "model_module_version": "1.5.0",
          "state": {
            "_model_module": "@jupyter-widgets/controls",
            "_model_module_version": "1.5.0",
            "_model_name": "DescriptionStyleModel",
            "_view_count": null,
            "_view_module": "@jupyter-widgets/base",
            "_view_module_version": "1.2.0",
            "_view_name": "StyleView",
            "description_width": ""
          }
        },
        "bda6be779ccb4b69ba059fe205a7c948": {
          "model_module": "@jupyter-widgets/controls",
          "model_name": "HBoxModel",
          "model_module_version": "1.5.0",
          "state": {
            "_dom_classes": [],
            "_model_module": "@jupyter-widgets/controls",
            "_model_module_version": "1.5.0",
            "_model_name": "HBoxModel",
            "_view_count": null,
            "_view_module": "@jupyter-widgets/controls",
            "_view_module_version": "1.5.0",
            "_view_name": "HBoxView",
            "box_style": "",
            "children": [
              "IPY_MODEL_cb18b40a5dde44208b2f5508cdd5fbf8",
              "IPY_MODEL_d5e87dddcb9747ffa4c9734b00119934"
            ],
            "layout": "IPY_MODEL_6c03d7b2259b436e818a8aeb3b711140"
          }
        },
        "cb18b40a5dde44208b2f5508cdd5fbf8": {
          "model_module": "@jupyter-widgets/controls",
          "model_name": "FloatProgressModel",
          "model_module_version": "1.5.0",
          "state": {
            "_dom_classes": [],
            "_model_module": "@jupyter-widgets/controls",
            "_model_module_version": "1.5.0",
            "_model_name": "FloatProgressModel",
            "_view_count": null,
            "_view_module": "@jupyter-widgets/controls",
            "_view_module_version": "1.5.0",
            "_view_name": "ProgressView",
            "bar_style": "success",
            "description": "Downloading: 100%",
            "description_tooltip": null,
            "layout": "IPY_MODEL_a47772f618a7464c8269faf3b4895394",
            "max": 1841,
            "min": 0,
            "orientation": "horizontal",
            "style": "IPY_MODEL_fdc8334f5fd948a48b092fc180890290",
            "value": 1841
          }
        },
        "d5e87dddcb9747ffa4c9734b00119934": {
          "model_module": "@jupyter-widgets/controls",
          "model_name": "HTMLModel",
          "model_module_version": "1.5.0",
          "state": {
            "_dom_classes": [],
            "_model_module": "@jupyter-widgets/controls",
            "_model_module_version": "1.5.0",
            "_model_name": "HTMLModel",
            "_view_count": null,
            "_view_module": "@jupyter-widgets/controls",
            "_view_module_version": "1.5.0",
            "_view_name": "HTMLView",
            "description": "",
            "description_tooltip": null,
            "layout": "IPY_MODEL_011cc27898114923ba443b3bbf76f07b",
            "placeholder": "​",
            "style": "IPY_MODEL_c348f474ffb744169498a191350bfdd9",
            "value": " 1.84k/1.84k [00:00&lt;00:00, 6.30kB/s]"
          }
        },
        "6c03d7b2259b436e818a8aeb3b711140": {
          "model_module": "@jupyter-widgets/base",
          "model_name": "LayoutModel",
          "model_module_version": "1.2.0",
          "state": {
            "_model_module": "@jupyter-widgets/base",
            "_model_module_version": "1.2.0",
            "_model_name": "LayoutModel",
            "_view_count": null,
            "_view_module": "@jupyter-widgets/base",
            "_view_module_version": "1.2.0",
            "_view_name": "LayoutView",
            "align_content": null,
            "align_items": null,
            "align_self": null,
            "border": null,
            "bottom": null,
            "display": null,
            "flex": null,
            "flex_flow": null,
            "grid_area": null,
            "grid_auto_columns": null,
            "grid_auto_flow": null,
            "grid_auto_rows": null,
            "grid_column": null,
            "grid_gap": null,
            "grid_row": null,
            "grid_template_areas": null,
            "grid_template_columns": null,
            "grid_template_rows": null,
            "height": null,
            "justify_content": null,
            "justify_items": null,
            "left": null,
            "margin": null,
            "max_height": null,
            "max_width": null,
            "min_height": null,
            "min_width": null,
            "object_fit": null,
            "object_position": null,
            "order": null,
            "overflow": null,
            "overflow_x": null,
            "overflow_y": null,
            "padding": null,
            "right": null,
            "top": null,
            "visibility": null,
            "width": null
          }
        },
        "a47772f618a7464c8269faf3b4895394": {
          "model_module": "@jupyter-widgets/base",
          "model_name": "LayoutModel",
          "model_module_version": "1.2.0",
          "state": {
            "_model_module": "@jupyter-widgets/base",
            "_model_module_version": "1.2.0",
            "_model_name": "LayoutModel",
            "_view_count": null,
            "_view_module": "@jupyter-widgets/base",
            "_view_module_version": "1.2.0",
            "_view_name": "LayoutView",
            "align_content": null,
            "align_items": null,
            "align_self": null,
            "border": null,
            "bottom": null,
            "display": null,
            "flex": null,
            "flex_flow": null,
            "grid_area": null,
            "grid_auto_columns": null,
            "grid_auto_flow": null,
            "grid_auto_rows": null,
            "grid_column": null,
            "grid_gap": null,
            "grid_row": null,
            "grid_template_areas": null,
            "grid_template_columns": null,
            "grid_template_rows": null,
            "height": null,
            "justify_content": null,
            "justify_items": null,
            "left": null,
            "margin": null,
            "max_height": null,
            "max_width": null,
            "min_height": null,
            "min_width": null,
            "object_fit": null,
            "object_position": null,
            "order": null,
            "overflow": null,
            "overflow_x": null,
            "overflow_y": null,
            "padding": null,
            "right": null,
            "top": null,
            "visibility": null,
            "width": null
          }
        },
        "fdc8334f5fd948a48b092fc180890290": {
          "model_module": "@jupyter-widgets/controls",
          "model_name": "ProgressStyleModel",
          "model_module_version": "1.5.0",
          "state": {
            "_model_module": "@jupyter-widgets/controls",
            "_model_module_version": "1.5.0",
            "_model_name": "ProgressStyleModel",
            "_view_count": null,
            "_view_module": "@jupyter-widgets/base",
            "_view_module_version": "1.2.0",
            "_view_name": "StyleView",
            "bar_color": null,
            "description_width": "initial"
          }
        },
        "011cc27898114923ba443b3bbf76f07b": {
          "model_module": "@jupyter-widgets/base",
          "model_name": "LayoutModel",
          "model_module_version": "1.2.0",
          "state": {
            "_model_module": "@jupyter-widgets/base",
            "_model_module_version": "1.2.0",
            "_model_name": "LayoutModel",
            "_view_count": null,
            "_view_module": "@jupyter-widgets/base",
            "_view_module_version": "1.2.0",
            "_view_name": "LayoutView",
            "align_content": null,
            "align_items": null,
            "align_self": null,
            "border": null,
            "bottom": null,
            "display": null,
            "flex": null,
            "flex_flow": null,
            "grid_area": null,
            "grid_auto_columns": null,
            "grid_auto_flow": null,
            "grid_auto_rows": null,
            "grid_column": null,
            "grid_gap": null,
            "grid_row": null,
            "grid_template_areas": null,
            "grid_template_columns": null,
            "grid_template_rows": null,
            "height": null,
            "justify_content": null,
            "justify_items": null,
            "left": null,
            "margin": null,
            "max_height": null,
            "max_width": null,
            "min_height": null,
            "min_width": null,
            "object_fit": null,
            "object_position": null,
            "order": null,
            "overflow": null,
            "overflow_x": null,
            "overflow_y": null,
            "padding": null,
            "right": null,
            "top": null,
            "visibility": null,
            "width": null
          }
        },
        "c348f474ffb744169498a191350bfdd9": {
          "model_module": "@jupyter-widgets/controls",
          "model_name": "DescriptionStyleModel",
          "model_module_version": "1.5.0",
          "state": {
            "_model_module": "@jupyter-widgets/controls",
            "_model_module_version": "1.5.0",
            "_model_name": "DescriptionStyleModel",
            "_view_count": null,
            "_view_module": "@jupyter-widgets/base",
            "_view_module_version": "1.2.0",
            "_view_name": "StyleView",
            "description_width": ""
          }
        },
        "cffc43db1a9845cab16a7da00c8160bc": {
          "model_module": "@jupyter-widgets/controls",
          "model_name": "HBoxModel",
          "model_module_version": "1.5.0",
          "state": {
            "_dom_classes": [],
            "_model_module": "@jupyter-widgets/controls",
            "_model_module_version": "1.5.0",
            "_model_name": "HBoxModel",
            "_view_count": null,
            "_view_module": "@jupyter-widgets/controls",
            "_view_module_version": "1.5.0",
            "_view_name": "HBoxView",
            "box_style": "",
            "children": [
              "IPY_MODEL_5b685dbbb4b440f0a23e07d7686c8b96",
              "IPY_MODEL_959f8f54c4cb468fa130d9b2f34767e7"
            ],
            "layout": "IPY_MODEL_a3ec9d4ffe77475791bcffcc8e788c0a"
          }
        },
        "5b685dbbb4b440f0a23e07d7686c8b96": {
          "model_module": "@jupyter-widgets/controls",
          "model_name": "FloatProgressModel",
          "model_module_version": "1.5.0",
          "state": {
            "_dom_classes": [],
            "_model_module": "@jupyter-widgets/controls",
            "_model_module_version": "1.5.0",
            "_model_name": "FloatProgressModel",
            "_view_count": null,
            "_view_module": "@jupyter-widgets/controls",
            "_view_module_version": "1.5.0",
            "_view_name": "ProgressView",
            "bar_style": "success",
            "description": "Downloading: 100%",
            "description_tooltip": null,
            "layout": "IPY_MODEL_7ce97c130da34c13adb9d398fe4a05eb",
            "max": 891691413,
            "min": 0,
            "orientation": "horizontal",
            "style": "IPY_MODEL_34ab1ad614d2408784f8986e27cc9029",
            "value": 891691413
          }
        },
        "959f8f54c4cb468fa130d9b2f34767e7": {
          "model_module": "@jupyter-widgets/controls",
          "model_name": "HTMLModel",
          "model_module_version": "1.5.0",
          "state": {
            "_dom_classes": [],
            "_model_module": "@jupyter-widgets/controls",
            "_model_module_version": "1.5.0",
            "_model_name": "HTMLModel",
            "_view_count": null,
            "_view_module": "@jupyter-widgets/controls",
            "_view_module_version": "1.5.0",
            "_view_name": "HTMLView",
            "description": "",
            "description_tooltip": null,
            "layout": "IPY_MODEL_c692b1abfdc543cea709484f25fafc96",
            "placeholder": "​",
            "style": "IPY_MODEL_3b9cc7cbc2524455b93cf53b13e136f8",
            "value": " 892M/892M [00:23&lt;00:00, 37.5MB/s]"
          }
        },
        "a3ec9d4ffe77475791bcffcc8e788c0a": {
          "model_module": "@jupyter-widgets/base",
          "model_name": "LayoutModel",
          "model_module_version": "1.2.0",
          "state": {
            "_model_module": "@jupyter-widgets/base",
            "_model_module_version": "1.2.0",
            "_model_name": "LayoutModel",
            "_view_count": null,
            "_view_module": "@jupyter-widgets/base",
            "_view_module_version": "1.2.0",
            "_view_name": "LayoutView",
            "align_content": null,
            "align_items": null,
            "align_self": null,
            "border": null,
            "bottom": null,
            "display": null,
            "flex": null,
            "flex_flow": null,
            "grid_area": null,
            "grid_auto_columns": null,
            "grid_auto_flow": null,
            "grid_auto_rows": null,
            "grid_column": null,
            "grid_gap": null,
            "grid_row": null,
            "grid_template_areas": null,
            "grid_template_columns": null,
            "grid_template_rows": null,
            "height": null,
            "justify_content": null,
            "justify_items": null,
            "left": null,
            "margin": null,
            "max_height": null,
            "max_width": null,
            "min_height": null,
            "min_width": null,
            "object_fit": null,
            "object_position": null,
            "order": null,
            "overflow": null,
            "overflow_x": null,
            "overflow_y": null,
            "padding": null,
            "right": null,
            "top": null,
            "visibility": null,
            "width": null
          }
        },
        "7ce97c130da34c13adb9d398fe4a05eb": {
          "model_module": "@jupyter-widgets/base",
          "model_name": "LayoutModel",
          "model_module_version": "1.2.0",
          "state": {
            "_model_module": "@jupyter-widgets/base",
            "_model_module_version": "1.2.0",
            "_model_name": "LayoutModel",
            "_view_count": null,
            "_view_module": "@jupyter-widgets/base",
            "_view_module_version": "1.2.0",
            "_view_name": "LayoutView",
            "align_content": null,
            "align_items": null,
            "align_self": null,
            "border": null,
            "bottom": null,
            "display": null,
            "flex": null,
            "flex_flow": null,
            "grid_area": null,
            "grid_auto_columns": null,
            "grid_auto_flow": null,
            "grid_auto_rows": null,
            "grid_column": null,
            "grid_gap": null,
            "grid_row": null,
            "grid_template_areas": null,
            "grid_template_columns": null,
            "grid_template_rows": null,
            "height": null,
            "justify_content": null,
            "justify_items": null,
            "left": null,
            "margin": null,
            "max_height": null,
            "max_width": null,
            "min_height": null,
            "min_width": null,
            "object_fit": null,
            "object_position": null,
            "order": null,
            "overflow": null,
            "overflow_x": null,
            "overflow_y": null,
            "padding": null,
            "right": null,
            "top": null,
            "visibility": null,
            "width": null
          }
        },
        "34ab1ad614d2408784f8986e27cc9029": {
          "model_module": "@jupyter-widgets/controls",
          "model_name": "ProgressStyleModel",
          "model_module_version": "1.5.0",
          "state": {
            "_model_module": "@jupyter-widgets/controls",
            "_model_module_version": "1.5.0",
            "_model_name": "ProgressStyleModel",
            "_view_count": null,
            "_view_module": "@jupyter-widgets/base",
            "_view_module_version": "1.2.0",
            "_view_name": "StyleView",
            "bar_color": null,
            "description_width": "initial"
          }
        },
        "c692b1abfdc543cea709484f25fafc96": {
          "model_module": "@jupyter-widgets/base",
          "model_name": "LayoutModel",
          "model_module_version": "1.2.0",
          "state": {
            "_model_module": "@jupyter-widgets/base",
            "_model_module_version": "1.2.0",
            "_model_name": "LayoutModel",
            "_view_count": null,
            "_view_module": "@jupyter-widgets/base",
            "_view_module_version": "1.2.0",
            "_view_name": "LayoutView",
            "align_content": null,
            "align_items": null,
            "align_self": null,
            "border": null,
            "bottom": null,
            "display": null,
            "flex": null,
            "flex_flow": null,
            "grid_area": null,
            "grid_auto_columns": null,
            "grid_auto_flow": null,
            "grid_auto_rows": null,
            "grid_column": null,
            "grid_gap": null,
            "grid_row": null,
            "grid_template_areas": null,
            "grid_template_columns": null,
            "grid_template_rows": null,
            "height": null,
            "justify_content": null,
            "justify_items": null,
            "left": null,
            "margin": null,
            "max_height": null,
            "max_width": null,
            "min_height": null,
            "min_width": null,
            "object_fit": null,
            "object_position": null,
            "order": null,
            "overflow": null,
            "overflow_x": null,
            "overflow_y": null,
            "padding": null,
            "right": null,
            "top": null,
            "visibility": null,
            "width": null
          }
        },
        "3b9cc7cbc2524455b93cf53b13e136f8": {
          "model_module": "@jupyter-widgets/controls",
          "model_name": "DescriptionStyleModel",
          "model_module_version": "1.5.0",
          "state": {
            "_model_module": "@jupyter-widgets/controls",
            "_model_module_version": "1.5.0",
            "_model_name": "DescriptionStyleModel",
            "_view_count": null,
            "_view_module": "@jupyter-widgets/base",
            "_view_module_version": "1.2.0",
            "_view_name": "StyleView",
            "description_width": ""
          }
        },
        "1b87b49f23774fb0868162108594572e": {
          "model_module": "@jupyter-widgets/controls",
          "model_name": "HBoxModel",
          "model_module_version": "1.5.0",
          "state": {
            "_dom_classes": [],
            "_model_module": "@jupyter-widgets/controls",
            "_model_module_version": "1.5.0",
            "_model_name": "HBoxModel",
            "_view_count": null,
            "_view_module": "@jupyter-widgets/controls",
            "_view_module_version": "1.5.0",
            "_view_name": "HBoxView",
            "box_style": "",
            "children": [
              "IPY_MODEL_056e3a8d5d2b4181bc12aedda2eca03e",
              "IPY_MODEL_53e19ed4be1d46be81d08f82ee8824c3"
            ],
            "layout": "IPY_MODEL_5900673810544eb9aab843bdbb9e08a5"
          }
        },
        "056e3a8d5d2b4181bc12aedda2eca03e": {
          "model_module": "@jupyter-widgets/controls",
          "model_name": "FloatProgressModel",
          "model_module_version": "1.5.0",
          "state": {
            "_dom_classes": [],
            "_model_module": "@jupyter-widgets/controls",
            "_model_module_version": "1.5.0",
            "_model_name": "FloatProgressModel",
            "_view_count": null,
            "_view_module": "@jupyter-widgets/controls",
            "_view_module_version": "1.5.0",
            "_view_name": "ProgressView",
            "bar_style": "success",
            "description": "Downloading: 100%",
            "description_tooltip": null,
            "layout": "IPY_MODEL_a93a7d7f902f468ba97da82faef8f03a",
            "max": 1199,
            "min": 0,
            "orientation": "horizontal",
            "style": "IPY_MODEL_3dc7b249be0d494b82dd4aabe41c71cf",
            "value": 1199
          }
        },
        "53e19ed4be1d46be81d08f82ee8824c3": {
          "model_module": "@jupyter-widgets/controls",
          "model_name": "HTMLModel",
          "model_module_version": "1.5.0",
          "state": {
            "_dom_classes": [],
            "_model_module": "@jupyter-widgets/controls",
            "_model_module_version": "1.5.0",
            "_model_name": "HTMLModel",
            "_view_count": null,
            "_view_module": "@jupyter-widgets/controls",
            "_view_module_version": "1.5.0",
            "_view_name": "HTMLView",
            "description": "",
            "description_tooltip": null,
            "layout": "IPY_MODEL_e48cd57aaf014136a5a7deba416bbaf3",
            "placeholder": "​",
            "style": "IPY_MODEL_5fe8a8c1fe5b409c8a26f3d918d61e49",
            "value": " 1.20k/1.20k [00:00&lt;00:00, 1.56kB/s]"
          }
        },
        "5900673810544eb9aab843bdbb9e08a5": {
          "model_module": "@jupyter-widgets/base",
          "model_name": "LayoutModel",
          "model_module_version": "1.2.0",
          "state": {
            "_model_module": "@jupyter-widgets/base",
            "_model_module_version": "1.2.0",
            "_model_name": "LayoutModel",
            "_view_count": null,
            "_view_module": "@jupyter-widgets/base",
            "_view_module_version": "1.2.0",
            "_view_name": "LayoutView",
            "align_content": null,
            "align_items": null,
            "align_self": null,
            "border": null,
            "bottom": null,
            "display": null,
            "flex": null,
            "flex_flow": null,
            "grid_area": null,
            "grid_auto_columns": null,
            "grid_auto_flow": null,
            "grid_auto_rows": null,
            "grid_column": null,
            "grid_gap": null,
            "grid_row": null,
            "grid_template_areas": null,
            "grid_template_columns": null,
            "grid_template_rows": null,
            "height": null,
            "justify_content": null,
            "justify_items": null,
            "left": null,
            "margin": null,
            "max_height": null,
            "max_width": null,
            "min_height": null,
            "min_width": null,
            "object_fit": null,
            "object_position": null,
            "order": null,
            "overflow": null,
            "overflow_x": null,
            "overflow_y": null,
            "padding": null,
            "right": null,
            "top": null,
            "visibility": null,
            "width": null
          }
        },
        "a93a7d7f902f468ba97da82faef8f03a": {
          "model_module": "@jupyter-widgets/base",
          "model_name": "LayoutModel",
          "model_module_version": "1.2.0",
          "state": {
            "_model_module": "@jupyter-widgets/base",
            "_model_module_version": "1.2.0",
            "_model_name": "LayoutModel",
            "_view_count": null,
            "_view_module": "@jupyter-widgets/base",
            "_view_module_version": "1.2.0",
            "_view_name": "LayoutView",
            "align_content": null,
            "align_items": null,
            "align_self": null,
            "border": null,
            "bottom": null,
            "display": null,
            "flex": null,
            "flex_flow": null,
            "grid_area": null,
            "grid_auto_columns": null,
            "grid_auto_flow": null,
            "grid_auto_rows": null,
            "grid_column": null,
            "grid_gap": null,
            "grid_row": null,
            "grid_template_areas": null,
            "grid_template_columns": null,
            "grid_template_rows": null,
            "height": null,
            "justify_content": null,
            "justify_items": null,
            "left": null,
            "margin": null,
            "max_height": null,
            "max_width": null,
            "min_height": null,
            "min_width": null,
            "object_fit": null,
            "object_position": null,
            "order": null,
            "overflow": null,
            "overflow_x": null,
            "overflow_y": null,
            "padding": null,
            "right": null,
            "top": null,
            "visibility": null,
            "width": null
          }
        },
        "3dc7b249be0d494b82dd4aabe41c71cf": {
          "model_module": "@jupyter-widgets/controls",
          "model_name": "ProgressStyleModel",
          "model_module_version": "1.5.0",
          "state": {
            "_model_module": "@jupyter-widgets/controls",
            "_model_module_version": "1.5.0",
            "_model_name": "ProgressStyleModel",
            "_view_count": null,
            "_view_module": "@jupyter-widgets/base",
            "_view_module_version": "1.2.0",
            "_view_name": "StyleView",
            "bar_color": null,
            "description_width": "initial"
          }
        },
        "e48cd57aaf014136a5a7deba416bbaf3": {
          "model_module": "@jupyter-widgets/base",
          "model_name": "LayoutModel",
          "model_module_version": "1.2.0",
          "state": {
            "_model_module": "@jupyter-widgets/base",
            "_model_module_version": "1.2.0",
            "_model_name": "LayoutModel",
            "_view_count": null,
            "_view_module": "@jupyter-widgets/base",
            "_view_module_version": "1.2.0",
            "_view_name": "LayoutView",
            "align_content": null,
            "align_items": null,
            "align_self": null,
            "border": null,
            "bottom": null,
            "display": null,
            "flex": null,
            "flex_flow": null,
            "grid_area": null,
            "grid_auto_columns": null,
            "grid_auto_flow": null,
            "grid_auto_rows": null,
            "grid_column": null,
            "grid_gap": null,
            "grid_row": null,
            "grid_template_areas": null,
            "grid_template_columns": null,
            "grid_template_rows": null,
            "height": null,
            "justify_content": null,
            "justify_items": null,
            "left": null,
            "margin": null,
            "max_height": null,
            "max_width": null,
            "min_height": null,
            "min_width": null,
            "object_fit": null,
            "object_position": null,
            "order": null,
            "overflow": null,
            "overflow_x": null,
            "overflow_y": null,
            "padding": null,
            "right": null,
            "top": null,
            "visibility": null,
            "width": null
          }
        },
        "5fe8a8c1fe5b409c8a26f3d918d61e49": {
          "model_module": "@jupyter-widgets/controls",
          "model_name": "DescriptionStyleModel",
          "model_module_version": "1.5.0",
          "state": {
            "_model_module": "@jupyter-widgets/controls",
            "_model_module_version": "1.5.0",
            "_model_name": "DescriptionStyleModel",
            "_view_count": null,
            "_view_module": "@jupyter-widgets/base",
            "_view_module_version": "1.2.0",
            "_view_name": "StyleView",
            "description_width": ""
          }
        },
        "9f240eb0faba413e9ca5ac0db7e14ced": {
          "model_module": "@jupyter-widgets/controls",
          "model_name": "HBoxModel",
          "model_module_version": "1.5.0",
          "state": {
            "_dom_classes": [],
            "_model_module": "@jupyter-widgets/controls",
            "_model_module_version": "1.5.0",
            "_model_name": "HBoxModel",
            "_view_count": null,
            "_view_module": "@jupyter-widgets/controls",
            "_view_module_version": "1.5.0",
            "_view_name": "HBoxView",
            "box_style": "",
            "children": [
              "IPY_MODEL_24a35acd6a0f4b978adcb7b87a304483",
              "IPY_MODEL_9a72346780634451b1e462df93a240f3"
            ],
            "layout": "IPY_MODEL_56b1875d6aac4bc29c4d84d684bb4488"
          }
        },
        "24a35acd6a0f4b978adcb7b87a304483": {
          "model_module": "@jupyter-widgets/controls",
          "model_name": "FloatProgressModel",
          "model_module_version": "1.5.0",
          "state": {
            "_dom_classes": [],
            "_model_module": "@jupyter-widgets/controls",
            "_model_module_version": "1.5.0",
            "_model_name": "FloatProgressModel",
            "_view_count": null,
            "_view_module": "@jupyter-widgets/controls",
            "_view_module_version": "1.5.0",
            "_view_name": "ProgressView",
            "bar_style": "success",
            "description": "Downloading: 100%",
            "description_tooltip": null,
            "layout": "IPY_MODEL_2ec7f94491ac4204a6fd1ea68f9f99e8",
            "max": 791656,
            "min": 0,
            "orientation": "horizontal",
            "style": "IPY_MODEL_754b4c75b60740b98c9c7aa1b05d3887",
            "value": 791656
          }
        },
        "9a72346780634451b1e462df93a240f3": {
          "model_module": "@jupyter-widgets/controls",
          "model_name": "HTMLModel",
          "model_module_version": "1.5.0",
          "state": {
            "_dom_classes": [],
            "_model_module": "@jupyter-widgets/controls",
            "_model_module_version": "1.5.0",
            "_model_name": "HTMLModel",
            "_view_count": null,
            "_view_module": "@jupyter-widgets/controls",
            "_view_module_version": "1.5.0",
            "_view_name": "HTMLView",
            "description": "",
            "description_tooltip": null,
            "layout": "IPY_MODEL_f022585cebbc4f8f96a8cb4c30dda904",
            "placeholder": "​",
            "style": "IPY_MODEL_8606ea2ee5154ff39de2cb569e10fe87",
            "value": " 792k/792k [00:12&lt;00:00, 65.3kB/s]"
          }
        },
        "56b1875d6aac4bc29c4d84d684bb4488": {
          "model_module": "@jupyter-widgets/base",
          "model_name": "LayoutModel",
          "model_module_version": "1.2.0",
          "state": {
            "_model_module": "@jupyter-widgets/base",
            "_model_module_version": "1.2.0",
            "_model_name": "LayoutModel",
            "_view_count": null,
            "_view_module": "@jupyter-widgets/base",
            "_view_module_version": "1.2.0",
            "_view_name": "LayoutView",
            "align_content": null,
            "align_items": null,
            "align_self": null,
            "border": null,
            "bottom": null,
            "display": null,
            "flex": null,
            "flex_flow": null,
            "grid_area": null,
            "grid_auto_columns": null,
            "grid_auto_flow": null,
            "grid_auto_rows": null,
            "grid_column": null,
            "grid_gap": null,
            "grid_row": null,
            "grid_template_areas": null,
            "grid_template_columns": null,
            "grid_template_rows": null,
            "height": null,
            "justify_content": null,
            "justify_items": null,
            "left": null,
            "margin": null,
            "max_height": null,
            "max_width": null,
            "min_height": null,
            "min_width": null,
            "object_fit": null,
            "object_position": null,
            "order": null,
            "overflow": null,
            "overflow_x": null,
            "overflow_y": null,
            "padding": null,
            "right": null,
            "top": null,
            "visibility": null,
            "width": null
          }
        },
        "2ec7f94491ac4204a6fd1ea68f9f99e8": {
          "model_module": "@jupyter-widgets/base",
          "model_name": "LayoutModel",
          "model_module_version": "1.2.0",
          "state": {
            "_model_module": "@jupyter-widgets/base",
            "_model_module_version": "1.2.0",
            "_model_name": "LayoutModel",
            "_view_count": null,
            "_view_module": "@jupyter-widgets/base",
            "_view_module_version": "1.2.0",
            "_view_name": "LayoutView",
            "align_content": null,
            "align_items": null,
            "align_self": null,
            "border": null,
            "bottom": null,
            "display": null,
            "flex": null,
            "flex_flow": null,
            "grid_area": null,
            "grid_auto_columns": null,
            "grid_auto_flow": null,
            "grid_auto_rows": null,
            "grid_column": null,
            "grid_gap": null,
            "grid_row": null,
            "grid_template_areas": null,
            "grid_template_columns": null,
            "grid_template_rows": null,
            "height": null,
            "justify_content": null,
            "justify_items": null,
            "left": null,
            "margin": null,
            "max_height": null,
            "max_width": null,
            "min_height": null,
            "min_width": null,
            "object_fit": null,
            "object_position": null,
            "order": null,
            "overflow": null,
            "overflow_x": null,
            "overflow_y": null,
            "padding": null,
            "right": null,
            "top": null,
            "visibility": null,
            "width": null
          }
        },
        "754b4c75b60740b98c9c7aa1b05d3887": {
          "model_module": "@jupyter-widgets/controls",
          "model_name": "ProgressStyleModel",
          "model_module_version": "1.5.0",
          "state": {
            "_model_module": "@jupyter-widgets/controls",
            "_model_module_version": "1.5.0",
            "_model_name": "ProgressStyleModel",
            "_view_count": null,
            "_view_module": "@jupyter-widgets/base",
            "_view_module_version": "1.2.0",
            "_view_name": "StyleView",
            "bar_color": null,
            "description_width": "initial"
          }
        },
        "f022585cebbc4f8f96a8cb4c30dda904": {
          "model_module": "@jupyter-widgets/base",
          "model_name": "LayoutModel",
          "model_module_version": "1.2.0",
          "state": {
            "_model_module": "@jupyter-widgets/base",
            "_model_module_version": "1.2.0",
            "_model_name": "LayoutModel",
            "_view_count": null,
            "_view_module": "@jupyter-widgets/base",
            "_view_module_version": "1.2.0",
            "_view_name": "LayoutView",
            "align_content": null,
            "align_items": null,
            "align_self": null,
            "border": null,
            "bottom": null,
            "display": null,
            "flex": null,
            "flex_flow": null,
            "grid_area": null,
            "grid_auto_columns": null,
            "grid_auto_flow": null,
            "grid_auto_rows": null,
            "grid_column": null,
            "grid_gap": null,
            "grid_row": null,
            "grid_template_areas": null,
            "grid_template_columns": null,
            "grid_template_rows": null,
            "height": null,
            "justify_content": null,
            "justify_items": null,
            "left": null,
            "margin": null,
            "max_height": null,
            "max_width": null,
            "min_height": null,
            "min_width": null,
            "object_fit": null,
            "object_position": null,
            "order": null,
            "overflow": null,
            "overflow_x": null,
            "overflow_y": null,
            "padding": null,
            "right": null,
            "top": null,
            "visibility": null,
            "width": null
          }
        },
        "8606ea2ee5154ff39de2cb569e10fe87": {
          "model_module": "@jupyter-widgets/controls",
          "model_name": "DescriptionStyleModel",
          "model_module_version": "1.5.0",
          "state": {
            "_model_module": "@jupyter-widgets/controls",
            "_model_module_version": "1.5.0",
            "_model_name": "DescriptionStyleModel",
            "_view_count": null,
            "_view_module": "@jupyter-widgets/base",
            "_view_module_version": "1.2.0",
            "_view_name": "StyleView",
            "description_width": ""
          }
        },
        "8b490149fa334e89882902dcae33e3b5": {
          "model_module": "@jupyter-widgets/controls",
          "model_name": "HBoxModel",
          "model_module_version": "1.5.0",
          "state": {
            "_dom_classes": [],
            "_model_module": "@jupyter-widgets/controls",
            "_model_module_version": "1.5.0",
            "_model_name": "HBoxModel",
            "_view_count": null,
            "_view_module": "@jupyter-widgets/controls",
            "_view_module_version": "1.5.0",
            "_view_name": "HBoxView",
            "box_style": "",
            "children": [
              "IPY_MODEL_e7be0a6ae8b1445189b604280cbc3801",
              "IPY_MODEL_fabc1b85d8ba439d82bb73033f66244a"
            ],
            "layout": "IPY_MODEL_eeb92e6f5d0d460e9948771f60d10b4e"
          }
        },
        "e7be0a6ae8b1445189b604280cbc3801": {
          "model_module": "@jupyter-widgets/controls",
          "model_name": "FloatProgressModel",
          "model_module_version": "1.5.0",
          "state": {
            "_dom_classes": [],
            "_model_module": "@jupyter-widgets/controls",
            "_model_module_version": "1.5.0",
            "_model_name": "FloatProgressModel",
            "_view_count": null,
            "_view_module": "@jupyter-widgets/controls",
            "_view_module_version": "1.5.0",
            "_view_name": "ProgressView",
            "bar_style": "success",
            "description": "100%",
            "description_tooltip": null,
            "layout": "IPY_MODEL_b536345dfbb3475889e38f1e3325028d",
            "max": 300,
            "min": 0,
            "orientation": "horizontal",
            "style": "IPY_MODEL_e4ece1ed24a64e2e95304924e645419e",
            "value": 300
          }
        },
        "fabc1b85d8ba439d82bb73033f66244a": {
          "model_module": "@jupyter-widgets/controls",
          "model_name": "HTMLModel",
          "model_module_version": "1.5.0",
          "state": {
            "_dom_classes": [],
            "_model_module": "@jupyter-widgets/controls",
            "_model_module_version": "1.5.0",
            "_model_name": "HTMLModel",
            "_view_count": null,
            "_view_module": "@jupyter-widgets/controls",
            "_view_module_version": "1.5.0",
            "_view_name": "HTMLView",
            "description": "",
            "description_tooltip": null,
            "layout": "IPY_MODEL_429e88e4069643fc8bd353076b2e4e16",
            "placeholder": "​",
            "style": "IPY_MODEL_3c9b3355e8e74559945ebaf8d0ec4acf",
            "value": " 300/300 [02:35&lt;00:00,  1.93it/s]"
          }
        },
        "eeb92e6f5d0d460e9948771f60d10b4e": {
          "model_module": "@jupyter-widgets/base",
          "model_name": "LayoutModel",
          "model_module_version": "1.2.0",
          "state": {
            "_model_module": "@jupyter-widgets/base",
            "_model_module_version": "1.2.0",
            "_model_name": "LayoutModel",
            "_view_count": null,
            "_view_module": "@jupyter-widgets/base",
            "_view_module_version": "1.2.0",
            "_view_name": "LayoutView",
            "align_content": null,
            "align_items": null,
            "align_self": null,
            "border": null,
            "bottom": null,
            "display": null,
            "flex": null,
            "flex_flow": null,
            "grid_area": null,
            "grid_auto_columns": null,
            "grid_auto_flow": null,
            "grid_auto_rows": null,
            "grid_column": null,
            "grid_gap": null,
            "grid_row": null,
            "grid_template_areas": null,
            "grid_template_columns": null,
            "grid_template_rows": null,
            "height": null,
            "justify_content": null,
            "justify_items": null,
            "left": null,
            "margin": null,
            "max_height": null,
            "max_width": null,
            "min_height": null,
            "min_width": null,
            "object_fit": null,
            "object_position": null,
            "order": null,
            "overflow": null,
            "overflow_x": null,
            "overflow_y": null,
            "padding": null,
            "right": null,
            "top": null,
            "visibility": null,
            "width": null
          }
        },
        "b536345dfbb3475889e38f1e3325028d": {
          "model_module": "@jupyter-widgets/base",
          "model_name": "LayoutModel",
          "model_module_version": "1.2.0",
          "state": {
            "_model_module": "@jupyter-widgets/base",
            "_model_module_version": "1.2.0",
            "_model_name": "LayoutModel",
            "_view_count": null,
            "_view_module": "@jupyter-widgets/base",
            "_view_module_version": "1.2.0",
            "_view_name": "LayoutView",
            "align_content": null,
            "align_items": null,
            "align_self": null,
            "border": null,
            "bottom": null,
            "display": null,
            "flex": null,
            "flex_flow": null,
            "grid_area": null,
            "grid_auto_columns": null,
            "grid_auto_flow": null,
            "grid_auto_rows": null,
            "grid_column": null,
            "grid_gap": null,
            "grid_row": null,
            "grid_template_areas": null,
            "grid_template_columns": null,
            "grid_template_rows": null,
            "height": null,
            "justify_content": null,
            "justify_items": null,
            "left": null,
            "margin": null,
            "max_height": null,
            "max_width": null,
            "min_height": null,
            "min_width": null,
            "object_fit": null,
            "object_position": null,
            "order": null,
            "overflow": null,
            "overflow_x": null,
            "overflow_y": null,
            "padding": null,
            "right": null,
            "top": null,
            "visibility": null,
            "width": null
          }
        },
        "e4ece1ed24a64e2e95304924e645419e": {
          "model_module": "@jupyter-widgets/controls",
          "model_name": "ProgressStyleModel",
          "model_module_version": "1.5.0",
          "state": {
            "_model_module": "@jupyter-widgets/controls",
            "_model_module_version": "1.5.0",
            "_model_name": "ProgressStyleModel",
            "_view_count": null,
            "_view_module": "@jupyter-widgets/base",
            "_view_module_version": "1.2.0",
            "_view_name": "StyleView",
            "bar_color": null,
            "description_width": "initial"
          }
        },
        "429e88e4069643fc8bd353076b2e4e16": {
          "model_module": "@jupyter-widgets/base",
          "model_name": "LayoutModel",
          "model_module_version": "1.2.0",
          "state": {
            "_model_module": "@jupyter-widgets/base",
            "_model_module_version": "1.2.0",
            "_model_name": "LayoutModel",
            "_view_count": null,
            "_view_module": "@jupyter-widgets/base",
            "_view_module_version": "1.2.0",
            "_view_name": "LayoutView",
            "align_content": null,
            "align_items": null,
            "align_self": null,
            "border": null,
            "bottom": null,
            "display": null,
            "flex": null,
            "flex_flow": null,
            "grid_area": null,
            "grid_auto_columns": null,
            "grid_auto_flow": null,
            "grid_auto_rows": null,
            "grid_column": null,
            "grid_gap": null,
            "grid_row": null,
            "grid_template_areas": null,
            "grid_template_columns": null,
            "grid_template_rows": null,
            "height": null,
            "justify_content": null,
            "justify_items": null,
            "left": null,
            "margin": null,
            "max_height": null,
            "max_width": null,
            "min_height": null,
            "min_width": null,
            "object_fit": null,
            "object_position": null,
            "order": null,
            "overflow": null,
            "overflow_x": null,
            "overflow_y": null,
            "padding": null,
            "right": null,
            "top": null,
            "visibility": null,
            "width": null
          }
        },
        "3c9b3355e8e74559945ebaf8d0ec4acf": {
          "model_module": "@jupyter-widgets/controls",
          "model_name": "DescriptionStyleModel",
          "model_module_version": "1.5.0",
          "state": {
            "_model_module": "@jupyter-widgets/controls",
            "_model_module_version": "1.5.0",
            "_model_name": "DescriptionStyleModel",
            "_view_count": null,
            "_view_module": "@jupyter-widgets/base",
            "_view_module_version": "1.2.0",
            "_view_name": "StyleView",
            "description_width": ""
          }
        },
        "902a76d100594b65b6e36fa755bd91f5": {
          "model_module": "@jupyter-widgets/controls",
          "model_name": "HBoxModel",
          "model_module_version": "1.5.0",
          "state": {
            "_dom_classes": [],
            "_model_module": "@jupyter-widgets/controls",
            "_model_module_version": "1.5.0",
            "_model_name": "HBoxModel",
            "_view_count": null,
            "_view_module": "@jupyter-widgets/controls",
            "_view_module_version": "1.5.0",
            "_view_name": "HBoxView",
            "box_style": "",
            "children": [
              "IPY_MODEL_6671a00b94a54c60b937bf3f68a70fdd",
              "IPY_MODEL_0a65afdc135f4e6db36c71b384d44e63"
            ],
            "layout": "IPY_MODEL_def650ab271c48fbb8b5daa4a4fc6205"
          }
        },
        "6671a00b94a54c60b937bf3f68a70fdd": {
          "model_module": "@jupyter-widgets/controls",
          "model_name": "FloatProgressModel",
          "model_module_version": "1.5.0",
          "state": {
            "_dom_classes": [],
            "_model_module": "@jupyter-widgets/controls",
            "_model_module_version": "1.5.0",
            "_model_name": "FloatProgressModel",
            "_view_count": null,
            "_view_module": "@jupyter-widgets/controls",
            "_view_module_version": "1.5.0",
            "_view_name": "ProgressView",
            "bar_style": "success",
            "description": "100%",
            "description_tooltip": null,
            "layout": "IPY_MODEL_f96ee263ded84a83a85a9c2cbbce33c7",
            "max": 300,
            "min": 0,
            "orientation": "horizontal",
            "style": "IPY_MODEL_5168457f347643f78a74da436799acb0",
            "value": 300
          }
        },
        "0a65afdc135f4e6db36c71b384d44e63": {
          "model_module": "@jupyter-widgets/controls",
          "model_name": "HTMLModel",
          "model_module_version": "1.5.0",
          "state": {
            "_dom_classes": [],
            "_model_module": "@jupyter-widgets/controls",
            "_model_module_version": "1.5.0",
            "_model_name": "HTMLModel",
            "_view_count": null,
            "_view_module": "@jupyter-widgets/controls",
            "_view_module_version": "1.5.0",
            "_view_name": "HTMLView",
            "description": "",
            "description_tooltip": null,
            "layout": "IPY_MODEL_e84e0ea137c34c498287b1d86cb5d066",
            "placeholder": "​",
            "style": "IPY_MODEL_ca643b75aa31434dbd85dc3217627f7d",
            "value": " 300/300 [04:27&lt;00:00,  1.12it/s]"
          }
        },
        "def650ab271c48fbb8b5daa4a4fc6205": {
          "model_module": "@jupyter-widgets/base",
          "model_name": "LayoutModel",
          "model_module_version": "1.2.0",
          "state": {
            "_model_module": "@jupyter-widgets/base",
            "_model_module_version": "1.2.0",
            "_model_name": "LayoutModel",
            "_view_count": null,
            "_view_module": "@jupyter-widgets/base",
            "_view_module_version": "1.2.0",
            "_view_name": "LayoutView",
            "align_content": null,
            "align_items": null,
            "align_self": null,
            "border": null,
            "bottom": null,
            "display": null,
            "flex": null,
            "flex_flow": null,
            "grid_area": null,
            "grid_auto_columns": null,
            "grid_auto_flow": null,
            "grid_auto_rows": null,
            "grid_column": null,
            "grid_gap": null,
            "grid_row": null,
            "grid_template_areas": null,
            "grid_template_columns": null,
            "grid_template_rows": null,
            "height": null,
            "justify_content": null,
            "justify_items": null,
            "left": null,
            "margin": null,
            "max_height": null,
            "max_width": null,
            "min_height": null,
            "min_width": null,
            "object_fit": null,
            "object_position": null,
            "order": null,
            "overflow": null,
            "overflow_x": null,
            "overflow_y": null,
            "padding": null,
            "right": null,
            "top": null,
            "visibility": null,
            "width": null
          }
        },
        "f96ee263ded84a83a85a9c2cbbce33c7": {
          "model_module": "@jupyter-widgets/base",
          "model_name": "LayoutModel",
          "model_module_version": "1.2.0",
          "state": {
            "_model_module": "@jupyter-widgets/base",
            "_model_module_version": "1.2.0",
            "_model_name": "LayoutModel",
            "_view_count": null,
            "_view_module": "@jupyter-widgets/base",
            "_view_module_version": "1.2.0",
            "_view_name": "LayoutView",
            "align_content": null,
            "align_items": null,
            "align_self": null,
            "border": null,
            "bottom": null,
            "display": null,
            "flex": null,
            "flex_flow": null,
            "grid_area": null,
            "grid_auto_columns": null,
            "grid_auto_flow": null,
            "grid_auto_rows": null,
            "grid_column": null,
            "grid_gap": null,
            "grid_row": null,
            "grid_template_areas": null,
            "grid_template_columns": null,
            "grid_template_rows": null,
            "height": null,
            "justify_content": null,
            "justify_items": null,
            "left": null,
            "margin": null,
            "max_height": null,
            "max_width": null,
            "min_height": null,
            "min_width": null,
            "object_fit": null,
            "object_position": null,
            "order": null,
            "overflow": null,
            "overflow_x": null,
            "overflow_y": null,
            "padding": null,
            "right": null,
            "top": null,
            "visibility": null,
            "width": null
          }
        },
        "5168457f347643f78a74da436799acb0": {
          "model_module": "@jupyter-widgets/controls",
          "model_name": "ProgressStyleModel",
          "model_module_version": "1.5.0",
          "state": {
            "_model_module": "@jupyter-widgets/controls",
            "_model_module_version": "1.5.0",
            "_model_name": "ProgressStyleModel",
            "_view_count": null,
            "_view_module": "@jupyter-widgets/base",
            "_view_module_version": "1.2.0",
            "_view_name": "StyleView",
            "bar_color": null,
            "description_width": "initial"
          }
        },
        "e84e0ea137c34c498287b1d86cb5d066": {
          "model_module": "@jupyter-widgets/base",
          "model_name": "LayoutModel",
          "model_module_version": "1.2.0",
          "state": {
            "_model_module": "@jupyter-widgets/base",
            "_model_module_version": "1.2.0",
            "_model_name": "LayoutModel",
            "_view_count": null,
            "_view_module": "@jupyter-widgets/base",
            "_view_module_version": "1.2.0",
            "_view_name": "LayoutView",
            "align_content": null,
            "align_items": null,
            "align_self": null,
            "border": null,
            "bottom": null,
            "display": null,
            "flex": null,
            "flex_flow": null,
            "grid_area": null,
            "grid_auto_columns": null,
            "grid_auto_flow": null,
            "grid_auto_rows": null,
            "grid_column": null,
            "grid_gap": null,
            "grid_row": null,
            "grid_template_areas": null,
            "grid_template_columns": null,
            "grid_template_rows": null,
            "height": null,
            "justify_content": null,
            "justify_items": null,
            "left": null,
            "margin": null,
            "max_height": null,
            "max_width": null,
            "min_height": null,
            "min_width": null,
            "object_fit": null,
            "object_position": null,
            "order": null,
            "overflow": null,
            "overflow_x": null,
            "overflow_y": null,
            "padding": null,
            "right": null,
            "top": null,
            "visibility": null,
            "width": null
          }
        },
        "ca643b75aa31434dbd85dc3217627f7d": {
          "model_module": "@jupyter-widgets/controls",
          "model_name": "DescriptionStyleModel",
          "model_module_version": "1.5.0",
          "state": {
            "_model_module": "@jupyter-widgets/controls",
            "_model_module_version": "1.5.0",
            "_model_name": "DescriptionStyleModel",
            "_view_count": null,
            "_view_module": "@jupyter-widgets/base",
            "_view_module_version": "1.2.0",
            "_view_name": "StyleView",
            "description_width": ""
          }
        },
        "53e56dc2947b42ba96403437d71c8ddf": {
          "model_module": "@jupyter-widgets/controls",
          "model_name": "HBoxModel",
          "model_module_version": "1.5.0",
          "state": {
            "_dom_classes": [],
            "_model_module": "@jupyter-widgets/controls",
            "_model_module_version": "1.5.0",
            "_model_name": "HBoxModel",
            "_view_count": null,
            "_view_module": "@jupyter-widgets/controls",
            "_view_module_version": "1.5.0",
            "_view_name": "HBoxView",
            "box_style": "",
            "children": [
              "IPY_MODEL_194c7929f58b4beb8f807b6440bdcaac",
              "IPY_MODEL_6a72f975500f4ba796ea2e4112729561"
            ],
            "layout": "IPY_MODEL_7c033f6da78e483dba1ec615f269bf4a"
          }
        },
        "194c7929f58b4beb8f807b6440bdcaac": {
          "model_module": "@jupyter-widgets/controls",
          "model_name": "FloatProgressModel",
          "model_module_version": "1.5.0",
          "state": {
            "_dom_classes": [],
            "_model_module": "@jupyter-widgets/controls",
            "_model_module_version": "1.5.0",
            "_model_name": "FloatProgressModel",
            "_view_count": null,
            "_view_module": "@jupyter-widgets/controls",
            "_view_module_version": "1.5.0",
            "_view_name": "ProgressView",
            "bar_style": "success",
            "description": "Downloading: 100%",
            "description_tooltip": null,
            "layout": "IPY_MODEL_b99991f3494645b691a21db5c7cb698a",
            "max": 1190,
            "min": 0,
            "orientation": "horizontal",
            "style": "IPY_MODEL_84c0f4154bc64e3da18ad85778a03caa",
            "value": 1190
          }
        },
        "6a72f975500f4ba796ea2e4112729561": {
          "model_module": "@jupyter-widgets/controls",
          "model_name": "HTMLModel",
          "model_module_version": "1.5.0",
          "state": {
            "_dom_classes": [],
            "_model_module": "@jupyter-widgets/controls",
            "_model_module_version": "1.5.0",
            "_model_name": "HTMLModel",
            "_view_count": null,
            "_view_module": "@jupyter-widgets/controls",
            "_view_module_version": "1.5.0",
            "_view_name": "HTMLView",
            "description": "",
            "description_tooltip": null,
            "layout": "IPY_MODEL_f1318332a78d42ca95b4ce5c4f8e46d2",
            "placeholder": "​",
            "style": "IPY_MODEL_452c3ca5724b4c039388197d4d6b5260",
            "value": " 1.19k/1.19k [00:00&lt;00:00, 1.86kB/s]"
          }
        },
        "7c033f6da78e483dba1ec615f269bf4a": {
          "model_module": "@jupyter-widgets/base",
          "model_name": "LayoutModel",
          "model_module_version": "1.2.0",
          "state": {
            "_model_module": "@jupyter-widgets/base",
            "_model_module_version": "1.2.0",
            "_model_name": "LayoutModel",
            "_view_count": null,
            "_view_module": "@jupyter-widgets/base",
            "_view_module_version": "1.2.0",
            "_view_name": "LayoutView",
            "align_content": null,
            "align_items": null,
            "align_self": null,
            "border": null,
            "bottom": null,
            "display": null,
            "flex": null,
            "flex_flow": null,
            "grid_area": null,
            "grid_auto_columns": null,
            "grid_auto_flow": null,
            "grid_auto_rows": null,
            "grid_column": null,
            "grid_gap": null,
            "grid_row": null,
            "grid_template_areas": null,
            "grid_template_columns": null,
            "grid_template_rows": null,
            "height": null,
            "justify_content": null,
            "justify_items": null,
            "left": null,
            "margin": null,
            "max_height": null,
            "max_width": null,
            "min_height": null,
            "min_width": null,
            "object_fit": null,
            "object_position": null,
            "order": null,
            "overflow": null,
            "overflow_x": null,
            "overflow_y": null,
            "padding": null,
            "right": null,
            "top": null,
            "visibility": null,
            "width": null
          }
        },
        "b99991f3494645b691a21db5c7cb698a": {
          "model_module": "@jupyter-widgets/base",
          "model_name": "LayoutModel",
          "model_module_version": "1.2.0",
          "state": {
            "_model_module": "@jupyter-widgets/base",
            "_model_module_version": "1.2.0",
            "_model_name": "LayoutModel",
            "_view_count": null,
            "_view_module": "@jupyter-widgets/base",
            "_view_module_version": "1.2.0",
            "_view_name": "LayoutView",
            "align_content": null,
            "align_items": null,
            "align_self": null,
            "border": null,
            "bottom": null,
            "display": null,
            "flex": null,
            "flex_flow": null,
            "grid_area": null,
            "grid_auto_columns": null,
            "grid_auto_flow": null,
            "grid_auto_rows": null,
            "grid_column": null,
            "grid_gap": null,
            "grid_row": null,
            "grid_template_areas": null,
            "grid_template_columns": null,
            "grid_template_rows": null,
            "height": null,
            "justify_content": null,
            "justify_items": null,
            "left": null,
            "margin": null,
            "max_height": null,
            "max_width": null,
            "min_height": null,
            "min_width": null,
            "object_fit": null,
            "object_position": null,
            "order": null,
            "overflow": null,
            "overflow_x": null,
            "overflow_y": null,
            "padding": null,
            "right": null,
            "top": null,
            "visibility": null,
            "width": null
          }
        },
        "84c0f4154bc64e3da18ad85778a03caa": {
          "model_module": "@jupyter-widgets/controls",
          "model_name": "ProgressStyleModel",
          "model_module_version": "1.5.0",
          "state": {
            "_model_module": "@jupyter-widgets/controls",
            "_model_module_version": "1.5.0",
            "_model_name": "ProgressStyleModel",
            "_view_count": null,
            "_view_module": "@jupyter-widgets/base",
            "_view_module_version": "1.2.0",
            "_view_name": "StyleView",
            "bar_color": null,
            "description_width": "initial"
          }
        },
        "f1318332a78d42ca95b4ce5c4f8e46d2": {
          "model_module": "@jupyter-widgets/base",
          "model_name": "LayoutModel",
          "model_module_version": "1.2.0",
          "state": {
            "_model_module": "@jupyter-widgets/base",
            "_model_module_version": "1.2.0",
            "_model_name": "LayoutModel",
            "_view_count": null,
            "_view_module": "@jupyter-widgets/base",
            "_view_module_version": "1.2.0",
            "_view_name": "LayoutView",
            "align_content": null,
            "align_items": null,
            "align_self": null,
            "border": null,
            "bottom": null,
            "display": null,
            "flex": null,
            "flex_flow": null,
            "grid_area": null,
            "grid_auto_columns": null,
            "grid_auto_flow": null,
            "grid_auto_rows": null,
            "grid_column": null,
            "grid_gap": null,
            "grid_row": null,
            "grid_template_areas": null,
            "grid_template_columns": null,
            "grid_template_rows": null,
            "height": null,
            "justify_content": null,
            "justify_items": null,
            "left": null,
            "margin": null,
            "max_height": null,
            "max_width": null,
            "min_height": null,
            "min_width": null,
            "object_fit": null,
            "object_position": null,
            "order": null,
            "overflow": null,
            "overflow_x": null,
            "overflow_y": null,
            "padding": null,
            "right": null,
            "top": null,
            "visibility": null,
            "width": null
          }
        },
        "452c3ca5724b4c039388197d4d6b5260": {
          "model_module": "@jupyter-widgets/controls",
          "model_name": "DescriptionStyleModel",
          "model_module_version": "1.5.0",
          "state": {
            "_model_module": "@jupyter-widgets/controls",
            "_model_module_version": "1.5.0",
            "_model_name": "DescriptionStyleModel",
            "_view_count": null,
            "_view_module": "@jupyter-widgets/base",
            "_view_module_version": "1.2.0",
            "_view_name": "StyleView",
            "description_width": ""
          }
        },
        "c713752e85b9461eb97ef14b13c34b98": {
          "model_module": "@jupyter-widgets/controls",
          "model_name": "HBoxModel",
          "model_module_version": "1.5.0",
          "state": {
            "_dom_classes": [],
            "_model_module": "@jupyter-widgets/controls",
            "_model_module_version": "1.5.0",
            "_model_name": "HBoxModel",
            "_view_count": null,
            "_view_module": "@jupyter-widgets/controls",
            "_view_module_version": "1.5.0",
            "_view_name": "HBoxView",
            "box_style": "",
            "children": [
              "IPY_MODEL_23b07c7b4c4a48d39c9e43beaab2ede1",
              "IPY_MODEL_a4c7928a68394af39f5bc104eec6c1ba"
            ],
            "layout": "IPY_MODEL_9c914cc437ff4e14a34af1400eae7167"
          }
        },
        "23b07c7b4c4a48d39c9e43beaab2ede1": {
          "model_module": "@jupyter-widgets/controls",
          "model_name": "FloatProgressModel",
          "model_module_version": "1.5.0",
          "state": {
            "_dom_classes": [],
            "_model_module": "@jupyter-widgets/controls",
            "_model_module_version": "1.5.0",
            "_model_name": "FloatProgressModel",
            "_view_count": null,
            "_view_module": "@jupyter-widgets/controls",
            "_view_module_version": "1.5.0",
            "_view_name": "ProgressView",
            "bar_style": "success",
            "description": "Downloading: 100%",
            "description_tooltip": null,
            "layout": "IPY_MODEL_e0e35175024948388840fe739cc846c5",
            "max": 2950825278,
            "min": 0,
            "orientation": "horizontal",
            "style": "IPY_MODEL_b4d7d12ffe6f44a7ba844241beb09952",
            "value": 2950825278
          }
        },
        "a4c7928a68394af39f5bc104eec6c1ba": {
          "model_module": "@jupyter-widgets/controls",
          "model_name": "HTMLModel",
          "model_module_version": "1.5.0",
          "state": {
            "_dom_classes": [],
            "_model_module": "@jupyter-widgets/controls",
            "_model_module_version": "1.5.0",
            "_model_name": "HTMLModel",
            "_view_count": null,
            "_view_module": "@jupyter-widgets/controls",
            "_view_module_version": "1.5.0",
            "_view_name": "HTMLView",
            "description": "",
            "description_tooltip": null,
            "layout": "IPY_MODEL_db7aba6f31a94d608e24b2b2197afeb5",
            "placeholder": "​",
            "style": "IPY_MODEL_79ec3b37484f4cdeb8f88043b0d57c66",
            "value": " 2.95G/2.95G [01:15&lt;00:00, 39.0MB/s]"
          }
        },
        "9c914cc437ff4e14a34af1400eae7167": {
          "model_module": "@jupyter-widgets/base",
          "model_name": "LayoutModel",
          "model_module_version": "1.2.0",
          "state": {
            "_model_module": "@jupyter-widgets/base",
            "_model_module_version": "1.2.0",
            "_model_name": "LayoutModel",
            "_view_count": null,
            "_view_module": "@jupyter-widgets/base",
            "_view_module_version": "1.2.0",
            "_view_name": "LayoutView",
            "align_content": null,
            "align_items": null,
            "align_self": null,
            "border": null,
            "bottom": null,
            "display": null,
            "flex": null,
            "flex_flow": null,
            "grid_area": null,
            "grid_auto_columns": null,
            "grid_auto_flow": null,
            "grid_auto_rows": null,
            "grid_column": null,
            "grid_gap": null,
            "grid_row": null,
            "grid_template_areas": null,
            "grid_template_columns": null,
            "grid_template_rows": null,
            "height": null,
            "justify_content": null,
            "justify_items": null,
            "left": null,
            "margin": null,
            "max_height": null,
            "max_width": null,
            "min_height": null,
            "min_width": null,
            "object_fit": null,
            "object_position": null,
            "order": null,
            "overflow": null,
            "overflow_x": null,
            "overflow_y": null,
            "padding": null,
            "right": null,
            "top": null,
            "visibility": null,
            "width": null
          }
        },
        "e0e35175024948388840fe739cc846c5": {
          "model_module": "@jupyter-widgets/base",
          "model_name": "LayoutModel",
          "model_module_version": "1.2.0",
          "state": {
            "_model_module": "@jupyter-widgets/base",
            "_model_module_version": "1.2.0",
            "_model_name": "LayoutModel",
            "_view_count": null,
            "_view_module": "@jupyter-widgets/base",
            "_view_module_version": "1.2.0",
            "_view_name": "LayoutView",
            "align_content": null,
            "align_items": null,
            "align_self": null,
            "border": null,
            "bottom": null,
            "display": null,
            "flex": null,
            "flex_flow": null,
            "grid_area": null,
            "grid_auto_columns": null,
            "grid_auto_flow": null,
            "grid_auto_rows": null,
            "grid_column": null,
            "grid_gap": null,
            "grid_row": null,
            "grid_template_areas": null,
            "grid_template_columns": null,
            "grid_template_rows": null,
            "height": null,
            "justify_content": null,
            "justify_items": null,
            "left": null,
            "margin": null,
            "max_height": null,
            "max_width": null,
            "min_height": null,
            "min_width": null,
            "object_fit": null,
            "object_position": null,
            "order": null,
            "overflow": null,
            "overflow_x": null,
            "overflow_y": null,
            "padding": null,
            "right": null,
            "top": null,
            "visibility": null,
            "width": null
          }
        },
        "b4d7d12ffe6f44a7ba844241beb09952": {
          "model_module": "@jupyter-widgets/controls",
          "model_name": "ProgressStyleModel",
          "model_module_version": "1.5.0",
          "state": {
            "_model_module": "@jupyter-widgets/controls",
            "_model_module_version": "1.5.0",
            "_model_name": "ProgressStyleModel",
            "_view_count": null,
            "_view_module": "@jupyter-widgets/base",
            "_view_module_version": "1.2.0",
            "_view_name": "StyleView",
            "bar_color": null,
            "description_width": "initial"
          }
        },
        "db7aba6f31a94d608e24b2b2197afeb5": {
          "model_module": "@jupyter-widgets/base",
          "model_name": "LayoutModel",
          "model_module_version": "1.2.0",
          "state": {
            "_model_module": "@jupyter-widgets/base",
            "_model_module_version": "1.2.0",
            "_model_name": "LayoutModel",
            "_view_count": null,
            "_view_module": "@jupyter-widgets/base",
            "_view_module_version": "1.2.0",
            "_view_name": "LayoutView",
            "align_content": null,
            "align_items": null,
            "align_self": null,
            "border": null,
            "bottom": null,
            "display": null,
            "flex": null,
            "flex_flow": null,
            "grid_area": null,
            "grid_auto_columns": null,
            "grid_auto_flow": null,
            "grid_auto_rows": null,
            "grid_column": null,
            "grid_gap": null,
            "grid_row": null,
            "grid_template_areas": null,
            "grid_template_columns": null,
            "grid_template_rows": null,
            "height": null,
            "justify_content": null,
            "justify_items": null,
            "left": null,
            "margin": null,
            "max_height": null,
            "max_width": null,
            "min_height": null,
            "min_width": null,
            "object_fit": null,
            "object_position": null,
            "order": null,
            "overflow": null,
            "overflow_x": null,
            "overflow_y": null,
            "padding": null,
            "right": null,
            "top": null,
            "visibility": null,
            "width": null
          }
        },
        "79ec3b37484f4cdeb8f88043b0d57c66": {
          "model_module": "@jupyter-widgets/controls",
          "model_name": "DescriptionStyleModel",
          "model_module_version": "1.5.0",
          "state": {
            "_model_module": "@jupyter-widgets/controls",
            "_model_module_version": "1.5.0",
            "_model_name": "DescriptionStyleModel",
            "_view_count": null,
            "_view_module": "@jupyter-widgets/base",
            "_view_module_version": "1.2.0",
            "_view_name": "StyleView",
            "description_width": ""
          }
        },
        "fcfe425888b140ad97f49b26e9f2540b": {
          "model_module": "@jupyter-widgets/controls",
          "model_name": "HBoxModel",
          "model_module_version": "1.5.0",
          "state": {
            "_dom_classes": [],
            "_model_module": "@jupyter-widgets/controls",
            "_model_module_version": "1.5.0",
            "_model_name": "HBoxModel",
            "_view_count": null,
            "_view_module": "@jupyter-widgets/controls",
            "_view_module_version": "1.5.0",
            "_view_name": "HBoxView",
            "box_style": "",
            "children": [
              "IPY_MODEL_87e805cee18a4a7ca836c246a0069602",
              "IPY_MODEL_9f4c9d8fb1114b059f7eae717d669979"
            ],
            "layout": "IPY_MODEL_88884ef89ebb44e2b2d0d06adbb81fb2"
          }
        },
        "87e805cee18a4a7ca836c246a0069602": {
          "model_module": "@jupyter-widgets/controls",
          "model_name": "FloatProgressModel",
          "model_module_version": "1.5.0",
          "state": {
            "_dom_classes": [],
            "_model_module": "@jupyter-widgets/controls",
            "_model_module_version": "1.5.0",
            "_model_name": "FloatProgressModel",
            "_view_count": null,
            "_view_module": "@jupyter-widgets/controls",
            "_view_module_version": "1.5.0",
            "_view_name": "ProgressView",
            "bar_style": "success",
            "description": "Valid loss: 0.3052, Train loss: 0.3551: 100%",
            "description_tooltip": null,
            "layout": "IPY_MODEL_f0addab9e7dc4db3ae2370dd08601a36",
            "max": 1,
            "min": 0,
            "orientation": "horizontal",
            "style": "IPY_MODEL_1a9dad60f6a04e8c947a66b2caf45cdc",
            "value": 1
          }
        },
        "9f4c9d8fb1114b059f7eae717d669979": {
          "model_module": "@jupyter-widgets/controls",
          "model_name": "HTMLModel",
          "model_module_version": "1.5.0",
          "state": {
            "_dom_classes": [],
            "_model_module": "@jupyter-widgets/controls",
            "_model_module_version": "1.5.0",
            "_model_name": "HTMLModel",
            "_view_count": null,
            "_view_module": "@jupyter-widgets/controls",
            "_view_module_version": "1.5.0",
            "_view_name": "HTMLView",
            "description": "",
            "description_tooltip": null,
            "layout": "IPY_MODEL_1ba2af35309c412ca8898bcbeed721d9",
            "placeholder": "​",
            "style": "IPY_MODEL_39602c70978145b185211a91613cb641",
            "value": " 1/1 [04:07&lt;00:00, 247.44s/it]"
          }
        },
        "88884ef89ebb44e2b2d0d06adbb81fb2": {
          "model_module": "@jupyter-widgets/base",
          "model_name": "LayoutModel",
          "model_module_version": "1.2.0",
          "state": {
            "_model_module": "@jupyter-widgets/base",
            "_model_module_version": "1.2.0",
            "_model_name": "LayoutModel",
            "_view_count": null,
            "_view_module": "@jupyter-widgets/base",
            "_view_module_version": "1.2.0",
            "_view_name": "LayoutView",
            "align_content": null,
            "align_items": null,
            "align_self": null,
            "border": null,
            "bottom": null,
            "display": null,
            "flex": null,
            "flex_flow": null,
            "grid_area": null,
            "grid_auto_columns": null,
            "grid_auto_flow": null,
            "grid_auto_rows": null,
            "grid_column": null,
            "grid_gap": null,
            "grid_row": null,
            "grid_template_areas": null,
            "grid_template_columns": null,
            "grid_template_rows": null,
            "height": null,
            "justify_content": null,
            "justify_items": null,
            "left": null,
            "margin": null,
            "max_height": null,
            "max_width": null,
            "min_height": null,
            "min_width": null,
            "object_fit": null,
            "object_position": null,
            "order": null,
            "overflow": null,
            "overflow_x": null,
            "overflow_y": null,
            "padding": null,
            "right": null,
            "top": null,
            "visibility": null,
            "width": null
          }
        },
        "f0addab9e7dc4db3ae2370dd08601a36": {
          "model_module": "@jupyter-widgets/base",
          "model_name": "LayoutModel",
          "model_module_version": "1.2.0",
          "state": {
            "_model_module": "@jupyter-widgets/base",
            "_model_module_version": "1.2.0",
            "_model_name": "LayoutModel",
            "_view_count": null,
            "_view_module": "@jupyter-widgets/base",
            "_view_module_version": "1.2.0",
            "_view_name": "LayoutView",
            "align_content": null,
            "align_items": null,
            "align_self": null,
            "border": null,
            "bottom": null,
            "display": null,
            "flex": null,
            "flex_flow": null,
            "grid_area": null,
            "grid_auto_columns": null,
            "grid_auto_flow": null,
            "grid_auto_rows": null,
            "grid_column": null,
            "grid_gap": null,
            "grid_row": null,
            "grid_template_areas": null,
            "grid_template_columns": null,
            "grid_template_rows": null,
            "height": null,
            "justify_content": null,
            "justify_items": null,
            "left": null,
            "margin": null,
            "max_height": null,
            "max_width": null,
            "min_height": null,
            "min_width": null,
            "object_fit": null,
            "object_position": null,
            "order": null,
            "overflow": null,
            "overflow_x": null,
            "overflow_y": null,
            "padding": null,
            "right": null,
            "top": null,
            "visibility": null,
            "width": null
          }
        },
        "1a9dad60f6a04e8c947a66b2caf45cdc": {
          "model_module": "@jupyter-widgets/controls",
          "model_name": "ProgressStyleModel",
          "model_module_version": "1.5.0",
          "state": {
            "_model_module": "@jupyter-widgets/controls",
            "_model_module_version": "1.5.0",
            "_model_name": "ProgressStyleModel",
            "_view_count": null,
            "_view_module": "@jupyter-widgets/base",
            "_view_module_version": "1.2.0",
            "_view_name": "StyleView",
            "bar_color": null,
            "description_width": "initial"
          }
        },
        "1ba2af35309c412ca8898bcbeed721d9": {
          "model_module": "@jupyter-widgets/base",
          "model_name": "LayoutModel",
          "model_module_version": "1.2.0",
          "state": {
            "_model_module": "@jupyter-widgets/base",
            "_model_module_version": "1.2.0",
            "_model_name": "LayoutModel",
            "_view_count": null,
            "_view_module": "@jupyter-widgets/base",
            "_view_module_version": "1.2.0",
            "_view_name": "LayoutView",
            "align_content": null,
            "align_items": null,
            "align_self": null,
            "border": null,
            "bottom": null,
            "display": null,
            "flex": null,
            "flex_flow": null,
            "grid_area": null,
            "grid_auto_columns": null,
            "grid_auto_flow": null,
            "grid_auto_rows": null,
            "grid_column": null,
            "grid_gap": null,
            "grid_row": null,
            "grid_template_areas": null,
            "grid_template_columns": null,
            "grid_template_rows": null,
            "height": null,
            "justify_content": null,
            "justify_items": null,
            "left": null,
            "margin": null,
            "max_height": null,
            "max_width": null,
            "min_height": null,
            "min_width": null,
            "object_fit": null,
            "object_position": null,
            "order": null,
            "overflow": null,
            "overflow_x": null,
            "overflow_y": null,
            "padding": null,
            "right": null,
            "top": null,
            "visibility": null,
            "width": null
          }
        },
        "39602c70978145b185211a91613cb641": {
          "model_module": "@jupyter-widgets/controls",
          "model_name": "DescriptionStyleModel",
          "model_module_version": "1.5.0",
          "state": {
            "_model_module": "@jupyter-widgets/controls",
            "_model_module_version": "1.5.0",
            "_model_name": "DescriptionStyleModel",
            "_view_count": null,
            "_view_module": "@jupyter-widgets/base",
            "_view_module_version": "1.2.0",
            "_view_name": "StyleView",
            "description_width": ""
          }
        },
        "d371e0a2c3e44b2b97490a048c788cc7": {
          "model_module": "@jupyter-widgets/controls",
          "model_name": "HBoxModel",
          "model_module_version": "1.5.0",
          "state": {
            "_dom_classes": [],
            "_model_module": "@jupyter-widgets/controls",
            "_model_module_version": "1.5.0",
            "_model_name": "HBoxModel",
            "_view_count": null,
            "_view_module": "@jupyter-widgets/controls",
            "_view_module_version": "1.5.0",
            "_view_name": "HBoxView",
            "box_style": "",
            "children": [
              "IPY_MODEL_33a799d96d284abeaa7cf90102935fec",
              "IPY_MODEL_43b3fd49ed924edebc63ff50d3fc7771"
            ],
            "layout": "IPY_MODEL_0fc19f447d534cf2a0280dae3fdc877c"
          }
        },
        "33a799d96d284abeaa7cf90102935fec": {
          "model_module": "@jupyter-widgets/controls",
          "model_name": "FloatProgressModel",
          "model_module_version": "1.5.0",
          "state": {
            "_dom_classes": [],
            "_model_module": "@jupyter-widgets/controls",
            "_model_module_version": "1.5.0",
            "_model_name": "FloatProgressModel",
            "_view_count": null,
            "_view_module": "@jupyter-widgets/controls",
            "_view_module_version": "1.5.0",
            "_view_name": "ProgressView",
            "bar_style": "success",
            "description": "   Train loss: 0.3555741790132055: 100%",
            "description_tooltip": null,
            "layout": "IPY_MODEL_be2db3bf92224b3f93a61c010ae4404d",
            "max": 662,
            "min": 0,
            "orientation": "horizontal",
            "style": "IPY_MODEL_54c31449d6144d84bf5eb19161f22e51",
            "value": 662
          }
        },
        "43b3fd49ed924edebc63ff50d3fc7771": {
          "model_module": "@jupyter-widgets/controls",
          "model_name": "HTMLModel",
          "model_module_version": "1.5.0",
          "state": {
            "_dom_classes": [],
            "_model_module": "@jupyter-widgets/controls",
            "_model_module_version": "1.5.0",
            "_model_name": "HTMLModel",
            "_view_count": null,
            "_view_module": "@jupyter-widgets/controls",
            "_view_module_version": "1.5.0",
            "_view_name": "HTMLView",
            "description": "",
            "description_tooltip": null,
            "layout": "IPY_MODEL_724fcbd7864340118521533ce0039148",
            "placeholder": "​",
            "style": "IPY_MODEL_ff78a66f41b0499e95ae1d24b2a1e5ac",
            "value": " 662/662 [04:07&lt;00:00,  2.68it/s]"
          }
        },
        "0fc19f447d534cf2a0280dae3fdc877c": {
          "model_module": "@jupyter-widgets/base",
          "model_name": "LayoutModel",
          "model_module_version": "1.2.0",
          "state": {
            "_model_module": "@jupyter-widgets/base",
            "_model_module_version": "1.2.0",
            "_model_name": "LayoutModel",
            "_view_count": null,
            "_view_module": "@jupyter-widgets/base",
            "_view_module_version": "1.2.0",
            "_view_name": "LayoutView",
            "align_content": null,
            "align_items": null,
            "align_self": null,
            "border": null,
            "bottom": null,
            "display": null,
            "flex": null,
            "flex_flow": null,
            "grid_area": null,
            "grid_auto_columns": null,
            "grid_auto_flow": null,
            "grid_auto_rows": null,
            "grid_column": null,
            "grid_gap": null,
            "grid_row": null,
            "grid_template_areas": null,
            "grid_template_columns": null,
            "grid_template_rows": null,
            "height": null,
            "justify_content": null,
            "justify_items": null,
            "left": null,
            "margin": null,
            "max_height": null,
            "max_width": null,
            "min_height": null,
            "min_width": null,
            "object_fit": null,
            "object_position": null,
            "order": null,
            "overflow": null,
            "overflow_x": null,
            "overflow_y": null,
            "padding": null,
            "right": null,
            "top": null,
            "visibility": null,
            "width": null
          }
        },
        "be2db3bf92224b3f93a61c010ae4404d": {
          "model_module": "@jupyter-widgets/base",
          "model_name": "LayoutModel",
          "model_module_version": "1.2.0",
          "state": {
            "_model_module": "@jupyter-widgets/base",
            "_model_module_version": "1.2.0",
            "_model_name": "LayoutModel",
            "_view_count": null,
            "_view_module": "@jupyter-widgets/base",
            "_view_module_version": "1.2.0",
            "_view_name": "LayoutView",
            "align_content": null,
            "align_items": null,
            "align_self": null,
            "border": null,
            "bottom": null,
            "display": null,
            "flex": null,
            "flex_flow": null,
            "grid_area": null,
            "grid_auto_columns": null,
            "grid_auto_flow": null,
            "grid_auto_rows": null,
            "grid_column": null,
            "grid_gap": null,
            "grid_row": null,
            "grid_template_areas": null,
            "grid_template_columns": null,
            "grid_template_rows": null,
            "height": null,
            "justify_content": null,
            "justify_items": null,
            "left": null,
            "margin": null,
            "max_height": null,
            "max_width": null,
            "min_height": null,
            "min_width": null,
            "object_fit": null,
            "object_position": null,
            "order": null,
            "overflow": null,
            "overflow_x": null,
            "overflow_y": null,
            "padding": null,
            "right": null,
            "top": null,
            "visibility": null,
            "width": null
          }
        },
        "54c31449d6144d84bf5eb19161f22e51": {
          "model_module": "@jupyter-widgets/controls",
          "model_name": "ProgressStyleModel",
          "model_module_version": "1.5.0",
          "state": {
            "_model_module": "@jupyter-widgets/controls",
            "_model_module_version": "1.5.0",
            "_model_name": "ProgressStyleModel",
            "_view_count": null,
            "_view_module": "@jupyter-widgets/base",
            "_view_module_version": "1.2.0",
            "_view_name": "StyleView",
            "bar_color": null,
            "description_width": "initial"
          }
        },
        "724fcbd7864340118521533ce0039148": {
          "model_module": "@jupyter-widgets/base",
          "model_name": "LayoutModel",
          "model_module_version": "1.2.0",
          "state": {
            "_model_module": "@jupyter-widgets/base",
            "_model_module_version": "1.2.0",
            "_model_name": "LayoutModel",
            "_view_count": null,
            "_view_module": "@jupyter-widgets/base",
            "_view_module_version": "1.2.0",
            "_view_name": "LayoutView",
            "align_content": null,
            "align_items": null,
            "align_self": null,
            "border": null,
            "bottom": null,
            "display": null,
            "flex": null,
            "flex_flow": null,
            "grid_area": null,
            "grid_auto_columns": null,
            "grid_auto_flow": null,
            "grid_auto_rows": null,
            "grid_column": null,
            "grid_gap": null,
            "grid_row": null,
            "grid_template_areas": null,
            "grid_template_columns": null,
            "grid_template_rows": null,
            "height": null,
            "justify_content": null,
            "justify_items": null,
            "left": null,
            "margin": null,
            "max_height": null,
            "max_width": null,
            "min_height": null,
            "min_width": null,
            "object_fit": null,
            "object_position": null,
            "order": null,
            "overflow": null,
            "overflow_x": null,
            "overflow_y": null,
            "padding": null,
            "right": null,
            "top": null,
            "visibility": null,
            "width": null
          }
        },
        "ff78a66f41b0499e95ae1d24b2a1e5ac": {
          "model_module": "@jupyter-widgets/controls",
          "model_name": "DescriptionStyleModel",
          "model_module_version": "1.5.0",
          "state": {
            "_model_module": "@jupyter-widgets/controls",
            "_model_module_version": "1.5.0",
            "_model_name": "DescriptionStyleModel",
            "_view_count": null,
            "_view_module": "@jupyter-widgets/base",
            "_view_module_version": "1.2.0",
            "_view_name": "StyleView",
            "description_width": ""
          }
        },
        "a61b37e7914c4d7d816e7315d3e558aa": {
          "model_module": "@jupyter-widgets/controls",
          "model_name": "HBoxModel",
          "model_module_version": "1.5.0",
          "state": {
            "_dom_classes": [],
            "_model_module": "@jupyter-widgets/controls",
            "_model_module_version": "1.5.0",
            "_model_name": "HBoxModel",
            "_view_count": null,
            "_view_module": "@jupyter-widgets/controls",
            "_view_module_version": "1.5.0",
            "_view_name": "HBoxView",
            "box_style": "",
            "children": [
              "IPY_MODEL_275ff5d8c1da4939afaf57cd1620838b",
              "IPY_MODEL_70565f131b3141518b7a81cd4b2df0be"
            ],
            "layout": "IPY_MODEL_13a51e4f676a41ef93b7c04639c54b13"
          }
        },
        "275ff5d8c1da4939afaf57cd1620838b": {
          "model_module": "@jupyter-widgets/controls",
          "model_name": "FloatProgressModel",
          "model_module_version": "1.5.0",
          "state": {
            "_dom_classes": [],
            "_model_module": "@jupyter-widgets/controls",
            "_model_module_version": "1.5.0",
            "_model_name": "FloatProgressModel",
            "_view_count": null,
            "_view_module": "@jupyter-widgets/controls",
            "_view_module_version": "1.5.0",
            "_view_name": "ProgressView",
            "bar_style": "success",
            "description": "Valid loss: 0.2813, Train loss: 0.2632: 100%",
            "description_tooltip": null,
            "layout": "IPY_MODEL_2dedf4d582ac43b5b6db2e4801d61ccd",
            "max": 1,
            "min": 0,
            "orientation": "horizontal",
            "style": "IPY_MODEL_c6bf8003521f44bbb9931c66fb6e6398",
            "value": 1
          }
        },
        "70565f131b3141518b7a81cd4b2df0be": {
          "model_module": "@jupyter-widgets/controls",
          "model_name": "HTMLModel",
          "model_module_version": "1.5.0",
          "state": {
            "_dom_classes": [],
            "_model_module": "@jupyter-widgets/controls",
            "_model_module_version": "1.5.0",
            "_model_name": "HTMLModel",
            "_view_count": null,
            "_view_module": "@jupyter-widgets/controls",
            "_view_module_version": "1.5.0",
            "_view_name": "HTMLView",
            "description": "",
            "description_tooltip": null,
            "layout": "IPY_MODEL_25e2b5c92853497e9573330f056635d7",
            "placeholder": "​",
            "style": "IPY_MODEL_38f8c19dd2c84e858bb61ac377b3e952",
            "value": " 1/1 [02:09&lt;00:00, 129.69s/it]"
          }
        },
        "13a51e4f676a41ef93b7c04639c54b13": {
          "model_module": "@jupyter-widgets/base",
          "model_name": "LayoutModel",
          "model_module_version": "1.2.0",
          "state": {
            "_model_module": "@jupyter-widgets/base",
            "_model_module_version": "1.2.0",
            "_model_name": "LayoutModel",
            "_view_count": null,
            "_view_module": "@jupyter-widgets/base",
            "_view_module_version": "1.2.0",
            "_view_name": "LayoutView",
            "align_content": null,
            "align_items": null,
            "align_self": null,
            "border": null,
            "bottom": null,
            "display": null,
            "flex": null,
            "flex_flow": null,
            "grid_area": null,
            "grid_auto_columns": null,
            "grid_auto_flow": null,
            "grid_auto_rows": null,
            "grid_column": null,
            "grid_gap": null,
            "grid_row": null,
            "grid_template_areas": null,
            "grid_template_columns": null,
            "grid_template_rows": null,
            "height": null,
            "justify_content": null,
            "justify_items": null,
            "left": null,
            "margin": null,
            "max_height": null,
            "max_width": null,
            "min_height": null,
            "min_width": null,
            "object_fit": null,
            "object_position": null,
            "order": null,
            "overflow": null,
            "overflow_x": null,
            "overflow_y": null,
            "padding": null,
            "right": null,
            "top": null,
            "visibility": null,
            "width": null
          }
        },
        "2dedf4d582ac43b5b6db2e4801d61ccd": {
          "model_module": "@jupyter-widgets/base",
          "model_name": "LayoutModel",
          "model_module_version": "1.2.0",
          "state": {
            "_model_module": "@jupyter-widgets/base",
            "_model_module_version": "1.2.0",
            "_model_name": "LayoutModel",
            "_view_count": null,
            "_view_module": "@jupyter-widgets/base",
            "_view_module_version": "1.2.0",
            "_view_name": "LayoutView",
            "align_content": null,
            "align_items": null,
            "align_self": null,
            "border": null,
            "bottom": null,
            "display": null,
            "flex": null,
            "flex_flow": null,
            "grid_area": null,
            "grid_auto_columns": null,
            "grid_auto_flow": null,
            "grid_auto_rows": null,
            "grid_column": null,
            "grid_gap": null,
            "grid_row": null,
            "grid_template_areas": null,
            "grid_template_columns": null,
            "grid_template_rows": null,
            "height": null,
            "justify_content": null,
            "justify_items": null,
            "left": null,
            "margin": null,
            "max_height": null,
            "max_width": null,
            "min_height": null,
            "min_width": null,
            "object_fit": null,
            "object_position": null,
            "order": null,
            "overflow": null,
            "overflow_x": null,
            "overflow_y": null,
            "padding": null,
            "right": null,
            "top": null,
            "visibility": null,
            "width": null
          }
        },
        "c6bf8003521f44bbb9931c66fb6e6398": {
          "model_module": "@jupyter-widgets/controls",
          "model_name": "ProgressStyleModel",
          "model_module_version": "1.5.0",
          "state": {
            "_model_module": "@jupyter-widgets/controls",
            "_model_module_version": "1.5.0",
            "_model_name": "ProgressStyleModel",
            "_view_count": null,
            "_view_module": "@jupyter-widgets/base",
            "_view_module_version": "1.2.0",
            "_view_name": "StyleView",
            "bar_color": null,
            "description_width": "initial"
          }
        },
        "25e2b5c92853497e9573330f056635d7": {
          "model_module": "@jupyter-widgets/base",
          "model_name": "LayoutModel",
          "model_module_version": "1.2.0",
          "state": {
            "_model_module": "@jupyter-widgets/base",
            "_model_module_version": "1.2.0",
            "_model_name": "LayoutModel",
            "_view_count": null,
            "_view_module": "@jupyter-widgets/base",
            "_view_module_version": "1.2.0",
            "_view_name": "LayoutView",
            "align_content": null,
            "align_items": null,
            "align_self": null,
            "border": null,
            "bottom": null,
            "display": null,
            "flex": null,
            "flex_flow": null,
            "grid_area": null,
            "grid_auto_columns": null,
            "grid_auto_flow": null,
            "grid_auto_rows": null,
            "grid_column": null,
            "grid_gap": null,
            "grid_row": null,
            "grid_template_areas": null,
            "grid_template_columns": null,
            "grid_template_rows": null,
            "height": null,
            "justify_content": null,
            "justify_items": null,
            "left": null,
            "margin": null,
            "max_height": null,
            "max_width": null,
            "min_height": null,
            "min_width": null,
            "object_fit": null,
            "object_position": null,
            "order": null,
            "overflow": null,
            "overflow_x": null,
            "overflow_y": null,
            "padding": null,
            "right": null,
            "top": null,
            "visibility": null,
            "width": null
          }
        },
        "38f8c19dd2c84e858bb61ac377b3e952": {
          "model_module": "@jupyter-widgets/controls",
          "model_name": "DescriptionStyleModel",
          "model_module_version": "1.5.0",
          "state": {
            "_model_module": "@jupyter-widgets/controls",
            "_model_module_version": "1.5.0",
            "_model_name": "DescriptionStyleModel",
            "_view_count": null,
            "_view_module": "@jupyter-widgets/base",
            "_view_module_version": "1.2.0",
            "_view_name": "StyleView",
            "description_width": ""
          }
        },
        "71fada92bca54b74894f141f4624c984": {
          "model_module": "@jupyter-widgets/controls",
          "model_name": "HBoxModel",
          "model_module_version": "1.5.0",
          "state": {
            "_dom_classes": [],
            "_model_module": "@jupyter-widgets/controls",
            "_model_module_version": "1.5.0",
            "_model_name": "HBoxModel",
            "_view_count": null,
            "_view_module": "@jupyter-widgets/controls",
            "_view_module_version": "1.5.0",
            "_view_name": "HBoxView",
            "box_style": "",
            "children": [
              "IPY_MODEL_044aac521248458b8165cc666d31cb96",
              "IPY_MODEL_f6060e70ef754a7898f9960ba8b009c3"
            ],
            "layout": "IPY_MODEL_5753f836038c427895755e262fd27755"
          }
        },
        "044aac521248458b8165cc666d31cb96": {
          "model_module": "@jupyter-widgets/controls",
          "model_name": "FloatProgressModel",
          "model_module_version": "1.5.0",
          "state": {
            "_dom_classes": [],
            "_model_module": "@jupyter-widgets/controls",
            "_model_module_version": "1.5.0",
            "_model_name": "FloatProgressModel",
            "_view_count": null,
            "_view_module": "@jupyter-widgets/controls",
            "_view_module_version": "1.5.0",
            "_view_name": "ProgressView",
            "bar_style": "success",
            "description": "   Train loss: 0.2634641459428687: 100%",
            "description_tooltip": null,
            "layout": "IPY_MODEL_e82f9adb3bd44dfaa75b1dd0570c83fb",
            "max": 662,
            "min": 0,
            "orientation": "horizontal",
            "style": "IPY_MODEL_7115af1f1d4340e18e0bf0681a48ae5d",
            "value": 662
          }
        },
        "f6060e70ef754a7898f9960ba8b009c3": {
          "model_module": "@jupyter-widgets/controls",
          "model_name": "HTMLModel",
          "model_module_version": "1.5.0",
          "state": {
            "_dom_classes": [],
            "_model_module": "@jupyter-widgets/controls",
            "_model_module_version": "1.5.0",
            "_model_name": "HTMLModel",
            "_view_count": null,
            "_view_module": "@jupyter-widgets/controls",
            "_view_module_version": "1.5.0",
            "_view_name": "HTMLView",
            "description": "",
            "description_tooltip": null,
            "layout": "IPY_MODEL_832b2de68c9e4e4c86ca8d9c0e62d85b",
            "placeholder": "​",
            "style": "IPY_MODEL_dd30940137694053b8cd949201edc3a5",
            "value": " 662/662 [02:09&lt;00:00,  5.11it/s]"
          }
        },
        "5753f836038c427895755e262fd27755": {
          "model_module": "@jupyter-widgets/base",
          "model_name": "LayoutModel",
          "model_module_version": "1.2.0",
          "state": {
            "_model_module": "@jupyter-widgets/base",
            "_model_module_version": "1.2.0",
            "_model_name": "LayoutModel",
            "_view_count": null,
            "_view_module": "@jupyter-widgets/base",
            "_view_module_version": "1.2.0",
            "_view_name": "LayoutView",
            "align_content": null,
            "align_items": null,
            "align_self": null,
            "border": null,
            "bottom": null,
            "display": null,
            "flex": null,
            "flex_flow": null,
            "grid_area": null,
            "grid_auto_columns": null,
            "grid_auto_flow": null,
            "grid_auto_rows": null,
            "grid_column": null,
            "grid_gap": null,
            "grid_row": null,
            "grid_template_areas": null,
            "grid_template_columns": null,
            "grid_template_rows": null,
            "height": null,
            "justify_content": null,
            "justify_items": null,
            "left": null,
            "margin": null,
            "max_height": null,
            "max_width": null,
            "min_height": null,
            "min_width": null,
            "object_fit": null,
            "object_position": null,
            "order": null,
            "overflow": null,
            "overflow_x": null,
            "overflow_y": null,
            "padding": null,
            "right": null,
            "top": null,
            "visibility": null,
            "width": null
          }
        },
        "e82f9adb3bd44dfaa75b1dd0570c83fb": {
          "model_module": "@jupyter-widgets/base",
          "model_name": "LayoutModel",
          "model_module_version": "1.2.0",
          "state": {
            "_model_module": "@jupyter-widgets/base",
            "_model_module_version": "1.2.0",
            "_model_name": "LayoutModel",
            "_view_count": null,
            "_view_module": "@jupyter-widgets/base",
            "_view_module_version": "1.2.0",
            "_view_name": "LayoutView",
            "align_content": null,
            "align_items": null,
            "align_self": null,
            "border": null,
            "bottom": null,
            "display": null,
            "flex": null,
            "flex_flow": null,
            "grid_area": null,
            "grid_auto_columns": null,
            "grid_auto_flow": null,
            "grid_auto_rows": null,
            "grid_column": null,
            "grid_gap": null,
            "grid_row": null,
            "grid_template_areas": null,
            "grid_template_columns": null,
            "grid_template_rows": null,
            "height": null,
            "justify_content": null,
            "justify_items": null,
            "left": null,
            "margin": null,
            "max_height": null,
            "max_width": null,
            "min_height": null,
            "min_width": null,
            "object_fit": null,
            "object_position": null,
            "order": null,
            "overflow": null,
            "overflow_x": null,
            "overflow_y": null,
            "padding": null,
            "right": null,
            "top": null,
            "visibility": null,
            "width": null
          }
        },
        "7115af1f1d4340e18e0bf0681a48ae5d": {
          "model_module": "@jupyter-widgets/controls",
          "model_name": "ProgressStyleModel",
          "model_module_version": "1.5.0",
          "state": {
            "_model_module": "@jupyter-widgets/controls",
            "_model_module_version": "1.5.0",
            "_model_name": "ProgressStyleModel",
            "_view_count": null,
            "_view_module": "@jupyter-widgets/base",
            "_view_module_version": "1.2.0",
            "_view_name": "StyleView",
            "bar_color": null,
            "description_width": "initial"
          }
        },
        "832b2de68c9e4e4c86ca8d9c0e62d85b": {
          "model_module": "@jupyter-widgets/base",
          "model_name": "LayoutModel",
          "model_module_version": "1.2.0",
          "state": {
            "_model_module": "@jupyter-widgets/base",
            "_model_module_version": "1.2.0",
            "_model_name": "LayoutModel",
            "_view_count": null,
            "_view_module": "@jupyter-widgets/base",
            "_view_module_version": "1.2.0",
            "_view_name": "LayoutView",
            "align_content": null,
            "align_items": null,
            "align_self": null,
            "border": null,
            "bottom": null,
            "display": null,
            "flex": null,
            "flex_flow": null,
            "grid_area": null,
            "grid_auto_columns": null,
            "grid_auto_flow": null,
            "grid_auto_rows": null,
            "grid_column": null,
            "grid_gap": null,
            "grid_row": null,
            "grid_template_areas": null,
            "grid_template_columns": null,
            "grid_template_rows": null,
            "height": null,
            "justify_content": null,
            "justify_items": null,
            "left": null,
            "margin": null,
            "max_height": null,
            "max_width": null,
            "min_height": null,
            "min_width": null,
            "object_fit": null,
            "object_position": null,
            "order": null,
            "overflow": null,
            "overflow_x": null,
            "overflow_y": null,
            "padding": null,
            "right": null,
            "top": null,
            "visibility": null,
            "width": null
          }
        },
        "dd30940137694053b8cd949201edc3a5": {
          "model_module": "@jupyter-widgets/controls",
          "model_name": "DescriptionStyleModel",
          "model_module_version": "1.5.0",
          "state": {
            "_model_module": "@jupyter-widgets/controls",
            "_model_module_version": "1.5.0",
            "_model_name": "DescriptionStyleModel",
            "_view_count": null,
            "_view_module": "@jupyter-widgets/base",
            "_view_module_version": "1.2.0",
            "_view_name": "StyleView",
            "description_width": ""
          }
        },
        "adf2c9453af04e91bf7976a5fe5ae9ce": {
          "model_module": "@jupyter-widgets/controls",
          "model_name": "HBoxModel",
          "model_module_version": "1.5.0",
          "state": {
            "_dom_classes": [],
            "_model_module": "@jupyter-widgets/controls",
            "_model_module_version": "1.5.0",
            "_model_name": "HBoxModel",
            "_view_count": null,
            "_view_module": "@jupyter-widgets/controls",
            "_view_module_version": "1.5.0",
            "_view_name": "HBoxView",
            "box_style": "",
            "children": [
              "IPY_MODEL_639ba1e544454c04857d013caab0e3af",
              "IPY_MODEL_1ccad87bf3ac42d2a0d5e27786fb17ce"
            ],
            "layout": "IPY_MODEL_42beb7951fc746479608466b7a8ff53a"
          }
        },
        "639ba1e544454c04857d013caab0e3af": {
          "model_module": "@jupyter-widgets/controls",
          "model_name": "FloatProgressModel",
          "model_module_version": "1.5.0",
          "state": {
            "_dom_classes": [],
            "_model_module": "@jupyter-widgets/controls",
            "_model_module_version": "1.5.0",
            "_model_name": "FloatProgressModel",
            "_view_count": null,
            "_view_module": "@jupyter-widgets/controls",
            "_view_module_version": "1.5.0",
            "_view_name": "ProgressView",
            "bar_style": "success",
            "description": "Valid loss: 0.2916, Train loss: 0.2607: 100%",
            "description_tooltip": null,
            "layout": "IPY_MODEL_249fae7eb67b4ce7b95e95da43dedd08",
            "max": 1,
            "min": 0,
            "orientation": "horizontal",
            "style": "IPY_MODEL_e09892e7193e432eb8bb45535ee1dce3",
            "value": 1
          }
        },
        "1ccad87bf3ac42d2a0d5e27786fb17ce": {
          "model_module": "@jupyter-widgets/controls",
          "model_name": "HTMLModel",
          "model_module_version": "1.5.0",
          "state": {
            "_dom_classes": [],
            "_model_module": "@jupyter-widgets/controls",
            "_model_module_version": "1.5.0",
            "_model_name": "HTMLModel",
            "_view_count": null,
            "_view_module": "@jupyter-widgets/controls",
            "_view_module_version": "1.5.0",
            "_view_name": "HTMLView",
            "description": "",
            "description_tooltip": null,
            "layout": "IPY_MODEL_f4e5104ccebf489783943da2ef0e73c7",
            "placeholder": "​",
            "style": "IPY_MODEL_822195d89cd64adf8f6d062a2eb26318",
            "value": " 1/1 [02:48&lt;00:00, 168.45s/it]"
          }
        },
        "42beb7951fc746479608466b7a8ff53a": {
          "model_module": "@jupyter-widgets/base",
          "model_name": "LayoutModel",
          "model_module_version": "1.2.0",
          "state": {
            "_model_module": "@jupyter-widgets/base",
            "_model_module_version": "1.2.0",
            "_model_name": "LayoutModel",
            "_view_count": null,
            "_view_module": "@jupyter-widgets/base",
            "_view_module_version": "1.2.0",
            "_view_name": "LayoutView",
            "align_content": null,
            "align_items": null,
            "align_self": null,
            "border": null,
            "bottom": null,
            "display": null,
            "flex": null,
            "flex_flow": null,
            "grid_area": null,
            "grid_auto_columns": null,
            "grid_auto_flow": null,
            "grid_auto_rows": null,
            "grid_column": null,
            "grid_gap": null,
            "grid_row": null,
            "grid_template_areas": null,
            "grid_template_columns": null,
            "grid_template_rows": null,
            "height": null,
            "justify_content": null,
            "justify_items": null,
            "left": null,
            "margin": null,
            "max_height": null,
            "max_width": null,
            "min_height": null,
            "min_width": null,
            "object_fit": null,
            "object_position": null,
            "order": null,
            "overflow": null,
            "overflow_x": null,
            "overflow_y": null,
            "padding": null,
            "right": null,
            "top": null,
            "visibility": null,
            "width": null
          }
        },
        "249fae7eb67b4ce7b95e95da43dedd08": {
          "model_module": "@jupyter-widgets/base",
          "model_name": "LayoutModel",
          "model_module_version": "1.2.0",
          "state": {
            "_model_module": "@jupyter-widgets/base",
            "_model_module_version": "1.2.0",
            "_model_name": "LayoutModel",
            "_view_count": null,
            "_view_module": "@jupyter-widgets/base",
            "_view_module_version": "1.2.0",
            "_view_name": "LayoutView",
            "align_content": null,
            "align_items": null,
            "align_self": null,
            "border": null,
            "bottom": null,
            "display": null,
            "flex": null,
            "flex_flow": null,
            "grid_area": null,
            "grid_auto_columns": null,
            "grid_auto_flow": null,
            "grid_auto_rows": null,
            "grid_column": null,
            "grid_gap": null,
            "grid_row": null,
            "grid_template_areas": null,
            "grid_template_columns": null,
            "grid_template_rows": null,
            "height": null,
            "justify_content": null,
            "justify_items": null,
            "left": null,
            "margin": null,
            "max_height": null,
            "max_width": null,
            "min_height": null,
            "min_width": null,
            "object_fit": null,
            "object_position": null,
            "order": null,
            "overflow": null,
            "overflow_x": null,
            "overflow_y": null,
            "padding": null,
            "right": null,
            "top": null,
            "visibility": null,
            "width": null
          }
        },
        "e09892e7193e432eb8bb45535ee1dce3": {
          "model_module": "@jupyter-widgets/controls",
          "model_name": "ProgressStyleModel",
          "model_module_version": "1.5.0",
          "state": {
            "_model_module": "@jupyter-widgets/controls",
            "_model_module_version": "1.5.0",
            "_model_name": "ProgressStyleModel",
            "_view_count": null,
            "_view_module": "@jupyter-widgets/base",
            "_view_module_version": "1.2.0",
            "_view_name": "StyleView",
            "bar_color": null,
            "description_width": "initial"
          }
        },
        "f4e5104ccebf489783943da2ef0e73c7": {
          "model_module": "@jupyter-widgets/base",
          "model_name": "LayoutModel",
          "model_module_version": "1.2.0",
          "state": {
            "_model_module": "@jupyter-widgets/base",
            "_model_module_version": "1.2.0",
            "_model_name": "LayoutModel",
            "_view_count": null,
            "_view_module": "@jupyter-widgets/base",
            "_view_module_version": "1.2.0",
            "_view_name": "LayoutView",
            "align_content": null,
            "align_items": null,
            "align_self": null,
            "border": null,
            "bottom": null,
            "display": null,
            "flex": null,
            "flex_flow": null,
            "grid_area": null,
            "grid_auto_columns": null,
            "grid_auto_flow": null,
            "grid_auto_rows": null,
            "grid_column": null,
            "grid_gap": null,
            "grid_row": null,
            "grid_template_areas": null,
            "grid_template_columns": null,
            "grid_template_rows": null,
            "height": null,
            "justify_content": null,
            "justify_items": null,
            "left": null,
            "margin": null,
            "max_height": null,
            "max_width": null,
            "min_height": null,
            "min_width": null,
            "object_fit": null,
            "object_position": null,
            "order": null,
            "overflow": null,
            "overflow_x": null,
            "overflow_y": null,
            "padding": null,
            "right": null,
            "top": null,
            "visibility": null,
            "width": null
          }
        },
        "822195d89cd64adf8f6d062a2eb26318": {
          "model_module": "@jupyter-widgets/controls",
          "model_name": "DescriptionStyleModel",
          "model_module_version": "1.5.0",
          "state": {
            "_model_module": "@jupyter-widgets/controls",
            "_model_module_version": "1.5.0",
            "_model_name": "DescriptionStyleModel",
            "_view_count": null,
            "_view_module": "@jupyter-widgets/base",
            "_view_module_version": "1.2.0",
            "_view_name": "StyleView",
            "description_width": ""
          }
        },
        "a15587fb803b4e4ab06649ecf9b3df0c": {
          "model_module": "@jupyter-widgets/controls",
          "model_name": "HBoxModel",
          "model_module_version": "1.5.0",
          "state": {
            "_dom_classes": [],
            "_model_module": "@jupyter-widgets/controls",
            "_model_module_version": "1.5.0",
            "_model_name": "HBoxModel",
            "_view_count": null,
            "_view_module": "@jupyter-widgets/controls",
            "_view_module_version": "1.5.0",
            "_view_name": "HBoxView",
            "box_style": "",
            "children": [
              "IPY_MODEL_7abd2ee9dd7a4af7a38e19a26364cef4",
              "IPY_MODEL_1ef48d8fbff54a6fb7f32a223a106ac7"
            ],
            "layout": "IPY_MODEL_4ec9f7f2dd894168b49a781426106980"
          }
        },
        "7abd2ee9dd7a4af7a38e19a26364cef4": {
          "model_module": "@jupyter-widgets/controls",
          "model_name": "FloatProgressModel",
          "model_module_version": "1.5.0",
          "state": {
            "_dom_classes": [],
            "_model_module": "@jupyter-widgets/controls",
            "_model_module_version": "1.5.0",
            "_model_name": "FloatProgressModel",
            "_view_count": null,
            "_view_module": "@jupyter-widgets/controls",
            "_view_module_version": "1.5.0",
            "_view_name": "ProgressView",
            "bar_style": "success",
            "description": "   Train loss: 0.2607899951606245: 100%",
            "description_tooltip": null,
            "layout": "IPY_MODEL_f08ad9eac2cd46a0889c1077232bea3b",
            "max": 662,
            "min": 0,
            "orientation": "horizontal",
            "style": "IPY_MODEL_e82bca38dc784034a7dade83202e5737",
            "value": 662
          }
        },
        "1ef48d8fbff54a6fb7f32a223a106ac7": {
          "model_module": "@jupyter-widgets/controls",
          "model_name": "HTMLModel",
          "model_module_version": "1.5.0",
          "state": {
            "_dom_classes": [],
            "_model_module": "@jupyter-widgets/controls",
            "_model_module_version": "1.5.0",
            "_model_name": "HTMLModel",
            "_view_count": null,
            "_view_module": "@jupyter-widgets/controls",
            "_view_module_version": "1.5.0",
            "_view_name": "HTMLView",
            "description": "",
            "description_tooltip": null,
            "layout": "IPY_MODEL_a120497114434d29a2aa1e29d114166a",
            "placeholder": "​",
            "style": "IPY_MODEL_f778e85eab654733ad7e65389c2305d0",
            "value": " 662/662 [02:48&lt;00:00,  3.93it/s]"
          }
        },
        "4ec9f7f2dd894168b49a781426106980": {
          "model_module": "@jupyter-widgets/base",
          "model_name": "LayoutModel",
          "model_module_version": "1.2.0",
          "state": {
            "_model_module": "@jupyter-widgets/base",
            "_model_module_version": "1.2.0",
            "_model_name": "LayoutModel",
            "_view_count": null,
            "_view_module": "@jupyter-widgets/base",
            "_view_module_version": "1.2.0",
            "_view_name": "LayoutView",
            "align_content": null,
            "align_items": null,
            "align_self": null,
            "border": null,
            "bottom": null,
            "display": null,
            "flex": null,
            "flex_flow": null,
            "grid_area": null,
            "grid_auto_columns": null,
            "grid_auto_flow": null,
            "grid_auto_rows": null,
            "grid_column": null,
            "grid_gap": null,
            "grid_row": null,
            "grid_template_areas": null,
            "grid_template_columns": null,
            "grid_template_rows": null,
            "height": null,
            "justify_content": null,
            "justify_items": null,
            "left": null,
            "margin": null,
            "max_height": null,
            "max_width": null,
            "min_height": null,
            "min_width": null,
            "object_fit": null,
            "object_position": null,
            "order": null,
            "overflow": null,
            "overflow_x": null,
            "overflow_y": null,
            "padding": null,
            "right": null,
            "top": null,
            "visibility": null,
            "width": null
          }
        },
        "f08ad9eac2cd46a0889c1077232bea3b": {
          "model_module": "@jupyter-widgets/base",
          "model_name": "LayoutModel",
          "model_module_version": "1.2.0",
          "state": {
            "_model_module": "@jupyter-widgets/base",
            "_model_module_version": "1.2.0",
            "_model_name": "LayoutModel",
            "_view_count": null,
            "_view_module": "@jupyter-widgets/base",
            "_view_module_version": "1.2.0",
            "_view_name": "LayoutView",
            "align_content": null,
            "align_items": null,
            "align_self": null,
            "border": null,
            "bottom": null,
            "display": null,
            "flex": null,
            "flex_flow": null,
            "grid_area": null,
            "grid_auto_columns": null,
            "grid_auto_flow": null,
            "grid_auto_rows": null,
            "grid_column": null,
            "grid_gap": null,
            "grid_row": null,
            "grid_template_areas": null,
            "grid_template_columns": null,
            "grid_template_rows": null,
            "height": null,
            "justify_content": null,
            "justify_items": null,
            "left": null,
            "margin": null,
            "max_height": null,
            "max_width": null,
            "min_height": null,
            "min_width": null,
            "object_fit": null,
            "object_position": null,
            "order": null,
            "overflow": null,
            "overflow_x": null,
            "overflow_y": null,
            "padding": null,
            "right": null,
            "top": null,
            "visibility": null,
            "width": null
          }
        },
        "e82bca38dc784034a7dade83202e5737": {
          "model_module": "@jupyter-widgets/controls",
          "model_name": "ProgressStyleModel",
          "model_module_version": "1.5.0",
          "state": {
            "_model_module": "@jupyter-widgets/controls",
            "_model_module_version": "1.5.0",
            "_model_name": "ProgressStyleModel",
            "_view_count": null,
            "_view_module": "@jupyter-widgets/base",
            "_view_module_version": "1.2.0",
            "_view_name": "StyleView",
            "bar_color": null,
            "description_width": "initial"
          }
        },
        "a120497114434d29a2aa1e29d114166a": {
          "model_module": "@jupyter-widgets/base",
          "model_name": "LayoutModel",
          "model_module_version": "1.2.0",
          "state": {
            "_model_module": "@jupyter-widgets/base",
            "_model_module_version": "1.2.0",
            "_model_name": "LayoutModel",
            "_view_count": null,
            "_view_module": "@jupyter-widgets/base",
            "_view_module_version": "1.2.0",
            "_view_name": "LayoutView",
            "align_content": null,
            "align_items": null,
            "align_self": null,
            "border": null,
            "bottom": null,
            "display": null,
            "flex": null,
            "flex_flow": null,
            "grid_area": null,
            "grid_auto_columns": null,
            "grid_auto_flow": null,
            "grid_auto_rows": null,
            "grid_column": null,
            "grid_gap": null,
            "grid_row": null,
            "grid_template_areas": null,
            "grid_template_columns": null,
            "grid_template_rows": null,
            "height": null,
            "justify_content": null,
            "justify_items": null,
            "left": null,
            "margin": null,
            "max_height": null,
            "max_width": null,
            "min_height": null,
            "min_width": null,
            "object_fit": null,
            "object_position": null,
            "order": null,
            "overflow": null,
            "overflow_x": null,
            "overflow_y": null,
            "padding": null,
            "right": null,
            "top": null,
            "visibility": null,
            "width": null
          }
        },
        "f778e85eab654733ad7e65389c2305d0": {
          "model_module": "@jupyter-widgets/controls",
          "model_name": "DescriptionStyleModel",
          "model_module_version": "1.5.0",
          "state": {
            "_model_module": "@jupyter-widgets/controls",
            "_model_module_version": "1.5.0",
            "_model_name": "DescriptionStyleModel",
            "_view_count": null,
            "_view_module": "@jupyter-widgets/base",
            "_view_module_version": "1.2.0",
            "_view_name": "StyleView",
            "description_width": ""
          }
        },
        "3a7c241537aa4f4cbdde5c342da88c2f": {
          "model_module": "@jupyter-widgets/controls",
          "model_name": "HBoxModel",
          "model_module_version": "1.5.0",
          "state": {
            "_dom_classes": [],
            "_model_module": "@jupyter-widgets/controls",
            "_model_module_version": "1.5.0",
            "_model_name": "HBoxModel",
            "_view_count": null,
            "_view_module": "@jupyter-widgets/controls",
            "_view_module_version": "1.5.0",
            "_view_name": "HBoxView",
            "box_style": "",
            "children": [
              "IPY_MODEL_52d2969de307433ba3b0427955007978",
              "IPY_MODEL_4d630d2e58fe48d89be2aaf13d6642a1"
            ],
            "layout": "IPY_MODEL_e756145f64aa45da91d005746019497b"
          }
        },
        "52d2969de307433ba3b0427955007978": {
          "model_module": "@jupyter-widgets/controls",
          "model_name": "FloatProgressModel",
          "model_module_version": "1.5.0",
          "state": {
            "_dom_classes": [],
            "_model_module": "@jupyter-widgets/controls",
            "_model_module_version": "1.5.0",
            "_model_name": "FloatProgressModel",
            "_view_count": null,
            "_view_module": "@jupyter-widgets/controls",
            "_view_module_version": "1.5.0",
            "_view_name": "ProgressView",
            "bar_style": "success",
            "description": "Valid loss: 0.2447, Train loss: 0.2399: 100%",
            "description_tooltip": null,
            "layout": "IPY_MODEL_64c6198c0a8c4ea8a3540d40775f5d0c",
            "max": 1,
            "min": 0,
            "orientation": "horizontal",
            "style": "IPY_MODEL_75c07b63c1024e9b96c7d886478c9649",
            "value": 1
          }
        },
        "4d630d2e58fe48d89be2aaf13d6642a1": {
          "model_module": "@jupyter-widgets/controls",
          "model_name": "HTMLModel",
          "model_module_version": "1.5.0",
          "state": {
            "_dom_classes": [],
            "_model_module": "@jupyter-widgets/controls",
            "_model_module_version": "1.5.0",
            "_model_name": "HTMLModel",
            "_view_count": null,
            "_view_module": "@jupyter-widgets/controls",
            "_view_module_version": "1.5.0",
            "_view_name": "HTMLView",
            "description": "",
            "description_tooltip": null,
            "layout": "IPY_MODEL_b36fed6a537e45e3bc16970183e77450",
            "placeholder": "​",
            "style": "IPY_MODEL_a543be4ff0da423385ab5edf31c1c9a5",
            "value": " 1/1 [04:01&lt;00:00, 241.73s/it]"
          }
        },
        "e756145f64aa45da91d005746019497b": {
          "model_module": "@jupyter-widgets/base",
          "model_name": "LayoutModel",
          "model_module_version": "1.2.0",
          "state": {
            "_model_module": "@jupyter-widgets/base",
            "_model_module_version": "1.2.0",
            "_model_name": "LayoutModel",
            "_view_count": null,
            "_view_module": "@jupyter-widgets/base",
            "_view_module_version": "1.2.0",
            "_view_name": "LayoutView",
            "align_content": null,
            "align_items": null,
            "align_self": null,
            "border": null,
            "bottom": null,
            "display": null,
            "flex": null,
            "flex_flow": null,
            "grid_area": null,
            "grid_auto_columns": null,
            "grid_auto_flow": null,
            "grid_auto_rows": null,
            "grid_column": null,
            "grid_gap": null,
            "grid_row": null,
            "grid_template_areas": null,
            "grid_template_columns": null,
            "grid_template_rows": null,
            "height": null,
            "justify_content": null,
            "justify_items": null,
            "left": null,
            "margin": null,
            "max_height": null,
            "max_width": null,
            "min_height": null,
            "min_width": null,
            "object_fit": null,
            "object_position": null,
            "order": null,
            "overflow": null,
            "overflow_x": null,
            "overflow_y": null,
            "padding": null,
            "right": null,
            "top": null,
            "visibility": null,
            "width": null
          }
        },
        "64c6198c0a8c4ea8a3540d40775f5d0c": {
          "model_module": "@jupyter-widgets/base",
          "model_name": "LayoutModel",
          "model_module_version": "1.2.0",
          "state": {
            "_model_module": "@jupyter-widgets/base",
            "_model_module_version": "1.2.0",
            "_model_name": "LayoutModel",
            "_view_count": null,
            "_view_module": "@jupyter-widgets/base",
            "_view_module_version": "1.2.0",
            "_view_name": "LayoutView",
            "align_content": null,
            "align_items": null,
            "align_self": null,
            "border": null,
            "bottom": null,
            "display": null,
            "flex": null,
            "flex_flow": null,
            "grid_area": null,
            "grid_auto_columns": null,
            "grid_auto_flow": null,
            "grid_auto_rows": null,
            "grid_column": null,
            "grid_gap": null,
            "grid_row": null,
            "grid_template_areas": null,
            "grid_template_columns": null,
            "grid_template_rows": null,
            "height": null,
            "justify_content": null,
            "justify_items": null,
            "left": null,
            "margin": null,
            "max_height": null,
            "max_width": null,
            "min_height": null,
            "min_width": null,
            "object_fit": null,
            "object_position": null,
            "order": null,
            "overflow": null,
            "overflow_x": null,
            "overflow_y": null,
            "padding": null,
            "right": null,
            "top": null,
            "visibility": null,
            "width": null
          }
        },
        "75c07b63c1024e9b96c7d886478c9649": {
          "model_module": "@jupyter-widgets/controls",
          "model_name": "ProgressStyleModel",
          "model_module_version": "1.5.0",
          "state": {
            "_model_module": "@jupyter-widgets/controls",
            "_model_module_version": "1.5.0",
            "_model_name": "ProgressStyleModel",
            "_view_count": null,
            "_view_module": "@jupyter-widgets/base",
            "_view_module_version": "1.2.0",
            "_view_name": "StyleView",
            "bar_color": null,
            "description_width": "initial"
          }
        },
        "b36fed6a537e45e3bc16970183e77450": {
          "model_module": "@jupyter-widgets/base",
          "model_name": "LayoutModel",
          "model_module_version": "1.2.0",
          "state": {
            "_model_module": "@jupyter-widgets/base",
            "_model_module_version": "1.2.0",
            "_model_name": "LayoutModel",
            "_view_count": null,
            "_view_module": "@jupyter-widgets/base",
            "_view_module_version": "1.2.0",
            "_view_name": "LayoutView",
            "align_content": null,
            "align_items": null,
            "align_self": null,
            "border": null,
            "bottom": null,
            "display": null,
            "flex": null,
            "flex_flow": null,
            "grid_area": null,
            "grid_auto_columns": null,
            "grid_auto_flow": null,
            "grid_auto_rows": null,
            "grid_column": null,
            "grid_gap": null,
            "grid_row": null,
            "grid_template_areas": null,
            "grid_template_columns": null,
            "grid_template_rows": null,
            "height": null,
            "justify_content": null,
            "justify_items": null,
            "left": null,
            "margin": null,
            "max_height": null,
            "max_width": null,
            "min_height": null,
            "min_width": null,
            "object_fit": null,
            "object_position": null,
            "order": null,
            "overflow": null,
            "overflow_x": null,
            "overflow_y": null,
            "padding": null,
            "right": null,
            "top": null,
            "visibility": null,
            "width": null
          }
        },
        "a543be4ff0da423385ab5edf31c1c9a5": {
          "model_module": "@jupyter-widgets/controls",
          "model_name": "DescriptionStyleModel",
          "model_module_version": "1.5.0",
          "state": {
            "_model_module": "@jupyter-widgets/controls",
            "_model_module_version": "1.5.0",
            "_model_name": "DescriptionStyleModel",
            "_view_count": null,
            "_view_module": "@jupyter-widgets/base",
            "_view_module_version": "1.2.0",
            "_view_name": "StyleView",
            "description_width": ""
          }
        },
        "eaaee940f0dc4220940bf00b0e68d3c9": {
          "model_module": "@jupyter-widgets/controls",
          "model_name": "HBoxModel",
          "model_module_version": "1.5.0",
          "state": {
            "_dom_classes": [],
            "_model_module": "@jupyter-widgets/controls",
            "_model_module_version": "1.5.0",
            "_model_name": "HBoxModel",
            "_view_count": null,
            "_view_module": "@jupyter-widgets/controls",
            "_view_module_version": "1.5.0",
            "_view_name": "HBoxView",
            "box_style": "",
            "children": [
              "IPY_MODEL_47151f8da87e48c69cb9e5c51e1f56c3",
              "IPY_MODEL_fecc0adf79974c8abeb5e3bd5f138435"
            ],
            "layout": "IPY_MODEL_387815ecc3ca4c51a37f13785069a105"
          }
        },
        "47151f8da87e48c69cb9e5c51e1f56c3": {
          "model_module": "@jupyter-widgets/controls",
          "model_name": "FloatProgressModel",
          "model_module_version": "1.5.0",
          "state": {
            "_dom_classes": [],
            "_model_module": "@jupyter-widgets/controls",
            "_model_module_version": "1.5.0",
            "_model_name": "FloatProgressModel",
            "_view_count": null,
            "_view_module": "@jupyter-widgets/controls",
            "_view_module_version": "1.5.0",
            "_view_name": "ProgressView",
            "bar_style": "success",
            "description": "   Train loss: 0.24010638946191085: 100%",
            "description_tooltip": null,
            "layout": "IPY_MODEL_9bfc3bbc6aae4906bf8afb589b2c68b2",
            "max": 662,
            "min": 0,
            "orientation": "horizontal",
            "style": "IPY_MODEL_d155ace7c85e4c21adceb158196fb60d",
            "value": 662
          }
        },
        "fecc0adf79974c8abeb5e3bd5f138435": {
          "model_module": "@jupyter-widgets/controls",
          "model_name": "HTMLModel",
          "model_module_version": "1.5.0",
          "state": {
            "_dom_classes": [],
            "_model_module": "@jupyter-widgets/controls",
            "_model_module_version": "1.5.0",
            "_model_name": "HTMLModel",
            "_view_count": null,
            "_view_module": "@jupyter-widgets/controls",
            "_view_module_version": "1.5.0",
            "_view_name": "HTMLView",
            "description": "",
            "description_tooltip": null,
            "layout": "IPY_MODEL_cff371ad33d14a889bbc161312c6e2c2",
            "placeholder": "​",
            "style": "IPY_MODEL_754c63baa7c543e499e1196127cf4aec",
            "value": " 662/662 [04:01&lt;00:00,  2.74it/s]"
          }
        },
        "387815ecc3ca4c51a37f13785069a105": {
          "model_module": "@jupyter-widgets/base",
          "model_name": "LayoutModel",
          "model_module_version": "1.2.0",
          "state": {
            "_model_module": "@jupyter-widgets/base",
            "_model_module_version": "1.2.0",
            "_model_name": "LayoutModel",
            "_view_count": null,
            "_view_module": "@jupyter-widgets/base",
            "_view_module_version": "1.2.0",
            "_view_name": "LayoutView",
            "align_content": null,
            "align_items": null,
            "align_self": null,
            "border": null,
            "bottom": null,
            "display": null,
            "flex": null,
            "flex_flow": null,
            "grid_area": null,
            "grid_auto_columns": null,
            "grid_auto_flow": null,
            "grid_auto_rows": null,
            "grid_column": null,
            "grid_gap": null,
            "grid_row": null,
            "grid_template_areas": null,
            "grid_template_columns": null,
            "grid_template_rows": null,
            "height": null,
            "justify_content": null,
            "justify_items": null,
            "left": null,
            "margin": null,
            "max_height": null,
            "max_width": null,
            "min_height": null,
            "min_width": null,
            "object_fit": null,
            "object_position": null,
            "order": null,
            "overflow": null,
            "overflow_x": null,
            "overflow_y": null,
            "padding": null,
            "right": null,
            "top": null,
            "visibility": null,
            "width": null
          }
        },
        "9bfc3bbc6aae4906bf8afb589b2c68b2": {
          "model_module": "@jupyter-widgets/base",
          "model_name": "LayoutModel",
          "model_module_version": "1.2.0",
          "state": {
            "_model_module": "@jupyter-widgets/base",
            "_model_module_version": "1.2.0",
            "_model_name": "LayoutModel",
            "_view_count": null,
            "_view_module": "@jupyter-widgets/base",
            "_view_module_version": "1.2.0",
            "_view_name": "LayoutView",
            "align_content": null,
            "align_items": null,
            "align_self": null,
            "border": null,
            "bottom": null,
            "display": null,
            "flex": null,
            "flex_flow": null,
            "grid_area": null,
            "grid_auto_columns": null,
            "grid_auto_flow": null,
            "grid_auto_rows": null,
            "grid_column": null,
            "grid_gap": null,
            "grid_row": null,
            "grid_template_areas": null,
            "grid_template_columns": null,
            "grid_template_rows": null,
            "height": null,
            "justify_content": null,
            "justify_items": null,
            "left": null,
            "margin": null,
            "max_height": null,
            "max_width": null,
            "min_height": null,
            "min_width": null,
            "object_fit": null,
            "object_position": null,
            "order": null,
            "overflow": null,
            "overflow_x": null,
            "overflow_y": null,
            "padding": null,
            "right": null,
            "top": null,
            "visibility": null,
            "width": null
          }
        },
        "d155ace7c85e4c21adceb158196fb60d": {
          "model_module": "@jupyter-widgets/controls",
          "model_name": "ProgressStyleModel",
          "model_module_version": "1.5.0",
          "state": {
            "_model_module": "@jupyter-widgets/controls",
            "_model_module_version": "1.5.0",
            "_model_name": "ProgressStyleModel",
            "_view_count": null,
            "_view_module": "@jupyter-widgets/base",
            "_view_module_version": "1.2.0",
            "_view_name": "StyleView",
            "bar_color": null,
            "description_width": "initial"
          }
        },
        "cff371ad33d14a889bbc161312c6e2c2": {
          "model_module": "@jupyter-widgets/base",
          "model_name": "LayoutModel",
          "model_module_version": "1.2.0",
          "state": {
            "_model_module": "@jupyter-widgets/base",
            "_model_module_version": "1.2.0",
            "_model_name": "LayoutModel",
            "_view_count": null,
            "_view_module": "@jupyter-widgets/base",
            "_view_module_version": "1.2.0",
            "_view_name": "LayoutView",
            "align_content": null,
            "align_items": null,
            "align_self": null,
            "border": null,
            "bottom": null,
            "display": null,
            "flex": null,
            "flex_flow": null,
            "grid_area": null,
            "grid_auto_columns": null,
            "grid_auto_flow": null,
            "grid_auto_rows": null,
            "grid_column": null,
            "grid_gap": null,
            "grid_row": null,
            "grid_template_areas": null,
            "grid_template_columns": null,
            "grid_template_rows": null,
            "height": null,
            "justify_content": null,
            "justify_items": null,
            "left": null,
            "margin": null,
            "max_height": null,
            "max_width": null,
            "min_height": null,
            "min_width": null,
            "object_fit": null,
            "object_position": null,
            "order": null,
            "overflow": null,
            "overflow_x": null,
            "overflow_y": null,
            "padding": null,
            "right": null,
            "top": null,
            "visibility": null,
            "width": null
          }
        },
        "754c63baa7c543e499e1196127cf4aec": {
          "model_module": "@jupyter-widgets/controls",
          "model_name": "DescriptionStyleModel",
          "model_module_version": "1.5.0",
          "state": {
            "_model_module": "@jupyter-widgets/controls",
            "_model_module_version": "1.5.0",
            "_model_name": "DescriptionStyleModel",
            "_view_count": null,
            "_view_module": "@jupyter-widgets/base",
            "_view_module_version": "1.2.0",
            "_view_name": "StyleView",
            "description_width": ""
          }
        },
        "250e173356bb443b9948c9fb1dcdbca0": {
          "model_module": "@jupyter-widgets/controls",
          "model_name": "HBoxModel",
          "model_module_version": "1.5.0",
          "state": {
            "_dom_classes": [],
            "_model_module": "@jupyter-widgets/controls",
            "_model_module_version": "1.5.0",
            "_model_name": "HBoxModel",
            "_view_count": null,
            "_view_module": "@jupyter-widgets/controls",
            "_view_module_version": "1.5.0",
            "_view_name": "HBoxView",
            "box_style": "",
            "children": [
              "IPY_MODEL_aeac04142ad04094879cd99fabd80058",
              "IPY_MODEL_4ddeb760f0f34aa6a543026811f54033"
            ],
            "layout": "IPY_MODEL_7814ce1047374323b3473a60da77496f"
          }
        },
        "aeac04142ad04094879cd99fabd80058": {
          "model_module": "@jupyter-widgets/controls",
          "model_name": "FloatProgressModel",
          "model_module_version": "1.5.0",
          "state": {
            "_dom_classes": [],
            "_model_module": "@jupyter-widgets/controls",
            "_model_module_version": "1.5.0",
            "_model_name": "FloatProgressModel",
            "_view_count": null,
            "_view_module": "@jupyter-widgets/controls",
            "_view_module_version": "1.5.0",
            "_view_name": "ProgressView",
            "bar_style": "success",
            "description": "Valid loss: 0.2468, Train loss: 0.2185: 100%",
            "description_tooltip": null,
            "layout": "IPY_MODEL_b0d58bf5c0424d99be59e8a3b91d884f",
            "max": 1,
            "min": 0,
            "orientation": "horizontal",
            "style": "IPY_MODEL_c034c18c2c66415eb236243044f7e8c9",
            "value": 1
          }
        },
        "4ddeb760f0f34aa6a543026811f54033": {
          "model_module": "@jupyter-widgets/controls",
          "model_name": "HTMLModel",
          "model_module_version": "1.5.0",
          "state": {
            "_dom_classes": [],
            "_model_module": "@jupyter-widgets/controls",
            "_model_module_version": "1.5.0",
            "_model_name": "HTMLModel",
            "_view_count": null,
            "_view_module": "@jupyter-widgets/controls",
            "_view_module_version": "1.5.0",
            "_view_name": "HTMLView",
            "description": "",
            "description_tooltip": null,
            "layout": "IPY_MODEL_2d74b65df1074753abed2e2b94541aea",
            "placeholder": "​",
            "style": "IPY_MODEL_4332358cb3ad4fa89953fe2c9dd881dc",
            "value": " 1/1 [02:04&lt;00:00, 124.01s/it]"
          }
        },
        "7814ce1047374323b3473a60da77496f": {
          "model_module": "@jupyter-widgets/base",
          "model_name": "LayoutModel",
          "model_module_version": "1.2.0",
          "state": {
            "_model_module": "@jupyter-widgets/base",
            "_model_module_version": "1.2.0",
            "_model_name": "LayoutModel",
            "_view_count": null,
            "_view_module": "@jupyter-widgets/base",
            "_view_module_version": "1.2.0",
            "_view_name": "LayoutView",
            "align_content": null,
            "align_items": null,
            "align_self": null,
            "border": null,
            "bottom": null,
            "display": null,
            "flex": null,
            "flex_flow": null,
            "grid_area": null,
            "grid_auto_columns": null,
            "grid_auto_flow": null,
            "grid_auto_rows": null,
            "grid_column": null,
            "grid_gap": null,
            "grid_row": null,
            "grid_template_areas": null,
            "grid_template_columns": null,
            "grid_template_rows": null,
            "height": null,
            "justify_content": null,
            "justify_items": null,
            "left": null,
            "margin": null,
            "max_height": null,
            "max_width": null,
            "min_height": null,
            "min_width": null,
            "object_fit": null,
            "object_position": null,
            "order": null,
            "overflow": null,
            "overflow_x": null,
            "overflow_y": null,
            "padding": null,
            "right": null,
            "top": null,
            "visibility": null,
            "width": null
          }
        },
        "b0d58bf5c0424d99be59e8a3b91d884f": {
          "model_module": "@jupyter-widgets/base",
          "model_name": "LayoutModel",
          "model_module_version": "1.2.0",
          "state": {
            "_model_module": "@jupyter-widgets/base",
            "_model_module_version": "1.2.0",
            "_model_name": "LayoutModel",
            "_view_count": null,
            "_view_module": "@jupyter-widgets/base",
            "_view_module_version": "1.2.0",
            "_view_name": "LayoutView",
            "align_content": null,
            "align_items": null,
            "align_self": null,
            "border": null,
            "bottom": null,
            "display": null,
            "flex": null,
            "flex_flow": null,
            "grid_area": null,
            "grid_auto_columns": null,
            "grid_auto_flow": null,
            "grid_auto_rows": null,
            "grid_column": null,
            "grid_gap": null,
            "grid_row": null,
            "grid_template_areas": null,
            "grid_template_columns": null,
            "grid_template_rows": null,
            "height": null,
            "justify_content": null,
            "justify_items": null,
            "left": null,
            "margin": null,
            "max_height": null,
            "max_width": null,
            "min_height": null,
            "min_width": null,
            "object_fit": null,
            "object_position": null,
            "order": null,
            "overflow": null,
            "overflow_x": null,
            "overflow_y": null,
            "padding": null,
            "right": null,
            "top": null,
            "visibility": null,
            "width": null
          }
        },
        "c034c18c2c66415eb236243044f7e8c9": {
          "model_module": "@jupyter-widgets/controls",
          "model_name": "ProgressStyleModel",
          "model_module_version": "1.5.0",
          "state": {
            "_model_module": "@jupyter-widgets/controls",
            "_model_module_version": "1.5.0",
            "_model_name": "ProgressStyleModel",
            "_view_count": null,
            "_view_module": "@jupyter-widgets/base",
            "_view_module_version": "1.2.0",
            "_view_name": "StyleView",
            "bar_color": null,
            "description_width": "initial"
          }
        },
        "2d74b65df1074753abed2e2b94541aea": {
          "model_module": "@jupyter-widgets/base",
          "model_name": "LayoutModel",
          "model_module_version": "1.2.0",
          "state": {
            "_model_module": "@jupyter-widgets/base",
            "_model_module_version": "1.2.0",
            "_model_name": "LayoutModel",
            "_view_count": null,
            "_view_module": "@jupyter-widgets/base",
            "_view_module_version": "1.2.0",
            "_view_name": "LayoutView",
            "align_content": null,
            "align_items": null,
            "align_self": null,
            "border": null,
            "bottom": null,
            "display": null,
            "flex": null,
            "flex_flow": null,
            "grid_area": null,
            "grid_auto_columns": null,
            "grid_auto_flow": null,
            "grid_auto_rows": null,
            "grid_column": null,
            "grid_gap": null,
            "grid_row": null,
            "grid_template_areas": null,
            "grid_template_columns": null,
            "grid_template_rows": null,
            "height": null,
            "justify_content": null,
            "justify_items": null,
            "left": null,
            "margin": null,
            "max_height": null,
            "max_width": null,
            "min_height": null,
            "min_width": null,
            "object_fit": null,
            "object_position": null,
            "order": null,
            "overflow": null,
            "overflow_x": null,
            "overflow_y": null,
            "padding": null,
            "right": null,
            "top": null,
            "visibility": null,
            "width": null
          }
        },
        "4332358cb3ad4fa89953fe2c9dd881dc": {
          "model_module": "@jupyter-widgets/controls",
          "model_name": "DescriptionStyleModel",
          "model_module_version": "1.5.0",
          "state": {
            "_model_module": "@jupyter-widgets/controls",
            "_model_module_version": "1.5.0",
            "_model_name": "DescriptionStyleModel",
            "_view_count": null,
            "_view_module": "@jupyter-widgets/base",
            "_view_module_version": "1.2.0",
            "_view_name": "StyleView",
            "description_width": ""
          }
        },
        "dc4b84c8693c4dcea9e402e8d29b83f0": {
          "model_module": "@jupyter-widgets/controls",
          "model_name": "HBoxModel",
          "model_module_version": "1.5.0",
          "state": {
            "_dom_classes": [],
            "_model_module": "@jupyter-widgets/controls",
            "_model_module_version": "1.5.0",
            "_model_name": "HBoxModel",
            "_view_count": null,
            "_view_module": "@jupyter-widgets/controls",
            "_view_module_version": "1.5.0",
            "_view_name": "HBoxView",
            "box_style": "",
            "children": [
              "IPY_MODEL_4c5802b7f5e84d0b8bae80d6d7effcdd",
              "IPY_MODEL_b74b73ae7f624b3db5b20453b303f6e4"
            ],
            "layout": "IPY_MODEL_cee6ada823b84643a1442373feda1f9c"
          }
        },
        "4c5802b7f5e84d0b8bae80d6d7effcdd": {
          "model_module": "@jupyter-widgets/controls",
          "model_name": "FloatProgressModel",
          "model_module_version": "1.5.0",
          "state": {
            "_dom_classes": [],
            "_model_module": "@jupyter-widgets/controls",
            "_model_module_version": "1.5.0",
            "_model_name": "FloatProgressModel",
            "_view_count": null,
            "_view_module": "@jupyter-widgets/controls",
            "_view_module_version": "1.5.0",
            "_view_name": "ProgressView",
            "bar_style": "success",
            "description": "   Train loss: 0.21862418115640597: 100%",
            "description_tooltip": null,
            "layout": "IPY_MODEL_45f30efa583a451b8ff8397109c3d04f",
            "max": 662,
            "min": 0,
            "orientation": "horizontal",
            "style": "IPY_MODEL_ae019842e9f54d91886a6d9234e83472",
            "value": 662
          }
        },
        "b74b73ae7f624b3db5b20453b303f6e4": {
          "model_module": "@jupyter-widgets/controls",
          "model_name": "HTMLModel",
          "model_module_version": "1.5.0",
          "state": {
            "_dom_classes": [],
            "_model_module": "@jupyter-widgets/controls",
            "_model_module_version": "1.5.0",
            "_model_name": "HTMLModel",
            "_view_count": null,
            "_view_module": "@jupyter-widgets/controls",
            "_view_module_version": "1.5.0",
            "_view_name": "HTMLView",
            "description": "",
            "description_tooltip": null,
            "layout": "IPY_MODEL_3681c8045cb74310933d7f639eb21749",
            "placeholder": "​",
            "style": "IPY_MODEL_b3cab8f38b1d4e73940a63cfec0c4195",
            "value": " 662/662 [02:03&lt;00:00,  5.34it/s]"
          }
        },
        "cee6ada823b84643a1442373feda1f9c": {
          "model_module": "@jupyter-widgets/base",
          "model_name": "LayoutModel",
          "model_module_version": "1.2.0",
          "state": {
            "_model_module": "@jupyter-widgets/base",
            "_model_module_version": "1.2.0",
            "_model_name": "LayoutModel",
            "_view_count": null,
            "_view_module": "@jupyter-widgets/base",
            "_view_module_version": "1.2.0",
            "_view_name": "LayoutView",
            "align_content": null,
            "align_items": null,
            "align_self": null,
            "border": null,
            "bottom": null,
            "display": null,
            "flex": null,
            "flex_flow": null,
            "grid_area": null,
            "grid_auto_columns": null,
            "grid_auto_flow": null,
            "grid_auto_rows": null,
            "grid_column": null,
            "grid_gap": null,
            "grid_row": null,
            "grid_template_areas": null,
            "grid_template_columns": null,
            "grid_template_rows": null,
            "height": null,
            "justify_content": null,
            "justify_items": null,
            "left": null,
            "margin": null,
            "max_height": null,
            "max_width": null,
            "min_height": null,
            "min_width": null,
            "object_fit": null,
            "object_position": null,
            "order": null,
            "overflow": null,
            "overflow_x": null,
            "overflow_y": null,
            "padding": null,
            "right": null,
            "top": null,
            "visibility": null,
            "width": null
          }
        },
        "45f30efa583a451b8ff8397109c3d04f": {
          "model_module": "@jupyter-widgets/base",
          "model_name": "LayoutModel",
          "model_module_version": "1.2.0",
          "state": {
            "_model_module": "@jupyter-widgets/base",
            "_model_module_version": "1.2.0",
            "_model_name": "LayoutModel",
            "_view_count": null,
            "_view_module": "@jupyter-widgets/base",
            "_view_module_version": "1.2.0",
            "_view_name": "LayoutView",
            "align_content": null,
            "align_items": null,
            "align_self": null,
            "border": null,
            "bottom": null,
            "display": null,
            "flex": null,
            "flex_flow": null,
            "grid_area": null,
            "grid_auto_columns": null,
            "grid_auto_flow": null,
            "grid_auto_rows": null,
            "grid_column": null,
            "grid_gap": null,
            "grid_row": null,
            "grid_template_areas": null,
            "grid_template_columns": null,
            "grid_template_rows": null,
            "height": null,
            "justify_content": null,
            "justify_items": null,
            "left": null,
            "margin": null,
            "max_height": null,
            "max_width": null,
            "min_height": null,
            "min_width": null,
            "object_fit": null,
            "object_position": null,
            "order": null,
            "overflow": null,
            "overflow_x": null,
            "overflow_y": null,
            "padding": null,
            "right": null,
            "top": null,
            "visibility": null,
            "width": null
          }
        },
        "ae019842e9f54d91886a6d9234e83472": {
          "model_module": "@jupyter-widgets/controls",
          "model_name": "ProgressStyleModel",
          "model_module_version": "1.5.0",
          "state": {
            "_model_module": "@jupyter-widgets/controls",
            "_model_module_version": "1.5.0",
            "_model_name": "ProgressStyleModel",
            "_view_count": null,
            "_view_module": "@jupyter-widgets/base",
            "_view_module_version": "1.2.0",
            "_view_name": "StyleView",
            "bar_color": null,
            "description_width": "initial"
          }
        },
        "3681c8045cb74310933d7f639eb21749": {
          "model_module": "@jupyter-widgets/base",
          "model_name": "LayoutModel",
          "model_module_version": "1.2.0",
          "state": {
            "_model_module": "@jupyter-widgets/base",
            "_model_module_version": "1.2.0",
            "_model_name": "LayoutModel",
            "_view_count": null,
            "_view_module": "@jupyter-widgets/base",
            "_view_module_version": "1.2.0",
            "_view_name": "LayoutView",
            "align_content": null,
            "align_items": null,
            "align_self": null,
            "border": null,
            "bottom": null,
            "display": null,
            "flex": null,
            "flex_flow": null,
            "grid_area": null,
            "grid_auto_columns": null,
            "grid_auto_flow": null,
            "grid_auto_rows": null,
            "grid_column": null,
            "grid_gap": null,
            "grid_row": null,
            "grid_template_areas": null,
            "grid_template_columns": null,
            "grid_template_rows": null,
            "height": null,
            "justify_content": null,
            "justify_items": null,
            "left": null,
            "margin": null,
            "max_height": null,
            "max_width": null,
            "min_height": null,
            "min_width": null,
            "object_fit": null,
            "object_position": null,
            "order": null,
            "overflow": null,
            "overflow_x": null,
            "overflow_y": null,
            "padding": null,
            "right": null,
            "top": null,
            "visibility": null,
            "width": null
          }
        },
        "b3cab8f38b1d4e73940a63cfec0c4195": {
          "model_module": "@jupyter-widgets/controls",
          "model_name": "DescriptionStyleModel",
          "model_module_version": "1.5.0",
          "state": {
            "_model_module": "@jupyter-widgets/controls",
            "_model_module_version": "1.5.0",
            "_model_name": "DescriptionStyleModel",
            "_view_count": null,
            "_view_module": "@jupyter-widgets/base",
            "_view_module_version": "1.2.0",
            "_view_name": "StyleView",
            "description_width": ""
          }
        },
        "c46154735f224d0fab8aea6b0b948656": {
          "model_module": "@jupyter-widgets/controls",
          "model_name": "HBoxModel",
          "model_module_version": "1.5.0",
          "state": {
            "_dom_classes": [],
            "_model_module": "@jupyter-widgets/controls",
            "_model_module_version": "1.5.0",
            "_model_name": "HBoxModel",
            "_view_count": null,
            "_view_module": "@jupyter-widgets/controls",
            "_view_module_version": "1.5.0",
            "_view_name": "HBoxView",
            "box_style": "",
            "children": [
              "IPY_MODEL_5b1567667cfa4804922af2e8fa3fefa3",
              "IPY_MODEL_dc8dbb8f6b7541529cc2062b200d19cd"
            ],
            "layout": "IPY_MODEL_20ffc018ffaf49e8b189b1c5af853769"
          }
        },
        "5b1567667cfa4804922af2e8fa3fefa3": {
          "model_module": "@jupyter-widgets/controls",
          "model_name": "FloatProgressModel",
          "model_module_version": "1.5.0",
          "state": {
            "_dom_classes": [],
            "_model_module": "@jupyter-widgets/controls",
            "_model_module_version": "1.5.0",
            "_model_name": "FloatProgressModel",
            "_view_count": null,
            "_view_module": "@jupyter-widgets/controls",
            "_view_module_version": "1.5.0",
            "_view_name": "ProgressView",
            "bar_style": "success",
            "description": "Valid loss: 0.2418, Train loss: 0.2134: 100%",
            "description_tooltip": null,
            "layout": "IPY_MODEL_c79bc3d41d824bcba1947464392ae48c",
            "max": 1,
            "min": 0,
            "orientation": "horizontal",
            "style": "IPY_MODEL_4e291824b663409facfa300224f0cc0d",
            "value": 1
          }
        },
        "dc8dbb8f6b7541529cc2062b200d19cd": {
          "model_module": "@jupyter-widgets/controls",
          "model_name": "HTMLModel",
          "model_module_version": "1.5.0",
          "state": {
            "_dom_classes": [],
            "_model_module": "@jupyter-widgets/controls",
            "_model_module_version": "1.5.0",
            "_model_name": "HTMLModel",
            "_view_count": null,
            "_view_module": "@jupyter-widgets/controls",
            "_view_module_version": "1.5.0",
            "_view_name": "HTMLView",
            "description": "",
            "description_tooltip": null,
            "layout": "IPY_MODEL_d09319a5052f4b6ea44763aff4bd77b2",
            "placeholder": "​",
            "style": "IPY_MODEL_9824d88f113c4148900be0a49c9fa4d3",
            "value": " 1/1 [02:42&lt;00:00, 162.63s/it]"
          }
        },
        "20ffc018ffaf49e8b189b1c5af853769": {
          "model_module": "@jupyter-widgets/base",
          "model_name": "LayoutModel",
          "model_module_version": "1.2.0",
          "state": {
            "_model_module": "@jupyter-widgets/base",
            "_model_module_version": "1.2.0",
            "_model_name": "LayoutModel",
            "_view_count": null,
            "_view_module": "@jupyter-widgets/base",
            "_view_module_version": "1.2.0",
            "_view_name": "LayoutView",
            "align_content": null,
            "align_items": null,
            "align_self": null,
            "border": null,
            "bottom": null,
            "display": null,
            "flex": null,
            "flex_flow": null,
            "grid_area": null,
            "grid_auto_columns": null,
            "grid_auto_flow": null,
            "grid_auto_rows": null,
            "grid_column": null,
            "grid_gap": null,
            "grid_row": null,
            "grid_template_areas": null,
            "grid_template_columns": null,
            "grid_template_rows": null,
            "height": null,
            "justify_content": null,
            "justify_items": null,
            "left": null,
            "margin": null,
            "max_height": null,
            "max_width": null,
            "min_height": null,
            "min_width": null,
            "object_fit": null,
            "object_position": null,
            "order": null,
            "overflow": null,
            "overflow_x": null,
            "overflow_y": null,
            "padding": null,
            "right": null,
            "top": null,
            "visibility": null,
            "width": null
          }
        },
        "c79bc3d41d824bcba1947464392ae48c": {
          "model_module": "@jupyter-widgets/base",
          "model_name": "LayoutModel",
          "model_module_version": "1.2.0",
          "state": {
            "_model_module": "@jupyter-widgets/base",
            "_model_module_version": "1.2.0",
            "_model_name": "LayoutModel",
            "_view_count": null,
            "_view_module": "@jupyter-widgets/base",
            "_view_module_version": "1.2.0",
            "_view_name": "LayoutView",
            "align_content": null,
            "align_items": null,
            "align_self": null,
            "border": null,
            "bottom": null,
            "display": null,
            "flex": null,
            "flex_flow": null,
            "grid_area": null,
            "grid_auto_columns": null,
            "grid_auto_flow": null,
            "grid_auto_rows": null,
            "grid_column": null,
            "grid_gap": null,
            "grid_row": null,
            "grid_template_areas": null,
            "grid_template_columns": null,
            "grid_template_rows": null,
            "height": null,
            "justify_content": null,
            "justify_items": null,
            "left": null,
            "margin": null,
            "max_height": null,
            "max_width": null,
            "min_height": null,
            "min_width": null,
            "object_fit": null,
            "object_position": null,
            "order": null,
            "overflow": null,
            "overflow_x": null,
            "overflow_y": null,
            "padding": null,
            "right": null,
            "top": null,
            "visibility": null,
            "width": null
          }
        },
        "4e291824b663409facfa300224f0cc0d": {
          "model_module": "@jupyter-widgets/controls",
          "model_name": "ProgressStyleModel",
          "model_module_version": "1.5.0",
          "state": {
            "_model_module": "@jupyter-widgets/controls",
            "_model_module_version": "1.5.0",
            "_model_name": "ProgressStyleModel",
            "_view_count": null,
            "_view_module": "@jupyter-widgets/base",
            "_view_module_version": "1.2.0",
            "_view_name": "StyleView",
            "bar_color": null,
            "description_width": "initial"
          }
        },
        "d09319a5052f4b6ea44763aff4bd77b2": {
          "model_module": "@jupyter-widgets/base",
          "model_name": "LayoutModel",
          "model_module_version": "1.2.0",
          "state": {
            "_model_module": "@jupyter-widgets/base",
            "_model_module_version": "1.2.0",
            "_model_name": "LayoutModel",
            "_view_count": null,
            "_view_module": "@jupyter-widgets/base",
            "_view_module_version": "1.2.0",
            "_view_name": "LayoutView",
            "align_content": null,
            "align_items": null,
            "align_self": null,
            "border": null,
            "bottom": null,
            "display": null,
            "flex": null,
            "flex_flow": null,
            "grid_area": null,
            "grid_auto_columns": null,
            "grid_auto_flow": null,
            "grid_auto_rows": null,
            "grid_column": null,
            "grid_gap": null,
            "grid_row": null,
            "grid_template_areas": null,
            "grid_template_columns": null,
            "grid_template_rows": null,
            "height": null,
            "justify_content": null,
            "justify_items": null,
            "left": null,
            "margin": null,
            "max_height": null,
            "max_width": null,
            "min_height": null,
            "min_width": null,
            "object_fit": null,
            "object_position": null,
            "order": null,
            "overflow": null,
            "overflow_x": null,
            "overflow_y": null,
            "padding": null,
            "right": null,
            "top": null,
            "visibility": null,
            "width": null
          }
        },
        "9824d88f113c4148900be0a49c9fa4d3": {
          "model_module": "@jupyter-widgets/controls",
          "model_name": "DescriptionStyleModel",
          "model_module_version": "1.5.0",
          "state": {
            "_model_module": "@jupyter-widgets/controls",
            "_model_module_version": "1.5.0",
            "_model_name": "DescriptionStyleModel",
            "_view_count": null,
            "_view_module": "@jupyter-widgets/base",
            "_view_module_version": "1.2.0",
            "_view_name": "StyleView",
            "description_width": ""
          }
        },
        "32dadc6e51844733a87a42eb807f6ea3": {
          "model_module": "@jupyter-widgets/controls",
          "model_name": "HBoxModel",
          "model_module_version": "1.5.0",
          "state": {
            "_dom_classes": [],
            "_model_module": "@jupyter-widgets/controls",
            "_model_module_version": "1.5.0",
            "_model_name": "HBoxModel",
            "_view_count": null,
            "_view_module": "@jupyter-widgets/controls",
            "_view_module_version": "1.5.0",
            "_view_name": "HBoxView",
            "box_style": "",
            "children": [
              "IPY_MODEL_be5bf73db8b5402f9b16d7c39ae72a58",
              "IPY_MODEL_a21b67dc0cfe43399d4f5973faa1a5c6"
            ],
            "layout": "IPY_MODEL_08c217aa095d4182b4a546e808ee5bc8"
          }
        },
        "be5bf73db8b5402f9b16d7c39ae72a58": {
          "model_module": "@jupyter-widgets/controls",
          "model_name": "FloatProgressModel",
          "model_module_version": "1.5.0",
          "state": {
            "_dom_classes": [],
            "_model_module": "@jupyter-widgets/controls",
            "_model_module_version": "1.5.0",
            "_model_name": "FloatProgressModel",
            "_view_count": null,
            "_view_module": "@jupyter-widgets/controls",
            "_view_module_version": "1.5.0",
            "_view_name": "ProgressView",
            "bar_style": "success",
            "description": "   Train loss: 0.21370935802729787: 100%",
            "description_tooltip": null,
            "layout": "IPY_MODEL_820cd45d336b4c68bf4b2b3435b95aeb",
            "max": 662,
            "min": 0,
            "orientation": "horizontal",
            "style": "IPY_MODEL_a8f19a12f5ee4c06a6e102289019ea95",
            "value": 662
          }
        },
        "a21b67dc0cfe43399d4f5973faa1a5c6": {
          "model_module": "@jupyter-widgets/controls",
          "model_name": "HTMLModel",
          "model_module_version": "1.5.0",
          "state": {
            "_dom_classes": [],
            "_model_module": "@jupyter-widgets/controls",
            "_model_module_version": "1.5.0",
            "_model_name": "HTMLModel",
            "_view_count": null,
            "_view_module": "@jupyter-widgets/controls",
            "_view_module_version": "1.5.0",
            "_view_name": "HTMLView",
            "description": "",
            "description_tooltip": null,
            "layout": "IPY_MODEL_f1831d9e8c8140cba34627dcda98e0b2",
            "placeholder": "​",
            "style": "IPY_MODEL_7dd6f97ec8b04cd5be297db6b3f31c34",
            "value": " 662/662 [02:42&lt;00:00,  4.07it/s]"
          }
        },
        "08c217aa095d4182b4a546e808ee5bc8": {
          "model_module": "@jupyter-widgets/base",
          "model_name": "LayoutModel",
          "model_module_version": "1.2.0",
          "state": {
            "_model_module": "@jupyter-widgets/base",
            "_model_module_version": "1.2.0",
            "_model_name": "LayoutModel",
            "_view_count": null,
            "_view_module": "@jupyter-widgets/base",
            "_view_module_version": "1.2.0",
            "_view_name": "LayoutView",
            "align_content": null,
            "align_items": null,
            "align_self": null,
            "border": null,
            "bottom": null,
            "display": null,
            "flex": null,
            "flex_flow": null,
            "grid_area": null,
            "grid_auto_columns": null,
            "grid_auto_flow": null,
            "grid_auto_rows": null,
            "grid_column": null,
            "grid_gap": null,
            "grid_row": null,
            "grid_template_areas": null,
            "grid_template_columns": null,
            "grid_template_rows": null,
            "height": null,
            "justify_content": null,
            "justify_items": null,
            "left": null,
            "margin": null,
            "max_height": null,
            "max_width": null,
            "min_height": null,
            "min_width": null,
            "object_fit": null,
            "object_position": null,
            "order": null,
            "overflow": null,
            "overflow_x": null,
            "overflow_y": null,
            "padding": null,
            "right": null,
            "top": null,
            "visibility": null,
            "width": null
          }
        },
        "820cd45d336b4c68bf4b2b3435b95aeb": {
          "model_module": "@jupyter-widgets/base",
          "model_name": "LayoutModel",
          "model_module_version": "1.2.0",
          "state": {
            "_model_module": "@jupyter-widgets/base",
            "_model_module_version": "1.2.0",
            "_model_name": "LayoutModel",
            "_view_count": null,
            "_view_module": "@jupyter-widgets/base",
            "_view_module_version": "1.2.0",
            "_view_name": "LayoutView",
            "align_content": null,
            "align_items": null,
            "align_self": null,
            "border": null,
            "bottom": null,
            "display": null,
            "flex": null,
            "flex_flow": null,
            "grid_area": null,
            "grid_auto_columns": null,
            "grid_auto_flow": null,
            "grid_auto_rows": null,
            "grid_column": null,
            "grid_gap": null,
            "grid_row": null,
            "grid_template_areas": null,
            "grid_template_columns": null,
            "grid_template_rows": null,
            "height": null,
            "justify_content": null,
            "justify_items": null,
            "left": null,
            "margin": null,
            "max_height": null,
            "max_width": null,
            "min_height": null,
            "min_width": null,
            "object_fit": null,
            "object_position": null,
            "order": null,
            "overflow": null,
            "overflow_x": null,
            "overflow_y": null,
            "padding": null,
            "right": null,
            "top": null,
            "visibility": null,
            "width": null
          }
        },
        "a8f19a12f5ee4c06a6e102289019ea95": {
          "model_module": "@jupyter-widgets/controls",
          "model_name": "ProgressStyleModel",
          "model_module_version": "1.5.0",
          "state": {
            "_model_module": "@jupyter-widgets/controls",
            "_model_module_version": "1.5.0",
            "_model_name": "ProgressStyleModel",
            "_view_count": null,
            "_view_module": "@jupyter-widgets/base",
            "_view_module_version": "1.2.0",
            "_view_name": "StyleView",
            "bar_color": null,
            "description_width": "initial"
          }
        },
        "f1831d9e8c8140cba34627dcda98e0b2": {
          "model_module": "@jupyter-widgets/base",
          "model_name": "LayoutModel",
          "model_module_version": "1.2.0",
          "state": {
            "_model_module": "@jupyter-widgets/base",
            "_model_module_version": "1.2.0",
            "_model_name": "LayoutModel",
            "_view_count": null,
            "_view_module": "@jupyter-widgets/base",
            "_view_module_version": "1.2.0",
            "_view_name": "LayoutView",
            "align_content": null,
            "align_items": null,
            "align_self": null,
            "border": null,
            "bottom": null,
            "display": null,
            "flex": null,
            "flex_flow": null,
            "grid_area": null,
            "grid_auto_columns": null,
            "grid_auto_flow": null,
            "grid_auto_rows": null,
            "grid_column": null,
            "grid_gap": null,
            "grid_row": null,
            "grid_template_areas": null,
            "grid_template_columns": null,
            "grid_template_rows": null,
            "height": null,
            "justify_content": null,
            "justify_items": null,
            "left": null,
            "margin": null,
            "max_height": null,
            "max_width": null,
            "min_height": null,
            "min_width": null,
            "object_fit": null,
            "object_position": null,
            "order": null,
            "overflow": null,
            "overflow_x": null,
            "overflow_y": null,
            "padding": null,
            "right": null,
            "top": null,
            "visibility": null,
            "width": null
          }
        },
        "7dd6f97ec8b04cd5be297db6b3f31c34": {
          "model_module": "@jupyter-widgets/controls",
          "model_name": "DescriptionStyleModel",
          "model_module_version": "1.5.0",
          "state": {
            "_model_module": "@jupyter-widgets/controls",
            "_model_module_version": "1.5.0",
            "_model_name": "DescriptionStyleModel",
            "_view_count": null,
            "_view_module": "@jupyter-widgets/base",
            "_view_module_version": "1.2.0",
            "_view_name": "StyleView",
            "description_width": ""
          }
        },
        "949c04d8f6a7466abc37e7f2031e0905": {
          "model_module": "@jupyter-widgets/controls",
          "model_name": "HBoxModel",
          "model_module_version": "1.5.0",
          "state": {
            "_dom_classes": [],
            "_model_module": "@jupyter-widgets/controls",
            "_model_module_version": "1.5.0",
            "_model_name": "HBoxModel",
            "_view_count": null,
            "_view_module": "@jupyter-widgets/controls",
            "_view_module_version": "1.5.0",
            "_view_name": "HBoxView",
            "box_style": "",
            "children": [
              "IPY_MODEL_2c89a4f457934559bfbb44195c17522b",
              "IPY_MODEL_8b80423adc1a46afb903e9dfbea6a164"
            ],
            "layout": "IPY_MODEL_28775476f26a41968f813581226446ba"
          }
        },
        "2c89a4f457934559bfbb44195c17522b": {
          "model_module": "@jupyter-widgets/controls",
          "model_name": "FloatProgressModel",
          "model_module_version": "1.5.0",
          "state": {
            "_dom_classes": [],
            "_model_module": "@jupyter-widgets/controls",
            "_model_module_version": "1.5.0",
            "_model_name": "FloatProgressModel",
            "_view_count": null,
            "_view_module": "@jupyter-widgets/controls",
            "_view_module_version": "1.5.0",
            "_view_name": "ProgressView",
            "bar_style": "success",
            "description": "Valid loss: 0.2596, Train loss: 0.2040: 100%",
            "description_tooltip": null,
            "layout": "IPY_MODEL_b7fa30ee56d04ba7ab67e2f89cbf920e",
            "max": 1,
            "min": 0,
            "orientation": "horizontal",
            "style": "IPY_MODEL_ecfc5e4afda54295bf056a0f9e8203da",
            "value": 1
          }
        },
        "8b80423adc1a46afb903e9dfbea6a164": {
          "model_module": "@jupyter-widgets/controls",
          "model_name": "HTMLModel",
          "model_module_version": "1.5.0",
          "state": {
            "_dom_classes": [],
            "_model_module": "@jupyter-widgets/controls",
            "_model_module_version": "1.5.0",
            "_model_name": "HTMLModel",
            "_view_count": null,
            "_view_module": "@jupyter-widgets/controls",
            "_view_module_version": "1.5.0",
            "_view_name": "HTMLView",
            "description": "",
            "description_tooltip": null,
            "layout": "IPY_MODEL_727748e29c75482faad299f48e403b10",
            "placeholder": "​",
            "style": "IPY_MODEL_d7c0461eb9df4b68ab1a2deb2f915c50",
            "value": " 1/1 [03:21&lt;00:00, 201.10s/it]"
          }
        },
        "28775476f26a41968f813581226446ba": {
          "model_module": "@jupyter-widgets/base",
          "model_name": "LayoutModel",
          "model_module_version": "1.2.0",
          "state": {
            "_model_module": "@jupyter-widgets/base",
            "_model_module_version": "1.2.0",
            "_model_name": "LayoutModel",
            "_view_count": null,
            "_view_module": "@jupyter-widgets/base",
            "_view_module_version": "1.2.0",
            "_view_name": "LayoutView",
            "align_content": null,
            "align_items": null,
            "align_self": null,
            "border": null,
            "bottom": null,
            "display": null,
            "flex": null,
            "flex_flow": null,
            "grid_area": null,
            "grid_auto_columns": null,
            "grid_auto_flow": null,
            "grid_auto_rows": null,
            "grid_column": null,
            "grid_gap": null,
            "grid_row": null,
            "grid_template_areas": null,
            "grid_template_columns": null,
            "grid_template_rows": null,
            "height": null,
            "justify_content": null,
            "justify_items": null,
            "left": null,
            "margin": null,
            "max_height": null,
            "max_width": null,
            "min_height": null,
            "min_width": null,
            "object_fit": null,
            "object_position": null,
            "order": null,
            "overflow": null,
            "overflow_x": null,
            "overflow_y": null,
            "padding": null,
            "right": null,
            "top": null,
            "visibility": null,
            "width": null
          }
        },
        "b7fa30ee56d04ba7ab67e2f89cbf920e": {
          "model_module": "@jupyter-widgets/base",
          "model_name": "LayoutModel",
          "model_module_version": "1.2.0",
          "state": {
            "_model_module": "@jupyter-widgets/base",
            "_model_module_version": "1.2.0",
            "_model_name": "LayoutModel",
            "_view_count": null,
            "_view_module": "@jupyter-widgets/base",
            "_view_module_version": "1.2.0",
            "_view_name": "LayoutView",
            "align_content": null,
            "align_items": null,
            "align_self": null,
            "border": null,
            "bottom": null,
            "display": null,
            "flex": null,
            "flex_flow": null,
            "grid_area": null,
            "grid_auto_columns": null,
            "grid_auto_flow": null,
            "grid_auto_rows": null,
            "grid_column": null,
            "grid_gap": null,
            "grid_row": null,
            "grid_template_areas": null,
            "grid_template_columns": null,
            "grid_template_rows": null,
            "height": null,
            "justify_content": null,
            "justify_items": null,
            "left": null,
            "margin": null,
            "max_height": null,
            "max_width": null,
            "min_height": null,
            "min_width": null,
            "object_fit": null,
            "object_position": null,
            "order": null,
            "overflow": null,
            "overflow_x": null,
            "overflow_y": null,
            "padding": null,
            "right": null,
            "top": null,
            "visibility": null,
            "width": null
          }
        },
        "ecfc5e4afda54295bf056a0f9e8203da": {
          "model_module": "@jupyter-widgets/controls",
          "model_name": "ProgressStyleModel",
          "model_module_version": "1.5.0",
          "state": {
            "_model_module": "@jupyter-widgets/controls",
            "_model_module_version": "1.5.0",
            "_model_name": "ProgressStyleModel",
            "_view_count": null,
            "_view_module": "@jupyter-widgets/base",
            "_view_module_version": "1.2.0",
            "_view_name": "StyleView",
            "bar_color": null,
            "description_width": "initial"
          }
        },
        "727748e29c75482faad299f48e403b10": {
          "model_module": "@jupyter-widgets/base",
          "model_name": "LayoutModel",
          "model_module_version": "1.2.0",
          "state": {
            "_model_module": "@jupyter-widgets/base",
            "_model_module_version": "1.2.0",
            "_model_name": "LayoutModel",
            "_view_count": null,
            "_view_module": "@jupyter-widgets/base",
            "_view_module_version": "1.2.0",
            "_view_name": "LayoutView",
            "align_content": null,
            "align_items": null,
            "align_self": null,
            "border": null,
            "bottom": null,
            "display": null,
            "flex": null,
            "flex_flow": null,
            "grid_area": null,
            "grid_auto_columns": null,
            "grid_auto_flow": null,
            "grid_auto_rows": null,
            "grid_column": null,
            "grid_gap": null,
            "grid_row": null,
            "grid_template_areas": null,
            "grid_template_columns": null,
            "grid_template_rows": null,
            "height": null,
            "justify_content": null,
            "justify_items": null,
            "left": null,
            "margin": null,
            "max_height": null,
            "max_width": null,
            "min_height": null,
            "min_width": null,
            "object_fit": null,
            "object_position": null,
            "order": null,
            "overflow": null,
            "overflow_x": null,
            "overflow_y": null,
            "padding": null,
            "right": null,
            "top": null,
            "visibility": null,
            "width": null
          }
        },
        "d7c0461eb9df4b68ab1a2deb2f915c50": {
          "model_module": "@jupyter-widgets/controls",
          "model_name": "DescriptionStyleModel",
          "model_module_version": "1.5.0",
          "state": {
            "_model_module": "@jupyter-widgets/controls",
            "_model_module_version": "1.5.0",
            "_model_name": "DescriptionStyleModel",
            "_view_count": null,
            "_view_module": "@jupyter-widgets/base",
            "_view_module_version": "1.2.0",
            "_view_name": "StyleView",
            "description_width": ""
          }
        },
        "bfcd7332e22c4597b41ba19055705fdd": {
          "model_module": "@jupyter-widgets/controls",
          "model_name": "HBoxModel",
          "model_module_version": "1.5.0",
          "state": {
            "_dom_classes": [],
            "_model_module": "@jupyter-widgets/controls",
            "_model_module_version": "1.5.0",
            "_model_name": "HBoxModel",
            "_view_count": null,
            "_view_module": "@jupyter-widgets/controls",
            "_view_module_version": "1.5.0",
            "_view_name": "HBoxView",
            "box_style": "",
            "children": [
              "IPY_MODEL_8640dd8b538a4b619dec699bca3724b0",
              "IPY_MODEL_288e7599a6cf47bb8253be204c604eef"
            ],
            "layout": "IPY_MODEL_323fc32206af427ca1e68ad8cd5566db"
          }
        },
        "8640dd8b538a4b619dec699bca3724b0": {
          "model_module": "@jupyter-widgets/controls",
          "model_name": "FloatProgressModel",
          "model_module_version": "1.5.0",
          "state": {
            "_dom_classes": [],
            "_model_module": "@jupyter-widgets/controls",
            "_model_module_version": "1.5.0",
            "_model_name": "FloatProgressModel",
            "_view_count": null,
            "_view_module": "@jupyter-widgets/controls",
            "_view_module_version": "1.5.0",
            "_view_name": "ProgressView",
            "bar_style": "success",
            "description": "   Train loss: 0.20386494714139752: 100%",
            "description_tooltip": null,
            "layout": "IPY_MODEL_a95122a12ddc41a5999c82542bdff944",
            "max": 662,
            "min": 0,
            "orientation": "horizontal",
            "style": "IPY_MODEL_7da1d4b0ba0f4b6e90848d2d4cf968ef",
            "value": 662
          }
        },
        "288e7599a6cf47bb8253be204c604eef": {
          "model_module": "@jupyter-widgets/controls",
          "model_name": "HTMLModel",
          "model_module_version": "1.5.0",
          "state": {
            "_dom_classes": [],
            "_model_module": "@jupyter-widgets/controls",
            "_model_module_version": "1.5.0",
            "_model_name": "HTMLModel",
            "_view_count": null,
            "_view_module": "@jupyter-widgets/controls",
            "_view_module_version": "1.5.0",
            "_view_name": "HTMLView",
            "description": "",
            "description_tooltip": null,
            "layout": "IPY_MODEL_4b78200c717c4ba3aa532d3cf0e595d2",
            "placeholder": "​",
            "style": "IPY_MODEL_8d7d29300c304f8993f428a6dcb7b0d8",
            "value": " 662/662 [03:21&lt;00:00,  3.29it/s]"
          }
        },
        "323fc32206af427ca1e68ad8cd5566db": {
          "model_module": "@jupyter-widgets/base",
          "model_name": "LayoutModel",
          "model_module_version": "1.2.0",
          "state": {
            "_model_module": "@jupyter-widgets/base",
            "_model_module_version": "1.2.0",
            "_model_name": "LayoutModel",
            "_view_count": null,
            "_view_module": "@jupyter-widgets/base",
            "_view_module_version": "1.2.0",
            "_view_name": "LayoutView",
            "align_content": null,
            "align_items": null,
            "align_self": null,
            "border": null,
            "bottom": null,
            "display": null,
            "flex": null,
            "flex_flow": null,
            "grid_area": null,
            "grid_auto_columns": null,
            "grid_auto_flow": null,
            "grid_auto_rows": null,
            "grid_column": null,
            "grid_gap": null,
            "grid_row": null,
            "grid_template_areas": null,
            "grid_template_columns": null,
            "grid_template_rows": null,
            "height": null,
            "justify_content": null,
            "justify_items": null,
            "left": null,
            "margin": null,
            "max_height": null,
            "max_width": null,
            "min_height": null,
            "min_width": null,
            "object_fit": null,
            "object_position": null,
            "order": null,
            "overflow": null,
            "overflow_x": null,
            "overflow_y": null,
            "padding": null,
            "right": null,
            "top": null,
            "visibility": null,
            "width": null
          }
        },
        "a95122a12ddc41a5999c82542bdff944": {
          "model_module": "@jupyter-widgets/base",
          "model_name": "LayoutModel",
          "model_module_version": "1.2.0",
          "state": {
            "_model_module": "@jupyter-widgets/base",
            "_model_module_version": "1.2.0",
            "_model_name": "LayoutModel",
            "_view_count": null,
            "_view_module": "@jupyter-widgets/base",
            "_view_module_version": "1.2.0",
            "_view_name": "LayoutView",
            "align_content": null,
            "align_items": null,
            "align_self": null,
            "border": null,
            "bottom": null,
            "display": null,
            "flex": null,
            "flex_flow": null,
            "grid_area": null,
            "grid_auto_columns": null,
            "grid_auto_flow": null,
            "grid_auto_rows": null,
            "grid_column": null,
            "grid_gap": null,
            "grid_row": null,
            "grid_template_areas": null,
            "grid_template_columns": null,
            "grid_template_rows": null,
            "height": null,
            "justify_content": null,
            "justify_items": null,
            "left": null,
            "margin": null,
            "max_height": null,
            "max_width": null,
            "min_height": null,
            "min_width": null,
            "object_fit": null,
            "object_position": null,
            "order": null,
            "overflow": null,
            "overflow_x": null,
            "overflow_y": null,
            "padding": null,
            "right": null,
            "top": null,
            "visibility": null,
            "width": null
          }
        },
        "7da1d4b0ba0f4b6e90848d2d4cf968ef": {
          "model_module": "@jupyter-widgets/controls",
          "model_name": "ProgressStyleModel",
          "model_module_version": "1.5.0",
          "state": {
            "_model_module": "@jupyter-widgets/controls",
            "_model_module_version": "1.5.0",
            "_model_name": "ProgressStyleModel",
            "_view_count": null,
            "_view_module": "@jupyter-widgets/base",
            "_view_module_version": "1.2.0",
            "_view_name": "StyleView",
            "bar_color": null,
            "description_width": "initial"
          }
        },
        "4b78200c717c4ba3aa532d3cf0e595d2": {
          "model_module": "@jupyter-widgets/base",
          "model_name": "LayoutModel",
          "model_module_version": "1.2.0",
          "state": {
            "_model_module": "@jupyter-widgets/base",
            "_model_module_version": "1.2.0",
            "_model_name": "LayoutModel",
            "_view_count": null,
            "_view_module": "@jupyter-widgets/base",
            "_view_module_version": "1.2.0",
            "_view_name": "LayoutView",
            "align_content": null,
            "align_items": null,
            "align_self": null,
            "border": null,
            "bottom": null,
            "display": null,
            "flex": null,
            "flex_flow": null,
            "grid_area": null,
            "grid_auto_columns": null,
            "grid_auto_flow": null,
            "grid_auto_rows": null,
            "grid_column": null,
            "grid_gap": null,
            "grid_row": null,
            "grid_template_areas": null,
            "grid_template_columns": null,
            "grid_template_rows": null,
            "height": null,
            "justify_content": null,
            "justify_items": null,
            "left": null,
            "margin": null,
            "max_height": null,
            "max_width": null,
            "min_height": null,
            "min_width": null,
            "object_fit": null,
            "object_position": null,
            "order": null,
            "overflow": null,
            "overflow_x": null,
            "overflow_y": null,
            "padding": null,
            "right": null,
            "top": null,
            "visibility": null,
            "width": null
          }
        },
        "8d7d29300c304f8993f428a6dcb7b0d8": {
          "model_module": "@jupyter-widgets/controls",
          "model_name": "DescriptionStyleModel",
          "model_module_version": "1.5.0",
          "state": {
            "_model_module": "@jupyter-widgets/controls",
            "_model_module_version": "1.5.0",
            "_model_name": "DescriptionStyleModel",
            "_view_count": null,
            "_view_module": "@jupyter-widgets/base",
            "_view_module_version": "1.2.0",
            "_view_name": "StyleView",
            "description_width": ""
          }
        },
        "37f74557e158456ca9eb51491bf2bdfa": {
          "model_module": "@jupyter-widgets/controls",
          "model_name": "HBoxModel",
          "model_module_version": "1.5.0",
          "state": {
            "_dom_classes": [],
            "_model_module": "@jupyter-widgets/controls",
            "_model_module_version": "1.5.0",
            "_model_name": "HBoxModel",
            "_view_count": null,
            "_view_module": "@jupyter-widgets/controls",
            "_view_module_version": "1.5.0",
            "_view_name": "HBoxView",
            "box_style": "",
            "children": [
              "IPY_MODEL_98298eb2a4154a30acace36fcbfdb119",
              "IPY_MODEL_85539c88db3d47a89a62882cdf8f83f4"
            ],
            "layout": "IPY_MODEL_f40e9fb6a8ec4f58b198d403d193e8ac"
          }
        },
        "98298eb2a4154a30acace36fcbfdb119": {
          "model_module": "@jupyter-widgets/controls",
          "model_name": "FloatProgressModel",
          "model_module_version": "1.5.0",
          "state": {
            "_dom_classes": [],
            "_model_module": "@jupyter-widgets/controls",
            "_model_module_version": "1.5.0",
            "_model_name": "FloatProgressModel",
            "_view_count": null,
            "_view_module": "@jupyter-widgets/controls",
            "_view_module_version": "1.5.0",
            "_view_name": "ProgressView",
            "bar_style": "success",
            "description": "Valid loss: 0.2483, Train loss: 0.2132: 100%",
            "description_tooltip": null,
            "layout": "IPY_MODEL_4a43a9a81f30429ca4836fdc816c4d98",
            "max": 1,
            "min": 0,
            "orientation": "horizontal",
            "style": "IPY_MODEL_2f9219203be342ab923e517aa2d13eca",
            "value": 1
          }
        },
        "85539c88db3d47a89a62882cdf8f83f4": {
          "model_module": "@jupyter-widgets/controls",
          "model_name": "HTMLModel",
          "model_module_version": "1.5.0",
          "state": {
            "_dom_classes": [],
            "_model_module": "@jupyter-widgets/controls",
            "_model_module_version": "1.5.0",
            "_model_name": "HTMLModel",
            "_view_count": null,
            "_view_module": "@jupyter-widgets/controls",
            "_view_module_version": "1.5.0",
            "_view_name": "HTMLView",
            "description": "",
            "description_tooltip": null,
            "layout": "IPY_MODEL_e13a972916f8473aab9129dee343e47c",
            "placeholder": "​",
            "style": "IPY_MODEL_16530e14e734461299fdba397f0ab0c6",
            "value": " 1/1 [04:33&lt;00:00, 273.83s/it]"
          }
        },
        "f40e9fb6a8ec4f58b198d403d193e8ac": {
          "model_module": "@jupyter-widgets/base",
          "model_name": "LayoutModel",
          "model_module_version": "1.2.0",
          "state": {
            "_model_module": "@jupyter-widgets/base",
            "_model_module_version": "1.2.0",
            "_model_name": "LayoutModel",
            "_view_count": null,
            "_view_module": "@jupyter-widgets/base",
            "_view_module_version": "1.2.0",
            "_view_name": "LayoutView",
            "align_content": null,
            "align_items": null,
            "align_self": null,
            "border": null,
            "bottom": null,
            "display": null,
            "flex": null,
            "flex_flow": null,
            "grid_area": null,
            "grid_auto_columns": null,
            "grid_auto_flow": null,
            "grid_auto_rows": null,
            "grid_column": null,
            "grid_gap": null,
            "grid_row": null,
            "grid_template_areas": null,
            "grid_template_columns": null,
            "grid_template_rows": null,
            "height": null,
            "justify_content": null,
            "justify_items": null,
            "left": null,
            "margin": null,
            "max_height": null,
            "max_width": null,
            "min_height": null,
            "min_width": null,
            "object_fit": null,
            "object_position": null,
            "order": null,
            "overflow": null,
            "overflow_x": null,
            "overflow_y": null,
            "padding": null,
            "right": null,
            "top": null,
            "visibility": null,
            "width": null
          }
        },
        "4a43a9a81f30429ca4836fdc816c4d98": {
          "model_module": "@jupyter-widgets/base",
          "model_name": "LayoutModel",
          "model_module_version": "1.2.0",
          "state": {
            "_model_module": "@jupyter-widgets/base",
            "_model_module_version": "1.2.0",
            "_model_name": "LayoutModel",
            "_view_count": null,
            "_view_module": "@jupyter-widgets/base",
            "_view_module_version": "1.2.0",
            "_view_name": "LayoutView",
            "align_content": null,
            "align_items": null,
            "align_self": null,
            "border": null,
            "bottom": null,
            "display": null,
            "flex": null,
            "flex_flow": null,
            "grid_area": null,
            "grid_auto_columns": null,
            "grid_auto_flow": null,
            "grid_auto_rows": null,
            "grid_column": null,
            "grid_gap": null,
            "grid_row": null,
            "grid_template_areas": null,
            "grid_template_columns": null,
            "grid_template_rows": null,
            "height": null,
            "justify_content": null,
            "justify_items": null,
            "left": null,
            "margin": null,
            "max_height": null,
            "max_width": null,
            "min_height": null,
            "min_width": null,
            "object_fit": null,
            "object_position": null,
            "order": null,
            "overflow": null,
            "overflow_x": null,
            "overflow_y": null,
            "padding": null,
            "right": null,
            "top": null,
            "visibility": null,
            "width": null
          }
        },
        "2f9219203be342ab923e517aa2d13eca": {
          "model_module": "@jupyter-widgets/controls",
          "model_name": "ProgressStyleModel",
          "model_module_version": "1.5.0",
          "state": {
            "_model_module": "@jupyter-widgets/controls",
            "_model_module_version": "1.5.0",
            "_model_name": "ProgressStyleModel",
            "_view_count": null,
            "_view_module": "@jupyter-widgets/base",
            "_view_module_version": "1.2.0",
            "_view_name": "StyleView",
            "bar_color": null,
            "description_width": "initial"
          }
        },
        "e13a972916f8473aab9129dee343e47c": {
          "model_module": "@jupyter-widgets/base",
          "model_name": "LayoutModel",
          "model_module_version": "1.2.0",
          "state": {
            "_model_module": "@jupyter-widgets/base",
            "_model_module_version": "1.2.0",
            "_model_name": "LayoutModel",
            "_view_count": null,
            "_view_module": "@jupyter-widgets/base",
            "_view_module_version": "1.2.0",
            "_view_name": "LayoutView",
            "align_content": null,
            "align_items": null,
            "align_self": null,
            "border": null,
            "bottom": null,
            "display": null,
            "flex": null,
            "flex_flow": null,
            "grid_area": null,
            "grid_auto_columns": null,
            "grid_auto_flow": null,
            "grid_auto_rows": null,
            "grid_column": null,
            "grid_gap": null,
            "grid_row": null,
            "grid_template_areas": null,
            "grid_template_columns": null,
            "grid_template_rows": null,
            "height": null,
            "justify_content": null,
            "justify_items": null,
            "left": null,
            "margin": null,
            "max_height": null,
            "max_width": null,
            "min_height": null,
            "min_width": null,
            "object_fit": null,
            "object_position": null,
            "order": null,
            "overflow": null,
            "overflow_x": null,
            "overflow_y": null,
            "padding": null,
            "right": null,
            "top": null,
            "visibility": null,
            "width": null
          }
        },
        "16530e14e734461299fdba397f0ab0c6": {
          "model_module": "@jupyter-widgets/controls",
          "model_name": "DescriptionStyleModel",
          "model_module_version": "1.5.0",
          "state": {
            "_model_module": "@jupyter-widgets/controls",
            "_model_module_version": "1.5.0",
            "_model_name": "DescriptionStyleModel",
            "_view_count": null,
            "_view_module": "@jupyter-widgets/base",
            "_view_module_version": "1.2.0",
            "_view_name": "StyleView",
            "description_width": ""
          }
        },
        "86348622488e46fc85a05130dc81e3ca": {
          "model_module": "@jupyter-widgets/controls",
          "model_name": "HBoxModel",
          "model_module_version": "1.5.0",
          "state": {
            "_dom_classes": [],
            "_model_module": "@jupyter-widgets/controls",
            "_model_module_version": "1.5.0",
            "_model_name": "HBoxModel",
            "_view_count": null,
            "_view_module": "@jupyter-widgets/controls",
            "_view_module_version": "1.5.0",
            "_view_name": "HBoxView",
            "box_style": "",
            "children": [
              "IPY_MODEL_0ceee04fb1ff476981cc4ddafbbc9639",
              "IPY_MODEL_bbbf1175754c4eef8333a12fd23b87ae"
            ],
            "layout": "IPY_MODEL_0048d67f2617413e9d0558193b1d1874"
          }
        },
        "0ceee04fb1ff476981cc4ddafbbc9639": {
          "model_module": "@jupyter-widgets/controls",
          "model_name": "FloatProgressModel",
          "model_module_version": "1.5.0",
          "state": {
            "_dom_classes": [],
            "_model_module": "@jupyter-widgets/controls",
            "_model_module_version": "1.5.0",
            "_model_name": "FloatProgressModel",
            "_view_count": null,
            "_view_module": "@jupyter-widgets/controls",
            "_view_module_version": "1.5.0",
            "_view_name": "ProgressView",
            "bar_style": "success",
            "description": "   Train loss: 0.21339750693390305: 100%",
            "description_tooltip": null,
            "layout": "IPY_MODEL_f8e8ca3281e2423f9c8ad8e874f2ec92",
            "max": 662,
            "min": 0,
            "orientation": "horizontal",
            "style": "IPY_MODEL_1588e8d1ff1944d4963490dc47bae940",
            "value": 662
          }
        },
        "bbbf1175754c4eef8333a12fd23b87ae": {
          "model_module": "@jupyter-widgets/controls",
          "model_name": "HTMLModel",
          "model_module_version": "1.5.0",
          "state": {
            "_dom_classes": [],
            "_model_module": "@jupyter-widgets/controls",
            "_model_module_version": "1.5.0",
            "_model_name": "HTMLModel",
            "_view_count": null,
            "_view_module": "@jupyter-widgets/controls",
            "_view_module_version": "1.5.0",
            "_view_name": "HTMLView",
            "description": "",
            "description_tooltip": null,
            "layout": "IPY_MODEL_8eacd6e73d5c49c6a19cbdd42c237125",
            "placeholder": "​",
            "style": "IPY_MODEL_9fd3d709685c4c01bba72b3ac39003cb",
            "value": " 662/662 [04:33&lt;00:00,  2.42it/s]"
          }
        },
        "0048d67f2617413e9d0558193b1d1874": {
          "model_module": "@jupyter-widgets/base",
          "model_name": "LayoutModel",
          "model_module_version": "1.2.0",
          "state": {
            "_model_module": "@jupyter-widgets/base",
            "_model_module_version": "1.2.0",
            "_model_name": "LayoutModel",
            "_view_count": null,
            "_view_module": "@jupyter-widgets/base",
            "_view_module_version": "1.2.0",
            "_view_name": "LayoutView",
            "align_content": null,
            "align_items": null,
            "align_self": null,
            "border": null,
            "bottom": null,
            "display": null,
            "flex": null,
            "flex_flow": null,
            "grid_area": null,
            "grid_auto_columns": null,
            "grid_auto_flow": null,
            "grid_auto_rows": null,
            "grid_column": null,
            "grid_gap": null,
            "grid_row": null,
            "grid_template_areas": null,
            "grid_template_columns": null,
            "grid_template_rows": null,
            "height": null,
            "justify_content": null,
            "justify_items": null,
            "left": null,
            "margin": null,
            "max_height": null,
            "max_width": null,
            "min_height": null,
            "min_width": null,
            "object_fit": null,
            "object_position": null,
            "order": null,
            "overflow": null,
            "overflow_x": null,
            "overflow_y": null,
            "padding": null,
            "right": null,
            "top": null,
            "visibility": null,
            "width": null
          }
        },
        "f8e8ca3281e2423f9c8ad8e874f2ec92": {
          "model_module": "@jupyter-widgets/base",
          "model_name": "LayoutModel",
          "model_module_version": "1.2.0",
          "state": {
            "_model_module": "@jupyter-widgets/base",
            "_model_module_version": "1.2.0",
            "_model_name": "LayoutModel",
            "_view_count": null,
            "_view_module": "@jupyter-widgets/base",
            "_view_module_version": "1.2.0",
            "_view_name": "LayoutView",
            "align_content": null,
            "align_items": null,
            "align_self": null,
            "border": null,
            "bottom": null,
            "display": null,
            "flex": null,
            "flex_flow": null,
            "grid_area": null,
            "grid_auto_columns": null,
            "grid_auto_flow": null,
            "grid_auto_rows": null,
            "grid_column": null,
            "grid_gap": null,
            "grid_row": null,
            "grid_template_areas": null,
            "grid_template_columns": null,
            "grid_template_rows": null,
            "height": null,
            "justify_content": null,
            "justify_items": null,
            "left": null,
            "margin": null,
            "max_height": null,
            "max_width": null,
            "min_height": null,
            "min_width": null,
            "object_fit": null,
            "object_position": null,
            "order": null,
            "overflow": null,
            "overflow_x": null,
            "overflow_y": null,
            "padding": null,
            "right": null,
            "top": null,
            "visibility": null,
            "width": null
          }
        },
        "1588e8d1ff1944d4963490dc47bae940": {
          "model_module": "@jupyter-widgets/controls",
          "model_name": "ProgressStyleModel",
          "model_module_version": "1.5.0",
          "state": {
            "_model_module": "@jupyter-widgets/controls",
            "_model_module_version": "1.5.0",
            "_model_name": "ProgressStyleModel",
            "_view_count": null,
            "_view_module": "@jupyter-widgets/base",
            "_view_module_version": "1.2.0",
            "_view_name": "StyleView",
            "bar_color": null,
            "description_width": "initial"
          }
        },
        "8eacd6e73d5c49c6a19cbdd42c237125": {
          "model_module": "@jupyter-widgets/base",
          "model_name": "LayoutModel",
          "model_module_version": "1.2.0",
          "state": {
            "_model_module": "@jupyter-widgets/base",
            "_model_module_version": "1.2.0",
            "_model_name": "LayoutModel",
            "_view_count": null,
            "_view_module": "@jupyter-widgets/base",
            "_view_module_version": "1.2.0",
            "_view_name": "LayoutView",
            "align_content": null,
            "align_items": null,
            "align_self": null,
            "border": null,
            "bottom": null,
            "display": null,
            "flex": null,
            "flex_flow": null,
            "grid_area": null,
            "grid_auto_columns": null,
            "grid_auto_flow": null,
            "grid_auto_rows": null,
            "grid_column": null,
            "grid_gap": null,
            "grid_row": null,
            "grid_template_areas": null,
            "grid_template_columns": null,
            "grid_template_rows": null,
            "height": null,
            "justify_content": null,
            "justify_items": null,
            "left": null,
            "margin": null,
            "max_height": null,
            "max_width": null,
            "min_height": null,
            "min_width": null,
            "object_fit": null,
            "object_position": null,
            "order": null,
            "overflow": null,
            "overflow_x": null,
            "overflow_y": null,
            "padding": null,
            "right": null,
            "top": null,
            "visibility": null,
            "width": null
          }
        },
        "9fd3d709685c4c01bba72b3ac39003cb": {
          "model_module": "@jupyter-widgets/controls",
          "model_name": "DescriptionStyleModel",
          "model_module_version": "1.5.0",
          "state": {
            "_model_module": "@jupyter-widgets/controls",
            "_model_module_version": "1.5.0",
            "_model_name": "DescriptionStyleModel",
            "_view_count": null,
            "_view_module": "@jupyter-widgets/base",
            "_view_module_version": "1.2.0",
            "_view_name": "StyleView",
            "description_width": ""
          }
        },
        "1271f3a8ba334bf380bc70c74efb7bd6": {
          "model_module": "@jupyter-widgets/controls",
          "model_name": "HBoxModel",
          "model_module_version": "1.5.0",
          "state": {
            "_dom_classes": [],
            "_model_module": "@jupyter-widgets/controls",
            "_model_module_version": "1.5.0",
            "_model_name": "HBoxModel",
            "_view_count": null,
            "_view_module": "@jupyter-widgets/controls",
            "_view_module_version": "1.5.0",
            "_view_name": "HBoxView",
            "box_style": "",
            "children": [
              "IPY_MODEL_cffa93fde4274ebbb54f0a37dc67f31c",
              "IPY_MODEL_c1a1ca3336af422c8cad3d48348ddca9"
            ],
            "layout": "IPY_MODEL_a9fd2445a20843b1be9621e201206cbb"
          }
        },
        "cffa93fde4274ebbb54f0a37dc67f31c": {
          "model_module": "@jupyter-widgets/controls",
          "model_name": "FloatProgressModel",
          "model_module_version": "1.5.0",
          "state": {
            "_dom_classes": [],
            "_model_module": "@jupyter-widgets/controls",
            "_model_module_version": "1.5.0",
            "_model_name": "FloatProgressModel",
            "_view_count": null,
            "_view_module": "@jupyter-widgets/controls",
            "_view_module_version": "1.5.0",
            "_view_name": "ProgressView",
            "bar_style": "success",
            "description": "Valid loss: 0.2503, Train loss: 0.1883: 100%",
            "description_tooltip": null,
            "layout": "IPY_MODEL_8ac4441a26e64e6e8b981270168a1a3f",
            "max": 1,
            "min": 0,
            "orientation": "horizontal",
            "style": "IPY_MODEL_33ba3cec02d54620ad2c356c1d5a3851",
            "value": 1
          }
        },
        "c1a1ca3336af422c8cad3d48348ddca9": {
          "model_module": "@jupyter-widgets/controls",
          "model_name": "HTMLModel",
          "model_module_version": "1.5.0",
          "state": {
            "_dom_classes": [],
            "_model_module": "@jupyter-widgets/controls",
            "_model_module_version": "1.5.0",
            "_model_name": "HTMLModel",
            "_view_count": null,
            "_view_module": "@jupyter-widgets/controls",
            "_view_module_version": "1.5.0",
            "_view_name": "HTMLView",
            "description": "",
            "description_tooltip": null,
            "layout": "IPY_MODEL_d0c69ca584884fc3911016ff463fd73c",
            "placeholder": "​",
            "style": "IPY_MODEL_f95ca9e1e4d64980b13c7537bf102271",
            "value": " 1/1 [02:36&lt;00:00, 156.14s/it]"
          }
        },
        "a9fd2445a20843b1be9621e201206cbb": {
          "model_module": "@jupyter-widgets/base",
          "model_name": "LayoutModel",
          "model_module_version": "1.2.0",
          "state": {
            "_model_module": "@jupyter-widgets/base",
            "_model_module_version": "1.2.0",
            "_model_name": "LayoutModel",
            "_view_count": null,
            "_view_module": "@jupyter-widgets/base",
            "_view_module_version": "1.2.0",
            "_view_name": "LayoutView",
            "align_content": null,
            "align_items": null,
            "align_self": null,
            "border": null,
            "bottom": null,
            "display": null,
            "flex": null,
            "flex_flow": null,
            "grid_area": null,
            "grid_auto_columns": null,
            "grid_auto_flow": null,
            "grid_auto_rows": null,
            "grid_column": null,
            "grid_gap": null,
            "grid_row": null,
            "grid_template_areas": null,
            "grid_template_columns": null,
            "grid_template_rows": null,
            "height": null,
            "justify_content": null,
            "justify_items": null,
            "left": null,
            "margin": null,
            "max_height": null,
            "max_width": null,
            "min_height": null,
            "min_width": null,
            "object_fit": null,
            "object_position": null,
            "order": null,
            "overflow": null,
            "overflow_x": null,
            "overflow_y": null,
            "padding": null,
            "right": null,
            "top": null,
            "visibility": null,
            "width": null
          }
        },
        "8ac4441a26e64e6e8b981270168a1a3f": {
          "model_module": "@jupyter-widgets/base",
          "model_name": "LayoutModel",
          "model_module_version": "1.2.0",
          "state": {
            "_model_module": "@jupyter-widgets/base",
            "_model_module_version": "1.2.0",
            "_model_name": "LayoutModel",
            "_view_count": null,
            "_view_module": "@jupyter-widgets/base",
            "_view_module_version": "1.2.0",
            "_view_name": "LayoutView",
            "align_content": null,
            "align_items": null,
            "align_self": null,
            "border": null,
            "bottom": null,
            "display": null,
            "flex": null,
            "flex_flow": null,
            "grid_area": null,
            "grid_auto_columns": null,
            "grid_auto_flow": null,
            "grid_auto_rows": null,
            "grid_column": null,
            "grid_gap": null,
            "grid_row": null,
            "grid_template_areas": null,
            "grid_template_columns": null,
            "grid_template_rows": null,
            "height": null,
            "justify_content": null,
            "justify_items": null,
            "left": null,
            "margin": null,
            "max_height": null,
            "max_width": null,
            "min_height": null,
            "min_width": null,
            "object_fit": null,
            "object_position": null,
            "order": null,
            "overflow": null,
            "overflow_x": null,
            "overflow_y": null,
            "padding": null,
            "right": null,
            "top": null,
            "visibility": null,
            "width": null
          }
        },
        "33ba3cec02d54620ad2c356c1d5a3851": {
          "model_module": "@jupyter-widgets/controls",
          "model_name": "ProgressStyleModel",
          "model_module_version": "1.5.0",
          "state": {
            "_model_module": "@jupyter-widgets/controls",
            "_model_module_version": "1.5.0",
            "_model_name": "ProgressStyleModel",
            "_view_count": null,
            "_view_module": "@jupyter-widgets/base",
            "_view_module_version": "1.2.0",
            "_view_name": "StyleView",
            "bar_color": null,
            "description_width": "initial"
          }
        },
        "d0c69ca584884fc3911016ff463fd73c": {
          "model_module": "@jupyter-widgets/base",
          "model_name": "LayoutModel",
          "model_module_version": "1.2.0",
          "state": {
            "_model_module": "@jupyter-widgets/base",
            "_model_module_version": "1.2.0",
            "_model_name": "LayoutModel",
            "_view_count": null,
            "_view_module": "@jupyter-widgets/base",
            "_view_module_version": "1.2.0",
            "_view_name": "LayoutView",
            "align_content": null,
            "align_items": null,
            "align_self": null,
            "border": null,
            "bottom": null,
            "display": null,
            "flex": null,
            "flex_flow": null,
            "grid_area": null,
            "grid_auto_columns": null,
            "grid_auto_flow": null,
            "grid_auto_rows": null,
            "grid_column": null,
            "grid_gap": null,
            "grid_row": null,
            "grid_template_areas": null,
            "grid_template_columns": null,
            "grid_template_rows": null,
            "height": null,
            "justify_content": null,
            "justify_items": null,
            "left": null,
            "margin": null,
            "max_height": null,
            "max_width": null,
            "min_height": null,
            "min_width": null,
            "object_fit": null,
            "object_position": null,
            "order": null,
            "overflow": null,
            "overflow_x": null,
            "overflow_y": null,
            "padding": null,
            "right": null,
            "top": null,
            "visibility": null,
            "width": null
          }
        },
        "f95ca9e1e4d64980b13c7537bf102271": {
          "model_module": "@jupyter-widgets/controls",
          "model_name": "DescriptionStyleModel",
          "model_module_version": "1.5.0",
          "state": {
            "_model_module": "@jupyter-widgets/controls",
            "_model_module_version": "1.5.0",
            "_model_name": "DescriptionStyleModel",
            "_view_count": null,
            "_view_module": "@jupyter-widgets/base",
            "_view_module_version": "1.2.0",
            "_view_name": "StyleView",
            "description_width": ""
          }
        },
        "6eec6f50a2584699815c35da7e8c099d": {
          "model_module": "@jupyter-widgets/controls",
          "model_name": "HBoxModel",
          "model_module_version": "1.5.0",
          "state": {
            "_dom_classes": [],
            "_model_module": "@jupyter-widgets/controls",
            "_model_module_version": "1.5.0",
            "_model_name": "HBoxModel",
            "_view_count": null,
            "_view_module": "@jupyter-widgets/controls",
            "_view_module_version": "1.5.0",
            "_view_name": "HBoxView",
            "box_style": "",
            "children": [
              "IPY_MODEL_54d1f5a9e4a6411192006cc5a697c399",
              "IPY_MODEL_9c6c02ef6ff14564b20f7dee81a3fbb1"
            ],
            "layout": "IPY_MODEL_125e39c88b874a679f077c700b67f3fa"
          }
        },
        "54d1f5a9e4a6411192006cc5a697c399": {
          "model_module": "@jupyter-widgets/controls",
          "model_name": "FloatProgressModel",
          "model_module_version": "1.5.0",
          "state": {
            "_dom_classes": [],
            "_model_module": "@jupyter-widgets/controls",
            "_model_module_version": "1.5.0",
            "_model_name": "FloatProgressModel",
            "_view_count": null,
            "_view_module": "@jupyter-widgets/controls",
            "_view_module_version": "1.5.0",
            "_view_name": "ProgressView",
            "bar_style": "success",
            "description": "   Train loss: 0.1882196363863365: 100%",
            "description_tooltip": null,
            "layout": "IPY_MODEL_4bcf016266d84f3fb9fb49e78294cad4",
            "max": 662,
            "min": 0,
            "orientation": "horizontal",
            "style": "IPY_MODEL_eec47e95130b44f3b0459d617d245141",
            "value": 662
          }
        },
        "9c6c02ef6ff14564b20f7dee81a3fbb1": {
          "model_module": "@jupyter-widgets/controls",
          "model_name": "HTMLModel",
          "model_module_version": "1.5.0",
          "state": {
            "_dom_classes": [],
            "_model_module": "@jupyter-widgets/controls",
            "_model_module_version": "1.5.0",
            "_model_name": "HTMLModel",
            "_view_count": null,
            "_view_module": "@jupyter-widgets/controls",
            "_view_module_version": "1.5.0",
            "_view_name": "HTMLView",
            "description": "",
            "description_tooltip": null,
            "layout": "IPY_MODEL_8589394534ab4565983e0f054d8cab59",
            "placeholder": "​",
            "style": "IPY_MODEL_3d85efd502cb470dbbab87698abc8572",
            "value": " 662/662 [02:36&lt;00:00,  4.24it/s]"
          }
        },
        "125e39c88b874a679f077c700b67f3fa": {
          "model_module": "@jupyter-widgets/base",
          "model_name": "LayoutModel",
          "model_module_version": "1.2.0",
          "state": {
            "_model_module": "@jupyter-widgets/base",
            "_model_module_version": "1.2.0",
            "_model_name": "LayoutModel",
            "_view_count": null,
            "_view_module": "@jupyter-widgets/base",
            "_view_module_version": "1.2.0",
            "_view_name": "LayoutView",
            "align_content": null,
            "align_items": null,
            "align_self": null,
            "border": null,
            "bottom": null,
            "display": null,
            "flex": null,
            "flex_flow": null,
            "grid_area": null,
            "grid_auto_columns": null,
            "grid_auto_flow": null,
            "grid_auto_rows": null,
            "grid_column": null,
            "grid_gap": null,
            "grid_row": null,
            "grid_template_areas": null,
            "grid_template_columns": null,
            "grid_template_rows": null,
            "height": null,
            "justify_content": null,
            "justify_items": null,
            "left": null,
            "margin": null,
            "max_height": null,
            "max_width": null,
            "min_height": null,
            "min_width": null,
            "object_fit": null,
            "object_position": null,
            "order": null,
            "overflow": null,
            "overflow_x": null,
            "overflow_y": null,
            "padding": null,
            "right": null,
            "top": null,
            "visibility": null,
            "width": null
          }
        },
        "4bcf016266d84f3fb9fb49e78294cad4": {
          "model_module": "@jupyter-widgets/base",
          "model_name": "LayoutModel",
          "model_module_version": "1.2.0",
          "state": {
            "_model_module": "@jupyter-widgets/base",
            "_model_module_version": "1.2.0",
            "_model_name": "LayoutModel",
            "_view_count": null,
            "_view_module": "@jupyter-widgets/base",
            "_view_module_version": "1.2.0",
            "_view_name": "LayoutView",
            "align_content": null,
            "align_items": null,
            "align_self": null,
            "border": null,
            "bottom": null,
            "display": null,
            "flex": null,
            "flex_flow": null,
            "grid_area": null,
            "grid_auto_columns": null,
            "grid_auto_flow": null,
            "grid_auto_rows": null,
            "grid_column": null,
            "grid_gap": null,
            "grid_row": null,
            "grid_template_areas": null,
            "grid_template_columns": null,
            "grid_template_rows": null,
            "height": null,
            "justify_content": null,
            "justify_items": null,
            "left": null,
            "margin": null,
            "max_height": null,
            "max_width": null,
            "min_height": null,
            "min_width": null,
            "object_fit": null,
            "object_position": null,
            "order": null,
            "overflow": null,
            "overflow_x": null,
            "overflow_y": null,
            "padding": null,
            "right": null,
            "top": null,
            "visibility": null,
            "width": null
          }
        },
        "eec47e95130b44f3b0459d617d245141": {
          "model_module": "@jupyter-widgets/controls",
          "model_name": "ProgressStyleModel",
          "model_module_version": "1.5.0",
          "state": {
            "_model_module": "@jupyter-widgets/controls",
            "_model_module_version": "1.5.0",
            "_model_name": "ProgressStyleModel",
            "_view_count": null,
            "_view_module": "@jupyter-widgets/base",
            "_view_module_version": "1.2.0",
            "_view_name": "StyleView",
            "bar_color": null,
            "description_width": "initial"
          }
        },
        "8589394534ab4565983e0f054d8cab59": {
          "model_module": "@jupyter-widgets/base",
          "model_name": "LayoutModel",
          "model_module_version": "1.2.0",
          "state": {
            "_model_module": "@jupyter-widgets/base",
            "_model_module_version": "1.2.0",
            "_model_name": "LayoutModel",
            "_view_count": null,
            "_view_module": "@jupyter-widgets/base",
            "_view_module_version": "1.2.0",
            "_view_name": "LayoutView",
            "align_content": null,
            "align_items": null,
            "align_self": null,
            "border": null,
            "bottom": null,
            "display": null,
            "flex": null,
            "flex_flow": null,
            "grid_area": null,
            "grid_auto_columns": null,
            "grid_auto_flow": null,
            "grid_auto_rows": null,
            "grid_column": null,
            "grid_gap": null,
            "grid_row": null,
            "grid_template_areas": null,
            "grid_template_columns": null,
            "grid_template_rows": null,
            "height": null,
            "justify_content": null,
            "justify_items": null,
            "left": null,
            "margin": null,
            "max_height": null,
            "max_width": null,
            "min_height": null,
            "min_width": null,
            "object_fit": null,
            "object_position": null,
            "order": null,
            "overflow": null,
            "overflow_x": null,
            "overflow_y": null,
            "padding": null,
            "right": null,
            "top": null,
            "visibility": null,
            "width": null
          }
        },
        "3d85efd502cb470dbbab87698abc8572": {
          "model_module": "@jupyter-widgets/controls",
          "model_name": "DescriptionStyleModel",
          "model_module_version": "1.5.0",
          "state": {
            "_model_module": "@jupyter-widgets/controls",
            "_model_module_version": "1.5.0",
            "_model_name": "DescriptionStyleModel",
            "_view_count": null,
            "_view_module": "@jupyter-widgets/base",
            "_view_module_version": "1.2.0",
            "_view_name": "StyleView",
            "description_width": ""
          }
        },
        "df25a9f26b8e4acf91bc67056ef52c17": {
          "model_module": "@jupyter-widgets/controls",
          "model_name": "HBoxModel",
          "model_module_version": "1.5.0",
          "state": {
            "_dom_classes": [],
            "_model_module": "@jupyter-widgets/controls",
            "_model_module_version": "1.5.0",
            "_model_name": "HBoxModel",
            "_view_count": null,
            "_view_module": "@jupyter-widgets/controls",
            "_view_module_version": "1.5.0",
            "_view_name": "HBoxView",
            "box_style": "",
            "children": [
              "IPY_MODEL_edb09fd3178842f8bba4badd37d0548f",
              "IPY_MODEL_551dbd692f2646eca2aa0c4551bbd4a9"
            ],
            "layout": "IPY_MODEL_3dbae6e18649449f8fbcf09a2ab5f741"
          }
        },
        "edb09fd3178842f8bba4badd37d0548f": {
          "model_module": "@jupyter-widgets/controls",
          "model_name": "FloatProgressModel",
          "model_module_version": "1.5.0",
          "state": {
            "_dom_classes": [],
            "_model_module": "@jupyter-widgets/controls",
            "_model_module_version": "1.5.0",
            "_model_name": "FloatProgressModel",
            "_view_count": null,
            "_view_module": "@jupyter-widgets/controls",
            "_view_module_version": "1.5.0",
            "_view_name": "ProgressView",
            "bar_style": "success",
            "description": "Valid loss: 0.2776, Train loss: 0.1917: 100%",
            "description_tooltip": null,
            "layout": "IPY_MODEL_3773fd022be949cb80f4e4f8b8b6ad8f",
            "max": 1,
            "min": 0,
            "orientation": "horizontal",
            "style": "IPY_MODEL_7c9d39abd363411aa5a3b3a9e4bfb79e",
            "value": 1
          }
        },
        "551dbd692f2646eca2aa0c4551bbd4a9": {
          "model_module": "@jupyter-widgets/controls",
          "model_name": "HTMLModel",
          "model_module_version": "1.5.0",
          "state": {
            "_dom_classes": [],
            "_model_module": "@jupyter-widgets/controls",
            "_model_module_version": "1.5.0",
            "_model_name": "HTMLModel",
            "_view_count": null,
            "_view_module": "@jupyter-widgets/controls",
            "_view_module_version": "1.5.0",
            "_view_name": "HTMLView",
            "description": "",
            "description_tooltip": null,
            "layout": "IPY_MODEL_4768d60bb252431285e91ef182f06ce1",
            "placeholder": "​",
            "style": "IPY_MODEL_187620f4088f4e1da2672684495fc53f",
            "value": " 1/1 [03:16&lt;00:00, 196.81s/it]"
          }
        },
        "3dbae6e18649449f8fbcf09a2ab5f741": {
          "model_module": "@jupyter-widgets/base",
          "model_name": "LayoutModel",
          "model_module_version": "1.2.0",
          "state": {
            "_model_module": "@jupyter-widgets/base",
            "_model_module_version": "1.2.0",
            "_model_name": "LayoutModel",
            "_view_count": null,
            "_view_module": "@jupyter-widgets/base",
            "_view_module_version": "1.2.0",
            "_view_name": "LayoutView",
            "align_content": null,
            "align_items": null,
            "align_self": null,
            "border": null,
            "bottom": null,
            "display": null,
            "flex": null,
            "flex_flow": null,
            "grid_area": null,
            "grid_auto_columns": null,
            "grid_auto_flow": null,
            "grid_auto_rows": null,
            "grid_column": null,
            "grid_gap": null,
            "grid_row": null,
            "grid_template_areas": null,
            "grid_template_columns": null,
            "grid_template_rows": null,
            "height": null,
            "justify_content": null,
            "justify_items": null,
            "left": null,
            "margin": null,
            "max_height": null,
            "max_width": null,
            "min_height": null,
            "min_width": null,
            "object_fit": null,
            "object_position": null,
            "order": null,
            "overflow": null,
            "overflow_x": null,
            "overflow_y": null,
            "padding": null,
            "right": null,
            "top": null,
            "visibility": null,
            "width": null
          }
        },
        "3773fd022be949cb80f4e4f8b8b6ad8f": {
          "model_module": "@jupyter-widgets/base",
          "model_name": "LayoutModel",
          "model_module_version": "1.2.0",
          "state": {
            "_model_module": "@jupyter-widgets/base",
            "_model_module_version": "1.2.0",
            "_model_name": "LayoutModel",
            "_view_count": null,
            "_view_module": "@jupyter-widgets/base",
            "_view_module_version": "1.2.0",
            "_view_name": "LayoutView",
            "align_content": null,
            "align_items": null,
            "align_self": null,
            "border": null,
            "bottom": null,
            "display": null,
            "flex": null,
            "flex_flow": null,
            "grid_area": null,
            "grid_auto_columns": null,
            "grid_auto_flow": null,
            "grid_auto_rows": null,
            "grid_column": null,
            "grid_gap": null,
            "grid_row": null,
            "grid_template_areas": null,
            "grid_template_columns": null,
            "grid_template_rows": null,
            "height": null,
            "justify_content": null,
            "justify_items": null,
            "left": null,
            "margin": null,
            "max_height": null,
            "max_width": null,
            "min_height": null,
            "min_width": null,
            "object_fit": null,
            "object_position": null,
            "order": null,
            "overflow": null,
            "overflow_x": null,
            "overflow_y": null,
            "padding": null,
            "right": null,
            "top": null,
            "visibility": null,
            "width": null
          }
        },
        "7c9d39abd363411aa5a3b3a9e4bfb79e": {
          "model_module": "@jupyter-widgets/controls",
          "model_name": "ProgressStyleModel",
          "model_module_version": "1.5.0",
          "state": {
            "_model_module": "@jupyter-widgets/controls",
            "_model_module_version": "1.5.0",
            "_model_name": "ProgressStyleModel",
            "_view_count": null,
            "_view_module": "@jupyter-widgets/base",
            "_view_module_version": "1.2.0",
            "_view_name": "StyleView",
            "bar_color": null,
            "description_width": "initial"
          }
        },
        "4768d60bb252431285e91ef182f06ce1": {
          "model_module": "@jupyter-widgets/base",
          "model_name": "LayoutModel",
          "model_module_version": "1.2.0",
          "state": {
            "_model_module": "@jupyter-widgets/base",
            "_model_module_version": "1.2.0",
            "_model_name": "LayoutModel",
            "_view_count": null,
            "_view_module": "@jupyter-widgets/base",
            "_view_module_version": "1.2.0",
            "_view_name": "LayoutView",
            "align_content": null,
            "align_items": null,
            "align_self": null,
            "border": null,
            "bottom": null,
            "display": null,
            "flex": null,
            "flex_flow": null,
            "grid_area": null,
            "grid_auto_columns": null,
            "grid_auto_flow": null,
            "grid_auto_rows": null,
            "grid_column": null,
            "grid_gap": null,
            "grid_row": null,
            "grid_template_areas": null,
            "grid_template_columns": null,
            "grid_template_rows": null,
            "height": null,
            "justify_content": null,
            "justify_items": null,
            "left": null,
            "margin": null,
            "max_height": null,
            "max_width": null,
            "min_height": null,
            "min_width": null,
            "object_fit": null,
            "object_position": null,
            "order": null,
            "overflow": null,
            "overflow_x": null,
            "overflow_y": null,
            "padding": null,
            "right": null,
            "top": null,
            "visibility": null,
            "width": null
          }
        },
        "187620f4088f4e1da2672684495fc53f": {
          "model_module": "@jupyter-widgets/controls",
          "model_name": "DescriptionStyleModel",
          "model_module_version": "1.5.0",
          "state": {
            "_model_module": "@jupyter-widgets/controls",
            "_model_module_version": "1.5.0",
            "_model_name": "DescriptionStyleModel",
            "_view_count": null,
            "_view_module": "@jupyter-widgets/base",
            "_view_module_version": "1.2.0",
            "_view_name": "StyleView",
            "description_width": ""
          }
        },
        "85762edc61684759b96dcbabb8e8de59": {
          "model_module": "@jupyter-widgets/controls",
          "model_name": "HBoxModel",
          "model_module_version": "1.5.0",
          "state": {
            "_dom_classes": [],
            "_model_module": "@jupyter-widgets/controls",
            "_model_module_version": "1.5.0",
            "_model_name": "HBoxModel",
            "_view_count": null,
            "_view_module": "@jupyter-widgets/controls",
            "_view_module_version": "1.5.0",
            "_view_name": "HBoxView",
            "box_style": "",
            "children": [
              "IPY_MODEL_8c92d8c6e87a416c8a4dbe02d3f2d936",
              "IPY_MODEL_f09a150df4bd4a34a1024006c05d9676"
            ],
            "layout": "IPY_MODEL_aaf87d4da78547ea96b05acea958c841"
          }
        },
        "8c92d8c6e87a416c8a4dbe02d3f2d936": {
          "model_module": "@jupyter-widgets/controls",
          "model_name": "FloatProgressModel",
          "model_module_version": "1.5.0",
          "state": {
            "_dom_classes": [],
            "_model_module": "@jupyter-widgets/controls",
            "_model_module_version": "1.5.0",
            "_model_name": "FloatProgressModel",
            "_view_count": null,
            "_view_module": "@jupyter-widgets/controls",
            "_view_module_version": "1.5.0",
            "_view_name": "ProgressView",
            "bar_style": "success",
            "description": "   Train loss: 0.19178273313525224: 100%",
            "description_tooltip": null,
            "layout": "IPY_MODEL_18f7f8496dde4edead7a99b7256c0f1c",
            "max": 662,
            "min": 0,
            "orientation": "horizontal",
            "style": "IPY_MODEL_9a616e6838d342189f7fbe716301dc75",
            "value": 662
          }
        },
        "f09a150df4bd4a34a1024006c05d9676": {
          "model_module": "@jupyter-widgets/controls",
          "model_name": "HTMLModel",
          "model_module_version": "1.5.0",
          "state": {
            "_dom_classes": [],
            "_model_module": "@jupyter-widgets/controls",
            "_model_module_version": "1.5.0",
            "_model_name": "HTMLModel",
            "_view_count": null,
            "_view_module": "@jupyter-widgets/controls",
            "_view_module_version": "1.5.0",
            "_view_name": "HTMLView",
            "description": "",
            "description_tooltip": null,
            "layout": "IPY_MODEL_5f9db53e39694f3fb9e27d22348b14c2",
            "placeholder": "​",
            "style": "IPY_MODEL_32d4118e01cb45fb823bd0fd5b67d9ad",
            "value": " 662/662 [03:16&lt;00:00,  3.36it/s]"
          }
        },
        "aaf87d4da78547ea96b05acea958c841": {
          "model_module": "@jupyter-widgets/base",
          "model_name": "LayoutModel",
          "model_module_version": "1.2.0",
          "state": {
            "_model_module": "@jupyter-widgets/base",
            "_model_module_version": "1.2.0",
            "_model_name": "LayoutModel",
            "_view_count": null,
            "_view_module": "@jupyter-widgets/base",
            "_view_module_version": "1.2.0",
            "_view_name": "LayoutView",
            "align_content": null,
            "align_items": null,
            "align_self": null,
            "border": null,
            "bottom": null,
            "display": null,
            "flex": null,
            "flex_flow": null,
            "grid_area": null,
            "grid_auto_columns": null,
            "grid_auto_flow": null,
            "grid_auto_rows": null,
            "grid_column": null,
            "grid_gap": null,
            "grid_row": null,
            "grid_template_areas": null,
            "grid_template_columns": null,
            "grid_template_rows": null,
            "height": null,
            "justify_content": null,
            "justify_items": null,
            "left": null,
            "margin": null,
            "max_height": null,
            "max_width": null,
            "min_height": null,
            "min_width": null,
            "object_fit": null,
            "object_position": null,
            "order": null,
            "overflow": null,
            "overflow_x": null,
            "overflow_y": null,
            "padding": null,
            "right": null,
            "top": null,
            "visibility": null,
            "width": null
          }
        },
        "18f7f8496dde4edead7a99b7256c0f1c": {
          "model_module": "@jupyter-widgets/base",
          "model_name": "LayoutModel",
          "model_module_version": "1.2.0",
          "state": {
            "_model_module": "@jupyter-widgets/base",
            "_model_module_version": "1.2.0",
            "_model_name": "LayoutModel",
            "_view_count": null,
            "_view_module": "@jupyter-widgets/base",
            "_view_module_version": "1.2.0",
            "_view_name": "LayoutView",
            "align_content": null,
            "align_items": null,
            "align_self": null,
            "border": null,
            "bottom": null,
            "display": null,
            "flex": null,
            "flex_flow": null,
            "grid_area": null,
            "grid_auto_columns": null,
            "grid_auto_flow": null,
            "grid_auto_rows": null,
            "grid_column": null,
            "grid_gap": null,
            "grid_row": null,
            "grid_template_areas": null,
            "grid_template_columns": null,
            "grid_template_rows": null,
            "height": null,
            "justify_content": null,
            "justify_items": null,
            "left": null,
            "margin": null,
            "max_height": null,
            "max_width": null,
            "min_height": null,
            "min_width": null,
            "object_fit": null,
            "object_position": null,
            "order": null,
            "overflow": null,
            "overflow_x": null,
            "overflow_y": null,
            "padding": null,
            "right": null,
            "top": null,
            "visibility": null,
            "width": null
          }
        },
        "9a616e6838d342189f7fbe716301dc75": {
          "model_module": "@jupyter-widgets/controls",
          "model_name": "ProgressStyleModel",
          "model_module_version": "1.5.0",
          "state": {
            "_model_module": "@jupyter-widgets/controls",
            "_model_module_version": "1.5.0",
            "_model_name": "ProgressStyleModel",
            "_view_count": null,
            "_view_module": "@jupyter-widgets/base",
            "_view_module_version": "1.2.0",
            "_view_name": "StyleView",
            "bar_color": null,
            "description_width": "initial"
          }
        },
        "5f9db53e39694f3fb9e27d22348b14c2": {
          "model_module": "@jupyter-widgets/base",
          "model_name": "LayoutModel",
          "model_module_version": "1.2.0",
          "state": {
            "_model_module": "@jupyter-widgets/base",
            "_model_module_version": "1.2.0",
            "_model_name": "LayoutModel",
            "_view_count": null,
            "_view_module": "@jupyter-widgets/base",
            "_view_module_version": "1.2.0",
            "_view_name": "LayoutView",
            "align_content": null,
            "align_items": null,
            "align_self": null,
            "border": null,
            "bottom": null,
            "display": null,
            "flex": null,
            "flex_flow": null,
            "grid_area": null,
            "grid_auto_columns": null,
            "grid_auto_flow": null,
            "grid_auto_rows": null,
            "grid_column": null,
            "grid_gap": null,
            "grid_row": null,
            "grid_template_areas": null,
            "grid_template_columns": null,
            "grid_template_rows": null,
            "height": null,
            "justify_content": null,
            "justify_items": null,
            "left": null,
            "margin": null,
            "max_height": null,
            "max_width": null,
            "min_height": null,
            "min_width": null,
            "object_fit": null,
            "object_position": null,
            "order": null,
            "overflow": null,
            "overflow_x": null,
            "overflow_y": null,
            "padding": null,
            "right": null,
            "top": null,
            "visibility": null,
            "width": null
          }
        },
        "32d4118e01cb45fb823bd0fd5b67d9ad": {
          "model_module": "@jupyter-widgets/controls",
          "model_name": "DescriptionStyleModel",
          "model_module_version": "1.5.0",
          "state": {
            "_model_module": "@jupyter-widgets/controls",
            "_model_module_version": "1.5.0",
            "_model_name": "DescriptionStyleModel",
            "_view_count": null,
            "_view_module": "@jupyter-widgets/base",
            "_view_module_version": "1.2.0",
            "_view_name": "StyleView",
            "description_width": ""
          }
        },
        "60ec951fb8e74097bdb86b16583eda5f": {
          "model_module": "@jupyter-widgets/controls",
          "model_name": "HBoxModel",
          "model_module_version": "1.5.0",
          "state": {
            "_dom_classes": [],
            "_model_module": "@jupyter-widgets/controls",
            "_model_module_version": "1.5.0",
            "_model_name": "HBoxModel",
            "_view_count": null,
            "_view_module": "@jupyter-widgets/controls",
            "_view_module_version": "1.5.0",
            "_view_name": "HBoxView",
            "box_style": "",
            "children": [
              "IPY_MODEL_d4ff88101819479bb07a3df00addf18b",
              "IPY_MODEL_1fefc3337117459282dc8b1285db25cf"
            ],
            "layout": "IPY_MODEL_bc757f5be07d4ec89544fff70873cd5b"
          }
        },
        "d4ff88101819479bb07a3df00addf18b": {
          "model_module": "@jupyter-widgets/controls",
          "model_name": "FloatProgressModel",
          "model_module_version": "1.5.0",
          "state": {
            "_dom_classes": [],
            "_model_module": "@jupyter-widgets/controls",
            "_model_module_version": "1.5.0",
            "_model_name": "FloatProgressModel",
            "_view_count": null,
            "_view_module": "@jupyter-widgets/controls",
            "_view_module_version": "1.5.0",
            "_view_name": "ProgressView",
            "bar_style": "success",
            "description": "Valid loss: 0.2375, Train loss: 0.1849: 100%",
            "description_tooltip": null,
            "layout": "IPY_MODEL_eb5554c1dec24f6fb7071e5b192e8847",
            "max": 1,
            "min": 0,
            "orientation": "horizontal",
            "style": "IPY_MODEL_0126dec144884567bf9ab8bedd3b9083",
            "value": 1
          }
        },
        "1fefc3337117459282dc8b1285db25cf": {
          "model_module": "@jupyter-widgets/controls",
          "model_name": "HTMLModel",
          "model_module_version": "1.5.0",
          "state": {
            "_dom_classes": [],
            "_model_module": "@jupyter-widgets/controls",
            "_model_module_version": "1.5.0",
            "_model_name": "HTMLModel",
            "_view_count": null,
            "_view_module": "@jupyter-widgets/controls",
            "_view_module_version": "1.5.0",
            "_view_name": "HTMLView",
            "description": "",
            "description_tooltip": null,
            "layout": "IPY_MODEL_3aa90f845b5c44e7bc98f69aa7605534",
            "placeholder": "​",
            "style": "IPY_MODEL_670b1334304f4da0ad2b994bf69c33c0",
            "value": " 1/1 [04:15&lt;00:00, 255.88s/it]"
          }
        },
        "bc757f5be07d4ec89544fff70873cd5b": {
          "model_module": "@jupyter-widgets/base",
          "model_name": "LayoutModel",
          "model_module_version": "1.2.0",
          "state": {
            "_model_module": "@jupyter-widgets/base",
            "_model_module_version": "1.2.0",
            "_model_name": "LayoutModel",
            "_view_count": null,
            "_view_module": "@jupyter-widgets/base",
            "_view_module_version": "1.2.0",
            "_view_name": "LayoutView",
            "align_content": null,
            "align_items": null,
            "align_self": null,
            "border": null,
            "bottom": null,
            "display": null,
            "flex": null,
            "flex_flow": null,
            "grid_area": null,
            "grid_auto_columns": null,
            "grid_auto_flow": null,
            "grid_auto_rows": null,
            "grid_column": null,
            "grid_gap": null,
            "grid_row": null,
            "grid_template_areas": null,
            "grid_template_columns": null,
            "grid_template_rows": null,
            "height": null,
            "justify_content": null,
            "justify_items": null,
            "left": null,
            "margin": null,
            "max_height": null,
            "max_width": null,
            "min_height": null,
            "min_width": null,
            "object_fit": null,
            "object_position": null,
            "order": null,
            "overflow": null,
            "overflow_x": null,
            "overflow_y": null,
            "padding": null,
            "right": null,
            "top": null,
            "visibility": null,
            "width": null
          }
        },
        "eb5554c1dec24f6fb7071e5b192e8847": {
          "model_module": "@jupyter-widgets/base",
          "model_name": "LayoutModel",
          "model_module_version": "1.2.0",
          "state": {
            "_model_module": "@jupyter-widgets/base",
            "_model_module_version": "1.2.0",
            "_model_name": "LayoutModel",
            "_view_count": null,
            "_view_module": "@jupyter-widgets/base",
            "_view_module_version": "1.2.0",
            "_view_name": "LayoutView",
            "align_content": null,
            "align_items": null,
            "align_self": null,
            "border": null,
            "bottom": null,
            "display": null,
            "flex": null,
            "flex_flow": null,
            "grid_area": null,
            "grid_auto_columns": null,
            "grid_auto_flow": null,
            "grid_auto_rows": null,
            "grid_column": null,
            "grid_gap": null,
            "grid_row": null,
            "grid_template_areas": null,
            "grid_template_columns": null,
            "grid_template_rows": null,
            "height": null,
            "justify_content": null,
            "justify_items": null,
            "left": null,
            "margin": null,
            "max_height": null,
            "max_width": null,
            "min_height": null,
            "min_width": null,
            "object_fit": null,
            "object_position": null,
            "order": null,
            "overflow": null,
            "overflow_x": null,
            "overflow_y": null,
            "padding": null,
            "right": null,
            "top": null,
            "visibility": null,
            "width": null
          }
        },
        "0126dec144884567bf9ab8bedd3b9083": {
          "model_module": "@jupyter-widgets/controls",
          "model_name": "ProgressStyleModel",
          "model_module_version": "1.5.0",
          "state": {
            "_model_module": "@jupyter-widgets/controls",
            "_model_module_version": "1.5.0",
            "_model_name": "ProgressStyleModel",
            "_view_count": null,
            "_view_module": "@jupyter-widgets/base",
            "_view_module_version": "1.2.0",
            "_view_name": "StyleView",
            "bar_color": null,
            "description_width": "initial"
          }
        },
        "3aa90f845b5c44e7bc98f69aa7605534": {
          "model_module": "@jupyter-widgets/base",
          "model_name": "LayoutModel",
          "model_module_version": "1.2.0",
          "state": {
            "_model_module": "@jupyter-widgets/base",
            "_model_module_version": "1.2.0",
            "_model_name": "LayoutModel",
            "_view_count": null,
            "_view_module": "@jupyter-widgets/base",
            "_view_module_version": "1.2.0",
            "_view_name": "LayoutView",
            "align_content": null,
            "align_items": null,
            "align_self": null,
            "border": null,
            "bottom": null,
            "display": null,
            "flex": null,
            "flex_flow": null,
            "grid_area": null,
            "grid_auto_columns": null,
            "grid_auto_flow": null,
            "grid_auto_rows": null,
            "grid_column": null,
            "grid_gap": null,
            "grid_row": null,
            "grid_template_areas": null,
            "grid_template_columns": null,
            "grid_template_rows": null,
            "height": null,
            "justify_content": null,
            "justify_items": null,
            "left": null,
            "margin": null,
            "max_height": null,
            "max_width": null,
            "min_height": null,
            "min_width": null,
            "object_fit": null,
            "object_position": null,
            "order": null,
            "overflow": null,
            "overflow_x": null,
            "overflow_y": null,
            "padding": null,
            "right": null,
            "top": null,
            "visibility": null,
            "width": null
          }
        },
        "670b1334304f4da0ad2b994bf69c33c0": {
          "model_module": "@jupyter-widgets/controls",
          "model_name": "DescriptionStyleModel",
          "model_module_version": "1.5.0",
          "state": {
            "_model_module": "@jupyter-widgets/controls",
            "_model_module_version": "1.5.0",
            "_model_name": "DescriptionStyleModel",
            "_view_count": null,
            "_view_module": "@jupyter-widgets/base",
            "_view_module_version": "1.2.0",
            "_view_name": "StyleView",
            "description_width": ""
          }
        },
        "7cabff5e6cc248d1a87ab6533cb5804f": {
          "model_module": "@jupyter-widgets/controls",
          "model_name": "HBoxModel",
          "model_module_version": "1.5.0",
          "state": {
            "_dom_classes": [],
            "_model_module": "@jupyter-widgets/controls",
            "_model_module_version": "1.5.0",
            "_model_name": "HBoxModel",
            "_view_count": null,
            "_view_module": "@jupyter-widgets/controls",
            "_view_module_version": "1.5.0",
            "_view_name": "HBoxView",
            "box_style": "",
            "children": [
              "IPY_MODEL_9115a81518d44e3a8f33a29559e2ab16",
              "IPY_MODEL_9a9531eb31244155822ff7921849d635"
            ],
            "layout": "IPY_MODEL_81185d194137442e84a080a37ebef5a1"
          }
        },
        "9115a81518d44e3a8f33a29559e2ab16": {
          "model_module": "@jupyter-widgets/controls",
          "model_name": "FloatProgressModel",
          "model_module_version": "1.5.0",
          "state": {
            "_dom_classes": [],
            "_model_module": "@jupyter-widgets/controls",
            "_model_module_version": "1.5.0",
            "_model_name": "FloatProgressModel",
            "_view_count": null,
            "_view_module": "@jupyter-widgets/controls",
            "_view_module_version": "1.5.0",
            "_view_name": "ProgressView",
            "bar_style": "success",
            "description": "   Train loss: 0.18503277217715686: 100%",
            "description_tooltip": null,
            "layout": "IPY_MODEL_5b27aee555f1454292f0692a19fb8aae",
            "max": 662,
            "min": 0,
            "orientation": "horizontal",
            "style": "IPY_MODEL_e4b02ebaddf546308cda6a264e4daf08",
            "value": 662
          }
        },
        "9a9531eb31244155822ff7921849d635": {
          "model_module": "@jupyter-widgets/controls",
          "model_name": "HTMLModel",
          "model_module_version": "1.5.0",
          "state": {
            "_dom_classes": [],
            "_model_module": "@jupyter-widgets/controls",
            "_model_module_version": "1.5.0",
            "_model_name": "HTMLModel",
            "_view_count": null,
            "_view_module": "@jupyter-widgets/controls",
            "_view_module_version": "1.5.0",
            "_view_name": "HTMLView",
            "description": "",
            "description_tooltip": null,
            "layout": "IPY_MODEL_6ead1cc535204abda40800b5f1eaa6f5",
            "placeholder": "​",
            "style": "IPY_MODEL_ab471093fc5845d2bf7f4c55e597f9d1",
            "value": " 662/662 [04:15&lt;00:00,  2.59it/s]"
          }
        },
        "81185d194137442e84a080a37ebef5a1": {
          "model_module": "@jupyter-widgets/base",
          "model_name": "LayoutModel",
          "model_module_version": "1.2.0",
          "state": {
            "_model_module": "@jupyter-widgets/base",
            "_model_module_version": "1.2.0",
            "_model_name": "LayoutModel",
            "_view_count": null,
            "_view_module": "@jupyter-widgets/base",
            "_view_module_version": "1.2.0",
            "_view_name": "LayoutView",
            "align_content": null,
            "align_items": null,
            "align_self": null,
            "border": null,
            "bottom": null,
            "display": null,
            "flex": null,
            "flex_flow": null,
            "grid_area": null,
            "grid_auto_columns": null,
            "grid_auto_flow": null,
            "grid_auto_rows": null,
            "grid_column": null,
            "grid_gap": null,
            "grid_row": null,
            "grid_template_areas": null,
            "grid_template_columns": null,
            "grid_template_rows": null,
            "height": null,
            "justify_content": null,
            "justify_items": null,
            "left": null,
            "margin": null,
            "max_height": null,
            "max_width": null,
            "min_height": null,
            "min_width": null,
            "object_fit": null,
            "object_position": null,
            "order": null,
            "overflow": null,
            "overflow_x": null,
            "overflow_y": null,
            "padding": null,
            "right": null,
            "top": null,
            "visibility": null,
            "width": null
          }
        },
        "5b27aee555f1454292f0692a19fb8aae": {
          "model_module": "@jupyter-widgets/base",
          "model_name": "LayoutModel",
          "model_module_version": "1.2.0",
          "state": {
            "_model_module": "@jupyter-widgets/base",
            "_model_module_version": "1.2.0",
            "_model_name": "LayoutModel",
            "_view_count": null,
            "_view_module": "@jupyter-widgets/base",
            "_view_module_version": "1.2.0",
            "_view_name": "LayoutView",
            "align_content": null,
            "align_items": null,
            "align_self": null,
            "border": null,
            "bottom": null,
            "display": null,
            "flex": null,
            "flex_flow": null,
            "grid_area": null,
            "grid_auto_columns": null,
            "grid_auto_flow": null,
            "grid_auto_rows": null,
            "grid_column": null,
            "grid_gap": null,
            "grid_row": null,
            "grid_template_areas": null,
            "grid_template_columns": null,
            "grid_template_rows": null,
            "height": null,
            "justify_content": null,
            "justify_items": null,
            "left": null,
            "margin": null,
            "max_height": null,
            "max_width": null,
            "min_height": null,
            "min_width": null,
            "object_fit": null,
            "object_position": null,
            "order": null,
            "overflow": null,
            "overflow_x": null,
            "overflow_y": null,
            "padding": null,
            "right": null,
            "top": null,
            "visibility": null,
            "width": null
          }
        },
        "e4b02ebaddf546308cda6a264e4daf08": {
          "model_module": "@jupyter-widgets/controls",
          "model_name": "ProgressStyleModel",
          "model_module_version": "1.5.0",
          "state": {
            "_model_module": "@jupyter-widgets/controls",
            "_model_module_version": "1.5.0",
            "_model_name": "ProgressStyleModel",
            "_view_count": null,
            "_view_module": "@jupyter-widgets/base",
            "_view_module_version": "1.2.0",
            "_view_name": "StyleView",
            "bar_color": null,
            "description_width": "initial"
          }
        },
        "6ead1cc535204abda40800b5f1eaa6f5": {
          "model_module": "@jupyter-widgets/base",
          "model_name": "LayoutModel",
          "model_module_version": "1.2.0",
          "state": {
            "_model_module": "@jupyter-widgets/base",
            "_model_module_version": "1.2.0",
            "_model_name": "LayoutModel",
            "_view_count": null,
            "_view_module": "@jupyter-widgets/base",
            "_view_module_version": "1.2.0",
            "_view_name": "LayoutView",
            "align_content": null,
            "align_items": null,
            "align_self": null,
            "border": null,
            "bottom": null,
            "display": null,
            "flex": null,
            "flex_flow": null,
            "grid_area": null,
            "grid_auto_columns": null,
            "grid_auto_flow": null,
            "grid_auto_rows": null,
            "grid_column": null,
            "grid_gap": null,
            "grid_row": null,
            "grid_template_areas": null,
            "grid_template_columns": null,
            "grid_template_rows": null,
            "height": null,
            "justify_content": null,
            "justify_items": null,
            "left": null,
            "margin": null,
            "max_height": null,
            "max_width": null,
            "min_height": null,
            "min_width": null,
            "object_fit": null,
            "object_position": null,
            "order": null,
            "overflow": null,
            "overflow_x": null,
            "overflow_y": null,
            "padding": null,
            "right": null,
            "top": null,
            "visibility": null,
            "width": null
          }
        },
        "ab471093fc5845d2bf7f4c55e597f9d1": {
          "model_module": "@jupyter-widgets/controls",
          "model_name": "DescriptionStyleModel",
          "model_module_version": "1.5.0",
          "state": {
            "_model_module": "@jupyter-widgets/controls",
            "_model_module_version": "1.5.0",
            "_model_name": "DescriptionStyleModel",
            "_view_count": null,
            "_view_module": "@jupyter-widgets/base",
            "_view_module_version": "1.2.0",
            "_view_name": "StyleView",
            "description_width": ""
          }
        },
        "247f6fd3fdf34dc9b5341cb90d90d0e6": {
          "model_module": "@jupyter-widgets/controls",
          "model_name": "HBoxModel",
          "model_module_version": "1.5.0",
          "state": {
            "_dom_classes": [],
            "_model_module": "@jupyter-widgets/controls",
            "_model_module_version": "1.5.0",
            "_model_name": "HBoxModel",
            "_view_count": null,
            "_view_module": "@jupyter-widgets/controls",
            "_view_module_version": "1.5.0",
            "_view_name": "HBoxView",
            "box_style": "",
            "children": [
              "IPY_MODEL_4513050c03ae43d588846ddd842ff09e",
              "IPY_MODEL_92a29fe3f036447c9f175b4e4b2ea75e"
            ],
            "layout": "IPY_MODEL_4b4621420b3e4c94afbee3414efe397c"
          }
        },
        "4513050c03ae43d588846ddd842ff09e": {
          "model_module": "@jupyter-widgets/controls",
          "model_name": "FloatProgressModel",
          "model_module_version": "1.5.0",
          "state": {
            "_dom_classes": [],
            "_model_module": "@jupyter-widgets/controls",
            "_model_module_version": "1.5.0",
            "_model_name": "FloatProgressModel",
            "_view_count": null,
            "_view_module": "@jupyter-widgets/controls",
            "_view_module_version": "1.5.0",
            "_view_name": "ProgressView",
            "bar_style": "success",
            "description": "Valid loss: 0.2530, Train loss: 0.1725: 100%",
            "description_tooltip": null,
            "layout": "IPY_MODEL_d956afe1e3f2411d88071df90211ba8f",
            "max": 1,
            "min": 0,
            "orientation": "horizontal",
            "style": "IPY_MODEL_ebf70d5d09b84eecba98a4c3f8870677",
            "value": 1
          }
        },
        "92a29fe3f036447c9f175b4e4b2ea75e": {
          "model_module": "@jupyter-widgets/controls",
          "model_name": "HTMLModel",
          "model_module_version": "1.5.0",
          "state": {
            "_dom_classes": [],
            "_model_module": "@jupyter-widgets/controls",
            "_model_module_version": "1.5.0",
            "_model_name": "HTMLModel",
            "_view_count": null,
            "_view_module": "@jupyter-widgets/controls",
            "_view_module_version": "1.5.0",
            "_view_name": "HTMLView",
            "description": "",
            "description_tooltip": null,
            "layout": "IPY_MODEL_3ce71cfbabc242299317f88fc7434d00",
            "placeholder": "​",
            "style": "IPY_MODEL_5ad7faf0032049dda4ade93dd28c767e",
            "value": " 1/1 [02:17&lt;00:00, 137.96s/it]"
          }
        },
        "4b4621420b3e4c94afbee3414efe397c": {
          "model_module": "@jupyter-widgets/base",
          "model_name": "LayoutModel",
          "model_module_version": "1.2.0",
          "state": {
            "_model_module": "@jupyter-widgets/base",
            "_model_module_version": "1.2.0",
            "_model_name": "LayoutModel",
            "_view_count": null,
            "_view_module": "@jupyter-widgets/base",
            "_view_module_version": "1.2.0",
            "_view_name": "LayoutView",
            "align_content": null,
            "align_items": null,
            "align_self": null,
            "border": null,
            "bottom": null,
            "display": null,
            "flex": null,
            "flex_flow": null,
            "grid_area": null,
            "grid_auto_columns": null,
            "grid_auto_flow": null,
            "grid_auto_rows": null,
            "grid_column": null,
            "grid_gap": null,
            "grid_row": null,
            "grid_template_areas": null,
            "grid_template_columns": null,
            "grid_template_rows": null,
            "height": null,
            "justify_content": null,
            "justify_items": null,
            "left": null,
            "margin": null,
            "max_height": null,
            "max_width": null,
            "min_height": null,
            "min_width": null,
            "object_fit": null,
            "object_position": null,
            "order": null,
            "overflow": null,
            "overflow_x": null,
            "overflow_y": null,
            "padding": null,
            "right": null,
            "top": null,
            "visibility": null,
            "width": null
          }
        },
        "d956afe1e3f2411d88071df90211ba8f": {
          "model_module": "@jupyter-widgets/base",
          "model_name": "LayoutModel",
          "model_module_version": "1.2.0",
          "state": {
            "_model_module": "@jupyter-widgets/base",
            "_model_module_version": "1.2.0",
            "_model_name": "LayoutModel",
            "_view_count": null,
            "_view_module": "@jupyter-widgets/base",
            "_view_module_version": "1.2.0",
            "_view_name": "LayoutView",
            "align_content": null,
            "align_items": null,
            "align_self": null,
            "border": null,
            "bottom": null,
            "display": null,
            "flex": null,
            "flex_flow": null,
            "grid_area": null,
            "grid_auto_columns": null,
            "grid_auto_flow": null,
            "grid_auto_rows": null,
            "grid_column": null,
            "grid_gap": null,
            "grid_row": null,
            "grid_template_areas": null,
            "grid_template_columns": null,
            "grid_template_rows": null,
            "height": null,
            "justify_content": null,
            "justify_items": null,
            "left": null,
            "margin": null,
            "max_height": null,
            "max_width": null,
            "min_height": null,
            "min_width": null,
            "object_fit": null,
            "object_position": null,
            "order": null,
            "overflow": null,
            "overflow_x": null,
            "overflow_y": null,
            "padding": null,
            "right": null,
            "top": null,
            "visibility": null,
            "width": null
          }
        },
        "ebf70d5d09b84eecba98a4c3f8870677": {
          "model_module": "@jupyter-widgets/controls",
          "model_name": "ProgressStyleModel",
          "model_module_version": "1.5.0",
          "state": {
            "_model_module": "@jupyter-widgets/controls",
            "_model_module_version": "1.5.0",
            "_model_name": "ProgressStyleModel",
            "_view_count": null,
            "_view_module": "@jupyter-widgets/base",
            "_view_module_version": "1.2.0",
            "_view_name": "StyleView",
            "bar_color": null,
            "description_width": "initial"
          }
        },
        "3ce71cfbabc242299317f88fc7434d00": {
          "model_module": "@jupyter-widgets/base",
          "model_name": "LayoutModel",
          "model_module_version": "1.2.0",
          "state": {
            "_model_module": "@jupyter-widgets/base",
            "_model_module_version": "1.2.0",
            "_model_name": "LayoutModel",
            "_view_count": null,
            "_view_module": "@jupyter-widgets/base",
            "_view_module_version": "1.2.0",
            "_view_name": "LayoutView",
            "align_content": null,
            "align_items": null,
            "align_self": null,
            "border": null,
            "bottom": null,
            "display": null,
            "flex": null,
            "flex_flow": null,
            "grid_area": null,
            "grid_auto_columns": null,
            "grid_auto_flow": null,
            "grid_auto_rows": null,
            "grid_column": null,
            "grid_gap": null,
            "grid_row": null,
            "grid_template_areas": null,
            "grid_template_columns": null,
            "grid_template_rows": null,
            "height": null,
            "justify_content": null,
            "justify_items": null,
            "left": null,
            "margin": null,
            "max_height": null,
            "max_width": null,
            "min_height": null,
            "min_width": null,
            "object_fit": null,
            "object_position": null,
            "order": null,
            "overflow": null,
            "overflow_x": null,
            "overflow_y": null,
            "padding": null,
            "right": null,
            "top": null,
            "visibility": null,
            "width": null
          }
        },
        "5ad7faf0032049dda4ade93dd28c767e": {
          "model_module": "@jupyter-widgets/controls",
          "model_name": "DescriptionStyleModel",
          "model_module_version": "1.5.0",
          "state": {
            "_model_module": "@jupyter-widgets/controls",
            "_model_module_version": "1.5.0",
            "_model_name": "DescriptionStyleModel",
            "_view_count": null,
            "_view_module": "@jupyter-widgets/base",
            "_view_module_version": "1.2.0",
            "_view_name": "StyleView",
            "description_width": ""
          }
        },
        "7e985a700f0b433d9591466f1037a4e8": {
          "model_module": "@jupyter-widgets/controls",
          "model_name": "HBoxModel",
          "model_module_version": "1.5.0",
          "state": {
            "_dom_classes": [],
            "_model_module": "@jupyter-widgets/controls",
            "_model_module_version": "1.5.0",
            "_model_name": "HBoxModel",
            "_view_count": null,
            "_view_module": "@jupyter-widgets/controls",
            "_view_module_version": "1.5.0",
            "_view_name": "HBoxView",
            "box_style": "",
            "children": [
              "IPY_MODEL_622d339f8f5543598ead3e359074bc74",
              "IPY_MODEL_e682f722c4fc4843a4e9e0fc9bc23481"
            ],
            "layout": "IPY_MODEL_eff1ad5d9fb24e32977e19af8d42a091"
          }
        },
        "622d339f8f5543598ead3e359074bc74": {
          "model_module": "@jupyter-widgets/controls",
          "model_name": "FloatProgressModel",
          "model_module_version": "1.5.0",
          "state": {
            "_dom_classes": [],
            "_model_module": "@jupyter-widgets/controls",
            "_model_module_version": "1.5.0",
            "_model_name": "FloatProgressModel",
            "_view_count": null,
            "_view_module": "@jupyter-widgets/controls",
            "_view_module_version": "1.5.0",
            "_view_name": "ProgressView",
            "bar_style": "success",
            "description": "   Train loss: 0.17236650795231992: 100%",
            "description_tooltip": null,
            "layout": "IPY_MODEL_5a19dfa0d44e48e8989e1a7b26517b4b",
            "max": 662,
            "min": 0,
            "orientation": "horizontal",
            "style": "IPY_MODEL_e8fd6a8805f74ca0829a26c32dfefe79",
            "value": 662
          }
        },
        "e682f722c4fc4843a4e9e0fc9bc23481": {
          "model_module": "@jupyter-widgets/controls",
          "model_name": "HTMLModel",
          "model_module_version": "1.5.0",
          "state": {
            "_dom_classes": [],
            "_model_module": "@jupyter-widgets/controls",
            "_model_module_version": "1.5.0",
            "_model_name": "HTMLModel",
            "_view_count": null,
            "_view_module": "@jupyter-widgets/controls",
            "_view_module_version": "1.5.0",
            "_view_name": "HTMLView",
            "description": "",
            "description_tooltip": null,
            "layout": "IPY_MODEL_a0adc5e07964461d8f83c629e718d2b7",
            "placeholder": "​",
            "style": "IPY_MODEL_96ffc1c9200f4482a4d5f480e85fad1d",
            "value": " 662/662 [02:17&lt;00:00,  4.80it/s]"
          }
        },
        "eff1ad5d9fb24e32977e19af8d42a091": {
          "model_module": "@jupyter-widgets/base",
          "model_name": "LayoutModel",
          "model_module_version": "1.2.0",
          "state": {
            "_model_module": "@jupyter-widgets/base",
            "_model_module_version": "1.2.0",
            "_model_name": "LayoutModel",
            "_view_count": null,
            "_view_module": "@jupyter-widgets/base",
            "_view_module_version": "1.2.0",
            "_view_name": "LayoutView",
            "align_content": null,
            "align_items": null,
            "align_self": null,
            "border": null,
            "bottom": null,
            "display": null,
            "flex": null,
            "flex_flow": null,
            "grid_area": null,
            "grid_auto_columns": null,
            "grid_auto_flow": null,
            "grid_auto_rows": null,
            "grid_column": null,
            "grid_gap": null,
            "grid_row": null,
            "grid_template_areas": null,
            "grid_template_columns": null,
            "grid_template_rows": null,
            "height": null,
            "justify_content": null,
            "justify_items": null,
            "left": null,
            "margin": null,
            "max_height": null,
            "max_width": null,
            "min_height": null,
            "min_width": null,
            "object_fit": null,
            "object_position": null,
            "order": null,
            "overflow": null,
            "overflow_x": null,
            "overflow_y": null,
            "padding": null,
            "right": null,
            "top": null,
            "visibility": null,
            "width": null
          }
        },
        "5a19dfa0d44e48e8989e1a7b26517b4b": {
          "model_module": "@jupyter-widgets/base",
          "model_name": "LayoutModel",
          "model_module_version": "1.2.0",
          "state": {
            "_model_module": "@jupyter-widgets/base",
            "_model_module_version": "1.2.0",
            "_model_name": "LayoutModel",
            "_view_count": null,
            "_view_module": "@jupyter-widgets/base",
            "_view_module_version": "1.2.0",
            "_view_name": "LayoutView",
            "align_content": null,
            "align_items": null,
            "align_self": null,
            "border": null,
            "bottom": null,
            "display": null,
            "flex": null,
            "flex_flow": null,
            "grid_area": null,
            "grid_auto_columns": null,
            "grid_auto_flow": null,
            "grid_auto_rows": null,
            "grid_column": null,
            "grid_gap": null,
            "grid_row": null,
            "grid_template_areas": null,
            "grid_template_columns": null,
            "grid_template_rows": null,
            "height": null,
            "justify_content": null,
            "justify_items": null,
            "left": null,
            "margin": null,
            "max_height": null,
            "max_width": null,
            "min_height": null,
            "min_width": null,
            "object_fit": null,
            "object_position": null,
            "order": null,
            "overflow": null,
            "overflow_x": null,
            "overflow_y": null,
            "padding": null,
            "right": null,
            "top": null,
            "visibility": null,
            "width": null
          }
        },
        "e8fd6a8805f74ca0829a26c32dfefe79": {
          "model_module": "@jupyter-widgets/controls",
          "model_name": "ProgressStyleModel",
          "model_module_version": "1.5.0",
          "state": {
            "_model_module": "@jupyter-widgets/controls",
            "_model_module_version": "1.5.0",
            "_model_name": "ProgressStyleModel",
            "_view_count": null,
            "_view_module": "@jupyter-widgets/base",
            "_view_module_version": "1.2.0",
            "_view_name": "StyleView",
            "bar_color": null,
            "description_width": "initial"
          }
        },
        "a0adc5e07964461d8f83c629e718d2b7": {
          "model_module": "@jupyter-widgets/base",
          "model_name": "LayoutModel",
          "model_module_version": "1.2.0",
          "state": {
            "_model_module": "@jupyter-widgets/base",
            "_model_module_version": "1.2.0",
            "_model_name": "LayoutModel",
            "_view_count": null,
            "_view_module": "@jupyter-widgets/base",
            "_view_module_version": "1.2.0",
            "_view_name": "LayoutView",
            "align_content": null,
            "align_items": null,
            "align_self": null,
            "border": null,
            "bottom": null,
            "display": null,
            "flex": null,
            "flex_flow": null,
            "grid_area": null,
            "grid_auto_columns": null,
            "grid_auto_flow": null,
            "grid_auto_rows": null,
            "grid_column": null,
            "grid_gap": null,
            "grid_row": null,
            "grid_template_areas": null,
            "grid_template_columns": null,
            "grid_template_rows": null,
            "height": null,
            "justify_content": null,
            "justify_items": null,
            "left": null,
            "margin": null,
            "max_height": null,
            "max_width": null,
            "min_height": null,
            "min_width": null,
            "object_fit": null,
            "object_position": null,
            "order": null,
            "overflow": null,
            "overflow_x": null,
            "overflow_y": null,
            "padding": null,
            "right": null,
            "top": null,
            "visibility": null,
            "width": null
          }
        },
        "96ffc1c9200f4482a4d5f480e85fad1d": {
          "model_module": "@jupyter-widgets/controls",
          "model_name": "DescriptionStyleModel",
          "model_module_version": "1.5.0",
          "state": {
            "_model_module": "@jupyter-widgets/controls",
            "_model_module_version": "1.5.0",
            "_model_name": "DescriptionStyleModel",
            "_view_count": null,
            "_view_module": "@jupyter-widgets/base",
            "_view_module_version": "1.2.0",
            "_view_name": "StyleView",
            "description_width": ""
          }
        },
        "20fc4e2b141f4f98bd9023ad8907592c": {
          "model_module": "@jupyter-widgets/controls",
          "model_name": "HBoxModel",
          "model_module_version": "1.5.0",
          "state": {
            "_dom_classes": [],
            "_model_module": "@jupyter-widgets/controls",
            "_model_module_version": "1.5.0",
            "_model_name": "HBoxModel",
            "_view_count": null,
            "_view_module": "@jupyter-widgets/controls",
            "_view_module_version": "1.5.0",
            "_view_name": "HBoxView",
            "box_style": "",
            "children": [
              "IPY_MODEL_8f9481d665f64d6bb7d4caf5e9a161ff",
              "IPY_MODEL_0b5324bbac5c4e5581c0b67175487713"
            ],
            "layout": "IPY_MODEL_4ef9b662674b4a778d5d921fdd98e320"
          }
        },
        "8f9481d665f64d6bb7d4caf5e9a161ff": {
          "model_module": "@jupyter-widgets/controls",
          "model_name": "FloatProgressModel",
          "model_module_version": "1.5.0",
          "state": {
            "_dom_classes": [],
            "_model_module": "@jupyter-widgets/controls",
            "_model_module_version": "1.5.0",
            "_model_name": "FloatProgressModel",
            "_view_count": null,
            "_view_module": "@jupyter-widgets/controls",
            "_view_module_version": "1.5.0",
            "_view_name": "ProgressView",
            "bar_style": "success",
            "description": "Downloading: 100%",
            "description_tooltip": null,
            "layout": "IPY_MODEL_09c96b95ed3949a0b6f4257445131c71",
            "max": 791656,
            "min": 0,
            "orientation": "horizontal",
            "style": "IPY_MODEL_16836924b21743a4970a30dd7e00568d",
            "value": 791656
          }
        },
        "0b5324bbac5c4e5581c0b67175487713": {
          "model_module": "@jupyter-widgets/controls",
          "model_name": "HTMLModel",
          "model_module_version": "1.5.0",
          "state": {
            "_dom_classes": [],
            "_model_module": "@jupyter-widgets/controls",
            "_model_module_version": "1.5.0",
            "_model_name": "HTMLModel",
            "_view_count": null,
            "_view_module": "@jupyter-widgets/controls",
            "_view_module_version": "1.5.0",
            "_view_name": "HTMLView",
            "description": "",
            "description_tooltip": null,
            "layout": "IPY_MODEL_785a098b303941c9a4e5d0979e250727",
            "placeholder": "​",
            "style": "IPY_MODEL_f7a67804c7c44acdb1abf5c8f42cac46",
            "value": " 792k/792k [00:01&lt;00:00, 460kB/s]"
          }
        },
        "4ef9b662674b4a778d5d921fdd98e320": {
          "model_module": "@jupyter-widgets/base",
          "model_name": "LayoutModel",
          "model_module_version": "1.2.0",
          "state": {
            "_model_module": "@jupyter-widgets/base",
            "_model_module_version": "1.2.0",
            "_model_name": "LayoutModel",
            "_view_count": null,
            "_view_module": "@jupyter-widgets/base",
            "_view_module_version": "1.2.0",
            "_view_name": "LayoutView",
            "align_content": null,
            "align_items": null,
            "align_self": null,
            "border": null,
            "bottom": null,
            "display": null,
            "flex": null,
            "flex_flow": null,
            "grid_area": null,
            "grid_auto_columns": null,
            "grid_auto_flow": null,
            "grid_auto_rows": null,
            "grid_column": null,
            "grid_gap": null,
            "grid_row": null,
            "grid_template_areas": null,
            "grid_template_columns": null,
            "grid_template_rows": null,
            "height": null,
            "justify_content": null,
            "justify_items": null,
            "left": null,
            "margin": null,
            "max_height": null,
            "max_width": null,
            "min_height": null,
            "min_width": null,
            "object_fit": null,
            "object_position": null,
            "order": null,
            "overflow": null,
            "overflow_x": null,
            "overflow_y": null,
            "padding": null,
            "right": null,
            "top": null,
            "visibility": null,
            "width": null
          }
        },
        "09c96b95ed3949a0b6f4257445131c71": {
          "model_module": "@jupyter-widgets/base",
          "model_name": "LayoutModel",
          "model_module_version": "1.2.0",
          "state": {
            "_model_module": "@jupyter-widgets/base",
            "_model_module_version": "1.2.0",
            "_model_name": "LayoutModel",
            "_view_count": null,
            "_view_module": "@jupyter-widgets/base",
            "_view_module_version": "1.2.0",
            "_view_name": "LayoutView",
            "align_content": null,
            "align_items": null,
            "align_self": null,
            "border": null,
            "bottom": null,
            "display": null,
            "flex": null,
            "flex_flow": null,
            "grid_area": null,
            "grid_auto_columns": null,
            "grid_auto_flow": null,
            "grid_auto_rows": null,
            "grid_column": null,
            "grid_gap": null,
            "grid_row": null,
            "grid_template_areas": null,
            "grid_template_columns": null,
            "grid_template_rows": null,
            "height": null,
            "justify_content": null,
            "justify_items": null,
            "left": null,
            "margin": null,
            "max_height": null,
            "max_width": null,
            "min_height": null,
            "min_width": null,
            "object_fit": null,
            "object_position": null,
            "order": null,
            "overflow": null,
            "overflow_x": null,
            "overflow_y": null,
            "padding": null,
            "right": null,
            "top": null,
            "visibility": null,
            "width": null
          }
        },
        "16836924b21743a4970a30dd7e00568d": {
          "model_module": "@jupyter-widgets/controls",
          "model_name": "ProgressStyleModel",
          "model_module_version": "1.5.0",
          "state": {
            "_model_module": "@jupyter-widgets/controls",
            "_model_module_version": "1.5.0",
            "_model_name": "ProgressStyleModel",
            "_view_count": null,
            "_view_module": "@jupyter-widgets/base",
            "_view_module_version": "1.2.0",
            "_view_name": "StyleView",
            "bar_color": null,
            "description_width": "initial"
          }
        },
        "785a098b303941c9a4e5d0979e250727": {
          "model_module": "@jupyter-widgets/base",
          "model_name": "LayoutModel",
          "model_module_version": "1.2.0",
          "state": {
            "_model_module": "@jupyter-widgets/base",
            "_model_module_version": "1.2.0",
            "_model_name": "LayoutModel",
            "_view_count": null,
            "_view_module": "@jupyter-widgets/base",
            "_view_module_version": "1.2.0",
            "_view_name": "LayoutView",
            "align_content": null,
            "align_items": null,
            "align_self": null,
            "border": null,
            "bottom": null,
            "display": null,
            "flex": null,
            "flex_flow": null,
            "grid_area": null,
            "grid_auto_columns": null,
            "grid_auto_flow": null,
            "grid_auto_rows": null,
            "grid_column": null,
            "grid_gap": null,
            "grid_row": null,
            "grid_template_areas": null,
            "grid_template_columns": null,
            "grid_template_rows": null,
            "height": null,
            "justify_content": null,
            "justify_items": null,
            "left": null,
            "margin": null,
            "max_height": null,
            "max_width": null,
            "min_height": null,
            "min_width": null,
            "object_fit": null,
            "object_position": null,
            "order": null,
            "overflow": null,
            "overflow_x": null,
            "overflow_y": null,
            "padding": null,
            "right": null,
            "top": null,
            "visibility": null,
            "width": null
          }
        },
        "f7a67804c7c44acdb1abf5c8f42cac46": {
          "model_module": "@jupyter-widgets/controls",
          "model_name": "DescriptionStyleModel",
          "model_module_version": "1.5.0",
          "state": {
            "_model_module": "@jupyter-widgets/controls",
            "_model_module_version": "1.5.0",
            "_model_name": "DescriptionStyleModel",
            "_view_count": null,
            "_view_module": "@jupyter-widgets/base",
            "_view_module_version": "1.2.0",
            "_view_name": "StyleView",
            "description_width": ""
          }
        },
        "9b8cd447ab8846b28cf0425a6e0a5476": {
          "model_module": "@jupyter-widgets/controls",
          "model_name": "HBoxModel",
          "model_module_version": "1.5.0",
          "state": {
            "_dom_classes": [],
            "_model_module": "@jupyter-widgets/controls",
            "_model_module_version": "1.5.0",
            "_model_name": "HBoxModel",
            "_view_count": null,
            "_view_module": "@jupyter-widgets/controls",
            "_view_module_version": "1.5.0",
            "_view_name": "HBoxView",
            "box_style": "",
            "children": [
              "IPY_MODEL_311aa12c4c3f4a1b982c8f8765c45862",
              "IPY_MODEL_4c15b834058d4f24b55d2753e68aeae3"
            ],
            "layout": "IPY_MODEL_089486fefbcb446b91bf75e3acffcbbb"
          }
        },
        "311aa12c4c3f4a1b982c8f8765c45862": {
          "model_module": "@jupyter-widgets/controls",
          "model_name": "FloatProgressModel",
          "model_module_version": "1.5.0",
          "state": {
            "_dom_classes": [],
            "_model_module": "@jupyter-widgets/controls",
            "_model_module_version": "1.5.0",
            "_model_name": "FloatProgressModel",
            "_view_count": null,
            "_view_module": "@jupyter-widgets/controls",
            "_view_module_version": "1.5.0",
            "_view_name": "ProgressView",
            "bar_style": "success",
            "description": "Downloading: 100%",
            "description_tooltip": null,
            "layout": "IPY_MODEL_56ccb8d67f824bcea0b11529742d638f",
            "max": 1200,
            "min": 0,
            "orientation": "horizontal",
            "style": "IPY_MODEL_5e67b27799b94c0c9df64dffb35b6083",
            "value": 1200
          }
        },
        "4c15b834058d4f24b55d2753e68aeae3": {
          "model_module": "@jupyter-widgets/controls",
          "model_name": "HTMLModel",
          "model_module_version": "1.5.0",
          "state": {
            "_dom_classes": [],
            "_model_module": "@jupyter-widgets/controls",
            "_model_module_version": "1.5.0",
            "_model_name": "HTMLModel",
            "_view_count": null,
            "_view_module": "@jupyter-widgets/controls",
            "_view_module_version": "1.5.0",
            "_view_name": "HTMLView",
            "description": "",
            "description_tooltip": null,
            "layout": "IPY_MODEL_1b584790144d4624a0e8abc639ccff8e",
            "placeholder": "​",
            "style": "IPY_MODEL_b633531040c1456eb987004e07ba5fac",
            "value": " 1.20k/1.20k [00:00&lt;00:00, 13.0kB/s]"
          }
        },
        "089486fefbcb446b91bf75e3acffcbbb": {
          "model_module": "@jupyter-widgets/base",
          "model_name": "LayoutModel",
          "model_module_version": "1.2.0",
          "state": {
            "_model_module": "@jupyter-widgets/base",
            "_model_module_version": "1.2.0",
            "_model_name": "LayoutModel",
            "_view_count": null,
            "_view_module": "@jupyter-widgets/base",
            "_view_module_version": "1.2.0",
            "_view_name": "LayoutView",
            "align_content": null,
            "align_items": null,
            "align_self": null,
            "border": null,
            "bottom": null,
            "display": null,
            "flex": null,
            "flex_flow": null,
            "grid_area": null,
            "grid_auto_columns": null,
            "grid_auto_flow": null,
            "grid_auto_rows": null,
            "grid_column": null,
            "grid_gap": null,
            "grid_row": null,
            "grid_template_areas": null,
            "grid_template_columns": null,
            "grid_template_rows": null,
            "height": null,
            "justify_content": null,
            "justify_items": null,
            "left": null,
            "margin": null,
            "max_height": null,
            "max_width": null,
            "min_height": null,
            "min_width": null,
            "object_fit": null,
            "object_position": null,
            "order": null,
            "overflow": null,
            "overflow_x": null,
            "overflow_y": null,
            "padding": null,
            "right": null,
            "top": null,
            "visibility": null,
            "width": null
          }
        },
        "56ccb8d67f824bcea0b11529742d638f": {
          "model_module": "@jupyter-widgets/base",
          "model_name": "LayoutModel",
          "model_module_version": "1.2.0",
          "state": {
            "_model_module": "@jupyter-widgets/base",
            "_model_module_version": "1.2.0",
            "_model_name": "LayoutModel",
            "_view_count": null,
            "_view_module": "@jupyter-widgets/base",
            "_view_module_version": "1.2.0",
            "_view_name": "LayoutView",
            "align_content": null,
            "align_items": null,
            "align_self": null,
            "border": null,
            "bottom": null,
            "display": null,
            "flex": null,
            "flex_flow": null,
            "grid_area": null,
            "grid_auto_columns": null,
            "grid_auto_flow": null,
            "grid_auto_rows": null,
            "grid_column": null,
            "grid_gap": null,
            "grid_row": null,
            "grid_template_areas": null,
            "grid_template_columns": null,
            "grid_template_rows": null,
            "height": null,
            "justify_content": null,
            "justify_items": null,
            "left": null,
            "margin": null,
            "max_height": null,
            "max_width": null,
            "min_height": null,
            "min_width": null,
            "object_fit": null,
            "object_position": null,
            "order": null,
            "overflow": null,
            "overflow_x": null,
            "overflow_y": null,
            "padding": null,
            "right": null,
            "top": null,
            "visibility": null,
            "width": null
          }
        },
        "5e67b27799b94c0c9df64dffb35b6083": {
          "model_module": "@jupyter-widgets/controls",
          "model_name": "ProgressStyleModel",
          "model_module_version": "1.5.0",
          "state": {
            "_model_module": "@jupyter-widgets/controls",
            "_model_module_version": "1.5.0",
            "_model_name": "ProgressStyleModel",
            "_view_count": null,
            "_view_module": "@jupyter-widgets/base",
            "_view_module_version": "1.2.0",
            "_view_name": "StyleView",
            "bar_color": null,
            "description_width": "initial"
          }
        },
        "1b584790144d4624a0e8abc639ccff8e": {
          "model_module": "@jupyter-widgets/base",
          "model_name": "LayoutModel",
          "model_module_version": "1.2.0",
          "state": {
            "_model_module": "@jupyter-widgets/base",
            "_model_module_version": "1.2.0",
            "_model_name": "LayoutModel",
            "_view_count": null,
            "_view_module": "@jupyter-widgets/base",
            "_view_module_version": "1.2.0",
            "_view_name": "LayoutView",
            "align_content": null,
            "align_items": null,
            "align_self": null,
            "border": null,
            "bottom": null,
            "display": null,
            "flex": null,
            "flex_flow": null,
            "grid_area": null,
            "grid_auto_columns": null,
            "grid_auto_flow": null,
            "grid_auto_rows": null,
            "grid_column": null,
            "grid_gap": null,
            "grid_row": null,
            "grid_template_areas": null,
            "grid_template_columns": null,
            "grid_template_rows": null,
            "height": null,
            "justify_content": null,
            "justify_items": null,
            "left": null,
            "margin": null,
            "max_height": null,
            "max_width": null,
            "min_height": null,
            "min_width": null,
            "object_fit": null,
            "object_position": null,
            "order": null,
            "overflow": null,
            "overflow_x": null,
            "overflow_y": null,
            "padding": null,
            "right": null,
            "top": null,
            "visibility": null,
            "width": null
          }
        },
        "b633531040c1456eb987004e07ba5fac": {
          "model_module": "@jupyter-widgets/controls",
          "model_name": "DescriptionStyleModel",
          "model_module_version": "1.5.0",
          "state": {
            "_model_module": "@jupyter-widgets/controls",
            "_model_module_version": "1.5.0",
            "_model_name": "DescriptionStyleModel",
            "_view_count": null,
            "_view_module": "@jupyter-widgets/base",
            "_view_module_version": "1.2.0",
            "_view_name": "StyleView",
            "description_width": ""
          }
        },
        "b16abb6c17f649079b668877de4b6b4b": {
          "model_module": "@jupyter-widgets/controls",
          "model_name": "HBoxModel",
          "model_module_version": "1.5.0",
          "state": {
            "_dom_classes": [],
            "_model_module": "@jupyter-widgets/controls",
            "_model_module_version": "1.5.0",
            "_model_name": "HBoxModel",
            "_view_count": null,
            "_view_module": "@jupyter-widgets/controls",
            "_view_module_version": "1.5.0",
            "_view_name": "HBoxView",
            "box_style": "",
            "children": [
              "IPY_MODEL_d2b2430c28bf440780fd2116d57c2244",
              "IPY_MODEL_569698ea685447d1a9789075316e9d3f"
            ],
            "layout": "IPY_MODEL_d19037b9113a4353aff3f083f366e6f7"
          }
        },
        "d2b2430c28bf440780fd2116d57c2244": {
          "model_module": "@jupyter-widgets/controls",
          "model_name": "FloatProgressModel",
          "model_module_version": "1.5.0",
          "state": {
            "_dom_classes": [],
            "_model_module": "@jupyter-widgets/controls",
            "_model_module_version": "1.5.0",
            "_model_name": "FloatProgressModel",
            "_view_count": null,
            "_view_module": "@jupyter-widgets/controls",
            "_view_module_version": "1.5.0",
            "_view_name": "ProgressView",
            "bar_style": "success",
            "description": "Downloading: 100%",
            "description_tooltip": null,
            "layout": "IPY_MODEL_3fd8c16f6cdd4b388964c59a99d0255d",
            "max": 2950825948,
            "min": 0,
            "orientation": "horizontal",
            "style": "IPY_MODEL_a6f7003c2bb04097bb4ce1bc8293f2f6",
            "value": 2950825948
          }
        },
        "569698ea685447d1a9789075316e9d3f": {
          "model_module": "@jupyter-widgets/controls",
          "model_name": "HTMLModel",
          "model_module_version": "1.5.0",
          "state": {
            "_dom_classes": [],
            "_model_module": "@jupyter-widgets/controls",
            "_model_module_version": "1.5.0",
            "_model_name": "HTMLModel",
            "_view_count": null,
            "_view_module": "@jupyter-widgets/controls",
            "_view_module_version": "1.5.0",
            "_view_name": "HTMLView",
            "description": "",
            "description_tooltip": null,
            "layout": "IPY_MODEL_b5142ce58df244ac999721e2664c592c",
            "placeholder": "​",
            "style": "IPY_MODEL_91bbe7c7d67247d7b3396fcc58853e71",
            "value": " 2.95G/2.95G [00:49&lt;00:00, 59.2MB/s]"
          }
        },
        "d19037b9113a4353aff3f083f366e6f7": {
          "model_module": "@jupyter-widgets/base",
          "model_name": "LayoutModel",
          "model_module_version": "1.2.0",
          "state": {
            "_model_module": "@jupyter-widgets/base",
            "_model_module_version": "1.2.0",
            "_model_name": "LayoutModel",
            "_view_count": null,
            "_view_module": "@jupyter-widgets/base",
            "_view_module_version": "1.2.0",
            "_view_name": "LayoutView",
            "align_content": null,
            "align_items": null,
            "align_self": null,
            "border": null,
            "bottom": null,
            "display": null,
            "flex": null,
            "flex_flow": null,
            "grid_area": null,
            "grid_auto_columns": null,
            "grid_auto_flow": null,
            "grid_auto_rows": null,
            "grid_column": null,
            "grid_gap": null,
            "grid_row": null,
            "grid_template_areas": null,
            "grid_template_columns": null,
            "grid_template_rows": null,
            "height": null,
            "justify_content": null,
            "justify_items": null,
            "left": null,
            "margin": null,
            "max_height": null,
            "max_width": null,
            "min_height": null,
            "min_width": null,
            "object_fit": null,
            "object_position": null,
            "order": null,
            "overflow": null,
            "overflow_x": null,
            "overflow_y": null,
            "padding": null,
            "right": null,
            "top": null,
            "visibility": null,
            "width": null
          }
        },
        "3fd8c16f6cdd4b388964c59a99d0255d": {
          "model_module": "@jupyter-widgets/base",
          "model_name": "LayoutModel",
          "model_module_version": "1.2.0",
          "state": {
            "_model_module": "@jupyter-widgets/base",
            "_model_module_version": "1.2.0",
            "_model_name": "LayoutModel",
            "_view_count": null,
            "_view_module": "@jupyter-widgets/base",
            "_view_module_version": "1.2.0",
            "_view_name": "LayoutView",
            "align_content": null,
            "align_items": null,
            "align_self": null,
            "border": null,
            "bottom": null,
            "display": null,
            "flex": null,
            "flex_flow": null,
            "grid_area": null,
            "grid_auto_columns": null,
            "grid_auto_flow": null,
            "grid_auto_rows": null,
            "grid_column": null,
            "grid_gap": null,
            "grid_row": null,
            "grid_template_areas": null,
            "grid_template_columns": null,
            "grid_template_rows": null,
            "height": null,
            "justify_content": null,
            "justify_items": null,
            "left": null,
            "margin": null,
            "max_height": null,
            "max_width": null,
            "min_height": null,
            "min_width": null,
            "object_fit": null,
            "object_position": null,
            "order": null,
            "overflow": null,
            "overflow_x": null,
            "overflow_y": null,
            "padding": null,
            "right": null,
            "top": null,
            "visibility": null,
            "width": null
          }
        },
        "a6f7003c2bb04097bb4ce1bc8293f2f6": {
          "model_module": "@jupyter-widgets/controls",
          "model_name": "ProgressStyleModel",
          "model_module_version": "1.5.0",
          "state": {
            "_model_module": "@jupyter-widgets/controls",
            "_model_module_version": "1.5.0",
            "_model_name": "ProgressStyleModel",
            "_view_count": null,
            "_view_module": "@jupyter-widgets/base",
            "_view_module_version": "1.2.0",
            "_view_name": "StyleView",
            "bar_color": null,
            "description_width": "initial"
          }
        },
        "b5142ce58df244ac999721e2664c592c": {
          "model_module": "@jupyter-widgets/base",
          "model_name": "LayoutModel",
          "model_module_version": "1.2.0",
          "state": {
            "_model_module": "@jupyter-widgets/base",
            "_model_module_version": "1.2.0",
            "_model_name": "LayoutModel",
            "_view_count": null,
            "_view_module": "@jupyter-widgets/base",
            "_view_module_version": "1.2.0",
            "_view_name": "LayoutView",
            "align_content": null,
            "align_items": null,
            "align_self": null,
            "border": null,
            "bottom": null,
            "display": null,
            "flex": null,
            "flex_flow": null,
            "grid_area": null,
            "grid_auto_columns": null,
            "grid_auto_flow": null,
            "grid_auto_rows": null,
            "grid_column": null,
            "grid_gap": null,
            "grid_row": null,
            "grid_template_areas": null,
            "grid_template_columns": null,
            "grid_template_rows": null,
            "height": null,
            "justify_content": null,
            "justify_items": null,
            "left": null,
            "margin": null,
            "max_height": null,
            "max_width": null,
            "min_height": null,
            "min_width": null,
            "object_fit": null,
            "object_position": null,
            "order": null,
            "overflow": null,
            "overflow_x": null,
            "overflow_y": null,
            "padding": null,
            "right": null,
            "top": null,
            "visibility": null,
            "width": null
          }
        },
        "91bbe7c7d67247d7b3396fcc58853e71": {
          "model_module": "@jupyter-widgets/controls",
          "model_name": "DescriptionStyleModel",
          "model_module_version": "1.5.0",
          "state": {
            "_model_module": "@jupyter-widgets/controls",
            "_model_module_version": "1.5.0",
            "_model_name": "DescriptionStyleModel",
            "_view_count": null,
            "_view_module": "@jupyter-widgets/base",
            "_view_module_version": "1.2.0",
            "_view_name": "StyleView",
            "description_width": ""
          }
        },
        "dee9a88f8caa4a08b534897911758778": {
          "model_module": "@jupyter-widgets/controls",
          "model_name": "HBoxModel",
          "model_module_version": "1.5.0",
          "state": {
            "_dom_classes": [],
            "_model_module": "@jupyter-widgets/controls",
            "_model_module_version": "1.5.0",
            "_model_name": "HBoxModel",
            "_view_count": null,
            "_view_module": "@jupyter-widgets/controls",
            "_view_module_version": "1.5.0",
            "_view_name": "HBoxView",
            "box_style": "",
            "children": [
              "IPY_MODEL_d571750941744bd5a5aec07860684de1",
              "IPY_MODEL_751ef1e2305d4255b508716c81f75d46"
            ],
            "layout": "IPY_MODEL_bb3eada8cf5147f6b39767c082d38e78"
          }
        },
        "d571750941744bd5a5aec07860684de1": {
          "model_module": "@jupyter-widgets/controls",
          "model_name": "FloatProgressModel",
          "model_module_version": "1.5.0",
          "state": {
            "_dom_classes": [],
            "_model_module": "@jupyter-widgets/controls",
            "_model_module_version": "1.5.0",
            "_model_name": "FloatProgressModel",
            "_view_count": null,
            "_view_module": "@jupyter-widgets/controls",
            "_view_module_version": "1.5.0",
            "_view_name": "ProgressView",
            "bar_style": "success",
            "description": "Valid loss: 0.3098, Train loss: 0.1879: 100%",
            "description_tooltip": null,
            "layout": "IPY_MODEL_8174121bb32347058401009c4ad7c664",
            "max": 1,
            "min": 0,
            "orientation": "horizontal",
            "style": "IPY_MODEL_6a218e6612a2453ca6af1124ac565250",
            "value": 1
          }
        },
        "751ef1e2305d4255b508716c81f75d46": {
          "model_module": "@jupyter-widgets/controls",
          "model_name": "HTMLModel",
          "model_module_version": "1.5.0",
          "state": {
            "_dom_classes": [],
            "_model_module": "@jupyter-widgets/controls",
            "_model_module_version": "1.5.0",
            "_model_name": "HTMLModel",
            "_view_count": null,
            "_view_module": "@jupyter-widgets/controls",
            "_view_module_version": "1.5.0",
            "_view_name": "HTMLView",
            "description": "",
            "description_tooltip": null,
            "layout": "IPY_MODEL_ffa3d8eb1a6a4bb69ca4d054c0ac84ea",
            "placeholder": "​",
            "style": "IPY_MODEL_8853f2764aad441b8a855c8cb300a22d",
            "value": " 1/1 [51:42&lt;00:00, 3102.02s/it]"
          }
        },
        "bb3eada8cf5147f6b39767c082d38e78": {
          "model_module": "@jupyter-widgets/base",
          "model_name": "LayoutModel",
          "model_module_version": "1.2.0",
          "state": {
            "_model_module": "@jupyter-widgets/base",
            "_model_module_version": "1.2.0",
            "_model_name": "LayoutModel",
            "_view_count": null,
            "_view_module": "@jupyter-widgets/base",
            "_view_module_version": "1.2.0",
            "_view_name": "LayoutView",
            "align_content": null,
            "align_items": null,
            "align_self": null,
            "border": null,
            "bottom": null,
            "display": null,
            "flex": null,
            "flex_flow": null,
            "grid_area": null,
            "grid_auto_columns": null,
            "grid_auto_flow": null,
            "grid_auto_rows": null,
            "grid_column": null,
            "grid_gap": null,
            "grid_row": null,
            "grid_template_areas": null,
            "grid_template_columns": null,
            "grid_template_rows": null,
            "height": null,
            "justify_content": null,
            "justify_items": null,
            "left": null,
            "margin": null,
            "max_height": null,
            "max_width": null,
            "min_height": null,
            "min_width": null,
            "object_fit": null,
            "object_position": null,
            "order": null,
            "overflow": null,
            "overflow_x": null,
            "overflow_y": null,
            "padding": null,
            "right": null,
            "top": null,
            "visibility": null,
            "width": null
          }
        },
        "8174121bb32347058401009c4ad7c664": {
          "model_module": "@jupyter-widgets/base",
          "model_name": "LayoutModel",
          "model_module_version": "1.2.0",
          "state": {
            "_model_module": "@jupyter-widgets/base",
            "_model_module_version": "1.2.0",
            "_model_name": "LayoutModel",
            "_view_count": null,
            "_view_module": "@jupyter-widgets/base",
            "_view_module_version": "1.2.0",
            "_view_name": "LayoutView",
            "align_content": null,
            "align_items": null,
            "align_self": null,
            "border": null,
            "bottom": null,
            "display": null,
            "flex": null,
            "flex_flow": null,
            "grid_area": null,
            "grid_auto_columns": null,
            "grid_auto_flow": null,
            "grid_auto_rows": null,
            "grid_column": null,
            "grid_gap": null,
            "grid_row": null,
            "grid_template_areas": null,
            "grid_template_columns": null,
            "grid_template_rows": null,
            "height": null,
            "justify_content": null,
            "justify_items": null,
            "left": null,
            "margin": null,
            "max_height": null,
            "max_width": null,
            "min_height": null,
            "min_width": null,
            "object_fit": null,
            "object_position": null,
            "order": null,
            "overflow": null,
            "overflow_x": null,
            "overflow_y": null,
            "padding": null,
            "right": null,
            "top": null,
            "visibility": null,
            "width": null
          }
        },
        "6a218e6612a2453ca6af1124ac565250": {
          "model_module": "@jupyter-widgets/controls",
          "model_name": "ProgressStyleModel",
          "model_module_version": "1.5.0",
          "state": {
            "_model_module": "@jupyter-widgets/controls",
            "_model_module_version": "1.5.0",
            "_model_name": "ProgressStyleModel",
            "_view_count": null,
            "_view_module": "@jupyter-widgets/base",
            "_view_module_version": "1.2.0",
            "_view_name": "StyleView",
            "bar_color": null,
            "description_width": "initial"
          }
        },
        "ffa3d8eb1a6a4bb69ca4d054c0ac84ea": {
          "model_module": "@jupyter-widgets/base",
          "model_name": "LayoutModel",
          "model_module_version": "1.2.0",
          "state": {
            "_model_module": "@jupyter-widgets/base",
            "_model_module_version": "1.2.0",
            "_model_name": "LayoutModel",
            "_view_count": null,
            "_view_module": "@jupyter-widgets/base",
            "_view_module_version": "1.2.0",
            "_view_name": "LayoutView",
            "align_content": null,
            "align_items": null,
            "align_self": null,
            "border": null,
            "bottom": null,
            "display": null,
            "flex": null,
            "flex_flow": null,
            "grid_area": null,
            "grid_auto_columns": null,
            "grid_auto_flow": null,
            "grid_auto_rows": null,
            "grid_column": null,
            "grid_gap": null,
            "grid_row": null,
            "grid_template_areas": null,
            "grid_template_columns": null,
            "grid_template_rows": null,
            "height": null,
            "justify_content": null,
            "justify_items": null,
            "left": null,
            "margin": null,
            "max_height": null,
            "max_width": null,
            "min_height": null,
            "min_width": null,
            "object_fit": null,
            "object_position": null,
            "order": null,
            "overflow": null,
            "overflow_x": null,
            "overflow_y": null,
            "padding": null,
            "right": null,
            "top": null,
            "visibility": null,
            "width": null
          }
        },
        "8853f2764aad441b8a855c8cb300a22d": {
          "model_module": "@jupyter-widgets/controls",
          "model_name": "DescriptionStyleModel",
          "model_module_version": "1.5.0",
          "state": {
            "_model_module": "@jupyter-widgets/controls",
            "_model_module_version": "1.5.0",
            "_model_name": "DescriptionStyleModel",
            "_view_count": null,
            "_view_module": "@jupyter-widgets/base",
            "_view_module_version": "1.2.0",
            "_view_name": "StyleView",
            "description_width": ""
          }
        },
        "d9b2ece8fabb49f3b1d9905ff15dbb6a": {
          "model_module": "@jupyter-widgets/controls",
          "model_name": "HBoxModel",
          "model_module_version": "1.5.0",
          "state": {
            "_dom_classes": [],
            "_model_module": "@jupyter-widgets/controls",
            "_model_module_version": "1.5.0",
            "_model_name": "HBoxModel",
            "_view_count": null,
            "_view_module": "@jupyter-widgets/controls",
            "_view_module_version": "1.5.0",
            "_view_name": "HBoxView",
            "box_style": "",
            "children": [
              "IPY_MODEL_e91e7bf85351480fac8a0390547db5b4",
              "IPY_MODEL_93e54aec6e68486cac799654acb13100"
            ],
            "layout": "IPY_MODEL_27071130de134f4092674eb73dadfc48"
          }
        },
        "e91e7bf85351480fac8a0390547db5b4": {
          "model_module": "@jupyter-widgets/controls",
          "model_name": "FloatProgressModel",
          "model_module_version": "1.5.0",
          "state": {
            "_dom_classes": [],
            "_model_module": "@jupyter-widgets/controls",
            "_model_module_version": "1.5.0",
            "_model_name": "FloatProgressModel",
            "_view_count": null,
            "_view_module": "@jupyter-widgets/controls",
            "_view_module_version": "1.5.0",
            "_view_name": "ProgressView",
            "bar_style": "success",
            "description": "   Train loss: 0.18861760827382792: 100%",
            "description_tooltip": null,
            "layout": "IPY_MODEL_afcf5789488d4a61ba8e4ba639f294bd",
            "max": 248,
            "min": 0,
            "orientation": "horizontal",
            "style": "IPY_MODEL_ee62cff97b2d420eaa7ff1c2d6405976",
            "value": 248
          }
        },
        "93e54aec6e68486cac799654acb13100": {
          "model_module": "@jupyter-widgets/controls",
          "model_name": "HTMLModel",
          "model_module_version": "1.5.0",
          "state": {
            "_dom_classes": [],
            "_model_module": "@jupyter-widgets/controls",
            "_model_module_version": "1.5.0",
            "_model_name": "HTMLModel",
            "_view_count": null,
            "_view_module": "@jupyter-widgets/controls",
            "_view_module_version": "1.5.0",
            "_view_name": "HTMLView",
            "description": "",
            "description_tooltip": null,
            "layout": "IPY_MODEL_acc9b7040edf491585ada5ecf1dbb2ee",
            "placeholder": "​",
            "style": "IPY_MODEL_be27f996d4fd484a983beb09e5e7a107",
            "value": " 248/248 [51:41&lt;00:00, 12.51s/it]"
          }
        },
        "27071130de134f4092674eb73dadfc48": {
          "model_module": "@jupyter-widgets/base",
          "model_name": "LayoutModel",
          "model_module_version": "1.2.0",
          "state": {
            "_model_module": "@jupyter-widgets/base",
            "_model_module_version": "1.2.0",
            "_model_name": "LayoutModel",
            "_view_count": null,
            "_view_module": "@jupyter-widgets/base",
            "_view_module_version": "1.2.0",
            "_view_name": "LayoutView",
            "align_content": null,
            "align_items": null,
            "align_self": null,
            "border": null,
            "bottom": null,
            "display": null,
            "flex": null,
            "flex_flow": null,
            "grid_area": null,
            "grid_auto_columns": null,
            "grid_auto_flow": null,
            "grid_auto_rows": null,
            "grid_column": null,
            "grid_gap": null,
            "grid_row": null,
            "grid_template_areas": null,
            "grid_template_columns": null,
            "grid_template_rows": null,
            "height": null,
            "justify_content": null,
            "justify_items": null,
            "left": null,
            "margin": null,
            "max_height": null,
            "max_width": null,
            "min_height": null,
            "min_width": null,
            "object_fit": null,
            "object_position": null,
            "order": null,
            "overflow": null,
            "overflow_x": null,
            "overflow_y": null,
            "padding": null,
            "right": null,
            "top": null,
            "visibility": null,
            "width": null
          }
        },
        "afcf5789488d4a61ba8e4ba639f294bd": {
          "model_module": "@jupyter-widgets/base",
          "model_name": "LayoutModel",
          "model_module_version": "1.2.0",
          "state": {
            "_model_module": "@jupyter-widgets/base",
            "_model_module_version": "1.2.0",
            "_model_name": "LayoutModel",
            "_view_count": null,
            "_view_module": "@jupyter-widgets/base",
            "_view_module_version": "1.2.0",
            "_view_name": "LayoutView",
            "align_content": null,
            "align_items": null,
            "align_self": null,
            "border": null,
            "bottom": null,
            "display": null,
            "flex": null,
            "flex_flow": null,
            "grid_area": null,
            "grid_auto_columns": null,
            "grid_auto_flow": null,
            "grid_auto_rows": null,
            "grid_column": null,
            "grid_gap": null,
            "grid_row": null,
            "grid_template_areas": null,
            "grid_template_columns": null,
            "grid_template_rows": null,
            "height": null,
            "justify_content": null,
            "justify_items": null,
            "left": null,
            "margin": null,
            "max_height": null,
            "max_width": null,
            "min_height": null,
            "min_width": null,
            "object_fit": null,
            "object_position": null,
            "order": null,
            "overflow": null,
            "overflow_x": null,
            "overflow_y": null,
            "padding": null,
            "right": null,
            "top": null,
            "visibility": null,
            "width": null
          }
        },
        "ee62cff97b2d420eaa7ff1c2d6405976": {
          "model_module": "@jupyter-widgets/controls",
          "model_name": "ProgressStyleModel",
          "model_module_version": "1.5.0",
          "state": {
            "_model_module": "@jupyter-widgets/controls",
            "_model_module_version": "1.5.0",
            "_model_name": "ProgressStyleModel",
            "_view_count": null,
            "_view_module": "@jupyter-widgets/base",
            "_view_module_version": "1.2.0",
            "_view_name": "StyleView",
            "bar_color": null,
            "description_width": "initial"
          }
        },
        "acc9b7040edf491585ada5ecf1dbb2ee": {
          "model_module": "@jupyter-widgets/base",
          "model_name": "LayoutModel",
          "model_module_version": "1.2.0",
          "state": {
            "_model_module": "@jupyter-widgets/base",
            "_model_module_version": "1.2.0",
            "_model_name": "LayoutModel",
            "_view_count": null,
            "_view_module": "@jupyter-widgets/base",
            "_view_module_version": "1.2.0",
            "_view_name": "LayoutView",
            "align_content": null,
            "align_items": null,
            "align_self": null,
            "border": null,
            "bottom": null,
            "display": null,
            "flex": null,
            "flex_flow": null,
            "grid_area": null,
            "grid_auto_columns": null,
            "grid_auto_flow": null,
            "grid_auto_rows": null,
            "grid_column": null,
            "grid_gap": null,
            "grid_row": null,
            "grid_template_areas": null,
            "grid_template_columns": null,
            "grid_template_rows": null,
            "height": null,
            "justify_content": null,
            "justify_items": null,
            "left": null,
            "margin": null,
            "max_height": null,
            "max_width": null,
            "min_height": null,
            "min_width": null,
            "object_fit": null,
            "object_position": null,
            "order": null,
            "overflow": null,
            "overflow_x": null,
            "overflow_y": null,
            "padding": null,
            "right": null,
            "top": null,
            "visibility": null,
            "width": null
          }
        },
        "be27f996d4fd484a983beb09e5e7a107": {
          "model_module": "@jupyter-widgets/controls",
          "model_name": "DescriptionStyleModel",
          "model_module_version": "1.5.0",
          "state": {
            "_model_module": "@jupyter-widgets/controls",
            "_model_module_version": "1.5.0",
            "_model_name": "DescriptionStyleModel",
            "_view_count": null,
            "_view_module": "@jupyter-widgets/base",
            "_view_module_version": "1.2.0",
            "_view_name": "StyleView",
            "description_width": ""
          }
        },
        "682488c016964e3fb6e25a98da73f561": {
          "model_module": "@jupyter-widgets/controls",
          "model_name": "HBoxModel",
          "model_module_version": "1.5.0",
          "state": {
            "_dom_classes": [],
            "_model_module": "@jupyter-widgets/controls",
            "_model_module_version": "1.5.0",
            "_model_name": "HBoxModel",
            "_view_count": null,
            "_view_module": "@jupyter-widgets/controls",
            "_view_module_version": "1.5.0",
            "_view_name": "HBoxView",
            "box_style": "",
            "children": [
              "IPY_MODEL_8af50d83c5ab4a9b931f60162203e558",
              "IPY_MODEL_4bad27dec6e04714adc579c390492400"
            ],
            "layout": "IPY_MODEL_d6098f33fe624f5da29f543ac34547e9"
          }
        },
        "8af50d83c5ab4a9b931f60162203e558": {
          "model_module": "@jupyter-widgets/controls",
          "model_name": "FloatProgressModel",
          "model_module_version": "1.5.0",
          "state": {
            "_dom_classes": [],
            "_model_module": "@jupyter-widgets/controls",
            "_model_module_version": "1.5.0",
            "_model_name": "FloatProgressModel",
            "_view_count": null,
            "_view_module": "@jupyter-widgets/controls",
            "_view_module_version": "1.5.0",
            "_view_name": "ProgressView",
            "bar_style": "success",
            "description": "Valid loss: 0.2646, Train loss: 0.1519: 100%",
            "description_tooltip": null,
            "layout": "IPY_MODEL_bacb1416a2b146af94b81a2f60e5705a",
            "max": 1,
            "min": 0,
            "orientation": "horizontal",
            "style": "IPY_MODEL_428898c1c8754e7da0279835aa393d22",
            "value": 1
          }
        },
        "4bad27dec6e04714adc579c390492400": {
          "model_module": "@jupyter-widgets/controls",
          "model_name": "HTMLModel",
          "model_module_version": "1.5.0",
          "state": {
            "_dom_classes": [],
            "_model_module": "@jupyter-widgets/controls",
            "_model_module_version": "1.5.0",
            "_model_name": "HTMLModel",
            "_view_count": null,
            "_view_module": "@jupyter-widgets/controls",
            "_view_module_version": "1.5.0",
            "_view_name": "HTMLView",
            "description": "",
            "description_tooltip": null,
            "layout": "IPY_MODEL_77376346e8d4457ba395bf8a026832ba",
            "placeholder": "​",
            "style": "IPY_MODEL_2775ea57b4794bb284e196a682de8a01",
            "value": " 1/1 [50:59&lt;00:00, 3059.71s/it]"
          }
        },
        "d6098f33fe624f5da29f543ac34547e9": {
          "model_module": "@jupyter-widgets/base",
          "model_name": "LayoutModel",
          "model_module_version": "1.2.0",
          "state": {
            "_model_module": "@jupyter-widgets/base",
            "_model_module_version": "1.2.0",
            "_model_name": "LayoutModel",
            "_view_count": null,
            "_view_module": "@jupyter-widgets/base",
            "_view_module_version": "1.2.0",
            "_view_name": "LayoutView",
            "align_content": null,
            "align_items": null,
            "align_self": null,
            "border": null,
            "bottom": null,
            "display": null,
            "flex": null,
            "flex_flow": null,
            "grid_area": null,
            "grid_auto_columns": null,
            "grid_auto_flow": null,
            "grid_auto_rows": null,
            "grid_column": null,
            "grid_gap": null,
            "grid_row": null,
            "grid_template_areas": null,
            "grid_template_columns": null,
            "grid_template_rows": null,
            "height": null,
            "justify_content": null,
            "justify_items": null,
            "left": null,
            "margin": null,
            "max_height": null,
            "max_width": null,
            "min_height": null,
            "min_width": null,
            "object_fit": null,
            "object_position": null,
            "order": null,
            "overflow": null,
            "overflow_x": null,
            "overflow_y": null,
            "padding": null,
            "right": null,
            "top": null,
            "visibility": null,
            "width": null
          }
        },
        "bacb1416a2b146af94b81a2f60e5705a": {
          "model_module": "@jupyter-widgets/base",
          "model_name": "LayoutModel",
          "model_module_version": "1.2.0",
          "state": {
            "_model_module": "@jupyter-widgets/base",
            "_model_module_version": "1.2.0",
            "_model_name": "LayoutModel",
            "_view_count": null,
            "_view_module": "@jupyter-widgets/base",
            "_view_module_version": "1.2.0",
            "_view_name": "LayoutView",
            "align_content": null,
            "align_items": null,
            "align_self": null,
            "border": null,
            "bottom": null,
            "display": null,
            "flex": null,
            "flex_flow": null,
            "grid_area": null,
            "grid_auto_columns": null,
            "grid_auto_flow": null,
            "grid_auto_rows": null,
            "grid_column": null,
            "grid_gap": null,
            "grid_row": null,
            "grid_template_areas": null,
            "grid_template_columns": null,
            "grid_template_rows": null,
            "height": null,
            "justify_content": null,
            "justify_items": null,
            "left": null,
            "margin": null,
            "max_height": null,
            "max_width": null,
            "min_height": null,
            "min_width": null,
            "object_fit": null,
            "object_position": null,
            "order": null,
            "overflow": null,
            "overflow_x": null,
            "overflow_y": null,
            "padding": null,
            "right": null,
            "top": null,
            "visibility": null,
            "width": null
          }
        },
        "428898c1c8754e7da0279835aa393d22": {
          "model_module": "@jupyter-widgets/controls",
          "model_name": "ProgressStyleModel",
          "model_module_version": "1.5.0",
          "state": {
            "_model_module": "@jupyter-widgets/controls",
            "_model_module_version": "1.5.0",
            "_model_name": "ProgressStyleModel",
            "_view_count": null,
            "_view_module": "@jupyter-widgets/base",
            "_view_module_version": "1.2.0",
            "_view_name": "StyleView",
            "bar_color": null,
            "description_width": "initial"
          }
        },
        "77376346e8d4457ba395bf8a026832ba": {
          "model_module": "@jupyter-widgets/base",
          "model_name": "LayoutModel",
          "model_module_version": "1.2.0",
          "state": {
            "_model_module": "@jupyter-widgets/base",
            "_model_module_version": "1.2.0",
            "_model_name": "LayoutModel",
            "_view_count": null,
            "_view_module": "@jupyter-widgets/base",
            "_view_module_version": "1.2.0",
            "_view_name": "LayoutView",
            "align_content": null,
            "align_items": null,
            "align_self": null,
            "border": null,
            "bottom": null,
            "display": null,
            "flex": null,
            "flex_flow": null,
            "grid_area": null,
            "grid_auto_columns": null,
            "grid_auto_flow": null,
            "grid_auto_rows": null,
            "grid_column": null,
            "grid_gap": null,
            "grid_row": null,
            "grid_template_areas": null,
            "grid_template_columns": null,
            "grid_template_rows": null,
            "height": null,
            "justify_content": null,
            "justify_items": null,
            "left": null,
            "margin": null,
            "max_height": null,
            "max_width": null,
            "min_height": null,
            "min_width": null,
            "object_fit": null,
            "object_position": null,
            "order": null,
            "overflow": null,
            "overflow_x": null,
            "overflow_y": null,
            "padding": null,
            "right": null,
            "top": null,
            "visibility": null,
            "width": null
          }
        },
        "2775ea57b4794bb284e196a682de8a01": {
          "model_module": "@jupyter-widgets/controls",
          "model_name": "DescriptionStyleModel",
          "model_module_version": "1.5.0",
          "state": {
            "_model_module": "@jupyter-widgets/controls",
            "_model_module_version": "1.5.0",
            "_model_name": "DescriptionStyleModel",
            "_view_count": null,
            "_view_module": "@jupyter-widgets/base",
            "_view_module_version": "1.2.0",
            "_view_name": "StyleView",
            "description_width": ""
          }
        },
        "9e0cba1afea140e4aa40ad6932bc6b0a": {
          "model_module": "@jupyter-widgets/controls",
          "model_name": "HBoxModel",
          "model_module_version": "1.5.0",
          "state": {
            "_dom_classes": [],
            "_model_module": "@jupyter-widgets/controls",
            "_model_module_version": "1.5.0",
            "_model_name": "HBoxModel",
            "_view_count": null,
            "_view_module": "@jupyter-widgets/controls",
            "_view_module_version": "1.5.0",
            "_view_name": "HBoxView",
            "box_style": "",
            "children": [
              "IPY_MODEL_b71499f4d992451aa41cf63123c5e0f2",
              "IPY_MODEL_947afee91bb14df68646621dbb8a13e8"
            ],
            "layout": "IPY_MODEL_d8ca763a6fa2442eba583166ccf727ab"
          }
        },
        "b71499f4d992451aa41cf63123c5e0f2": {
          "model_module": "@jupyter-widgets/controls",
          "model_name": "FloatProgressModel",
          "model_module_version": "1.5.0",
          "state": {
            "_dom_classes": [],
            "_model_module": "@jupyter-widgets/controls",
            "_model_module_version": "1.5.0",
            "_model_name": "FloatProgressModel",
            "_view_count": null,
            "_view_module": "@jupyter-widgets/controls",
            "_view_module_version": "1.5.0",
            "_view_name": "ProgressView",
            "bar_style": "success",
            "description": "   Train loss: 0.15252956988380445: 100%",
            "description_tooltip": null,
            "layout": "IPY_MODEL_0b6d549f1e2543449527b5c89f0881d6",
            "max": 248,
            "min": 0,
            "orientation": "horizontal",
            "style": "IPY_MODEL_9f9aecb1606944818fb7b3db8996e710",
            "value": 248
          }
        },
        "947afee91bb14df68646621dbb8a13e8": {
          "model_module": "@jupyter-widgets/controls",
          "model_name": "HTMLModel",
          "model_module_version": "1.5.0",
          "state": {
            "_dom_classes": [],
            "_model_module": "@jupyter-widgets/controls",
            "_model_module_version": "1.5.0",
            "_model_name": "HTMLModel",
            "_view_count": null,
            "_view_module": "@jupyter-widgets/controls",
            "_view_module_version": "1.5.0",
            "_view_name": "HTMLView",
            "description": "",
            "description_tooltip": null,
            "layout": "IPY_MODEL_f65d409dbee143a1a43f4bff1eed38ea",
            "placeholder": "​",
            "style": "IPY_MODEL_b46e8397a17341d1a64556618f282a7e",
            "value": " 248/248 [50:59&lt;00:00, 12.34s/it]"
          }
        },
        "d8ca763a6fa2442eba583166ccf727ab": {
          "model_module": "@jupyter-widgets/base",
          "model_name": "LayoutModel",
          "model_module_version": "1.2.0",
          "state": {
            "_model_module": "@jupyter-widgets/base",
            "_model_module_version": "1.2.0",
            "_model_name": "LayoutModel",
            "_view_count": null,
            "_view_module": "@jupyter-widgets/base",
            "_view_module_version": "1.2.0",
            "_view_name": "LayoutView",
            "align_content": null,
            "align_items": null,
            "align_self": null,
            "border": null,
            "bottom": null,
            "display": null,
            "flex": null,
            "flex_flow": null,
            "grid_area": null,
            "grid_auto_columns": null,
            "grid_auto_flow": null,
            "grid_auto_rows": null,
            "grid_column": null,
            "grid_gap": null,
            "grid_row": null,
            "grid_template_areas": null,
            "grid_template_columns": null,
            "grid_template_rows": null,
            "height": null,
            "justify_content": null,
            "justify_items": null,
            "left": null,
            "margin": null,
            "max_height": null,
            "max_width": null,
            "min_height": null,
            "min_width": null,
            "object_fit": null,
            "object_position": null,
            "order": null,
            "overflow": null,
            "overflow_x": null,
            "overflow_y": null,
            "padding": null,
            "right": null,
            "top": null,
            "visibility": null,
            "width": null
          }
        },
        "0b6d549f1e2543449527b5c89f0881d6": {
          "model_module": "@jupyter-widgets/base",
          "model_name": "LayoutModel",
          "model_module_version": "1.2.0",
          "state": {
            "_model_module": "@jupyter-widgets/base",
            "_model_module_version": "1.2.0",
            "_model_name": "LayoutModel",
            "_view_count": null,
            "_view_module": "@jupyter-widgets/base",
            "_view_module_version": "1.2.0",
            "_view_name": "LayoutView",
            "align_content": null,
            "align_items": null,
            "align_self": null,
            "border": null,
            "bottom": null,
            "display": null,
            "flex": null,
            "flex_flow": null,
            "grid_area": null,
            "grid_auto_columns": null,
            "grid_auto_flow": null,
            "grid_auto_rows": null,
            "grid_column": null,
            "grid_gap": null,
            "grid_row": null,
            "grid_template_areas": null,
            "grid_template_columns": null,
            "grid_template_rows": null,
            "height": null,
            "justify_content": null,
            "justify_items": null,
            "left": null,
            "margin": null,
            "max_height": null,
            "max_width": null,
            "min_height": null,
            "min_width": null,
            "object_fit": null,
            "object_position": null,
            "order": null,
            "overflow": null,
            "overflow_x": null,
            "overflow_y": null,
            "padding": null,
            "right": null,
            "top": null,
            "visibility": null,
            "width": null
          }
        },
        "9f9aecb1606944818fb7b3db8996e710": {
          "model_module": "@jupyter-widgets/controls",
          "model_name": "ProgressStyleModel",
          "model_module_version": "1.5.0",
          "state": {
            "_model_module": "@jupyter-widgets/controls",
            "_model_module_version": "1.5.0",
            "_model_name": "ProgressStyleModel",
            "_view_count": null,
            "_view_module": "@jupyter-widgets/base",
            "_view_module_version": "1.2.0",
            "_view_name": "StyleView",
            "bar_color": null,
            "description_width": "initial"
          }
        },
        "f65d409dbee143a1a43f4bff1eed38ea": {
          "model_module": "@jupyter-widgets/base",
          "model_name": "LayoutModel",
          "model_module_version": "1.2.0",
          "state": {
            "_model_module": "@jupyter-widgets/base",
            "_model_module_version": "1.2.0",
            "_model_name": "LayoutModel",
            "_view_count": null,
            "_view_module": "@jupyter-widgets/base",
            "_view_module_version": "1.2.0",
            "_view_name": "LayoutView",
            "align_content": null,
            "align_items": null,
            "align_self": null,
            "border": null,
            "bottom": null,
            "display": null,
            "flex": null,
            "flex_flow": null,
            "grid_area": null,
            "grid_auto_columns": null,
            "grid_auto_flow": null,
            "grid_auto_rows": null,
            "grid_column": null,
            "grid_gap": null,
            "grid_row": null,
            "grid_template_areas": null,
            "grid_template_columns": null,
            "grid_template_rows": null,
            "height": null,
            "justify_content": null,
            "justify_items": null,
            "left": null,
            "margin": null,
            "max_height": null,
            "max_width": null,
            "min_height": null,
            "min_width": null,
            "object_fit": null,
            "object_position": null,
            "order": null,
            "overflow": null,
            "overflow_x": null,
            "overflow_y": null,
            "padding": null,
            "right": null,
            "top": null,
            "visibility": null,
            "width": null
          }
        },
        "b46e8397a17341d1a64556618f282a7e": {
          "model_module": "@jupyter-widgets/controls",
          "model_name": "DescriptionStyleModel",
          "model_module_version": "1.5.0",
          "state": {
            "_model_module": "@jupyter-widgets/controls",
            "_model_module_version": "1.5.0",
            "_model_name": "DescriptionStyleModel",
            "_view_count": null,
            "_view_module": "@jupyter-widgets/base",
            "_view_module_version": "1.2.0",
            "_view_name": "StyleView",
            "description_width": ""
          }
        }
      }
    },
    "accelerator": "GPU"
  },
  "cells": [
    {
      "cell_type": "markdown",
      "source": [
        "# Macro architecture\n",
        "\n",
        "## Ranker\n",
        "\n",
        "- BM25\n",
        "- Input: query string\n",
        "- Output: list of top k doc_ids\n",
        "\n",
        "## Reranker\n",
        "\n",
        "- MonoT5 finetuned\n",
        "- Input: list of `pygaggle.rerank.base.Text` objects\n",
        "- Output: list of `pygaggle.rerank.base.Text` objects with the Score field updated\n",
        "\n",
        "## Sentence selection\n",
        "\n",
        "- MonoT5 finetuned\n",
        "- Input: list of `pygaggle.rerank.base.Text` objects with sentences\n",
        "- Output: list of `pygaggle.rerank.base.Text` objects with the Score field updated\n",
        "\n",
        "## Classification\n",
        "\n",
        "- T5 3B from scratch, must train on the dataset > training T5 3B is hard =(\n",
        "- Input: `hypothesis: q sentence1: s1 ··· sentencez: sz`\n",
        "- Output: one of `true`, `weak` or `false`"
      ],
      "metadata": {
        "id": "R_XF4M6nzzeQ"
      }
    },
    {
      "cell_type": "markdown",
      "source": [
        "# Code"
      ],
      "metadata": {
        "id": "9jwFGI3xabHK"
      }
    },
    {
      "cell_type": "markdown",
      "source": [
        "## Imports and installs"
      ],
      "metadata": {
        "id": "XsySi5NyIABz"
      }
    },
    {
      "cell_type": "code",
      "source": [
        "!git clone --recursive https://github.com/castorini/pygaggle.git"
      ],
      "metadata": {
        "colab": {
          "base_uri": "https://localhost:8080/"
        },
        "id": "FpK_Hs-v43k9",
        "outputId": "46c774cf-b069-43eb-ba8c-c834b358e3e3"
      },
      "execution_count": 1,
      "outputs": [
        {
          "output_type": "stream",
          "name": "stdout",
          "text": [
            "Cloning into 'pygaggle'...\n",
            "remote: Enumerating objects: 1523, done.\u001b[K\n",
            "remote: Counting objects: 100% (593/593), done.\u001b[K\n",
            "remote: Compressing objects: 100% (204/204), done.\u001b[K\n",
            "remote: Total 1523 (delta 500), reused 408 (delta 389), pack-reused 930\u001b[K\n",
            "Receiving objects: 100% (1523/1523), 500.81 KiB | 2.69 MiB/s, done.\n",
            "Resolving deltas: 100% (974/974), done.\n",
            "Submodule 'tools' (https://github.com/castorini/anserini-tools.git) registered for path 'tools'\n",
            "Cloning into '/content/pygaggle/tools'...\n",
            "remote: Enumerating objects: 707, done.        \n",
            "remote: Counting objects: 100% (464/464), done.        \n",
            "remote: Compressing objects: 100% (405/405), done.        \n",
            "remote: Total 707 (delta 68), reused 447 (delta 58), pack-reused 243        \n",
            "Receiving objects: 100% (707/707), 57.74 MiB | 28.92 MiB/s, done.\n",
            "Resolving deltas: 100% (152/152), done.\n",
            "Submodule path 'tools': checked out '808f48711b5e172da6aec8b1855518c8ea65489f'\n"
          ]
        }
      ]
    },
    {
      "cell_type": "code",
      "source": [
        "%%capture\n",
        "!pip install pygaggle pyserini torch faiss-cpu "
      ],
      "metadata": {
        "id": "-kG2cXRCIpZC"
      },
      "execution_count": 2,
      "outputs": []
    },
    {
      "cell_type": "code",
      "source": [
        "%%capture\n",
        "!pip uninstall -y transformers\n",
        "!pip install transformers"
      ],
      "metadata": {
        "id": "GG2wquJ1CBNP"
      },
      "execution_count": 3,
      "outputs": []
    },
    {
      "cell_type": "code",
      "source": [
        "## Checking java version\n",
        "## If not ok, follow instruction in https://github.com/castorini/pyserini/blob/master/docs/installation.md\n",
        "import os\n",
        "os.environ[\"JAVA_HOME\"] = \"/usr/lib/jvm/java-11-openjdk-amd64\"\n",
        "!java --version"
      ],
      "metadata": {
        "colab": {
          "base_uri": "https://localhost:8080/"
        },
        "id": "zAamYmADQkyl",
        "outputId": "c61aa970-47b5-4c3b-d99f-2f7a02fc4a4e"
      },
      "execution_count": 4,
      "outputs": [
        {
          "output_type": "stream",
          "name": "stdout",
          "text": [
            "openjdk 11.0.17 2022-10-18\n",
            "OpenJDK Runtime Environment (build 11.0.17+8-post-Ubuntu-1ubuntu218.04)\n",
            "OpenJDK 64-Bit Server VM (build 11.0.17+8-post-Ubuntu-1ubuntu218.04, mixed mode, sharing)\n"
          ]
        }
      ]
    },
    {
      "cell_type": "code",
      "execution_count": 167,
      "metadata": {
        "id": "JFK7Alg2MXAK"
      },
      "outputs": [],
      "source": [
        "import collections\n",
        "import itertools\n",
        "import functools\n",
        "import toolz\n",
        "import math\n",
        "import random\n",
        "import re\n",
        "import torch\n",
        "import torch.nn as nn\n",
        "import torch.nn.functional as F\n",
        "import json\n",
        "import copy\n",
        "\n",
        "import scipy\n",
        "import pandas as pd\n",
        "import numpy as np\n",
        "\n",
        "from google.colab import drive\n",
        "from torch.utils.data import DataLoader, Dataset\n",
        "from tqdm.notebook import tqdm\n",
        "from typing import List, Type"
      ]
    },
    {
      "cell_type": "code",
      "source": [
        "import matplotlib.pyplot as plt"
      ],
      "metadata": {
        "id": "pq8qCmQrL1nt"
      },
      "execution_count": 6,
      "outputs": []
    },
    {
      "cell_type": "code",
      "source": [
        "from sklearn.metrics import precision_recall_fscore_support, classification_report, confusion_matrix, ConfusionMatrixDisplay"
      ],
      "metadata": {
        "id": "KfE_4ZBhByLG"
      },
      "execution_count": 7,
      "outputs": []
    },
    {
      "cell_type": "code",
      "source": [
        "from pygaggle.rerank.base import Query, Text\n",
        "from pygaggle.rerank.transformer import MonoT5\n",
        "from pygaggle.rerank.base import hits_to_texts\n",
        "\n",
        "from pyserini.search import SimpleSearcher as LuceneSearcher"
      ],
      "metadata": {
        "id": "xxUodydNawdY"
      },
      "execution_count": 8,
      "outputs": []
    },
    {
      "cell_type": "code",
      "source": [
        "from transformers import T5Tokenizer, T5ForConditionalGeneration\n",
        "from transformers.optimization import Adafactor\n",
        "# https://huggingface.co/docs/transformers/main_classes/optimizer_schedules#transformers.Adafactor\n",
        "# https://discuss.huggingface.co/t/t5-finetuning-tips/684/3"
      ],
      "metadata": {
        "id": "p2BMaM9_pmsP"
      },
      "execution_count": 9,
      "outputs": []
    },
    {
      "cell_type": "code",
      "source": [
        "# Check which GPU we are using\n",
        "!nvidia-smi"
      ],
      "metadata": {
        "colab": {
          "base_uri": "https://localhost:8080/"
        },
        "id": "R7b7tL1lOePk",
        "outputId": "e551724f-b01e-406a-8271-3ab94080faf9"
      },
      "execution_count": 10,
      "outputs": [
        {
          "output_type": "stream",
          "name": "stdout",
          "text": [
            "Wed Nov 30 15:41:32 2022       \n",
            "+-----------------------------------------------------------------------------+\n",
            "| NVIDIA-SMI 460.32.03    Driver Version: 460.32.03    CUDA Version: 11.2     |\n",
            "|-------------------------------+----------------------+----------------------+\n",
            "| GPU  Name        Persistence-M| Bus-Id        Disp.A | Volatile Uncorr. ECC |\n",
            "| Fan  Temp  Perf  Pwr:Usage/Cap|         Memory-Usage | GPU-Util  Compute M. |\n",
            "|                               |                      |               MIG M. |\n",
            "|===============================+======================+======================|\n",
            "|   0  A100-SXM4-40GB      Off  | 00000000:00:04.0 Off |                    0 |\n",
            "| N/A   29C    P0    44W / 400W |      0MiB / 40536MiB |      0%      Default |\n",
            "|                               |                      |             Disabled |\n",
            "+-------------------------------+----------------------+----------------------+\n",
            "                                                                               \n",
            "+-----------------------------------------------------------------------------+\n",
            "| Processes:                                                                  |\n",
            "|  GPU   GI   CI        PID   Type   Process name                  GPU Memory |\n",
            "|        ID   ID                                                   Usage      |\n",
            "|=============================================================================|\n",
            "|  No running processes found                                                 |\n",
            "+-----------------------------------------------------------------------------+\n"
          ]
        }
      ]
    },
    {
      "cell_type": "markdown",
      "source": [
        "## Configure environment\n",
        "\n",
        "Download files, check video card and mount google drive"
      ],
      "metadata": {
        "id": "uRhq3YD0ejmm"
      }
    },
    {
      "cell_type": "code",
      "source": [
        "if torch.cuda.is_available(): \n",
        "    dev = \"cuda:0\"\n",
        "else: \n",
        "    dev = \"cpu\"\n",
        "device = torch.device(dev)\n",
        "print('Using {}'.format(device))"
      ],
      "metadata": {
        "colab": {
          "base_uri": "https://localhost:8080/"
        },
        "id": "R6CSA13zOkeH",
        "outputId": "e9f60807-a954-4909-fa50-a6029ac281d2"
      },
      "execution_count": 11,
      "outputs": [
        {
          "output_type": "stream",
          "name": "stdout",
          "text": [
            "Using cuda:0\n"
          ]
        }
      ]
    },
    {
      "cell_type": "code",
      "source": [
        "from transformers import T5Tokenizer, T5ForConditionalGeneration"
      ],
      "metadata": {
        "id": "V9HaGrbWmVkI"
      },
      "execution_count": 12,
      "outputs": []
    },
    {
      "cell_type": "code",
      "source": [
        "# drive.mount('/content/drive')"
      ],
      "metadata": {
        "id": "NgwKHAu_eSJc"
      },
      "execution_count": 13,
      "outputs": []
    },
    {
      "cell_type": "code",
      "source": [
        "!wget -nc https://scifact.s3-us-west-2.amazonaws.com/release/latest/data.tar.gz\n",
        "!tar -xzf data.tar.gz"
      ],
      "metadata": {
        "colab": {
          "base_uri": "https://localhost:8080/"
        },
        "id": "XLZBIyT3O48T",
        "outputId": "1f25e212-a67e-41f1-f18f-d51c89cf95ad"
      },
      "execution_count": 14,
      "outputs": [
        {
          "output_type": "stream",
          "name": "stdout",
          "text": [
            "--2022-11-30 15:41:33--  https://scifact.s3-us-west-2.amazonaws.com/release/latest/data.tar.gz\n",
            "Resolving scifact.s3-us-west-2.amazonaws.com (scifact.s3-us-west-2.amazonaws.com)... 52.92.132.42, 3.5.78.105, 52.92.146.66, ...\n",
            "Connecting to scifact.s3-us-west-2.amazonaws.com (scifact.s3-us-west-2.amazonaws.com)|52.92.132.42|:443... connected.\n",
            "HTTP request sent, awaiting response... 200 OK\n",
            "Length: 3115079 (3.0M) [application/x-tar]\n",
            "Saving to: ‘data.tar.gz’\n",
            "\n",
            "data.tar.gz         100%[===================>]   2.97M  10.6MB/s    in 0.3s    \n",
            "\n",
            "2022-11-30 15:41:33 (10.6 MB/s) - ‘data.tar.gz’ saved [3115079/3115079]\n",
            "\n"
          ]
        }
      ]
    },
    {
      "cell_type": "code",
      "source": [
        "files_to_read = [\n",
        "    \"claims_dev\",\n",
        "    \"claims_train\",\n",
        "    \"claims_test\",\n",
        "    \"corpus\",\n",
        "]\n",
        "\n",
        "scifact_all = {}\n",
        "\n",
        "for fname in files_to_read:\n",
        "    scifact_all[fname] = []\n",
        "    with open(f'data/{fname}.jsonl') as f:\n",
        "        for line in f:\n",
        "            scifact_all[fname].append(json.loads(line))"
      ],
      "metadata": {
        "id": "uD2cJmOrfST7"
      },
      "execution_count": 15,
      "outputs": []
    },
    {
      "cell_type": "markdown",
      "source": [
        "## Exploration on the dataset format"
      ],
      "metadata": {
        "id": "GkDK9BaNgVav"
      }
    },
    {
      "cell_type": "markdown",
      "source": [
        "### Corpus"
      ],
      "metadata": {
        "id": "IX33cY6mrhbR"
      }
    },
    {
      "cell_type": "markdown",
      "source": [
        "The corpus dataset have 5183 samples, and each sample has a:\n",
        "\n",
        "* `doc_id` `Int`: unique identification\n",
        "* `title` `String`: short description of what the text is about\n",
        "* `abtract` `List[String]`: a list of paragraphs, which we are going to reference by index later on (position is important)\n",
        "* `structured` `Bool`: boolean flag, although not sure what it means to be an \"structured text\""
      ],
      "metadata": {
        "id": "JfCaXgVNg8lt"
      }
    },
    {
      "cell_type": "code",
      "source": [
        "len(scifact_all['corpus'])"
      ],
      "metadata": {
        "colab": {
          "base_uri": "https://localhost:8080/"
        },
        "id": "6WhMPmmbg0Di",
        "outputId": "ce6ec923-7bff-484b-a2f2-6f697d05b2c7"
      },
      "execution_count": 16,
      "outputs": [
        {
          "output_type": "execute_result",
          "data": {
            "text/plain": [
              "5183"
            ]
          },
          "metadata": {},
          "execution_count": 16
        }
      ]
    },
    {
      "cell_type": "code",
      "source": [
        "scifact_all['corpus'][0].keys()"
      ],
      "metadata": {
        "colab": {
          "base_uri": "https://localhost:8080/"
        },
        "id": "uY6VkwVEhmL7",
        "outputId": "4f61160f-4898-4dfa-9650-ae4979f4c5e0"
      },
      "execution_count": 17,
      "outputs": [
        {
          "output_type": "execute_result",
          "data": {
            "text/plain": [
              "dict_keys(['doc_id', 'title', 'abstract', 'structured'])"
            ]
          },
          "metadata": {},
          "execution_count": 17
        }
      ]
    },
    {
      "cell_type": "code",
      "source": [
        "scifact_all['corpus'][0]"
      ],
      "metadata": {
        "id": "MulSGKXSPKWw",
        "colab": {
          "base_uri": "https://localhost:8080/"
        },
        "outputId": "0619778e-b9ee-40e7-9da6-015b2f5b4aeb"
      },
      "execution_count": 18,
      "outputs": [
        {
          "output_type": "execute_result",
          "data": {
            "text/plain": [
              "{'doc_id': 4983,\n",
              " 'title': 'Microstructural development of human newborn cerebral white matter assessed in vivo by diffusion tensor magnetic resonance imaging.',\n",
              " 'abstract': ['Alterations of the architecture of cerebral white matter in the developing human brain can affect cortical development and result in functional disabilities.',\n",
              "  'A line scan diffusion-weighted magnetic resonance imaging (MRI) sequence with diffusion tensor analysis was applied to measure the apparent diffusion coefficient, to calculate relative anisotropy, and to delineate three-dimensional fiber architecture in cerebral white matter in preterm (n = 17) and full-term infants (n = 7).',\n",
              "  'To assess effects of prematurity on cerebral white matter development, early gestation preterm infants (n = 10) were studied a second time at term.',\n",
              "  'In the central white matter the mean apparent diffusion coefficient at 28 wk was high, 1.8 microm2/ms, and decreased toward term to 1.2 microm2/ms.',\n",
              "  'In the posterior limb of the internal capsule, the mean apparent diffusion coefficients at both times were similar (1.2 versus 1.1 microm2/ms).',\n",
              "  'Relative anisotropy was higher the closer birth was to term with greater absolute values in the internal capsule than in the central white matter.',\n",
              "  'Preterm infants at term showed higher mean diffusion coefficients in the central white matter (1.4 +/-',\n",
              "  '0.24 versus 1.15 +/-',\n",
              "  '0.09 microm2/ms, p = 0.016) and lower relative anisotropy in both areas compared with full-term infants (white matter, 10.9 +/- 0.6 versus 22.9 +/-',\n",
              "  '3.0%, p = 0.001; internal capsule, 24.0 +/-',\n",
              "  '4.44 versus 33.1 +/-',\n",
              "  '0.6% p = 0.006).',\n",
              "  'Nonmyelinated fibers in the corpus callosum were visible by diffusion tensor MRI as early as 28 wk; full-term and preterm infants at term showed marked differences in white matter fiber organization.',\n",
              "  'The data indicate that quantitative assessment of water diffusion by diffusion tensor MRI provides insight into microstructural development in cerebral white matter in living infants.'],\n",
              " 'structured': False}"
            ]
          },
          "metadata": {},
          "execution_count": 18
        }
      ]
    },
    {
      "cell_type": "markdown",
      "source": [
        "### Claims\n",
        "\n",
        "* Training dataset have 809 observations\n",
        "* Dev dataset have 300 observations\n",
        "* Test dataset have 300 observations\n",
        "\n",
        "Schema:\n",
        "\n",
        "* `id` `Int`: unique identifier\n",
        "* `claim` `String`: the claim we want to classify as true or false\n",
        "* `evidence` `Dict[String, List[Dict]]`: very nested structure, it is a dictionary where each key is a document id, and each value is a list of sentences. Each sentence is a dictionary itself, with the list of sentences and the correspondent label\n",
        "* `cited_doc_ids` `List[Int]`: list of document ids (from corpus) that have been cited in `evidence`\n",
        "\n",
        "**Test dataset have only `id` and `claim`**\n",
        "\n",
        "Questions:\n",
        "* There is any evidence that have both a SUPPORT and a CONTRADICT label, simultaneously?"
      ],
      "metadata": {
        "id": "nOzNOkg3kcVA"
      }
    },
    {
      "cell_type": "code",
      "source": [
        "len(scifact_all['claims_train'])"
      ],
      "metadata": {
        "colab": {
          "base_uri": "https://localhost:8080/"
        },
        "id": "3XYY4cgwh4EF",
        "outputId": "e67c3126-e3e3-4616-a8c9-8fcefe444d21"
      },
      "execution_count": 19,
      "outputs": [
        {
          "output_type": "execute_result",
          "data": {
            "text/plain": [
              "809"
            ]
          },
          "metadata": {},
          "execution_count": 19
        }
      ]
    },
    {
      "cell_type": "code",
      "source": [
        "len(scifact_all['claims_dev'])"
      ],
      "metadata": {
        "colab": {
          "base_uri": "https://localhost:8080/"
        },
        "id": "QVgNjZlokYcz",
        "outputId": "fc94eb2a-e0bf-4b83-be20-30210fe0dbd3"
      },
      "execution_count": 20,
      "outputs": [
        {
          "output_type": "execute_result",
          "data": {
            "text/plain": [
              "300"
            ]
          },
          "metadata": {},
          "execution_count": 20
        }
      ]
    },
    {
      "cell_type": "code",
      "source": [
        "len(scifact_all['claims_test'])"
      ],
      "metadata": {
        "colab": {
          "base_uri": "https://localhost:8080/"
        },
        "id": "Ord_1HFrkj9b",
        "outputId": "9a475eed-9ec5-4269-b81c-e68910db26bd"
      },
      "execution_count": 21,
      "outputs": [
        {
          "output_type": "execute_result",
          "data": {
            "text/plain": [
              "300"
            ]
          },
          "metadata": {},
          "execution_count": 21
        }
      ]
    },
    {
      "cell_type": "code",
      "source": [
        "scifact_all['claims_train'][1]"
      ],
      "metadata": {
        "colab": {
          "base_uri": "https://localhost:8080/"
        },
        "id": "CC9NYGTJk5H8",
        "outputId": "75ab9514-7ea4-4abb-8944-5495bbe7205a"
      },
      "execution_count": 22,
      "outputs": [
        {
          "output_type": "execute_result",
          "data": {
            "text/plain": [
              "{'id': 2,\n",
              " 'claim': '1 in 5 million in UK have abnormal PrP positivity.',\n",
              " 'evidence': {'13734012': [{'sentences': [4], 'label': 'CONTRADICT'}]},\n",
              " 'cited_doc_ids': [13734012]}"
            ]
          },
          "metadata": {},
          "execution_count": 22
        }
      ]
    },
    {
      "cell_type": "code",
      "source": [
        "scifact_all['claims_test'][0]"
      ],
      "metadata": {
        "colab": {
          "base_uri": "https://localhost:8080/"
        },
        "id": "xheV8YRqklHC",
        "outputId": "3de78a9c-3cc9-47f0-e380-f0960430154b"
      },
      "execution_count": 23,
      "outputs": [
        {
          "output_type": "execute_result",
          "data": {
            "text/plain": [
              "{'id': 7,\n",
              " 'claim': '10-20% of people with severe mental disorder receive no treatment in low and middle income countries.'}"
            ]
          },
          "metadata": {},
          "execution_count": 23
        }
      ]
    },
    {
      "cell_type": "code",
      "source": [
        "## Checking if there are evidences with both labels\n",
        "for dataset_name in ['claims_train', 'claims_dev']:\n",
        "    label_set_general = set()\n",
        "    for claim in scifact_all[dataset_name]:\n",
        "        label_set = set()\n",
        "        for docid, evidences in claim['evidence'].items():\n",
        "            for evidence in evidences:\n",
        "                label_set.add(evidence['label'])\n",
        "                label_set_general.add(evidence['label'])\n",
        "        assert len(label_set) <= 1"
      ],
      "metadata": {
        "id": "FyqyVkpKoSmK"
      },
      "execution_count": 24,
      "outputs": []
    },
    {
      "cell_type": "code",
      "source": [
        "label_set_general"
      ],
      "metadata": {
        "colab": {
          "base_uri": "https://localhost:8080/"
        },
        "id": "uYFvurPJRCfY",
        "outputId": "a6f0ad54-731e-4ab4-db47-2e8beac86063"
      },
      "execution_count": 25,
      "outputs": [
        {
          "output_type": "execute_result",
          "data": {
            "text/plain": [
              "{'CONTRADICT', 'SUPPORT'}"
            ]
          },
          "metadata": {},
          "execution_count": 25
        }
      ]
    },
    {
      "cell_type": "markdown",
      "source": [
        "## Implement Abstract Retrieval with Pyserini\n",
        "\n",
        "The format for creating indexes in pyserini is as a JSONL file with following fields:\n",
        "\n",
        "```\n",
        "{\n",
        "  \"id\": \"doc1\",\n",
        "  \"contents\": \"this is the contents.\"\n",
        "}\n",
        "```\n",
        "\n",
        "We are going to use the Text class from PyGaggle to convert the output of pyserini into a standardized format, because we are going to rescore these documents using this framework."
      ],
      "metadata": {
        "id": "q_twT3l_G2Zo"
      }
    },
    {
      "cell_type": "markdown",
      "source": [
        "### Import Pyserini, format corpus and create indexes"
      ],
      "metadata": {
        "id": "1VmnA4REoluQ"
      }
    },
    {
      "cell_type": "code",
      "source": [
        "try:\n",
        "    os.mkdir('scifact_jsonl')\n",
        "except FileExistsError:    \n",
        "    print('Folder already exists')"
      ],
      "metadata": {
        "id": "Ad9H0OqUWq7L"
      },
      "execution_count": 26,
      "outputs": []
    },
    {
      "cell_type": "code",
      "source": [
        "## Prepare corpus dataset for pyserini indexer\n",
        "with open('scifact_jsonl/corpus.jsonl', 'w') as f:\n",
        "    for c in scifact_all['corpus']:\n",
        "        new_json = {}\n",
        "        new_json['id'] = c['doc_id']\n",
        "        new_json['contents'] = ' '.join([c['title']] + c['abstract'])\n",
        "        # new_json['contents'] = '. '.join(c['abstract'])\n",
        "        new_json['title'] = c['title']\n",
        "        f.write(json.dumps(new_json) + '\\n')"
      ],
      "metadata": {
        "id": "wQv9PeWASp0D"
      },
      "execution_count": 27,
      "outputs": []
    },
    {
      "cell_type": "code",
      "source": [
        "!python -m pyserini.index -collection JsonCollection -generator DefaultLuceneDocumentGenerator \\\n",
        " -threads 1 -input scifact_jsonl \\\n",
        " -index indexes/scifact_jsonl -storePositions -storeDocvectors -storeRaw"
      ],
      "metadata": {
        "colab": {
          "base_uri": "https://localhost:8080/"
        },
        "id": "iZHlhtEB6hgN",
        "outputId": "2641d500-e8ae-4aa2-9ce8-a755e128f275"
      },
      "execution_count": 28,
      "outputs": [
        {
          "output_type": "stream",
          "name": "stdout",
          "text": [
            "WARNING: sun.reflect.Reflection.getCallerClass is not supported. This will impact performance.\n",
            "2022-11-30 15:41:35,658 INFO  [main] index.IndexCollection (IndexCollection.java:650) - Setting log level to INFO\n",
            "2022-11-30 15:41:35,661 INFO  [main] index.IndexCollection (IndexCollection.java:653) - Starting indexer...\n",
            "2022-11-30 15:41:35,661 INFO  [main] index.IndexCollection (IndexCollection.java:654) - ============ Loading Parameters ============\n",
            "2022-11-30 15:41:35,661 INFO  [main] index.IndexCollection (IndexCollection.java:655) - DocumentCollection path: scifact_jsonl\n",
            "2022-11-30 15:41:35,661 INFO  [main] index.IndexCollection (IndexCollection.java:656) - CollectionClass: JsonCollection\n",
            "2022-11-30 15:41:35,662 INFO  [main] index.IndexCollection (IndexCollection.java:657) - Generator: DefaultLuceneDocumentGenerator\n",
            "2022-11-30 15:41:35,662 INFO  [main] index.IndexCollection (IndexCollection.java:658) - Threads: 1\n",
            "2022-11-30 15:41:35,662 INFO  [main] index.IndexCollection (IndexCollection.java:659) - Stemmer: porter\n",
            "2022-11-30 15:41:35,662 INFO  [main] index.IndexCollection (IndexCollection.java:660) - Keep stopwords? false\n",
            "2022-11-30 15:41:35,663 INFO  [main] index.IndexCollection (IndexCollection.java:661) - Stopwords:  null\n",
            "2022-11-30 15:41:35,663 INFO  [main] index.IndexCollection (IndexCollection.java:662) - Store positions? true\n",
            "2022-11-30 15:41:35,663 INFO  [main] index.IndexCollection (IndexCollection.java:663) - Store docvectors? true\n",
            "2022-11-30 15:41:35,663 INFO  [main] index.IndexCollection (IndexCollection.java:664) - Store document \"contents\" field? false\n",
            "2022-11-30 15:41:35,664 INFO  [main] index.IndexCollection (IndexCollection.java:665) - Store document \"raw\" field? true\n",
            "2022-11-30 15:41:35,664 INFO  [main] index.IndexCollection (IndexCollection.java:666) - Optimize (merge segments)? false\n",
            "2022-11-30 15:41:35,664 INFO  [main] index.IndexCollection (IndexCollection.java:667) - Whitelist: null\n",
            "2022-11-30 15:41:35,664 INFO  [main] index.IndexCollection (IndexCollection.java:687) - Directly building Lucene indexes...\n",
            "2022-11-30 15:41:35,665 INFO  [main] index.IndexCollection (IndexCollection.java:688) - Index path: indexes/scifact_jsonl\n",
            "2022-11-30 15:41:35,669 INFO  [main] index.IndexCollection (IndexCollection.java:737) - ============ Indexing Collection ============\n",
            "2022-11-30 15:41:35,754 INFO  [main] index.IndexCollection (IndexCollection.java:798) - Thread pool with 1 threads initialized.\n",
            "2022-11-30 15:41:35,754 INFO  [main] index.IndexCollection (IndexCollection.java:800) - Initializing collection in scifact_jsonl\n",
            "2022-11-30 15:41:35,757 INFO  [main] index.IndexCollection (IndexCollection.java:803) - 1 file found\n",
            "2022-11-30 15:41:35,757 INFO  [main] index.IndexCollection (IndexCollection.java:804) - Starting to index...\n",
            "2022-11-30 15:41:38,055 DEBUG [pool-2-thread-1] index.IndexCollection$LocalIndexerThread (IndexCollection.java:239) - scifact_jsonl/corpus.jsonl: 5183 docs added.\n",
            "2022-11-30 15:41:38,601 INFO  [main] index.IndexCollection (IndexCollection.java:888) - Indexing Complete! 5,183 documents indexed\n",
            "2022-11-30 15:41:38,602 INFO  [main] index.IndexCollection (IndexCollection.java:889) - ============ Final Counter Values ============\n",
            "2022-11-30 15:41:38,602 INFO  [main] index.IndexCollection (IndexCollection.java:890) - indexed:            5,183\n",
            "2022-11-30 15:41:38,602 INFO  [main] index.IndexCollection (IndexCollection.java:891) - unindexable:            0\n",
            "2022-11-30 15:41:38,602 INFO  [main] index.IndexCollection (IndexCollection.java:892) - empty:                  0\n",
            "2022-11-30 15:41:38,602 INFO  [main] index.IndexCollection (IndexCollection.java:893) - skipped:                0\n",
            "2022-11-30 15:41:38,602 INFO  [main] index.IndexCollection (IndexCollection.java:894) - errors:                 0\n",
            "2022-11-30 15:41:38,607 INFO  [main] index.IndexCollection (IndexCollection.java:897) - Total 5,183 documents indexed in 00:00:02\n"
          ]
        }
      ]
    },
    {
      "cell_type": "code",
      "source": [
        "searcher = LuceneSearcher('indexes/scifact_jsonl')"
      ],
      "metadata": {
        "id": "a_kQHLt_0IeH"
      },
      "execution_count": 29,
      "outputs": []
    },
    {
      "cell_type": "markdown",
      "source": [
        "### Test example query"
      ],
      "metadata": {
        "id": "gY8kRVcpofBy"
      }
    },
    {
      "cell_type": "code",
      "source": [
        "## Example\n",
        "hits = searcher.search(\n",
        "    '10% of sudden infant death syndrome (SIDS) deaths happen in newborns aged less than 6 months.',\n",
        "    # remove_dups=True,\n",
        "    # fields={'title': 2, 'contents': 1}\n",
        ")\n",
        "for i in range(len(hits)):\n",
        "    print(f'{i+1} {hits[i].docid:4} {hits[i].score:.5f}')"
      ],
      "metadata": {
        "colab": {
          "base_uri": "https://localhost:8080/"
        },
        "id": "SAo6kShxFCiM",
        "outputId": "0e846833-d49d-43e9-8ade-c5b04995d4dc"
      },
      "execution_count": 30,
      "outputs": [
        {
          "output_type": "stream",
          "name": "stdout",
          "text": [
            "1 2613775 23.29130\n",
            "2 35521287 22.53440\n",
            "3 23117378 22.21680\n",
            "4 20240998 21.73400\n",
            "5 21050357 16.48830\n",
            "6 30292811 13.93470\n",
            "7 19332616 12.19790\n",
            "8 29253460 11.93430\n",
            "9 24150328 11.28460\n",
            "10 16204011 10.46450\n"
          ]
        }
      ]
    },
    {
      "cell_type": "code",
      "source": [
        "[c for c in scifact_all['corpus'] if c['doc_id']==2613775]"
      ],
      "metadata": {
        "colab": {
          "base_uri": "https://localhost:8080/"
        },
        "id": "RR7pFwfcocIY",
        "outputId": "28fb6300-6e9c-4974-c11b-0333bf3d2976"
      },
      "execution_count": 31,
      "outputs": [
        {
          "output_type": "execute_result",
          "data": {
            "text/plain": [
              "[{'doc_id': 2613775,\n",
              "  'title': 'Sudden infant death syndrome.',\n",
              "  'abstract': ['Despite declines in prevalence during the past two decades, sudden infant death syndrome (SIDS) continues to be the leading cause of death for infants aged between 1 month and 1 year in developed countries.',\n",
              "   'Behavioural risk factors identified in epidemiological studies include prone and side positions for infant sleep, smoke exposure, soft bedding and sleep surfaces, and overheating.',\n",
              "   'Evidence also suggests that pacifier use at sleep time and room sharing without bed sharing are associated with decreased risk of SIDS.',\n",
              "   'Although the cause of SIDS is unknown, immature cardiorespiratory autonomic control and failure of arousal responsiveness from sleep are important factors.',\n",
              "   'Gene polymorphisms relating to serotonin transport and autonomic nervous system development might make affected infants more vulnerable to SIDS.',\n",
              "   'Campaigns for risk reduction have helped to reduce SIDS incidence by 50-90%.',\n",
              "   'However, to reduce the incidence even further, greater strides must be made in reducing prenatal smoke exposure and implementing other recommended infant care practices.',\n",
              "   'Continued research is needed to identify the pathophysiological basis of SIDS.'],\n",
              "  'structured': False}]"
            ]
          },
          "metadata": {},
          "execution_count": 31
        }
      ]
    },
    {
      "cell_type": "markdown",
      "source": [
        "### Evaluate performance on train data"
      ],
      "metadata": {
        "id": "GRVxTkipotzi"
      }
    },
    {
      "cell_type": "code",
      "source": [
        "expected_doc_ids = []\n",
        "predicted_doc_ids = []\n",
        "k=5\n",
        "\n",
        "for i, claim in enumerate(scifact_all['claims_train']):\n",
        "    if (i+1) % 100 == 0: print(f\"Processing claim {i+1}\")\n",
        "    for doc_id in claim['cited_doc_ids']:\n",
        "        expected_doc_ids.append({'id': int(claim['id']),\n",
        "                                 'doc_id': int(doc_id)})\n",
        "    \n",
        "    hits = searcher.search(\n",
        "        claim['claim'],\n",
        "        k=50,\n",
        "    )\n",
        "\n",
        "    for h in hits[0:k]:\n",
        "        predicted_doc_ids.append({\n",
        "            'id': int(claim['id']),\n",
        "            'doc_id': int(h.docid),\n",
        "            'score': h.score\n",
        "        })\n",
        "\n",
        "\n",
        "expected_docs = pd.DataFrame(expected_doc_ids)\n",
        "predicted_docs = pd.DataFrame(predicted_doc_ids)\n",
        "\n",
        "results = expected_docs.merge(\n",
        "    predicted_docs.set_index(['id', 'doc_id']).assign(predicted=1),\n",
        "    on=['id', 'doc_id'],\n",
        "    how='left'\n",
        ").fillna(0)\n",
        "\n",
        "r = results.groupby('id')['predicted'].agg(['sum', 'count'])\n",
        "r['recall'] = r['sum'] / r['count']\n",
        "\n",
        "r['recall'].mean()"
      ],
      "metadata": {
        "colab": {
          "base_uri": "https://localhost:8080/"
        },
        "id": "ukPfJaFveoXb",
        "outputId": "66cb8a0f-f5ad-4c75-fb57-dfa6f31c6a46"
      },
      "execution_count": 32,
      "outputs": [
        {
          "output_type": "stream",
          "name": "stdout",
          "text": [
            "Processing claim 100\n",
            "Processing claim 200\n",
            "Processing claim 300\n",
            "Processing claim 400\n",
            "Processing claim 500\n",
            "Processing claim 600\n",
            "Processing claim 700\n",
            "Processing claim 800\n"
          ]
        },
        {
          "output_type": "execute_result",
          "data": {
            "text/plain": [
              "0.7397816234033787"
            ]
          },
          "metadata": {},
          "execution_count": 32
        }
      ]
    },
    {
      "cell_type": "markdown",
      "source": [
        "## Evaluation function"
      ],
      "metadata": {
        "id": "P-3_hWnjVtJO"
      }
    },
    {
      "cell_type": "markdown",
      "source": [
        "### Define test mocked examples"
      ],
      "metadata": {
        "id": "VkkdcxVsiG8d"
      }
    },
    {
      "cell_type": "code",
      "source": [
        "scifact_all['claims_dev'][0]"
      ],
      "metadata": {
        "id": "2dztPROvsTMs",
        "colab": {
          "base_uri": "https://localhost:8080/"
        },
        "outputId": "14f30bdb-091b-4f4a-b709-21581b6e550c"
      },
      "execution_count": 33,
      "outputs": [
        {
          "output_type": "execute_result",
          "data": {
            "text/plain": [
              "{'id': 1,\n",
              " 'claim': '0-dimensional biomaterials show inductive properties.',\n",
              " 'evidence': {},\n",
              " 'cited_doc_ids': [31715818]}"
            ]
          },
          "metadata": {},
          "execution_count": 33
        }
      ]
    },
    {
      "cell_type": "code",
      "source": [
        "test_golden_labels = [\n",
        "    {\n",
        "        \"id\": 52,\n",
        "        \"claim\": \"ALDH1 expression is associated with poorer prognosis for breast cancer primary tumors.\",\n",
        "        \"evidence\": {\n",
        "            \"11\": [\n",
        "                {\"sentences\": [ 0, 1 ], \"label\": \"SUPPORT\" },\n",
        "                {\"sentences\": [ 11 ], \"label\": \"SUPPORT\" },\n",
        "            ],\n",
        "            \"15\": [\n",
        "                {\"sentences\": [ 4 ], \"label\": \"SUPPORT\"},\n",
        "            ]\n",
        "        },\n",
        "        \"cited_doc_ids\": [11, 15]\n",
        "    }\n",
        "]"
      ],
      "metadata": {
        "id": "RsQog6AhVss5"
      },
      "execution_count": 34,
      "outputs": []
    },
    {
      "cell_type": "code",
      "source": [
        "test_predictions = [\n",
        "    {\n",
        "        \"id\": 52,\n",
        "        \"evidence\": {\n",
        "            \"11\": {\n",
        "                \"sentences\": [1, 11, 13],\n",
        "                \"label\": \"SUPPORT\"\n",
        "            },\n",
        "            \"16\": {\n",
        "                \"sentences\": [18, 20],\n",
        "                \"label\": \"REFUTES\"\n",
        "            }\n",
        "        }\n",
        "    }\n",
        "]"
      ],
      "metadata": {
        "id": "8xT0QorsIT0b"
      },
      "execution_count": 35,
      "outputs": []
    },
    {
      "cell_type": "markdown",
      "source": [
        "### Abstract metrics evaluation"
      ],
      "metadata": {
        "id": "-BazesduiKjd"
      }
    },
    {
      "cell_type": "code",
      "source": [
        "def _f1_score(precision, recall):\n",
        "    if precision != 0 and recall != 0:\n",
        "        return 2 * precision * recall / (precision + recall)\n",
        "    return 0"
      ],
      "metadata": {
        "id": "J7FrexFlgtmj"
      },
      "execution_count": 36,
      "outputs": []
    },
    {
      "cell_type": "code",
      "source": [
        "def flatten_gold_abstracts(gold_labels):\n",
        "    flat_golden_labels = []\n",
        "    for claim in gold_labels:\n",
        "        for doc_id, sentence_list in claim['evidence'].items():\n",
        "            for sentences in sentence_list:\n",
        "                    new_row = {}\n",
        "                    \n",
        "                    new_row['id'] = claim['id']\n",
        "                    new_row['doc_id'] = doc_id\n",
        "                    new_row['label'] = sentences['label']\n",
        "                    new_row['sentence'] = set(sentences['sentences'])\n",
        "                    \n",
        "                    flat_golden_labels.append(new_row)\n",
        "    \n",
        "    return pd.DataFrame(flat_golden_labels)\n",
        "\n",
        "\n",
        "def flatten_predicted_abstracts(predictions):\n",
        "    flat_predictions = []\n",
        "    \n",
        "    for prediction in predictions:\n",
        "        for doc_id, evidence in prediction['evidence'].items():\n",
        "            new_row = {}    \n",
        "            \n",
        "            new_row['id'] = prediction['id']\n",
        "            new_row['doc_id'] = doc_id\n",
        "            new_row['label'] = evidence['label']\n",
        "            new_row['sentence'] = set(evidence['sentences'][:3]) # top 3 only\n",
        "            # new_row['sentence'] = set(evidence['sentences']) # take all\n",
        "\n",
        "            flat_predictions.append(new_row)\n",
        "    \n",
        "    return pd.DataFrame(flat_predictions)"
      ],
      "metadata": {
        "id": "QuhfxHKx4Y64"
      },
      "execution_count": 37,
      "outputs": []
    },
    {
      "cell_type": "code",
      "source": [
        "def eval_abstracts(gold_labels, predictions):\n",
        "    df_gold_labels = flatten_gold_abstracts(gold_labels)\n",
        "    df_predictions = flatten_predicted_abstracts(predictions)\n",
        "    \n",
        "    df_eval = df_gold_labels \\\n",
        "        .join(\n",
        "            df_predictions.reset_index().set_index(['id', 'doc_id']),\n",
        "            on=['id', 'doc_id'],\n",
        "            lsuffix='_gold',\n",
        "            rsuffix='_pred',\n",
        "            how='outer'\n",
        "        )\n",
        "\n",
        "    def _add_sentence_correctness(row):\n",
        "        if row['sentence_gold'] is not np.nan and row['sentence_pred'] is not np.nan:\n",
        "            return row['sentence_gold'].issubset(row['sentence_pred'])\n",
        "        return False\n",
        "    \n",
        "    df_eval['gold_is_subset'] = df_eval.apply(_add_sentence_correctness, axis=1)\n",
        "    df_eval['label_is_correct'] = df_eval['label_gold'] == df_eval['label_pred']\n",
        "    df_eval['gold_and_label_correct'] = df_eval['gold_is_subset'] & df_eval['label_is_correct']\n",
        "\n",
        "    df_eval['is_gold'] = df_eval['label_gold'].notna()\n",
        "    df_eval['is_pred'] = df_eval['label_pred'].notna()\n",
        "\n",
        "    def _abstract_correctness(df):\n",
        "        return pd.Series({\n",
        "            'correct_label_only': df['label_is_correct'].any(),\n",
        "            'correct_label_rationale': df['gold_and_label_correct'].any(),\n",
        "            'is_gold': df['is_gold'].any(),\n",
        "            'is_pred': df['is_pred'].any(),\n",
        "        })\n",
        "\n",
        "    return df_eval.groupby(['id', 'doc_id']).apply(_abstract_correctness)\n",
        "\n",
        "\n",
        "def abstract_metrics(gold_labels, predictions):\n",
        "    ret = {}\n",
        "    df = eval_abstracts(gold_labels, predictions).sum()\n",
        "\n",
        "    ret['label__precision'] = df['correct_label_only'] / df['is_pred']\n",
        "    ret['label__recall'] = df['correct_label_only'] / df['is_gold']\n",
        "    ret['label__f1'] = _f1_score(ret['label__precision'], ret['label__recall'])\n",
        "    \n",
        "    ret['label_rationale__precision'] = df['correct_label_rationale'] / df['is_pred']\n",
        "    ret['label_rationale__recall'] = df['correct_label_rationale'] / df['is_gold']\n",
        "    ret['label_rationale__f1'] = _f1_score(ret['label_rationale__precision'], ret['label_rationale__recall'])\n",
        "        \n",
        "    return ret"
      ],
      "metadata": {
        "id": "4-A5Z2vU5SLn"
      },
      "execution_count": 38,
      "outputs": []
    },
    {
      "cell_type": "markdown",
      "source": [
        "### Sentence metrics evaluation"
      ],
      "metadata": {
        "id": "693NZLlpiQ7m"
      }
    },
    {
      "cell_type": "code",
      "source": [
        "def flatten_gold_sentences(gold_labels):\n",
        "    flat_golden_labels = []\n",
        "    for claim in gold_labels:\n",
        "        for doc_id, sentence_list in claim['evidence'].items():\n",
        "            for i, sentences in enumerate(sentence_list):\n",
        "                for sentence in sentences['sentences']:\n",
        "                    new_row = {}\n",
        "                    \n",
        "                    new_row['id'] = claim['id']\n",
        "                    new_row['doc_id'] = doc_id\n",
        "                    new_row['sentence_set'] = i\n",
        "                    new_row['label'] = sentences['label']\n",
        "                    new_row['sentence'] = sentence\n",
        "                    \n",
        "                    flat_golden_labels.append(new_row)\n",
        "    \n",
        "    return pd.DataFrame(flat_golden_labels)\n",
        "\n",
        "\n",
        "def flatten_predicted_sentences(predictions):\n",
        "    flat_predictions = []\n",
        "    \n",
        "    for prediction in predictions:\n",
        "        for doc_id, evidence in prediction['evidence'].items():\n",
        "            for sentence in evidence['sentences']:\n",
        "                new_row = {}    \n",
        "                \n",
        "                new_row['id'] = prediction['id']\n",
        "                new_row['doc_id'] = doc_id\n",
        "                new_row['label'] = evidence['label']\n",
        "                new_row['sentence'] = sentence\n",
        "\n",
        "                flat_predictions.append(new_row)\n",
        "        \n",
        "    return pd.DataFrame(flat_predictions)"
      ],
      "metadata": {
        "id": "hb46yyxI8MAO"
      },
      "execution_count": 39,
      "outputs": []
    },
    {
      "cell_type": "code",
      "source": [
        "def eval_sentences(gold_labels, predictions):\n",
        "    df_gold_labels = flatten_gold_sentences(gold_labels)\n",
        "    df_predictions = flatten_predicted_sentences(predictions)\n",
        "    \n",
        "    df_eval = df_gold_labels \\\n",
        "        .join(\n",
        "            df_predictions.reset_index().set_index(['id', 'doc_id', 'sentence']),\n",
        "            on=['id', 'doc_id', 'sentence'],\n",
        "            lsuffix='_gold',\n",
        "            rsuffix='_pred',\n",
        "            how='outer'\n",
        "        )\n",
        "\n",
        "    df_eval['is_gold'] = df_eval['label_gold'].notna()\n",
        "    df_eval['is_pred'] = df_eval['label_pred'].notna()\n",
        "    \n",
        "    df_eval['correct_select_naive'] = df_eval['is_pred'] & df_eval['is_gold']\n",
        "    df_sentence_set = df_eval.groupby(['id', 'doc_id', 'sentence_set'])['correct_select_naive'].all()\n",
        "    df_eval = df_eval.join(\n",
        "        df_sentence_set.rename('sentence_set_correct'),\n",
        "        on=['id', 'doc_id', 'sentence_set'],\n",
        "        how='left'\n",
        "    )\n",
        "\n",
        "    df_eval['correct_select'] = (df_eval['correct_select_naive'] \n",
        "                                   & df_eval['sentence_set_correct']\n",
        "                                   & (df_eval['label_pred'] != \"NOINFO\"))\n",
        "    df_eval['correct_select_label'] = (df_eval['label_gold'] == df_eval['label_pred']) & df_eval['correct_select']\n",
        "    \n",
        "    df_eval = df_eval.set_index(['id', 'doc_id', 'sentence']).sort_index()\n",
        "    return_cols = ['correct_select_label', 'correct_select', 'is_gold', 'is_pred']\n",
        "\n",
        "    return df_eval[return_cols]\n",
        "\n",
        "\n",
        "def sentences_metrics(gold_labels, predictions):\n",
        "    ret = {}\n",
        "    df = eval_sentences(gold_labels, predictions).sum()\n",
        "\n",
        "    ret['select__precision'] = df['correct_select'] / df['is_pred']\n",
        "    ret['select__recall'] = df['correct_select'] / df['is_gold']\n",
        "    ret['select__f1'] = _f1_score(ret['select__precision'], ret['select__recall'])\n",
        "    \n",
        "    ret['select_label__precision'] = df['correct_select_label'] / df['is_pred']\n",
        "    ret['select_label__recall'] = df['correct_select_label'] / df['is_gold']\n",
        "    ret['select_label__f1'] = _f1_score(ret['select_label__precision'], ret['select_label__recall'])\n",
        "    \n",
        "    \n",
        "    return ret"
      ],
      "metadata": {
        "id": "Qd72nCpGYDXu"
      },
      "execution_count": 40,
      "outputs": []
    },
    {
      "cell_type": "markdown",
      "source": [
        "### Test evaluation functions"
      ],
      "metadata": {
        "id": "oLt_O1_LiZCH"
      }
    },
    {
      "cell_type": "code",
      "source": [
        "eval_abstracts(test_golden_labels, test_predictions)"
      ],
      "metadata": {
        "id": "owEbjmqhiyuq",
        "colab": {
          "base_uri": "https://localhost:8080/",
          "height": 175
        },
        "outputId": "eb8bd289-8afb-4dbd-c873-f3c2908b1d2b"
      },
      "execution_count": 41,
      "outputs": [
        {
          "output_type": "execute_result",
          "data": {
            "text/plain": [
              "           correct_label_only  correct_label_rationale  is_gold  is_pred\n",
              "id doc_id                                                               \n",
              "52 11                    True                     True     True     True\n",
              "   15                   False                    False     True    False\n",
              "   16                   False                    False    False     True"
            ],
            "text/html": [
              "\n",
              "  <div id=\"df-07666de9-524d-4965-b3d9-4e362979334d\">\n",
              "    <div class=\"colab-df-container\">\n",
              "      <div>\n",
              "<style scoped>\n",
              "    .dataframe tbody tr th:only-of-type {\n",
              "        vertical-align: middle;\n",
              "    }\n",
              "\n",
              "    .dataframe tbody tr th {\n",
              "        vertical-align: top;\n",
              "    }\n",
              "\n",
              "    .dataframe thead th {\n",
              "        text-align: right;\n",
              "    }\n",
              "</style>\n",
              "<table border=\"1\" class=\"dataframe\">\n",
              "  <thead>\n",
              "    <tr style=\"text-align: right;\">\n",
              "      <th></th>\n",
              "      <th></th>\n",
              "      <th>correct_label_only</th>\n",
              "      <th>correct_label_rationale</th>\n",
              "      <th>is_gold</th>\n",
              "      <th>is_pred</th>\n",
              "    </tr>\n",
              "    <tr>\n",
              "      <th>id</th>\n",
              "      <th>doc_id</th>\n",
              "      <th></th>\n",
              "      <th></th>\n",
              "      <th></th>\n",
              "      <th></th>\n",
              "    </tr>\n",
              "  </thead>\n",
              "  <tbody>\n",
              "    <tr>\n",
              "      <th rowspan=\"3\" valign=\"top\">52</th>\n",
              "      <th>11</th>\n",
              "      <td>True</td>\n",
              "      <td>True</td>\n",
              "      <td>True</td>\n",
              "      <td>True</td>\n",
              "    </tr>\n",
              "    <tr>\n",
              "      <th>15</th>\n",
              "      <td>False</td>\n",
              "      <td>False</td>\n",
              "      <td>True</td>\n",
              "      <td>False</td>\n",
              "    </tr>\n",
              "    <tr>\n",
              "      <th>16</th>\n",
              "      <td>False</td>\n",
              "      <td>False</td>\n",
              "      <td>False</td>\n",
              "      <td>True</td>\n",
              "    </tr>\n",
              "  </tbody>\n",
              "</table>\n",
              "</div>\n",
              "      <button class=\"colab-df-convert\" onclick=\"convertToInteractive('df-07666de9-524d-4965-b3d9-4e362979334d')\"\n",
              "              title=\"Convert this dataframe to an interactive table.\"\n",
              "              style=\"display:none;\">\n",
              "        \n",
              "  <svg xmlns=\"http://www.w3.org/2000/svg\" height=\"24px\"viewBox=\"0 0 24 24\"\n",
              "       width=\"24px\">\n",
              "    <path d=\"M0 0h24v24H0V0z\" fill=\"none\"/>\n",
              "    <path d=\"M18.56 5.44l.94 2.06.94-2.06 2.06-.94-2.06-.94-.94-2.06-.94 2.06-2.06.94zm-11 1L8.5 8.5l.94-2.06 2.06-.94-2.06-.94L8.5 2.5l-.94 2.06-2.06.94zm10 10l.94 2.06.94-2.06 2.06-.94-2.06-.94-.94-2.06-.94 2.06-2.06.94z\"/><path d=\"M17.41 7.96l-1.37-1.37c-.4-.4-.92-.59-1.43-.59-.52 0-1.04.2-1.43.59L10.3 9.45l-7.72 7.72c-.78.78-.78 2.05 0 2.83L4 21.41c.39.39.9.59 1.41.59.51 0 1.02-.2 1.41-.59l7.78-7.78 2.81-2.81c.8-.78.8-2.07 0-2.86zM5.41 20L4 18.59l7.72-7.72 1.47 1.35L5.41 20z\"/>\n",
              "  </svg>\n",
              "      </button>\n",
              "      \n",
              "  <style>\n",
              "    .colab-df-container {\n",
              "      display:flex;\n",
              "      flex-wrap:wrap;\n",
              "      gap: 12px;\n",
              "    }\n",
              "\n",
              "    .colab-df-convert {\n",
              "      background-color: #E8F0FE;\n",
              "      border: none;\n",
              "      border-radius: 50%;\n",
              "      cursor: pointer;\n",
              "      display: none;\n",
              "      fill: #1967D2;\n",
              "      height: 32px;\n",
              "      padding: 0 0 0 0;\n",
              "      width: 32px;\n",
              "    }\n",
              "\n",
              "    .colab-df-convert:hover {\n",
              "      background-color: #E2EBFA;\n",
              "      box-shadow: 0px 1px 2px rgba(60, 64, 67, 0.3), 0px 1px 3px 1px rgba(60, 64, 67, 0.15);\n",
              "      fill: #174EA6;\n",
              "    }\n",
              "\n",
              "    [theme=dark] .colab-df-convert {\n",
              "      background-color: #3B4455;\n",
              "      fill: #D2E3FC;\n",
              "    }\n",
              "\n",
              "    [theme=dark] .colab-df-convert:hover {\n",
              "      background-color: #434B5C;\n",
              "      box-shadow: 0px 1px 3px 1px rgba(0, 0, 0, 0.15);\n",
              "      filter: drop-shadow(0px 1px 2px rgba(0, 0, 0, 0.3));\n",
              "      fill: #FFFFFF;\n",
              "    }\n",
              "  </style>\n",
              "\n",
              "      <script>\n",
              "        const buttonEl =\n",
              "          document.querySelector('#df-07666de9-524d-4965-b3d9-4e362979334d button.colab-df-convert');\n",
              "        buttonEl.style.display =\n",
              "          google.colab.kernel.accessAllowed ? 'block' : 'none';\n",
              "\n",
              "        async function convertToInteractive(key) {\n",
              "          const element = document.querySelector('#df-07666de9-524d-4965-b3d9-4e362979334d');\n",
              "          const dataTable =\n",
              "            await google.colab.kernel.invokeFunction('convertToInteractive',\n",
              "                                                     [key], {});\n",
              "          if (!dataTable) return;\n",
              "\n",
              "          const docLinkHtml = 'Like what you see? Visit the ' +\n",
              "            '<a target=\"_blank\" href=https://colab.research.google.com/notebooks/data_table.ipynb>data table notebook</a>'\n",
              "            + ' to learn more about interactive tables.';\n",
              "          element.innerHTML = '';\n",
              "          dataTable['output_type'] = 'display_data';\n",
              "          await google.colab.output.renderOutput(dataTable, element);\n",
              "          const docLink = document.createElement('div');\n",
              "          docLink.innerHTML = docLinkHtml;\n",
              "          element.appendChild(docLink);\n",
              "        }\n",
              "      </script>\n",
              "    </div>\n",
              "  </div>\n",
              "  "
            ]
          },
          "metadata": {},
          "execution_count": 41
        }
      ]
    },
    {
      "cell_type": "code",
      "source": [
        "abstract_metrics(test_golden_labels, test_predictions)"
      ],
      "metadata": {
        "id": "sSpHqJVjh_gW",
        "colab": {
          "base_uri": "https://localhost:8080/"
        },
        "outputId": "2b58df02-c5c3-493f-cc89-06978034ad5d"
      },
      "execution_count": 42,
      "outputs": [
        {
          "output_type": "execute_result",
          "data": {
            "text/plain": [
              "{'label__precision': 0.5,\n",
              " 'label__recall': 0.5,\n",
              " 'label__f1': 0.5,\n",
              " 'label_rationale__precision': 0.5,\n",
              " 'label_rationale__recall': 0.5,\n",
              " 'label_rationale__f1': 0.5}"
            ]
          },
          "metadata": {},
          "execution_count": 42
        }
      ]
    },
    {
      "cell_type": "code",
      "source": [
        "eval_sentences(test_golden_labels, test_predictions)"
      ],
      "metadata": {
        "id": "9PlsIesGi4dj",
        "colab": {
          "base_uri": "https://localhost:8080/",
          "height": 344
        },
        "outputId": "76e9d13a-807c-46e0-ec88-ef4869b85121"
      },
      "execution_count": 43,
      "outputs": [
        {
          "output_type": "execute_result",
          "data": {
            "text/plain": [
              "                    correct_select_label  correct_select  is_gold  is_pred\n",
              "id doc_id sentence                                                        \n",
              "52 11     0                        False           False     True    False\n",
              "          1                        False           False     True     True\n",
              "          11                        True            True     True     True\n",
              "          13                       False           False    False     True\n",
              "   15     4                        False           False     True    False\n",
              "   16     18                       False           False    False     True\n",
              "          20                       False           False    False     True"
            ],
            "text/html": [
              "\n",
              "  <div id=\"df-8422fada-7dd2-4191-95d2-582aab784d48\">\n",
              "    <div class=\"colab-df-container\">\n",
              "      <div>\n",
              "<style scoped>\n",
              "    .dataframe tbody tr th:only-of-type {\n",
              "        vertical-align: middle;\n",
              "    }\n",
              "\n",
              "    .dataframe tbody tr th {\n",
              "        vertical-align: top;\n",
              "    }\n",
              "\n",
              "    .dataframe thead th {\n",
              "        text-align: right;\n",
              "    }\n",
              "</style>\n",
              "<table border=\"1\" class=\"dataframe\">\n",
              "  <thead>\n",
              "    <tr style=\"text-align: right;\">\n",
              "      <th></th>\n",
              "      <th></th>\n",
              "      <th></th>\n",
              "      <th>correct_select_label</th>\n",
              "      <th>correct_select</th>\n",
              "      <th>is_gold</th>\n",
              "      <th>is_pred</th>\n",
              "    </tr>\n",
              "    <tr>\n",
              "      <th>id</th>\n",
              "      <th>doc_id</th>\n",
              "      <th>sentence</th>\n",
              "      <th></th>\n",
              "      <th></th>\n",
              "      <th></th>\n",
              "      <th></th>\n",
              "    </tr>\n",
              "  </thead>\n",
              "  <tbody>\n",
              "    <tr>\n",
              "      <th rowspan=\"7\" valign=\"top\">52</th>\n",
              "      <th rowspan=\"4\" valign=\"top\">11</th>\n",
              "      <th>0</th>\n",
              "      <td>False</td>\n",
              "      <td>False</td>\n",
              "      <td>True</td>\n",
              "      <td>False</td>\n",
              "    </tr>\n",
              "    <tr>\n",
              "      <th>1</th>\n",
              "      <td>False</td>\n",
              "      <td>False</td>\n",
              "      <td>True</td>\n",
              "      <td>True</td>\n",
              "    </tr>\n",
              "    <tr>\n",
              "      <th>11</th>\n",
              "      <td>True</td>\n",
              "      <td>True</td>\n",
              "      <td>True</td>\n",
              "      <td>True</td>\n",
              "    </tr>\n",
              "    <tr>\n",
              "      <th>13</th>\n",
              "      <td>False</td>\n",
              "      <td>False</td>\n",
              "      <td>False</td>\n",
              "      <td>True</td>\n",
              "    </tr>\n",
              "    <tr>\n",
              "      <th>15</th>\n",
              "      <th>4</th>\n",
              "      <td>False</td>\n",
              "      <td>False</td>\n",
              "      <td>True</td>\n",
              "      <td>False</td>\n",
              "    </tr>\n",
              "    <tr>\n",
              "      <th rowspan=\"2\" valign=\"top\">16</th>\n",
              "      <th>18</th>\n",
              "      <td>False</td>\n",
              "      <td>False</td>\n",
              "      <td>False</td>\n",
              "      <td>True</td>\n",
              "    </tr>\n",
              "    <tr>\n",
              "      <th>20</th>\n",
              "      <td>False</td>\n",
              "      <td>False</td>\n",
              "      <td>False</td>\n",
              "      <td>True</td>\n",
              "    </tr>\n",
              "  </tbody>\n",
              "</table>\n",
              "</div>\n",
              "      <button class=\"colab-df-convert\" onclick=\"convertToInteractive('df-8422fada-7dd2-4191-95d2-582aab784d48')\"\n",
              "              title=\"Convert this dataframe to an interactive table.\"\n",
              "              style=\"display:none;\">\n",
              "        \n",
              "  <svg xmlns=\"http://www.w3.org/2000/svg\" height=\"24px\"viewBox=\"0 0 24 24\"\n",
              "       width=\"24px\">\n",
              "    <path d=\"M0 0h24v24H0V0z\" fill=\"none\"/>\n",
              "    <path d=\"M18.56 5.44l.94 2.06.94-2.06 2.06-.94-2.06-.94-.94-2.06-.94 2.06-2.06.94zm-11 1L8.5 8.5l.94-2.06 2.06-.94-2.06-.94L8.5 2.5l-.94 2.06-2.06.94zm10 10l.94 2.06.94-2.06 2.06-.94-2.06-.94-.94-2.06-.94 2.06-2.06.94z\"/><path d=\"M17.41 7.96l-1.37-1.37c-.4-.4-.92-.59-1.43-.59-.52 0-1.04.2-1.43.59L10.3 9.45l-7.72 7.72c-.78.78-.78 2.05 0 2.83L4 21.41c.39.39.9.59 1.41.59.51 0 1.02-.2 1.41-.59l7.78-7.78 2.81-2.81c.8-.78.8-2.07 0-2.86zM5.41 20L4 18.59l7.72-7.72 1.47 1.35L5.41 20z\"/>\n",
              "  </svg>\n",
              "      </button>\n",
              "      \n",
              "  <style>\n",
              "    .colab-df-container {\n",
              "      display:flex;\n",
              "      flex-wrap:wrap;\n",
              "      gap: 12px;\n",
              "    }\n",
              "\n",
              "    .colab-df-convert {\n",
              "      background-color: #E8F0FE;\n",
              "      border: none;\n",
              "      border-radius: 50%;\n",
              "      cursor: pointer;\n",
              "      display: none;\n",
              "      fill: #1967D2;\n",
              "      height: 32px;\n",
              "      padding: 0 0 0 0;\n",
              "      width: 32px;\n",
              "    }\n",
              "\n",
              "    .colab-df-convert:hover {\n",
              "      background-color: #E2EBFA;\n",
              "      box-shadow: 0px 1px 2px rgba(60, 64, 67, 0.3), 0px 1px 3px 1px rgba(60, 64, 67, 0.15);\n",
              "      fill: #174EA6;\n",
              "    }\n",
              "\n",
              "    [theme=dark] .colab-df-convert {\n",
              "      background-color: #3B4455;\n",
              "      fill: #D2E3FC;\n",
              "    }\n",
              "\n",
              "    [theme=dark] .colab-df-convert:hover {\n",
              "      background-color: #434B5C;\n",
              "      box-shadow: 0px 1px 3px 1px rgba(0, 0, 0, 0.15);\n",
              "      filter: drop-shadow(0px 1px 2px rgba(0, 0, 0, 0.3));\n",
              "      fill: #FFFFFF;\n",
              "    }\n",
              "  </style>\n",
              "\n",
              "      <script>\n",
              "        const buttonEl =\n",
              "          document.querySelector('#df-8422fada-7dd2-4191-95d2-582aab784d48 button.colab-df-convert');\n",
              "        buttonEl.style.display =\n",
              "          google.colab.kernel.accessAllowed ? 'block' : 'none';\n",
              "\n",
              "        async function convertToInteractive(key) {\n",
              "          const element = document.querySelector('#df-8422fada-7dd2-4191-95d2-582aab784d48');\n",
              "          const dataTable =\n",
              "            await google.colab.kernel.invokeFunction('convertToInteractive',\n",
              "                                                     [key], {});\n",
              "          if (!dataTable) return;\n",
              "\n",
              "          const docLinkHtml = 'Like what you see? Visit the ' +\n",
              "            '<a target=\"_blank\" href=https://colab.research.google.com/notebooks/data_table.ipynb>data table notebook</a>'\n",
              "            + ' to learn more about interactive tables.';\n",
              "          element.innerHTML = '';\n",
              "          dataTable['output_type'] = 'display_data';\n",
              "          await google.colab.output.renderOutput(dataTable, element);\n",
              "          const docLink = document.createElement('div');\n",
              "          docLink.innerHTML = docLinkHtml;\n",
              "          element.appendChild(docLink);\n",
              "        }\n",
              "      </script>\n",
              "    </div>\n",
              "  </div>\n",
              "  "
            ]
          },
          "metadata": {},
          "execution_count": 43
        }
      ]
    },
    {
      "cell_type": "code",
      "source": [
        "sentences_metrics(test_golden_labels, test_predictions)"
      ],
      "metadata": {
        "id": "arU2B7r2XfW0",
        "colab": {
          "base_uri": "https://localhost:8080/"
        },
        "outputId": "040b8a94-d37d-41bf-b586-6cb17a43ac8f"
      },
      "execution_count": 44,
      "outputs": [
        {
          "output_type": "execute_result",
          "data": {
            "text/plain": [
              "{'select__precision': 0.2,\n",
              " 'select__recall': 0.25,\n",
              " 'select__f1': 0.22222222222222224,\n",
              " 'select_label__precision': 0.2,\n",
              " 'select_label__recall': 0.25,\n",
              " 'select_label__f1': 0.22222222222222224}"
            ]
          },
          "metadata": {},
          "execution_count": 44
        }
      ]
    },
    {
      "cell_type": "markdown",
      "source": [
        "## Implement ranking & reranking with BM25 & monoT5 (pretrained on Marco)"
      ],
      "metadata": {
        "id": "_pnMc_3wVfn-"
      }
    },
    {
      "cell_type": "markdown",
      "source": [
        "### Classes and functions"
      ],
      "metadata": {
        "id": "0U_DG05Blrx3"
      }
    },
    {
      "cell_type": "code",
      "source": [
        "class Ranker:\n",
        "    def __init__(self, bm25, k):\n",
        "        self.bm25 = bm25\n",
        "        self.k = k\n",
        "    \n",
        "    def rank(self, claim) -> Text:\n",
        "        q = claim['claim']\n",
        "        hits = self.bm25.search(q, k=self.k)\n",
        "        return hits_to_texts(hits), Query(q)\n",
        "\n",
        "\n",
        "class Reranker:\n",
        "    def __init__(self, ranker: Ranker, monot5, k):\n",
        "        self.ranker = ranker\n",
        "        self.monot5 = monot5\n",
        "        self.k = k\n",
        "    \n",
        "    def rank(self, claim) -> Text:\n",
        "        ranking, query = self.ranker.rank(claim)\n",
        "        reranked = self.monot5.rerank(query, ranking)\n",
        "        \n",
        "        trunc_reranked = sorted(reranked, key=lambda x: x.score, reverse=True)[:self.k]\n",
        "\n",
        "        return trunc_reranked, query"
      ],
      "metadata": {
        "id": "skOq_aG6b5nC"
      },
      "execution_count": 45,
      "outputs": []
    },
    {
      "cell_type": "code",
      "source": [
        "def display_text_list(texts):\n",
        "    for i in range(0, len(texts)):\n",
        "        print(f'{i+1:2} {texts[i].metadata[\"docid\"]:15} {texts[i].score:.5f} {texts[i].text}')"
      ],
      "metadata": {
        "id": "o5IjW0o7eW_Z"
      },
      "execution_count": 46,
      "outputs": []
    },
    {
      "cell_type": "code",
      "source": [
        "scifact_all['claims_train'][1]"
      ],
      "metadata": {
        "colab": {
          "base_uri": "https://localhost:8080/"
        },
        "id": "OmSAYcNB3VGX",
        "outputId": "49cc1d4e-1807-4e7a-acc3-79d159b11d7e"
      },
      "execution_count": 47,
      "outputs": [
        {
          "output_type": "execute_result",
          "data": {
            "text/plain": [
              "{'id': 2,\n",
              " 'claim': '1 in 5 million in UK have abnormal PrP positivity.',\n",
              " 'evidence': {'13734012': [{'sentences': [4], 'label': 'CONTRADICT'}]},\n",
              " 'cited_doc_ids': [13734012]}"
            ]
          },
          "metadata": {},
          "execution_count": 47
        }
      ]
    },
    {
      "cell_type": "code",
      "source": [
        "def evaluate_ranking_recall(claims_dataset, ranker, relevant_only=True):\n",
        "    expected_doc_ids = []\n",
        "    predicted_doc_ids = []\n",
        "\n",
        "    for i, claim in enumerate(tqdm(claims_dataset)):\n",
        "        if relevant_only:\n",
        "            doc_id_list = claim['evidence'].keys()\n",
        "        else:\n",
        "            doc_id_list = claim['cited_doc_ids']\n",
        "\n",
        "        for doc_id in doc_id_list:\n",
        "            expected_doc_ids.append({'id': int(claim['id']), 'doc_id': int(doc_id)})\n",
        "        \n",
        "        ranking, query = ranker.rank(claim)\n",
        "\n",
        "        for row in ranking:\n",
        "             predicted_doc_ids.append({\n",
        "                'id': int(claim['id']),\n",
        "                'doc_id': int(row.metadata[\"docid\"]),\n",
        "                'score': row.score\n",
        "            })\n",
        "             \n",
        "    expected_docs = pd.DataFrame(expected_doc_ids)\n",
        "    predicted_docs = pd.DataFrame(predicted_doc_ids)\n",
        "\n",
        "    results = expected_docs.merge(\n",
        "        predicted_docs.set_index(['id', 'doc_id']).assign(predicted=1),\n",
        "        on=['id', 'doc_id'],\n",
        "        how='left'\n",
        "    ).fillna(0)\n",
        "\n",
        "    r = results.groupby('id')['predicted'].agg(['sum', 'count'])\n",
        "    r['recall'] = r['sum'] / r['count']\n",
        "\n",
        "    # return r['recall'].mean()\n",
        "    return results['predicted'].sum() / results['predicted'].count()"
      ],
      "metadata": {
        "id": "WlZ3qAJGmNS0"
      },
      "execution_count": 48,
      "outputs": []
    },
    {
      "cell_type": "markdown",
      "source": [
        "### Evaluate BM25 ranker for different k"
      ],
      "metadata": {
        "id": "Cv55EkPNlySV"
      }
    },
    {
      "cell_type": "code",
      "source": [
        "evaluate_ranking_recall(scifact_all['claims_train'], Ranker(searcher, k=30))"
      ],
      "metadata": {
        "colab": {
          "base_uri": "https://localhost:8080/",
          "height": 84,
          "referenced_widgets": [
            "5e34ace80acd472682b4e563490ed4f7",
            "536c7d563382488c88b41a764f045a5b",
            "c48db58ef61a41f585946bf4bce5972e",
            "19426be497a34d08ad14db275c522874",
            "556e5936156849519ea53f902c166a60",
            "36715a2c933c4df6a839c92bd869434d",
            "54aff6f4fec742019f40b0e990d1a6ee",
            "c3ff137ff4a4489a88c9141b9231eadd"
          ]
        },
        "id": "1-Es87Ea1_M6",
        "outputId": "126b2926-453e-4c72-f290-8141fd3cee1b"
      },
      "execution_count": 49,
      "outputs": [
        {
          "output_type": "display_data",
          "data": {
            "text/plain": [
              "HBox(children=(FloatProgress(value=0.0, max=809.0), HTML(value='')))"
            ],
            "application/vnd.jupyter.widget-view+json": {
              "version_major": 2,
              "version_minor": 0,
              "model_id": "5e34ace80acd472682b4e563490ed4f7"
            }
          },
          "metadata": {}
        },
        {
          "output_type": "stream",
          "name": "stdout",
          "text": [
            "\n"
          ]
        },
        {
          "output_type": "execute_result",
          "data": {
            "text/plain": [
              "0.9645390070921985"
            ]
          },
          "metadata": {},
          "execution_count": 49
        }
      ]
    },
    {
      "cell_type": "code",
      "source": [
        "evaluate_ranking_recall(scifact_all['claims_train'], Ranker(searcher, k=20))"
      ],
      "metadata": {
        "colab": {
          "base_uri": "https://localhost:8080/",
          "height": 84,
          "referenced_widgets": [
            "5a7c0f4ad4384094adeefbc21abd733e",
            "b0b52f45963e4501a49221a169668ec0",
            "d9c14afde7e342c1bdace5979791baef",
            "dadb4283432c40e2941cee6481b397cb",
            "3e1a5cfc96894e21b3ef00cae15e3609",
            "9f92f34ed30e421eb811610e50e5c4c7",
            "484ea4d8f73945bebdfe404de2ac240b",
            "c9d789d12ad24fc8940f643fbfa18957"
          ]
        },
        "id": "L2Mz_w3j19KO",
        "outputId": "f5132ebf-afd4-4397-c708-bb9411b1775c"
      },
      "execution_count": 50,
      "outputs": [
        {
          "output_type": "display_data",
          "data": {
            "text/plain": [
              "HBox(children=(FloatProgress(value=0.0, max=809.0), HTML(value='')))"
            ],
            "application/vnd.jupyter.widget-view+json": {
              "version_major": 2,
              "version_minor": 0,
              "model_id": "5a7c0f4ad4384094adeefbc21abd733e"
            }
          },
          "metadata": {}
        },
        {
          "output_type": "stream",
          "name": "stdout",
          "text": [
            "\n"
          ]
        },
        {
          "output_type": "execute_result",
          "data": {
            "text/plain": [
              "0.9556737588652482"
            ]
          },
          "metadata": {},
          "execution_count": 50
        }
      ]
    },
    {
      "cell_type": "code",
      "source": [
        "evaluate_ranking_recall(scifact_all['claims_train'], Ranker(searcher, k=10))"
      ],
      "metadata": {
        "colab": {
          "base_uri": "https://localhost:8080/",
          "height": 84,
          "referenced_widgets": [
            "21c185e77af64c249ca849597b2b7859",
            "26d0ffb8a11841da9d0a55a93eda8547",
            "96e6104b07274083afed4b8d129e37c7",
            "cfa924653bf64c4ba3e0e4bc4b88fc74",
            "b752abdd62dc4811a9dd607208bc5ad0",
            "d4425d083c13485eaa8d06cf3e6627dd",
            "789a920fd35a44b78036c97d4bf4f2c5",
            "582efe4b42664a83af546fec9f8ff9a2"
          ]
        },
        "id": "H3ou-t_Tb-5r",
        "outputId": "b36a3e71-daba-4484-8e6f-fe4eca6c84e7"
      },
      "execution_count": 51,
      "outputs": [
        {
          "output_type": "display_data",
          "data": {
            "text/plain": [
              "HBox(children=(FloatProgress(value=0.0, max=809.0), HTML(value='')))"
            ],
            "application/vnd.jupyter.widget-view+json": {
              "version_major": 2,
              "version_minor": 0,
              "model_id": "21c185e77af64c249ca849597b2b7859"
            }
          },
          "metadata": {}
        },
        {
          "output_type": "stream",
          "name": "stdout",
          "text": [
            "\n"
          ]
        },
        {
          "output_type": "execute_result",
          "data": {
            "text/plain": [
              "0.9379432624113475"
            ]
          },
          "metadata": {},
          "execution_count": 51
        }
      ]
    },
    {
      "cell_type": "code",
      "source": [
        "evaluate_ranking_recall(scifact_all['claims_train'], Ranker(searcher, k=5))"
      ],
      "metadata": {
        "colab": {
          "base_uri": "https://localhost:8080/",
          "height": 84,
          "referenced_widgets": [
            "3c6a4738e97c4b34a14f43c78af20b2b",
            "72242cbb3f4f432d9cc36afe07224e05",
            "5258f3289c604d1ca77503ef2eaedffa",
            "0bc7bd6400f34d83a2e5ad1d65f3ac77",
            "d79624f69b254d01b7f6965abc091109",
            "ee33c4f6b49b4921b40c4d55e2c1349d",
            "43f27c43fbae4769b1ac4b1e3d4da52b",
            "2a1570814e1a4936b48cc1f4548285fb"
          ]
        },
        "id": "povCQAANcAKL",
        "outputId": "f7bcfbbf-185f-4a72-a39a-2e21d69b0dfa"
      },
      "execution_count": 52,
      "outputs": [
        {
          "output_type": "display_data",
          "data": {
            "text/plain": [
              "HBox(children=(FloatProgress(value=0.0, max=809.0), HTML(value='')))"
            ],
            "application/vnd.jupyter.widget-view+json": {
              "version_major": 2,
              "version_minor": 0,
              "model_id": "3c6a4738e97c4b34a14f43c78af20b2b"
            }
          },
          "metadata": {}
        },
        {
          "output_type": "stream",
          "name": "stdout",
          "text": [
            "\n"
          ]
        },
        {
          "output_type": "execute_result",
          "data": {
            "text/plain": [
              "0.8812056737588653"
            ]
          },
          "metadata": {},
          "execution_count": 52
        }
      ]
    },
    {
      "cell_type": "code",
      "source": [
        "evaluate_ranking_recall(scifact_all['claims_train'], Ranker(searcher, k=3))"
      ],
      "metadata": {
        "colab": {
          "base_uri": "https://localhost:8080/",
          "height": 84,
          "referenced_widgets": [
            "fc2184c35b5e4e66b5f844be10327090",
            "73812d348b6e49428479c57b4bf1292c",
            "5a85d4fb76bf4187a10377620fff3656",
            "91c83b03cdc64ca4a9c0511d70ad8f93",
            "3f4d2928599f43f7a2a3c9b3dfafc5f8",
            "078733907351443b8e7e64744d3b2ac1",
            "7078da97397544a4be3e0ee7a62741b2",
            "6acdea48eb3c43e58dfdfff9aeeb160e"
          ]
        },
        "id": "5QEC-C_2cCWt",
        "outputId": "53c11012-cdfb-46c5-cc1c-12fc3e01c450"
      },
      "execution_count": 53,
      "outputs": [
        {
          "output_type": "display_data",
          "data": {
            "text/plain": [
              "HBox(children=(FloatProgress(value=0.0, max=809.0), HTML(value='')))"
            ],
            "application/vnd.jupyter.widget-view+json": {
              "version_major": 2,
              "version_minor": 0,
              "model_id": "fc2184c35b5e4e66b5f844be10327090"
            }
          },
          "metadata": {}
        },
        {
          "output_type": "stream",
          "name": "stdout",
          "text": [
            "\n"
          ]
        },
        {
          "output_type": "execute_result",
          "data": {
            "text/plain": [
              "0.8191489361702128"
            ]
          },
          "metadata": {},
          "execution_count": 53
        }
      ]
    },
    {
      "cell_type": "markdown",
      "source": [
        "### Create and evaluate reranker"
      ],
      "metadata": {
        "id": "eoZ-73Ojl2ZG"
      }
    },
    {
      "cell_type": "code",
      "source": [
        "t5_reranking =  MonoT5()"
      ],
      "metadata": {
        "id": "QEXzUCVCrPyA",
        "colab": {
          "base_uri": "https://localhost:8080/",
          "height": 339,
          "referenced_widgets": [
            "bda6be779ccb4b69ba059fe205a7c948",
            "cb18b40a5dde44208b2f5508cdd5fbf8",
            "d5e87dddcb9747ffa4c9734b00119934",
            "6c03d7b2259b436e818a8aeb3b711140",
            "a47772f618a7464c8269faf3b4895394",
            "fdc8334f5fd948a48b092fc180890290",
            "011cc27898114923ba443b3bbf76f07b",
            "c348f474ffb744169498a191350bfdd9",
            "cffc43db1a9845cab16a7da00c8160bc",
            "5b685dbbb4b440f0a23e07d7686c8b96",
            "959f8f54c4cb468fa130d9b2f34767e7",
            "a3ec9d4ffe77475791bcffcc8e788c0a",
            "7ce97c130da34c13adb9d398fe4a05eb",
            "34ab1ad614d2408784f8986e27cc9029",
            "c692b1abfdc543cea709484f25fafc96",
            "3b9cc7cbc2524455b93cf53b13e136f8",
            "1b87b49f23774fb0868162108594572e",
            "056e3a8d5d2b4181bc12aedda2eca03e",
            "53e19ed4be1d46be81d08f82ee8824c3",
            "5900673810544eb9aab843bdbb9e08a5",
            "a93a7d7f902f468ba97da82faef8f03a",
            "3dc7b249be0d494b82dd4aabe41c71cf",
            "e48cd57aaf014136a5a7deba416bbaf3",
            "5fe8a8c1fe5b409c8a26f3d918d61e49",
            "9f240eb0faba413e9ca5ac0db7e14ced",
            "24a35acd6a0f4b978adcb7b87a304483",
            "9a72346780634451b1e462df93a240f3",
            "56b1875d6aac4bc29c4d84d684bb4488",
            "2ec7f94491ac4204a6fd1ea68f9f99e8",
            "754b4c75b60740b98c9c7aa1b05d3887",
            "f022585cebbc4f8f96a8cb4c30dda904",
            "8606ea2ee5154ff39de2cb569e10fe87"
          ]
        },
        "outputId": "71a6d1d5-5372-4ade-bea9-f2d4b94b3bab"
      },
      "execution_count": 54,
      "outputs": [
        {
          "output_type": "display_data",
          "data": {
            "text/plain": [
              "HBox(children=(FloatProgress(value=0.0, description='Downloading', max=1841.0, style=ProgressStyle(description…"
            ],
            "application/vnd.jupyter.widget-view+json": {
              "version_major": 2,
              "version_minor": 0,
              "model_id": "bda6be779ccb4b69ba059fe205a7c948"
            }
          },
          "metadata": {}
        },
        {
          "output_type": "stream",
          "name": "stdout",
          "text": [
            "\n"
          ]
        },
        {
          "output_type": "display_data",
          "data": {
            "text/plain": [
              "HBox(children=(FloatProgress(value=0.0, description='Downloading', max=891691413.0, style=ProgressStyle(descri…"
            ],
            "application/vnd.jupyter.widget-view+json": {
              "version_major": 2,
              "version_minor": 0,
              "model_id": "cffc43db1a9845cab16a7da00c8160bc"
            }
          },
          "metadata": {}
        },
        {
          "output_type": "stream",
          "name": "stdout",
          "text": [
            "\n"
          ]
        },
        {
          "output_type": "display_data",
          "data": {
            "text/plain": [
              "HBox(children=(FloatProgress(value=0.0, description='Downloading', max=1199.0, style=ProgressStyle(description…"
            ],
            "application/vnd.jupyter.widget-view+json": {
              "version_major": 2,
              "version_minor": 0,
              "model_id": "1b87b49f23774fb0868162108594572e"
            }
          },
          "metadata": {}
        },
        {
          "output_type": "stream",
          "name": "stdout",
          "text": [
            "\n"
          ]
        },
        {
          "output_type": "display_data",
          "data": {
            "text/plain": [
              "HBox(children=(FloatProgress(value=0.0, description='Downloading', max=791656.0, style=ProgressStyle(descripti…"
            ],
            "application/vnd.jupyter.widget-view+json": {
              "version_major": 2,
              "version_minor": 0,
              "model_id": "9f240eb0faba413e9ca5ac0db7e14ced"
            }
          },
          "metadata": {}
        },
        {
          "output_type": "stream",
          "name": "stdout",
          "text": [
            "\n"
          ]
        },
        {
          "output_type": "stream",
          "name": "stderr",
          "text": [
            "/usr/local/lib/python3.7/dist-packages/transformers/models/t5/tokenization_t5.py:174: FutureWarning: This tokenizer was incorrectly instantiated with a model max length of 512 which will be corrected in Transformers v5.\n",
            "For now, this behavior is kept to avoid breaking backwards compatibility when padding/encoding with `truncation is True`.\n",
            "- Be aware that you SHOULD NOT rely on t5-base automatically truncating your input to 512 when padding/encoding.\n",
            "- If you want to encode/pad to sequences longer than 512 you can either instantiate this tokenizer with `model_max_length` or pass `max_length` when encoding/padding.\n",
            "- To avoid this warning, please instantiate this tokenizer with `model_max_length` set to your preferred value.\n",
            "  FutureWarning,\n"
          ]
        }
      ]
    },
    {
      "cell_type": "code",
      "source": [
        "reranker_k5 = Reranker(Ranker(searcher, k=20), t5_reranking, k=5)\n",
        "reranker_k3 = Reranker(Ranker(searcher, k=20), t5_reranking, k=3)"
      ],
      "metadata": {
        "id": "9anfDph4rKrq"
      },
      "execution_count": 55,
      "outputs": []
    },
    {
      "cell_type": "code",
      "source": [
        "# reranker_k3.rank(scifact_all['claims_train'][0])"
      ],
      "metadata": {
        "id": "09wDmdoBraxc"
      },
      "execution_count": 56,
      "outputs": []
    },
    {
      "cell_type": "code",
      "source": [
        "evaluate_ranking_recall(scifact_all['claims_dev'], reranker_k5)"
      ],
      "metadata": {
        "id": "JS1kGkLrrYkJ",
        "colab": {
          "base_uri": "https://localhost:8080/",
          "height": 138,
          "referenced_widgets": [
            "8b490149fa334e89882902dcae33e3b5",
            "e7be0a6ae8b1445189b604280cbc3801",
            "fabc1b85d8ba439d82bb73033f66244a",
            "eeb92e6f5d0d460e9948771f60d10b4e",
            "b536345dfbb3475889e38f1e3325028d",
            "e4ece1ed24a64e2e95304924e645419e",
            "429e88e4069643fc8bd353076b2e4e16",
            "3c9b3355e8e74559945ebaf8d0ec4acf"
          ]
        },
        "outputId": "f1c894da-474a-488f-8107-f05af05fa82c"
      },
      "execution_count": 57,
      "outputs": [
        {
          "output_type": "display_data",
          "data": {
            "text/plain": [
              "HBox(children=(FloatProgress(value=0.0, max=300.0), HTML(value='')))"
            ],
            "application/vnd.jupyter.widget-view+json": {
              "version_major": 2,
              "version_minor": 0,
              "model_id": "8b490149fa334e89882902dcae33e3b5"
            }
          },
          "metadata": {}
        },
        {
          "output_type": "stream",
          "name": "stderr",
          "text": [
            "/usr/local/lib/python3.7/dist-packages/transformers/models/t5/tokenization_t5.py:220: UserWarning: This sequence already has </s>. In future versions this behavior may lead to duplicated eos tokens being added.\n",
            "  f\"This sequence already has {self.eos_token}. In future versions this behavior may lead to duplicated\"\n"
          ]
        },
        {
          "output_type": "stream",
          "name": "stdout",
          "text": [
            "\n"
          ]
        },
        {
          "output_type": "execute_result",
          "data": {
            "text/plain": [
              "0.8851674641148325"
            ]
          },
          "metadata": {},
          "execution_count": 57
        }
      ]
    },
    {
      "cell_type": "code",
      "source": [
        "evaluate_ranking_recall(scifact_all['claims_dev'], reranker_k3)"
      ],
      "metadata": {
        "id": "NEHWGFk5xNwK",
        "colab": {
          "base_uri": "https://localhost:8080/",
          "height": 84,
          "referenced_widgets": [
            "902a76d100594b65b6e36fa755bd91f5",
            "6671a00b94a54c60b937bf3f68a70fdd",
            "0a65afdc135f4e6db36c71b384d44e63",
            "def650ab271c48fbb8b5daa4a4fc6205",
            "f96ee263ded84a83a85a9c2cbbce33c7",
            "5168457f347643f78a74da436799acb0",
            "e84e0ea137c34c498287b1d86cb5d066",
            "ca643b75aa31434dbd85dc3217627f7d"
          ]
        },
        "outputId": "0d5e9054-094c-4e28-8770-59ef61549a5a"
      },
      "execution_count": 58,
      "outputs": [
        {
          "output_type": "display_data",
          "data": {
            "text/plain": [
              "HBox(children=(FloatProgress(value=0.0, max=300.0), HTML(value='')))"
            ],
            "application/vnd.jupyter.widget-view+json": {
              "version_major": 2,
              "version_minor": 0,
              "model_id": "902a76d100594b65b6e36fa755bd91f5"
            }
          },
          "metadata": {}
        },
        {
          "output_type": "stream",
          "name": "stdout",
          "text": [
            "\n"
          ]
        },
        {
          "output_type": "execute_result",
          "data": {
            "text/plain": [
              "0.8564593301435407"
            ]
          },
          "metadata": {},
          "execution_count": 58
        }
      ]
    },
    {
      "cell_type": "markdown",
      "source": [
        "## T5 evaluation and finetuning functions"
      ],
      "metadata": {
        "id": "wND7JgmrBg_D"
      }
    },
    {
      "cell_type": "code",
      "source": [
        "def evaluate_model(model, data_loader):\n",
        "    eval_loss = []\n",
        "    with torch.no_grad():\n",
        "        for data in data_loader:\n",
        "            input = data[0].to(device)\n",
        "            input_mask = data[1].to(device)\n",
        "            target = data[2].to(device)\n",
        "            target_mask = data[3].to(device)\n",
        "\n",
        "            loss = model(input_ids=input, attention_mask=input_mask, \n",
        "                         decoder_attention_mask=target_mask, labels=target).loss\n",
        "            eval_loss.append(loss.item())\n",
        "\n",
        "    return np.mean(eval_loss)\n",
        "\n",
        "\n",
        "def finetune_t5_label(\n",
        "    model,\n",
        "    train_data_loader,\n",
        "    valid_data_loader,\n",
        "    optimizer,\n",
        "    epochs,\n",
        "    batches_per_backward\n",
        "):\n",
        "\n",
        "    train_losses = []\n",
        "    valid_losses = []\n",
        "    optimizer.zero_grad()\n",
        "    acc_batch = 0\n",
        "    DEBUG = False\n",
        "    def dprint(f):\n",
        "        if DEBUG: print(f'  DEBUG: {f}')\n",
        "\n",
        "    epoch_tqdm = tqdm(range(epochs))\n",
        "    for e in epoch_tqdm:\n",
        "        batch_tqdm = tqdm(train_data_loader)\n",
        "        batch_train_loss = []\n",
        "        for train_ in batch_tqdm:\n",
        "            \n",
        "            dprint(\"send input data to device\")\n",
        "            input = train_[0].to(device)\n",
        "            input_mask = train_[1].to(device)\n",
        "            target = train_[2].to(device)\n",
        "            target_mask = train_[3].to(device)\n",
        "\n",
        "            dprint(\"forward pass\")\n",
        "            loss = model(input_ids=input, attention_mask=input_mask,\n",
        "                         decoder_attention_mask=target_mask, labels=target).loss\n",
        "            acc_batch += 1\n",
        "            \n",
        "            if acc_batch % batches_per_backward == 0:\n",
        "                dprint(\"backward pass + optimizer step\")\n",
        "                optimizer.zero_grad()\n",
        "                loss.backward()\n",
        "                optimizer.step()\n",
        "            \n",
        "            batch_tqdm.set_description(f'   Train loss: {np.mean(batch_train_loss)}')\n",
        "            batch_train_loss.append(loss.item())\n",
        "        \n",
        "        train_losses.append(np.mean(batch_train_loss))\n",
        "        valid_losses.append(evaluate_model(model, valid_data_loader))\n",
        "        epoch_tqdm.set_description(f'Valid loss: {valid_losses[-1]:.4f}, Train loss: {train_losses[-1]:.4f}')\n",
        "    \n",
        "    return train_losses, valid_losses\n"
      ],
      "metadata": {
        "id": "IAmqWmrEBfUj"
      },
      "execution_count": 59,
      "outputs": []
    },
    {
      "cell_type": "markdown",
      "source": [
        "## Implement Sentence Selection\n",
        "\n",
        "We need to fine tune a monoT5 for sentence selection.\n",
        "\n",
        "Task: predict \"true\" or \"false\"\"\n",
        "\n",
        "Need to create:\n",
        "- Input examples: sentences that are relevant from golden rationale;\n",
        "- Output tokens;\n",
        "- Fine tuning function;\n",
        "\n",
        "\"true\" examples > get gold rationales from ground truth\n",
        "\n",
        "\"false\" examples > get random sentences from important documents"
      ],
      "metadata": {
        "id": "AxiBDUIQ3unx"
      }
    },
    {
      "cell_type": "code",
      "source": [
        "def find_corpus_by_doc_id(doc_id, corpus=scifact_all['corpus']):\n",
        "    return [c for c in corpus if c['doc_id']==int(doc_id)][0]"
      ],
      "metadata": {
        "id": "-ApZNFRlTMm9"
      },
      "execution_count": 60,
      "outputs": []
    },
    {
      "cell_type": "code",
      "source": [
        "## Implement TF-IDF for creating a better senetence selection training datset\n",
        "\n",
        "from sklearn.feature_extraction.text import TfidfVectorizer\n",
        "\n",
        "import string\n",
        "import nltk\n",
        "from nltk.corpus import stopwords\n",
        "\n",
        "nltk.download('punkt')\n",
        "nltk.download('stopwords')\n",
        "\n",
        "remove_punctuation_map = dict((ord(char), None) for char in string.punctuation)\n",
        "\n",
        "def preprocess_tfidf(text):\n",
        "    return text.lower().translate(remove_punctuation_map)\n",
        "\n",
        "def tokenize_tfidf(text):\n",
        "    return nltk.word_tokenize(preprocess_tfidf(text))\n",
        "\n",
        "sw = [preprocess_tfidf(text) for text in stopwords.words('english')]\n",
        "vectorizer = TfidfVectorizer(tokenizer=tokenize_tfidf, stop_words=sw)\n",
        "\n",
        "def compute_similarity(a, b):\n",
        "    tfidf = vectorizer.fit_transform([a, b])\n",
        "    return ((tfidf * tfidf.T).toarray())[0,1]\n",
        "  \n",
        "# def weighted_sample_without_replacement(population, weights, k, rng=random):\n",
        "#     v = [rng.random() ** (1 / (w + 0.00001)) for w in weights]\n",
        "#     order = sorted(range(len(population)), key=lambda i: v[i])\n",
        "#     return [population[i] for i in order[-k:]]\n",
        "\n",
        "def sample_similar_sentences(claim, abstract, k):\n",
        "    weights = [compute_similarity(s, claim) for s in abstract]\n",
        "    return random.choices(abstract, weights=weights, k=k)"
      ],
      "metadata": {
        "colab": {
          "base_uri": "https://localhost:8080/"
        },
        "id": "ONPEjH7ZZdWg",
        "outputId": "e1ce7694-bbaf-4df6-fffc-a2931a012258"
      },
      "execution_count": 61,
      "outputs": [
        {
          "output_type": "stream",
          "name": "stderr",
          "text": [
            "[nltk_data] Downloading package punkt to /root/nltk_data...\n",
            "[nltk_data]   Unzipping tokenizers/punkt.zip.\n",
            "[nltk_data] Downloading package stopwords to /root/nltk_data...\n",
            "[nltk_data]   Unzipping corpora/stopwords.zip.\n"
          ]
        }
      ]
    },
    {
      "cell_type": "code",
      "source": [
        "def build_train_dataset_sentence_select(p, claims, with_cited_docs=True, rnd_num=5):\n",
        "    \n",
        "    true_sentences = []\n",
        "    false_sentences = []\n",
        "\n",
        "    for claim in claims:\n",
        "        \n",
        "        for doc_id, evidence_set in claim['evidence'].items():\n",
        "            doc = find_corpus_by_doc_id(doc_id)\n",
        "            \n",
        "            true_senteces_temp = []\n",
        "            false_sentences_temp = []\n",
        "            \n",
        "            # process true important sentences\n",
        "            for sentence_set in evidence_set:\n",
        "                for sentence_id in sentence_set['sentences']:\n",
        "                    true_sentence = doc['abstract'][sentence_id]\n",
        "                    true_sentences.append([claim['claim'], true_sentence])\n",
        "                    true_senteces_temp.append(true_sentence)\n",
        "                \n",
        "                for sentence_id, sentence in enumerate(doc['abstract']):\n",
        "                    if not sentence_id in sentence_set['sentences']:\n",
        "                        false_sentences_temp.append(sentence)\n",
        "\n",
        "            # create false examples (not important)\n",
        "            num_random_sentences = random.randint(1, rnd_num) # randomized number of examples\n",
        "            false_examples = sample_similar_sentences(\n",
        "                  claim['claim'], false_sentences_temp, num_random_sentences) # examples should be convincing\n",
        "            \n",
        "            for e in false_examples:\n",
        "                if e not in true_senteces_temp:\n",
        "                    false_sentences.append([claim['claim'], e]) # examples should not be in true sentences\n",
        "\n",
        "        if with_cited_docs and len(claim['evidence']) == 0:\n",
        "            for doc_id in claim['cited_doc_ids']:\n",
        "                doc = find_corpus_by_doc_id(doc_id)\n",
        "\n",
        "                num_random_sentences = random.randint(1, rnd_num)\n",
        "                false_examples = sample_similar_sentences(\n",
        "                      claim['claim'], doc['abstract'], num_random_sentences) # examples should be convincing\n",
        "                \n",
        "                for e in false_examples:\n",
        "                    false_sentences.append([claim['claim'], e]) # examples should not be in true sentences\n",
        "\n",
        "    return true_sentences, false_sentences\n",
        "\n",
        "\n",
        "def sentence_selection_pattern(true_sentences, false_sentences):\n",
        "    pattern = 'Query: {query} Document: {document} Relevant:'\n",
        "    dataset = []\n",
        "\n",
        "    for s in true_sentences:\n",
        "        dataset.append([\n",
        "            pattern.format(query=s[0], document=s[1]),\n",
        "            \"true\"\n",
        "        ])\n",
        "\n",
        "    for s in false_sentences:\n",
        "        dataset.append([\n",
        "            pattern.format(query=s[0], document=s[1]),\n",
        "            \"false\"\n",
        "        ])\n",
        "    random.shuffle(dataset)\n",
        "    return dataset"
      ],
      "metadata": {
        "id": "Xr4EllHqSpgL"
      },
      "execution_count": 62,
      "outputs": []
    },
    {
      "cell_type": "code",
      "source": [
        "trues_dev, falses_dev = build_train_dataset_sentence_select(1, scifact_all['claims_dev'], rnd_num=3)\n",
        "sentences_dev = sentence_selection_pattern(trues_dev, falses_dev)\n",
        "\n",
        "print(len(trues_dev), len(falses_dev))"
      ],
      "metadata": {
        "colab": {
          "base_uri": "https://localhost:8080/"
        },
        "id": "uOx9-ZUnaIxV",
        "outputId": "fb659e23-e9b3-414f-f8ab-670ddb4dfb3e"
      },
      "execution_count": 63,
      "outputs": [
        {
          "output_type": "stream",
          "name": "stdout",
          "text": [
            "366 582\n"
          ]
        }
      ]
    },
    {
      "cell_type": "code",
      "source": [
        "trues_train, falses_train = build_train_dataset_sentence_select(1, scifact_all['claims_train'], rnd_num=3)\n",
        "sentences_train = sentence_selection_pattern(trues_train, falses_train)\n",
        "\n",
        "print(len(trues_train), len(falses_train))"
      ],
      "metadata": {
        "colab": {
          "base_uri": "https://localhost:8080/"
        },
        "id": "0DYzJ9i-Usyp",
        "outputId": "19ef8859-aeeb-4184-fa1f-1e4f2d421a19"
      },
      "execution_count": 64,
      "outputs": [
        {
          "output_type": "stream",
          "name": "stdout",
          "text": [
            "1025 1623\n"
          ]
        }
      ]
    },
    {
      "cell_type": "code",
      "source": [
        "trues_train[0]"
      ],
      "metadata": {
        "colab": {
          "base_uri": "https://localhost:8080/"
        },
        "id": "hANycNBGYMgW",
        "outputId": "271c8927-450f-4cf1-c638-f5a5f0123ef3"
      },
      "execution_count": 65,
      "outputs": [
        {
          "output_type": "execute_result",
          "data": {
            "text/plain": [
              "['1 in 5 million in UK have abnormal PrP positivity.',\n",
              " 'RESULTS Of the 32,441 appendix samples 16 were positive for abnormal PrP, indicating an overall prevalence of 493 per million population (95% confidence interval 282 to 801 per million).']"
            ]
          },
          "metadata": {},
          "execution_count": 65
        }
      ]
    },
    {
      "cell_type": "code",
      "source": [
        "sentences_train[3]"
      ],
      "metadata": {
        "colab": {
          "base_uri": "https://localhost:8080/"
        },
        "id": "tAjGRQRJFfeG",
        "outputId": "0eb2036e-23b9-4fe4-9250-d9f20322b43a"
      },
      "execution_count": 66,
      "outputs": [
        {
          "output_type": "execute_result",
          "data": {
            "text/plain": [
              "['Query: Pseudoknots are not evolutionarily conserved in most eukaryotes. Document: Both of the RNAs have a highly conserved helical region, P4, which is important in the catalytic reaction. Relevant:',\n",
              " 'false']"
            ]
          },
          "metadata": {},
          "execution_count": 66
        }
      ]
    },
    {
      "cell_type": "code",
      "source": [
        "class T5SentenceDataset(Dataset):\n",
        "    def __init__(self, dataset, tokenizer, source_max_length, target_max_length):\n",
        "        \n",
        "        self.original_source = [i[0] for i in dataset]\n",
        "        self.original_target = [i[1] for i in dataset]\n",
        "\n",
        "        source = tokenizer(self.original_source, padding='max_length', truncation=True, max_length=source_max_length, return_tensors=\"pt\")\n",
        "        target = tokenizer(self.original_target, padding=True,  truncation=True, max_length=target_max_length, return_tensors=\"pt\")\n",
        "        \n",
        "        self.source_token_ids, self.source_attention_mask = source['input_ids'], source['attention_mask']\n",
        "        self.target_token_ids, self.target_attention_mask = target['input_ids'], target['attention_mask']\n",
        "\n",
        "        self.target_token_ids[self.target_token_ids == tokenizer.pad_token_id] = -100\n",
        "\n",
        "        \n",
        "    def __len__(self):\n",
        "        return len(self.original_source)\n",
        "\n",
        "\n",
        "    def __getitem__(self, idx):\n",
        "        return (self.source_token_ids[idx],\n",
        "                self.source_attention_mask[idx],\n",
        "                self.target_token_ids[idx],\n",
        "                self.target_attention_mask[idx],\n",
        "                self.original_source[idx],\n",
        "                self.original_target[idx])\n"
      ],
      "metadata": {
        "id": "dRvH5F4rUgaS"
      },
      "execution_count": 67,
      "outputs": []
    },
    {
      "cell_type": "markdown",
      "source": [
        "### Create model, finetune T5"
      ],
      "metadata": {
        "id": "H0H0iaggYYNr"
      }
    },
    {
      "cell_type": "code",
      "source": [
        "# t5_sentence = MonoT5()\n",
        "t5_sentence = MonoT5(\n",
        "    model = T5ForConditionalGeneration.from_pretrained('castorini/monot5-large-msmarco').to(device)\n",
        ")"
      ],
      "metadata": {
        "id": "TjKoLB5cYW8-",
        "colab": {
          "base_uri": "https://localhost:8080/",
          "height": 116,
          "referenced_widgets": [
            "53e56dc2947b42ba96403437d71c8ddf",
            "194c7929f58b4beb8f807b6440bdcaac",
            "6a72f975500f4ba796ea2e4112729561",
            "7c033f6da78e483dba1ec615f269bf4a",
            "b99991f3494645b691a21db5c7cb698a",
            "84c0f4154bc64e3da18ad85778a03caa",
            "f1318332a78d42ca95b4ce5c4f8e46d2",
            "452c3ca5724b4c039388197d4d6b5260",
            "c713752e85b9461eb97ef14b13c34b98",
            "23b07c7b4c4a48d39c9e43beaab2ede1",
            "a4c7928a68394af39f5bc104eec6c1ba",
            "9c914cc437ff4e14a34af1400eae7167",
            "e0e35175024948388840fe739cc846c5",
            "b4d7d12ffe6f44a7ba844241beb09952",
            "db7aba6f31a94d608e24b2b2197afeb5",
            "79ec3b37484f4cdeb8f88043b0d57c66"
          ]
        },
        "outputId": "ba378528-b200-4612-c8f1-6d5d903e7e28"
      },
      "execution_count": 68,
      "outputs": [
        {
          "output_type": "display_data",
          "data": {
            "text/plain": [
              "HBox(children=(FloatProgress(value=0.0, description='Downloading', max=1190.0, style=ProgressStyle(description…"
            ],
            "application/vnd.jupyter.widget-view+json": {
              "version_major": 2,
              "version_minor": 0,
              "model_id": "53e56dc2947b42ba96403437d71c8ddf"
            }
          },
          "metadata": {}
        },
        {
          "output_type": "stream",
          "name": "stdout",
          "text": [
            "\n"
          ]
        },
        {
          "output_type": "display_data",
          "data": {
            "text/plain": [
              "HBox(children=(FloatProgress(value=0.0, description='Downloading', max=2950825278.0, style=ProgressStyle(descr…"
            ],
            "application/vnd.jupyter.widget-view+json": {
              "version_major": 2,
              "version_minor": 0,
              "model_id": "c713752e85b9461eb97ef14b13c34b98"
            }
          },
          "metadata": {}
        },
        {
          "output_type": "stream",
          "name": "stdout",
          "text": [
            "\n"
          ]
        }
      ]
    },
    {
      "cell_type": "code",
      "source": [
        "## check device used\n",
        "next(t5_sentence.model.parameters(), None).device"
      ],
      "metadata": {
        "colab": {
          "base_uri": "https://localhost:8080/"
        },
        "id": "5G1zXkUuAqVd",
        "outputId": "0efe72de-d068-42c5-bbdf-3e2c1c3d599d"
      },
      "execution_count": 69,
      "outputs": [
        {
          "output_type": "execute_result",
          "data": {
            "text/plain": [
              "device(type='cuda', index=0)"
            ]
          },
          "metadata": {},
          "execution_count": 69
        }
      ]
    },
    {
      "cell_type": "code",
      "source": [
        "t5_sentence_model = t5_sentence.model\n",
        "tokenizer_sentence = t5_sentence.tokenizer.tokenizer"
      ],
      "metadata": {
        "id": "-oKKZ8BpdUMf"
      },
      "execution_count": 70,
      "outputs": []
    },
    {
      "cell_type": "code",
      "source": [
        "### Hyperparameters\n",
        "\n",
        "max_source_length_sentence = 512\n",
        "max_target_length_sentence = 2\n",
        "batch_size_sentence = 4\n",
        "batches_per_backward_sentence = 32\n",
        "\n",
        "learning_rate_sentence = 3e-5\n",
        "epochs_num_sentence = 12"
      ],
      "metadata": {
        "id": "MhHj8dnyai3F"
      },
      "execution_count": 71,
      "outputs": []
    },
    {
      "cell_type": "code",
      "source": [
        "sentence_train_dataset = T5SentenceDataset(sentences_train, tokenizer_sentence, max_source_length_sentence, max_target_length_sentence)\n",
        "sentence_dev_dataset = T5SentenceDataset(sentences_dev, tokenizer_sentence, max_source_length_sentence, max_target_length_sentence)\n",
        "\n",
        "sentence_dataloader_train = DataLoader(sentence_train_dataset, batch_size=batch_size_sentence, shuffle=True, num_workers=0)\n",
        "sentence_dataloader_dev = DataLoader(sentence_dev_dataset, batch_size=batch_size_sentence, shuffle=False, num_workers=0)"
      ],
      "metadata": {
        "id": "SS6Z6SYCbODQ"
      },
      "execution_count": 72,
      "outputs": []
    },
    {
      "cell_type": "code",
      "source": [
        "len(sentence_train_dataset), len(sentence_dev_dataset)"
      ],
      "metadata": {
        "colab": {
          "base_uri": "https://localhost:8080/"
        },
        "id": "rTCYrkOYiK9Y",
        "outputId": "ba1b0860-463e-48d2-bb7d-20a65bd318ea"
      },
      "execution_count": 73,
      "outputs": [
        {
          "output_type": "execute_result",
          "data": {
            "text/plain": [
              "(2648, 948)"
            ]
          },
          "metadata": {},
          "execution_count": 73
        }
      ]
    },
    {
      "cell_type": "code",
      "source": [
        "optimizer_sentence = Adafactor(t5_sentence_model.parameters(), lr=learning_rate_sentence, relative_step=False, scale_parameter=False)\n",
        "criterion_sentence = torch.nn.CrossEntropyLoss()"
      ],
      "metadata": {
        "id": "JgfUGIBXgOYs"
      },
      "execution_count": 74,
      "outputs": []
    },
    {
      "cell_type": "code",
      "source": [
        "# evaluate_model(t5_sentence_model, sentence_dataloader_train)"
      ],
      "metadata": {
        "id": "di5A1pJmrOqP"
      },
      "execution_count": 75,
      "outputs": []
    },
    {
      "cell_type": "code",
      "source": [
        "# evaluate_model(t5_sentence_model, sentence_dataloader_dev)"
      ],
      "metadata": {
        "id": "FsfC887dqrH5"
      },
      "execution_count": 76,
      "outputs": []
    },
    {
      "cell_type": "code",
      "source": [
        "pd.Series([r[5] for r in sentence_train_dataset]).value_counts()"
      ],
      "metadata": {
        "colab": {
          "base_uri": "https://localhost:8080/"
        },
        "id": "klb_Ees_BXZD",
        "outputId": "995135de-b124-46d8-a546-e377b85a2164"
      },
      "execution_count": 77,
      "outputs": [
        {
          "output_type": "execute_result",
          "data": {
            "text/plain": [
              "false    1623\n",
              "true     1025\n",
              "dtype: int64"
            ]
          },
          "metadata": {},
          "execution_count": 77
        }
      ]
    },
    {
      "cell_type": "code",
      "source": [
        "pd.Series([r[5] for r in sentence_dev_dataset]).value_counts()"
      ],
      "metadata": {
        "colab": {
          "base_uri": "https://localhost:8080/"
        },
        "id": "EXceMS2SBsrA",
        "outputId": "887fa64a-b759-4e46-c618-5e5147e10dc3"
      },
      "execution_count": 78,
      "outputs": [
        {
          "output_type": "execute_result",
          "data": {
            "text/plain": [
              "false    582\n",
              "true     366\n",
              "dtype: int64"
            ]
          },
          "metadata": {},
          "execution_count": 78
        }
      ]
    },
    {
      "cell_type": "code",
      "source": [
        "train_losses_sequence, valid_losses_sequence = [], []"
      ],
      "metadata": {
        "id": "_zCpDxKLu62x"
      },
      "execution_count": 79,
      "outputs": []
    },
    {
      "cell_type": "code",
      "source": [
        "for i in range(epochs_num_sentence):\n",
        "    t, v = finetune_t5_label(\n",
        "        t5_sentence_model,\n",
        "        sentence_dataloader_train,\n",
        "        sentence_dataloader_dev,\n",
        "        optimizer_sentence,\n",
        "        1,\n",
        "        batches_per_backward_sentence\n",
        "    )\n",
        "    train_losses_sequence.append(t)\n",
        "    valid_losses_sequence.append(v)"
      ],
      "metadata": {
        "colab": {
          "base_uri": "https://localhost:8080/",
          "height": 1000,
          "referenced_widgets": [
            "fcfe425888b140ad97f49b26e9f2540b",
            "87e805cee18a4a7ca836c246a0069602",
            "9f4c9d8fb1114b059f7eae717d669979",
            "88884ef89ebb44e2b2d0d06adbb81fb2",
            "f0addab9e7dc4db3ae2370dd08601a36",
            "1a9dad60f6a04e8c947a66b2caf45cdc",
            "1ba2af35309c412ca8898bcbeed721d9",
            "39602c70978145b185211a91613cb641",
            "d371e0a2c3e44b2b97490a048c788cc7",
            "33a799d96d284abeaa7cf90102935fec",
            "43b3fd49ed924edebc63ff50d3fc7771",
            "0fc19f447d534cf2a0280dae3fdc877c",
            "be2db3bf92224b3f93a61c010ae4404d",
            "54c31449d6144d84bf5eb19161f22e51",
            "724fcbd7864340118521533ce0039148",
            "ff78a66f41b0499e95ae1d24b2a1e5ac",
            "a61b37e7914c4d7d816e7315d3e558aa",
            "275ff5d8c1da4939afaf57cd1620838b",
            "70565f131b3141518b7a81cd4b2df0be",
            "13a51e4f676a41ef93b7c04639c54b13",
            "2dedf4d582ac43b5b6db2e4801d61ccd",
            "c6bf8003521f44bbb9931c66fb6e6398",
            "25e2b5c92853497e9573330f056635d7",
            "38f8c19dd2c84e858bb61ac377b3e952",
            "71fada92bca54b74894f141f4624c984",
            "044aac521248458b8165cc666d31cb96",
            "f6060e70ef754a7898f9960ba8b009c3",
            "5753f836038c427895755e262fd27755",
            "e82f9adb3bd44dfaa75b1dd0570c83fb",
            "7115af1f1d4340e18e0bf0681a48ae5d",
            "832b2de68c9e4e4c86ca8d9c0e62d85b",
            "dd30940137694053b8cd949201edc3a5",
            "adf2c9453af04e91bf7976a5fe5ae9ce",
            "639ba1e544454c04857d013caab0e3af",
            "1ccad87bf3ac42d2a0d5e27786fb17ce",
            "42beb7951fc746479608466b7a8ff53a",
            "249fae7eb67b4ce7b95e95da43dedd08",
            "e09892e7193e432eb8bb45535ee1dce3",
            "f4e5104ccebf489783943da2ef0e73c7",
            "822195d89cd64adf8f6d062a2eb26318",
            "a15587fb803b4e4ab06649ecf9b3df0c",
            "7abd2ee9dd7a4af7a38e19a26364cef4",
            "1ef48d8fbff54a6fb7f32a223a106ac7",
            "4ec9f7f2dd894168b49a781426106980",
            "f08ad9eac2cd46a0889c1077232bea3b",
            "e82bca38dc784034a7dade83202e5737",
            "a120497114434d29a2aa1e29d114166a",
            "f778e85eab654733ad7e65389c2305d0",
            "3a7c241537aa4f4cbdde5c342da88c2f",
            "52d2969de307433ba3b0427955007978",
            "4d630d2e58fe48d89be2aaf13d6642a1",
            "e756145f64aa45da91d005746019497b",
            "64c6198c0a8c4ea8a3540d40775f5d0c",
            "75c07b63c1024e9b96c7d886478c9649",
            "b36fed6a537e45e3bc16970183e77450",
            "a543be4ff0da423385ab5edf31c1c9a5",
            "eaaee940f0dc4220940bf00b0e68d3c9",
            "47151f8da87e48c69cb9e5c51e1f56c3",
            "fecc0adf79974c8abeb5e3bd5f138435",
            "387815ecc3ca4c51a37f13785069a105",
            "9bfc3bbc6aae4906bf8afb589b2c68b2",
            "d155ace7c85e4c21adceb158196fb60d",
            "cff371ad33d14a889bbc161312c6e2c2",
            "754c63baa7c543e499e1196127cf4aec",
            "250e173356bb443b9948c9fb1dcdbca0",
            "aeac04142ad04094879cd99fabd80058",
            "4ddeb760f0f34aa6a543026811f54033",
            "7814ce1047374323b3473a60da77496f",
            "b0d58bf5c0424d99be59e8a3b91d884f",
            "c034c18c2c66415eb236243044f7e8c9",
            "2d74b65df1074753abed2e2b94541aea",
            "4332358cb3ad4fa89953fe2c9dd881dc",
            "dc4b84c8693c4dcea9e402e8d29b83f0",
            "4c5802b7f5e84d0b8bae80d6d7effcdd",
            "b74b73ae7f624b3db5b20453b303f6e4",
            "cee6ada823b84643a1442373feda1f9c",
            "45f30efa583a451b8ff8397109c3d04f",
            "ae019842e9f54d91886a6d9234e83472",
            "3681c8045cb74310933d7f639eb21749",
            "b3cab8f38b1d4e73940a63cfec0c4195",
            "c46154735f224d0fab8aea6b0b948656",
            "5b1567667cfa4804922af2e8fa3fefa3",
            "dc8dbb8f6b7541529cc2062b200d19cd",
            "20ffc018ffaf49e8b189b1c5af853769",
            "c79bc3d41d824bcba1947464392ae48c",
            "4e291824b663409facfa300224f0cc0d",
            "d09319a5052f4b6ea44763aff4bd77b2",
            "9824d88f113c4148900be0a49c9fa4d3",
            "32dadc6e51844733a87a42eb807f6ea3",
            "be5bf73db8b5402f9b16d7c39ae72a58",
            "a21b67dc0cfe43399d4f5973faa1a5c6",
            "08c217aa095d4182b4a546e808ee5bc8",
            "820cd45d336b4c68bf4b2b3435b95aeb",
            "a8f19a12f5ee4c06a6e102289019ea95",
            "f1831d9e8c8140cba34627dcda98e0b2",
            "7dd6f97ec8b04cd5be297db6b3f31c34",
            "949c04d8f6a7466abc37e7f2031e0905",
            "2c89a4f457934559bfbb44195c17522b",
            "8b80423adc1a46afb903e9dfbea6a164",
            "28775476f26a41968f813581226446ba",
            "b7fa30ee56d04ba7ab67e2f89cbf920e",
            "ecfc5e4afda54295bf056a0f9e8203da",
            "727748e29c75482faad299f48e403b10",
            "d7c0461eb9df4b68ab1a2deb2f915c50",
            "bfcd7332e22c4597b41ba19055705fdd",
            "8640dd8b538a4b619dec699bca3724b0",
            "288e7599a6cf47bb8253be204c604eef",
            "323fc32206af427ca1e68ad8cd5566db",
            "a95122a12ddc41a5999c82542bdff944",
            "7da1d4b0ba0f4b6e90848d2d4cf968ef",
            "4b78200c717c4ba3aa532d3cf0e595d2",
            "8d7d29300c304f8993f428a6dcb7b0d8",
            "37f74557e158456ca9eb51491bf2bdfa",
            "98298eb2a4154a30acace36fcbfdb119",
            "85539c88db3d47a89a62882cdf8f83f4",
            "f40e9fb6a8ec4f58b198d403d193e8ac",
            "4a43a9a81f30429ca4836fdc816c4d98",
            "2f9219203be342ab923e517aa2d13eca",
            "e13a972916f8473aab9129dee343e47c",
            "16530e14e734461299fdba397f0ab0c6",
            "86348622488e46fc85a05130dc81e3ca",
            "0ceee04fb1ff476981cc4ddafbbc9639",
            "bbbf1175754c4eef8333a12fd23b87ae",
            "0048d67f2617413e9d0558193b1d1874",
            "f8e8ca3281e2423f9c8ad8e874f2ec92",
            "1588e8d1ff1944d4963490dc47bae940",
            "8eacd6e73d5c49c6a19cbdd42c237125",
            "9fd3d709685c4c01bba72b3ac39003cb",
            "1271f3a8ba334bf380bc70c74efb7bd6",
            "cffa93fde4274ebbb54f0a37dc67f31c",
            "c1a1ca3336af422c8cad3d48348ddca9",
            "a9fd2445a20843b1be9621e201206cbb",
            "8ac4441a26e64e6e8b981270168a1a3f",
            "33ba3cec02d54620ad2c356c1d5a3851",
            "d0c69ca584884fc3911016ff463fd73c",
            "f95ca9e1e4d64980b13c7537bf102271",
            "6eec6f50a2584699815c35da7e8c099d",
            "54d1f5a9e4a6411192006cc5a697c399",
            "9c6c02ef6ff14564b20f7dee81a3fbb1",
            "125e39c88b874a679f077c700b67f3fa",
            "4bcf016266d84f3fb9fb49e78294cad4",
            "eec47e95130b44f3b0459d617d245141",
            "8589394534ab4565983e0f054d8cab59",
            "3d85efd502cb470dbbab87698abc8572",
            "df25a9f26b8e4acf91bc67056ef52c17",
            "edb09fd3178842f8bba4badd37d0548f",
            "551dbd692f2646eca2aa0c4551bbd4a9",
            "3dbae6e18649449f8fbcf09a2ab5f741",
            "3773fd022be949cb80f4e4f8b8b6ad8f",
            "7c9d39abd363411aa5a3b3a9e4bfb79e",
            "4768d60bb252431285e91ef182f06ce1",
            "187620f4088f4e1da2672684495fc53f",
            "85762edc61684759b96dcbabb8e8de59",
            "8c92d8c6e87a416c8a4dbe02d3f2d936",
            "f09a150df4bd4a34a1024006c05d9676",
            "aaf87d4da78547ea96b05acea958c841",
            "18f7f8496dde4edead7a99b7256c0f1c",
            "9a616e6838d342189f7fbe716301dc75",
            "5f9db53e39694f3fb9e27d22348b14c2",
            "32d4118e01cb45fb823bd0fd5b67d9ad",
            "60ec951fb8e74097bdb86b16583eda5f",
            "d4ff88101819479bb07a3df00addf18b",
            "1fefc3337117459282dc8b1285db25cf",
            "bc757f5be07d4ec89544fff70873cd5b",
            "eb5554c1dec24f6fb7071e5b192e8847",
            "0126dec144884567bf9ab8bedd3b9083",
            "3aa90f845b5c44e7bc98f69aa7605534",
            "670b1334304f4da0ad2b994bf69c33c0",
            "7cabff5e6cc248d1a87ab6533cb5804f",
            "9115a81518d44e3a8f33a29559e2ab16",
            "9a9531eb31244155822ff7921849d635",
            "81185d194137442e84a080a37ebef5a1",
            "5b27aee555f1454292f0692a19fb8aae",
            "e4b02ebaddf546308cda6a264e4daf08",
            "6ead1cc535204abda40800b5f1eaa6f5",
            "ab471093fc5845d2bf7f4c55e597f9d1",
            "247f6fd3fdf34dc9b5341cb90d90d0e6",
            "4513050c03ae43d588846ddd842ff09e",
            "92a29fe3f036447c9f175b4e4b2ea75e",
            "4b4621420b3e4c94afbee3414efe397c",
            "d956afe1e3f2411d88071df90211ba8f",
            "ebf70d5d09b84eecba98a4c3f8870677",
            "3ce71cfbabc242299317f88fc7434d00",
            "5ad7faf0032049dda4ade93dd28c767e",
            "7e985a700f0b433d9591466f1037a4e8",
            "622d339f8f5543598ead3e359074bc74",
            "e682f722c4fc4843a4e9e0fc9bc23481",
            "eff1ad5d9fb24e32977e19af8d42a091",
            "5a19dfa0d44e48e8989e1a7b26517b4b",
            "e8fd6a8805f74ca0829a26c32dfefe79",
            "a0adc5e07964461d8f83c629e718d2b7",
            "96ffc1c9200f4482a4d5f480e85fad1d"
          ]
        },
        "id": "tCGkvdwVgUx_",
        "outputId": "07afb643-af66-4e68-fc34-c4be7b5aa91d"
      },
      "execution_count": 80,
      "outputs": [
        {
          "output_type": "display_data",
          "data": {
            "text/plain": [
              "HBox(children=(FloatProgress(value=0.0, max=1.0), HTML(value='')))"
            ],
            "application/vnd.jupyter.widget-view+json": {
              "version_major": 2,
              "version_minor": 0,
              "model_id": "fcfe425888b140ad97f49b26e9f2540b"
            }
          },
          "metadata": {}
        },
        {
          "output_type": "display_data",
          "data": {
            "text/plain": [
              "HBox(children=(FloatProgress(value=0.0, max=662.0), HTML(value='')))"
            ],
            "application/vnd.jupyter.widget-view+json": {
              "version_major": 2,
              "version_minor": 0,
              "model_id": "d371e0a2c3e44b2b97490a048c788cc7"
            }
          },
          "metadata": {}
        },
        {
          "output_type": "stream",
          "name": "stderr",
          "text": [
            "/usr/local/lib/python3.7/dist-packages/numpy/core/fromnumeric.py:3441: RuntimeWarning: Mean of empty slice.\n",
            "  out=out, **kwargs)\n",
            "/usr/local/lib/python3.7/dist-packages/numpy/core/_methods.py:189: RuntimeWarning: invalid value encountered in double_scalars\n",
            "  ret = ret.dtype.type(ret / rcount)\n"
          ]
        },
        {
          "output_type": "stream",
          "name": "stdout",
          "text": [
            "\n",
            "\n"
          ]
        },
        {
          "output_type": "display_data",
          "data": {
            "text/plain": [
              "HBox(children=(FloatProgress(value=0.0, max=1.0), HTML(value='')))"
            ],
            "application/vnd.jupyter.widget-view+json": {
              "version_major": 2,
              "version_minor": 0,
              "model_id": "a61b37e7914c4d7d816e7315d3e558aa"
            }
          },
          "metadata": {}
        },
        {
          "output_type": "display_data",
          "data": {
            "text/plain": [
              "HBox(children=(FloatProgress(value=0.0, max=662.0), HTML(value='')))"
            ],
            "application/vnd.jupyter.widget-view+json": {
              "version_major": 2,
              "version_minor": 0,
              "model_id": "71fada92bca54b74894f141f4624c984"
            }
          },
          "metadata": {}
        },
        {
          "output_type": "stream",
          "name": "stdout",
          "text": [
            "\n",
            "\n"
          ]
        },
        {
          "output_type": "display_data",
          "data": {
            "text/plain": [
              "HBox(children=(FloatProgress(value=0.0, max=1.0), HTML(value='')))"
            ],
            "application/vnd.jupyter.widget-view+json": {
              "version_major": 2,
              "version_minor": 0,
              "model_id": "adf2c9453af04e91bf7976a5fe5ae9ce"
            }
          },
          "metadata": {}
        },
        {
          "output_type": "display_data",
          "data": {
            "text/plain": [
              "HBox(children=(FloatProgress(value=0.0, max=662.0), HTML(value='')))"
            ],
            "application/vnd.jupyter.widget-view+json": {
              "version_major": 2,
              "version_minor": 0,
              "model_id": "a15587fb803b4e4ab06649ecf9b3df0c"
            }
          },
          "metadata": {}
        },
        {
          "output_type": "stream",
          "name": "stdout",
          "text": [
            "\n",
            "\n"
          ]
        },
        {
          "output_type": "display_data",
          "data": {
            "text/plain": [
              "HBox(children=(FloatProgress(value=0.0, max=1.0), HTML(value='')))"
            ],
            "application/vnd.jupyter.widget-view+json": {
              "version_major": 2,
              "version_minor": 0,
              "model_id": "3a7c241537aa4f4cbdde5c342da88c2f"
            }
          },
          "metadata": {}
        },
        {
          "output_type": "display_data",
          "data": {
            "text/plain": [
              "HBox(children=(FloatProgress(value=0.0, max=662.0), HTML(value='')))"
            ],
            "application/vnd.jupyter.widget-view+json": {
              "version_major": 2,
              "version_minor": 0,
              "model_id": "eaaee940f0dc4220940bf00b0e68d3c9"
            }
          },
          "metadata": {}
        },
        {
          "output_type": "stream",
          "name": "stdout",
          "text": [
            "\n",
            "\n"
          ]
        },
        {
          "output_type": "display_data",
          "data": {
            "text/plain": [
              "HBox(children=(FloatProgress(value=0.0, max=1.0), HTML(value='')))"
            ],
            "application/vnd.jupyter.widget-view+json": {
              "version_major": 2,
              "version_minor": 0,
              "model_id": "250e173356bb443b9948c9fb1dcdbca0"
            }
          },
          "metadata": {}
        },
        {
          "output_type": "display_data",
          "data": {
            "text/plain": [
              "HBox(children=(FloatProgress(value=0.0, max=662.0), HTML(value='')))"
            ],
            "application/vnd.jupyter.widget-view+json": {
              "version_major": 2,
              "version_minor": 0,
              "model_id": "dc4b84c8693c4dcea9e402e8d29b83f0"
            }
          },
          "metadata": {}
        },
        {
          "output_type": "stream",
          "name": "stdout",
          "text": [
            "\n",
            "\n"
          ]
        },
        {
          "output_type": "display_data",
          "data": {
            "text/plain": [
              "HBox(children=(FloatProgress(value=0.0, max=1.0), HTML(value='')))"
            ],
            "application/vnd.jupyter.widget-view+json": {
              "version_major": 2,
              "version_minor": 0,
              "model_id": "c46154735f224d0fab8aea6b0b948656"
            }
          },
          "metadata": {}
        },
        {
          "output_type": "display_data",
          "data": {
            "text/plain": [
              "HBox(children=(FloatProgress(value=0.0, max=662.0), HTML(value='')))"
            ],
            "application/vnd.jupyter.widget-view+json": {
              "version_major": 2,
              "version_minor": 0,
              "model_id": "32dadc6e51844733a87a42eb807f6ea3"
            }
          },
          "metadata": {}
        },
        {
          "output_type": "stream",
          "name": "stdout",
          "text": [
            "\n",
            "\n"
          ]
        },
        {
          "output_type": "display_data",
          "data": {
            "text/plain": [
              "HBox(children=(FloatProgress(value=0.0, max=1.0), HTML(value='')))"
            ],
            "application/vnd.jupyter.widget-view+json": {
              "version_major": 2,
              "version_minor": 0,
              "model_id": "949c04d8f6a7466abc37e7f2031e0905"
            }
          },
          "metadata": {}
        },
        {
          "output_type": "display_data",
          "data": {
            "text/plain": [
              "HBox(children=(FloatProgress(value=0.0, max=662.0), HTML(value='')))"
            ],
            "application/vnd.jupyter.widget-view+json": {
              "version_major": 2,
              "version_minor": 0,
              "model_id": "bfcd7332e22c4597b41ba19055705fdd"
            }
          },
          "metadata": {}
        },
        {
          "output_type": "stream",
          "name": "stdout",
          "text": [
            "\n",
            "\n"
          ]
        },
        {
          "output_type": "display_data",
          "data": {
            "text/plain": [
              "HBox(children=(FloatProgress(value=0.0, max=1.0), HTML(value='')))"
            ],
            "application/vnd.jupyter.widget-view+json": {
              "version_major": 2,
              "version_minor": 0,
              "model_id": "37f74557e158456ca9eb51491bf2bdfa"
            }
          },
          "metadata": {}
        },
        {
          "output_type": "display_data",
          "data": {
            "text/plain": [
              "HBox(children=(FloatProgress(value=0.0, max=662.0), HTML(value='')))"
            ],
            "application/vnd.jupyter.widget-view+json": {
              "version_major": 2,
              "version_minor": 0,
              "model_id": "86348622488e46fc85a05130dc81e3ca"
            }
          },
          "metadata": {}
        },
        {
          "output_type": "stream",
          "name": "stdout",
          "text": [
            "\n",
            "\n"
          ]
        },
        {
          "output_type": "display_data",
          "data": {
            "text/plain": [
              "HBox(children=(FloatProgress(value=0.0, max=1.0), HTML(value='')))"
            ],
            "application/vnd.jupyter.widget-view+json": {
              "version_major": 2,
              "version_minor": 0,
              "model_id": "1271f3a8ba334bf380bc70c74efb7bd6"
            }
          },
          "metadata": {}
        },
        {
          "output_type": "display_data",
          "data": {
            "text/plain": [
              "HBox(children=(FloatProgress(value=0.0, max=662.0), HTML(value='')))"
            ],
            "application/vnd.jupyter.widget-view+json": {
              "version_major": 2,
              "version_minor": 0,
              "model_id": "6eec6f50a2584699815c35da7e8c099d"
            }
          },
          "metadata": {}
        },
        {
          "output_type": "stream",
          "name": "stdout",
          "text": [
            "\n",
            "\n"
          ]
        },
        {
          "output_type": "display_data",
          "data": {
            "text/plain": [
              "HBox(children=(FloatProgress(value=0.0, max=1.0), HTML(value='')))"
            ],
            "application/vnd.jupyter.widget-view+json": {
              "version_major": 2,
              "version_minor": 0,
              "model_id": "df25a9f26b8e4acf91bc67056ef52c17"
            }
          },
          "metadata": {}
        },
        {
          "output_type": "display_data",
          "data": {
            "text/plain": [
              "HBox(children=(FloatProgress(value=0.0, max=662.0), HTML(value='')))"
            ],
            "application/vnd.jupyter.widget-view+json": {
              "version_major": 2,
              "version_minor": 0,
              "model_id": "85762edc61684759b96dcbabb8e8de59"
            }
          },
          "metadata": {}
        },
        {
          "output_type": "stream",
          "name": "stdout",
          "text": [
            "\n",
            "\n"
          ]
        },
        {
          "output_type": "display_data",
          "data": {
            "text/plain": [
              "HBox(children=(FloatProgress(value=0.0, max=1.0), HTML(value='')))"
            ],
            "application/vnd.jupyter.widget-view+json": {
              "version_major": 2,
              "version_minor": 0,
              "model_id": "60ec951fb8e74097bdb86b16583eda5f"
            }
          },
          "metadata": {}
        },
        {
          "output_type": "display_data",
          "data": {
            "text/plain": [
              "HBox(children=(FloatProgress(value=0.0, max=662.0), HTML(value='')))"
            ],
            "application/vnd.jupyter.widget-view+json": {
              "version_major": 2,
              "version_minor": 0,
              "model_id": "7cabff5e6cc248d1a87ab6533cb5804f"
            }
          },
          "metadata": {}
        },
        {
          "output_type": "stream",
          "name": "stdout",
          "text": [
            "\n",
            "\n"
          ]
        },
        {
          "output_type": "display_data",
          "data": {
            "text/plain": [
              "HBox(children=(FloatProgress(value=0.0, max=1.0), HTML(value='')))"
            ],
            "application/vnd.jupyter.widget-view+json": {
              "version_major": 2,
              "version_minor": 0,
              "model_id": "247f6fd3fdf34dc9b5341cb90d90d0e6"
            }
          },
          "metadata": {}
        },
        {
          "output_type": "display_data",
          "data": {
            "text/plain": [
              "HBox(children=(FloatProgress(value=0.0, max=662.0), HTML(value='')))"
            ],
            "application/vnd.jupyter.widget-view+json": {
              "version_major": 2,
              "version_minor": 0,
              "model_id": "7e985a700f0b433d9591466f1037a4e8"
            }
          },
          "metadata": {}
        },
        {
          "output_type": "stream",
          "name": "stdout",
          "text": [
            "\n",
            "\n"
          ]
        }
      ]
    },
    {
      "cell_type": "code",
      "source": [
        "print(\n",
        "    max_source_length_sentence,\n",
        "    max_target_length_sentence,\n",
        "    batch_size_sentence,\n",
        "    batches_per_backward_sentence,\n",
        "    learning_rate_sentence,\n",
        "    epochs_num_sentence,\n",
        ")"
      ],
      "metadata": {
        "colab": {
          "base_uri": "https://localhost:8080/"
        },
        "id": "cdk0vFg1fLNt",
        "outputId": "d3189f49-fee6-4c3f-feff-0fd11edfd23d"
      },
      "execution_count": 81,
      "outputs": [
        {
          "output_type": "stream",
          "name": "stdout",
          "text": [
            "512 2 4 32 3e-05 12\n"
          ]
        }
      ]
    },
    {
      "cell_type": "code",
      "source": [
        "plt.plot(train_losses_sequence)\n",
        "plt.plot(valid_losses_sequence)\n",
        "plt.show()"
      ],
      "metadata": {
        "id": "oj8SQe1gxuKY",
        "colab": {
          "base_uri": "https://localhost:8080/",
          "height": 265
        },
        "outputId": "9ab386b5-5f9e-4a38-c75a-f1e9d62e8427"
      },
      "execution_count": 168,
      "outputs": [
        {
          "output_type": "display_data",
          "data": {
            "text/plain": [
              "<Figure size 432x288 with 1 Axes>"
            ],
            "image/png": "[encoded data removed]"
          },
          "metadata": {
            "needs_background": "light"
          }
        }
      ]
    },
    {
      "cell_type": "code",
      "source": [
        "valid_losses_sequence"
      ],
      "metadata": {
        "colab": {
          "base_uri": "https://localhost:8080/"
        },
        "id": "D6JXhfPiAzfI",
        "outputId": "e842c975-67f1-4bf3-a0c0-62adb270926b"
      },
      "execution_count": 83,
      "outputs": [
        {
          "output_type": "execute_result",
          "data": {
            "text/plain": [
              "[[0.30517994282366356],\n",
              " [0.2812746242003099],\n",
              " [0.29161757540413596],\n",
              " [0.2447496776818789],\n",
              " [0.24677539696987671],\n",
              " [0.24182854694184625],\n",
              " [0.2596106004286243],\n",
              " [0.2483356319906245],\n",
              " [0.25030144329088494],\n",
              " [0.27761051852751195],\n",
              " [0.23747460880485768],\n",
              " [0.2530180474051632]]"
            ]
          },
          "metadata": {},
          "execution_count": 83
        }
      ]
    },
    {
      "cell_type": "code",
      "source": [
        "tokenizer_true_id = tokenizer_sentence(\"true\", return_tensors=\"pt\").input_ids[0][0].item()\n",
        "tokenizer_false_id = tokenizer_sentence(\"false\", return_tensors=\"pt\").input_ids[0][0].item()\n",
        "\n",
        "token_map_sentence = {\n",
        "    tokenizer_true_id: 'true',\n",
        "    tokenizer_false_id: 'false',\n",
        "}"
      ],
      "metadata": {
        "id": "bLcqNfWUI1Xl"
      },
      "execution_count": 84,
      "outputs": []
    },
    {
      "cell_type": "code",
      "source": [
        "# do_sample\n",
        "# max_new_tokens"
      ],
      "metadata": {
        "id": "0cBHhKHJl_3h"
      },
      "execution_count": 85,
      "outputs": []
    },
    {
      "cell_type": "code",
      "source": [
        "# def _decode_logits(model, input_ids, attention_mask, decoder_attention_mask, labels)\n",
        "\n",
        "def greedy_decode_logits(model, dataloader, tokens_list=[6136, 1176]):\n",
        "\n",
        "    logits_list = []\n",
        "\n",
        "    for data in dataloader:\n",
        "\n",
        "        input = data[0].to(device)\n",
        "        input_mask = data[1].to(device)\n",
        "        # target = data[2].to(device)\n",
        "        # target_mask = data[3].to(device)\n",
        "        num_ex = input.shape[0]\n",
        "        decoder_input_ids = torch.zeros([num_ex], dtype=int).reshape(-1,1).to(device)\n",
        "\n",
        "        logits = model(input_ids=input, \n",
        "                       attention_mask=input_mask,\n",
        "                       decoder_input_ids=decoder_input_ids,\n",
        "                       ).logits\n",
        "\n",
        "        # logits = model(input_ids=input, attention_mask=input_mask,\n",
        "        #                decoder_attention_mask=target_mask, labels=target).logits\n",
        "        \n",
        "        scores = logits[:,0,tokens_list]\n",
        "        scores = torch.nn.functional.log_softmax(scores, dim=1)\n",
        "        scores = scores.cpu().detach().numpy()\n",
        "\n",
        "        logits_list.append(scores)\n",
        "\n",
        "    return np.concatenate(logits_list)"
      ],
      "metadata": {
        "id": "mQ8EmTgQsxts"
      },
      "execution_count": 86,
      "outputs": []
    },
    {
      "cell_type": "code",
      "source": [
        "def model_prediction_report(model, dataloader, token_id_map):\n",
        "    \n",
        "    preds = []\n",
        "    expecteds = []\n",
        "\n",
        "    for data in dataloader:\n",
        "        gen = model.generate(\n",
        "            data[0].to(device),\n",
        "            attention_mask=data[1].to(device),\n",
        "            max_length=3\n",
        "        )\n",
        "\n",
        "        pred = gen[:, 1].cpu().detach().numpy()\n",
        "        pred = np.array([token_id_map.get(p, 'invalid') for p in pred])\n",
        "\n",
        "        preds.append(pred)\n",
        "        expecteds.append(np.array(data[5]))\n",
        "    \n",
        "    preds = np.concatenate(preds)\n",
        "    expecteds = np.concatenate(expecteds)\n",
        "    labels = list(token_id_map.values())\n",
        "\n",
        "    return classification_report(expecteds, preds, labels=labels, digits=4), expecteds, preds, labels\n",
        "\n",
        "# cfr, trues, preds, labels = model_prediction_report(t5_sentence_model, sentence_dataloader_dev, 0.2)\n",
        "# print(cfr)"
      ],
      "metadata": {
        "id": "jQIH6n7UItqP"
      },
      "execution_count": 1320,
      "outputs": []
    },
    {
      "cell_type": "code",
      "source": [
        "def report_performance(expected, logits, threshold):\n",
        "    preds = ['true' if l > np.log(threshold) else 'false' for l in logits[:,1]]\n",
        "\n",
        "    labels=['true','false']\n",
        "\n",
        "    return classification_report(expected, preds, labels=['true','false'], digits=4)"
      ],
      "metadata": {
        "id": "PZifauP4v1rx"
      },
      "execution_count": 1316,
      "outputs": []
    },
    {
      "cell_type": "code",
      "source": [
        "logits_pred = greedy_decode_logits(t5_sentence_model, sentence_dataloader_dev)"
      ],
      "metadata": {
        "id": "IT3Sqw0St5_q"
      },
      "execution_count": 89,
      "outputs": []
    },
    {
      "cell_type": "code",
      "source": [
        "print(report_performance(sentence_dev_dataset[:][5], logits_pred, 0.24))"
      ],
      "metadata": {
        "colab": {
          "base_uri": "https://localhost:8080/"
        },
        "id": "L00p33cO0S6D",
        "outputId": "a1dc0cff-e373-467c-a538-1faeefc0ce41"
      },
      "execution_count": 1317,
      "outputs": [
        {
          "output_type": "stream",
          "name": "stdout",
          "text": [
            "              precision    recall  f1-score   support\n",
            "\n",
            "        true     0.7686    0.7623    0.7654       366\n",
            "       false     0.8513    0.8557    0.8535       582\n",
            "\n",
            "    accuracy                         0.8196       948\n",
            "   macro avg     0.8099    0.8090    0.8095       948\n",
            "weighted avg     0.8194    0.8196    0.8195       948\n",
            "\n"
          ]
        }
      ]
    },
    {
      "cell_type": "markdown",
      "source": [
        "## Implement Classification (Label Prediction)"
      ],
      "metadata": {
        "id": "h1iw3-yzBTkW"
      }
    },
    {
      "cell_type": "markdown",
      "source": [
        "### Create training dataset"
      ],
      "metadata": {
        "id": "7aaYh-rBWnvX"
      }
    },
    {
      "cell_type": "code",
      "source": [
        "label_map = {\n",
        "    'SUPPORT': \"true\",\n",
        "    \"CONTRADICT\": \"false\",\n",
        "    \"NOINFO\": \"weak\"\n",
        "}"
      ],
      "metadata": {
        "id": "MuAVxsIOCsd7"
      },
      "execution_count": 91,
      "outputs": []
    },
    {
      "cell_type": "code",
      "source": [
        "def gold_evidence_preprocess(claim, corpus=scifact_all['corpus']):\n",
        "    \n",
        "    sentences_text = []\n",
        "    labels = []\n",
        "    doc_set = claim['evidence']\n",
        "\n",
        "    # if there is actual evidence\n",
        "    if len(doc_set) > 0:\n",
        "        for doc_id, evidence_set in doc_set.items():\n",
        "            doc = find_corpus_by_doc_id(doc_id)\n",
        "            for sentence_set in evidence_set:\n",
        "                labels.append(sentence_set['label'])\n",
        "                for sentence_id in sentence_set['sentences']:\n",
        "                    sentences_text.append(doc['abstract'][sentence_id])\n",
        "    \n",
        "    # if there is no actual evidence, create weak evidence from cited_doc_ids\n",
        "    else:\n",
        "        for cited_doc_id in claim['cited_doc_ids']:\n",
        "            doc = find_corpus_by_doc_id(cited_doc_id)\n",
        "            num_sentences = random.randint(1, 2) # select between 1 and 2 sentences\n",
        "            sentences = sample_similar_sentences(claim['claim'], doc['abstract'], num_sentences)\n",
        "            sentences_text += list(set(sentences))\n",
        "            labels.append(\"NOINFO\")\n",
        "\n",
        "    return sentences_text, labels\n",
        "\n",
        "\n",
        "def label_classification_pattern(claim, corpus=scifact_all['corpus']):\n",
        "    # \"hypothesis: {q} sentence1: s1 · · · sentencez: sz\"\n",
        "\n",
        "    sentences_text, labels = gold_evidence_preprocess(claim, corpus)\n",
        "    \n",
        "    input_raw = f\"hypothesis: {claim['claim']}\"\n",
        "    for i, sentence in enumerate(sentences_text):\n",
        "        input_raw += f\" sentence{i+1}: {sentence}\"\n",
        "    \n",
        "    output_raw = label_map[labels[0]]\n",
        "\n",
        "    return input_raw, output_raw"
      ],
      "metadata": {
        "id": "-jdogBvBDQuW"
      },
      "execution_count": 92,
      "outputs": []
    },
    {
      "cell_type": "code",
      "source": [
        "label_classification_pattern(scifact_all['claims_train'][2])"
      ],
      "metadata": {
        "colab": {
          "base_uri": "https://localhost:8080/"
        },
        "id": "b62n-nA1RHxt",
        "outputId": "87080ff1-d2f8-4886-d60a-de2447bc0c9e"
      },
      "execution_count": 93,
      "outputs": [
        {
          "output_type": "execute_result",
          "data": {
            "text/plain": [
              "('hypothesis: 1-1% of colorectal cancer patients are diagnosed with regional or distant metastases. sentence1: During the study period, 44,924 eligible patients were diagnosed with colorectal cancer. sentence2: Among the patients with cancer, stage was classified as early (stage I) vs all other (stages II-IV).',\n",
              " 'weak')"
            ]
          },
          "metadata": {},
          "execution_count": 93
        }
      ]
    },
    {
      "cell_type": "code",
      "source": [
        "label_classification_pattern(scifact_all['claims_dev'][0])"
      ],
      "metadata": {
        "colab": {
          "base_uri": "https://localhost:8080/"
        },
        "id": "FhgDcikpG_ZX",
        "outputId": "d2b35386-6894-4cbd-e8e8-5154188bf953"
      },
      "execution_count": 94,
      "outputs": [
        {
          "output_type": "execute_result",
          "data": {
            "text/plain": [
              "('hypothesis: 0-dimensional biomaterials show inductive properties. sentence1: We further discuss their utility and the potential concerns regarding their cytotoxicity.',\n",
              " 'weak')"
            ]
          },
          "metadata": {},
          "execution_count": 94
        }
      ]
    },
    {
      "cell_type": "markdown",
      "source": [
        "### Train new T5 model"
      ],
      "metadata": {
        "id": "vh2iXxZxWsgF"
      }
    },
    {
      "cell_type": "code",
      "source": [
        "## Global configs\n",
        "\n",
        "# label_prediction_t5_model_size = \"t5-3b\"\n",
        "\n",
        "label_prediction_t5_model_size = \"t5-large\"\n",
        "epochs_num = 28 + 4 + 2\n",
        "learning_rate = 1e-5\n",
        "\n",
        "# label_prediction_t5_model_size = \"t5-small\"\n",
        "# learning_rate = 1e-4\n",
        "# epochs_num = 12\n",
        "\n",
        "max_source_length = 512\n",
        "max_target_length = 4\n",
        "batch_size = 4\n",
        "batches_per_backward = 32"
      ],
      "metadata": {
        "id": "74V_EI1ZU6J7"
      },
      "execution_count": 95,
      "outputs": []
    },
    {
      "cell_type": "code",
      "source": [
        "tokenizer = T5Tokenizer.from_pretrained(label_prediction_t5_model_size)"
      ],
      "metadata": {
        "colab": {
          "base_uri": "https://localhost:8080/",
          "height": 240,
          "referenced_widgets": [
            "20fc4e2b141f4f98bd9023ad8907592c",
            "8f9481d665f64d6bb7d4caf5e9a161ff",
            "0b5324bbac5c4e5581c0b67175487713",
            "4ef9b662674b4a778d5d921fdd98e320",
            "09c96b95ed3949a0b6f4257445131c71",
            "16836924b21743a4970a30dd7e00568d",
            "785a098b303941c9a4e5d0979e250727",
            "f7a67804c7c44acdb1abf5c8f42cac46",
            "9b8cd447ab8846b28cf0425a6e0a5476",
            "311aa12c4c3f4a1b982c8f8765c45862",
            "4c15b834058d4f24b55d2753e68aeae3",
            "089486fefbcb446b91bf75e3acffcbbb",
            "56ccb8d67f824bcea0b11529742d638f",
            "5e67b27799b94c0c9df64dffb35b6083",
            "1b584790144d4624a0e8abc639ccff8e",
            "b633531040c1456eb987004e07ba5fac"
          ]
        },
        "id": "5e0k9cmAkQLc",
        "outputId": "2c6b3290-6429-42f5-b5e6-5f15c1fa8b1a"
      },
      "execution_count": 96,
      "outputs": [
        {
          "output_type": "display_data",
          "data": {
            "text/plain": [
              "HBox(children=(FloatProgress(value=0.0, description='Downloading', max=791656.0, style=ProgressStyle(descripti…"
            ],
            "application/vnd.jupyter.widget-view+json": {
              "version_major": 2,
              "version_minor": 0,
              "model_id": "20fc4e2b141f4f98bd9023ad8907592c"
            }
          },
          "metadata": {}
        },
        {
          "output_type": "stream",
          "name": "stdout",
          "text": [
            "\n"
          ]
        },
        {
          "output_type": "display_data",
          "data": {
            "text/plain": [
              "HBox(children=(FloatProgress(value=0.0, description='Downloading', max=1200.0, style=ProgressStyle(description…"
            ],
            "application/vnd.jupyter.widget-view+json": {
              "version_major": 2,
              "version_minor": 0,
              "model_id": "9b8cd447ab8846b28cf0425a6e0a5476"
            }
          },
          "metadata": {}
        },
        {
          "output_type": "stream",
          "name": "stdout",
          "text": [
            "\n"
          ]
        },
        {
          "output_type": "stream",
          "name": "stderr",
          "text": [
            "/usr/local/lib/python3.7/dist-packages/transformers/models/t5/tokenization_t5.py:174: FutureWarning: This tokenizer was incorrectly instantiated with a model max length of 512 which will be corrected in Transformers v5.\n",
            "For now, this behavior is kept to avoid breaking backwards compatibility when padding/encoding with `truncation is True`.\n",
            "- Be aware that you SHOULD NOT rely on t5-large automatically truncating your input to 512 when padding/encoding.\n",
            "- If you want to encode/pad to sequences longer than 512 you can either instantiate this tokenizer with `model_max_length` or pass `max_length` when encoding/padding.\n",
            "- To avoid this warning, please instantiate this tokenizer with `model_max_length` set to your preferred value.\n",
            "  FutureWarning,\n"
          ]
        }
      ]
    },
    {
      "cell_type": "code",
      "source": [
        "## Defining for later: token id for our 3 labels\n",
        "tokenizer_true_id = tokenizer(\"true\", return_tensors=\"pt\").input_ids[0][0].item()\n",
        "tokenizer_false_id = tokenizer(\"false\", return_tensors=\"pt\").input_ids[0][0].item()\n",
        "tokenizer_weak_id = tokenizer(\"weak\", return_tensors=\"pt\").input_ids[0][0].item()\n",
        "\n",
        "print(tokenizer_true_id, tokenizer_false_id, tokenizer_weak_id)\n",
        "\n",
        "token_map_classification = {\n",
        "    tokenizer_true_id: 'true',\n",
        "    tokenizer_false_id: 'false',\n",
        "    tokenizer_weak_id: 'weak',\n",
        "}"
      ],
      "metadata": {
        "id": "fg_LBJQiizOU",
        "colab": {
          "base_uri": "https://localhost:8080/",
          "height": 34
        },
        "outputId": "ee13a873-6110-48ad-d639-70d81a554348"
      },
      "execution_count": 97,
      "outputs": [
        {
          "output_type": "stream",
          "name": "stdout",
          "text": [
            "1176 6136 5676\n"
          ]
        }
      ]
    },
    {
      "cell_type": "markdown",
      "source": [
        "#### Create dataset and dataloader"
      ],
      "metadata": {
        "id": "5sA0z1vEZeUD"
      }
    },
    {
      "cell_type": "code",
      "source": [
        "class T5LabelDataset(Dataset):\n",
        "    def __init__(self, claims, is_training, preprocessor, tokenizer, source_max_length, target_max_length):\n",
        "\n",
        "        text_pairs = [label_classification_pattern(c) for c in claims]\n",
        "        if is_training:\n",
        "            self.original_source = []\n",
        "            self.original_target = []\n",
        "            for i in text_pairs:\n",
        "                self.original_source.append(i[0])\n",
        "                self.original_target.append(i[1])\n",
        "                if (i[1] == 'false' and random.random() < 0.60) or (i[1] == 'weak' and random.random() < 0.05):\n",
        "                    for j in range(random.randint(1,2)):\n",
        "                        self.original_source.append(i[0])\n",
        "                        self.original_target.append(i[1])\n",
        "        else:\n",
        "            self.original_source = [i[0] for i in text_pairs]\n",
        "            self.original_target = [i[1] for i in text_pairs]\n",
        "\n",
        "        source = tokenizer(self.original_source, padding='max_length', truncation=True, max_length=source_max_length, return_tensors=\"pt\")\n",
        "        target = tokenizer(self.original_target, padding=True,  truncation=True, max_length=target_max_length, return_tensors=\"pt\")\n",
        "        \n",
        "        self.source_token_ids, self.source_attention_mask = source['input_ids'], source['attention_mask']\n",
        "        self.target_token_ids, self.target_attention_mask = target['input_ids'], target['attention_mask']\n",
        "\n",
        "        self.target_token_ids[self.target_token_ids == tokenizer.pad_token_id] = -100\n",
        "\n",
        "        \n",
        "    def __len__(self):\n",
        "        return len(self.original_source)\n",
        "\n",
        "\n",
        "    def __getitem__(self, idx):\n",
        "        return (self.source_token_ids[idx],\n",
        "                self.source_attention_mask[idx],\n",
        "                self.target_token_ids[idx],\n",
        "                self.target_attention_mask[idx],\n",
        "                self.original_source[idx],\n",
        "                self.original_target[idx])\n"
      ],
      "metadata": {
        "id": "_7FCTejeZc10"
      },
      "execution_count": 98,
      "outputs": []
    },
    {
      "cell_type": "code",
      "source": [
        "dataset_train = T5LabelDataset(scifact_all['claims_train'], True, label_classification_pattern, tokenizer,\n",
        "                               max_source_length, max_target_length)\n",
        "dataset_dev = T5LabelDataset(scifact_all['claims_dev'], False, label_classification_pattern, tokenizer,\n",
        "                             max_source_length, max_target_length)"
      ],
      "metadata": {
        "id": "glbbN7Kjc_76"
      },
      "execution_count": 99,
      "outputs": []
    },
    {
      "cell_type": "code",
      "source": [
        "dataloader_train = DataLoader(dataset_train, batch_size=batch_size, shuffle=True, num_workers=0)\n",
        "dataloader_dev = DataLoader(dataset_dev, batch_size=batch_size, shuffle=False, num_workers=0)"
      ],
      "metadata": {
        "id": "hh0QJ3EZc97E"
      },
      "execution_count": 100,
      "outputs": []
    },
    {
      "cell_type": "code",
      "source": [
        "pd.Series(dataset_train[:][5]).value_counts()"
      ],
      "metadata": {
        "colab": {
          "base_uri": "https://localhost:8080/"
        },
        "id": "wACMx5_feD4m",
        "outputId": "c9d2eb2b-493c-44e2-ce99-33ad432bca74"
      },
      "execution_count": 101,
      "outputs": [
        {
          "output_type": "execute_result",
          "data": {
            "text/plain": [
              "weak     333\n",
              "true     332\n",
              "false    325\n",
              "dtype: int64"
            ]
          },
          "metadata": {},
          "execution_count": 101
        }
      ]
    },
    {
      "cell_type": "code",
      "source": [
        "pd.Series(dataset_dev[:][5]).value_counts()"
      ],
      "metadata": {
        "colab": {
          "base_uri": "https://localhost:8080/"
        },
        "id": "cb9gRTWl1QmI",
        "outputId": "5db7370b-da4c-4281-9943-e40bd44136a7"
      },
      "execution_count": 102,
      "outputs": [
        {
          "output_type": "execute_result",
          "data": {
            "text/plain": [
              "true     124\n",
              "weak     112\n",
              "false     64\n",
              "dtype: int64"
            ]
          },
          "metadata": {},
          "execution_count": 102
        }
      ]
    },
    {
      "cell_type": "markdown",
      "source": [
        "#### Create T5 and fine tune"
      ],
      "metadata": {
        "id": "i_X-x0epdeLw"
      }
    },
    {
      "cell_type": "code",
      "source": [
        "t5_label_prediction = T5ForConditionalGeneration.from_pretrained(label_prediction_t5_model_size).to(device)"
      ],
      "metadata": {
        "id": "nvFPTx-DU1v2",
        "colab": {
          "base_uri": "https://localhost:8080/",
          "height": 66,
          "referenced_widgets": [
            "b16abb6c17f649079b668877de4b6b4b",
            "d2b2430c28bf440780fd2116d57c2244",
            "569698ea685447d1a9789075316e9d3f",
            "d19037b9113a4353aff3f083f366e6f7",
            "3fd8c16f6cdd4b388964c59a99d0255d",
            "a6f7003c2bb04097bb4ce1bc8293f2f6",
            "b5142ce58df244ac999721e2664c592c",
            "91bbe7c7d67247d7b3396fcc58853e71"
          ]
        },
        "outputId": "4675fcd9-0d1f-4fcb-84a0-145ada92fb41"
      },
      "execution_count": 103,
      "outputs": [
        {
          "output_type": "display_data",
          "data": {
            "text/plain": [
              "HBox(children=(FloatProgress(value=0.0, description='Downloading', max=2950825948.0, style=ProgressStyle(descr…"
            ],
            "application/vnd.jupyter.widget-view+json": {
              "version_major": 2,
              "version_minor": 0,
              "model_id": "b16abb6c17f649079b668877de4b6b4b"
            }
          },
          "metadata": {}
        },
        {
          "output_type": "stream",
          "name": "stdout",
          "text": [
            "\n"
          ]
        }
      ]
    },
    {
      "cell_type": "code",
      "source": [
        "criterion = torch.nn.CrossEntropyLoss()\n",
        "optimizer = Adafactor(\n",
        "    t5_label_prediction.parameters(),\n",
        "    lr=learning_rate,\n",
        "    relative_step=False, scale_parameter=False\n",
        ")"
      ],
      "metadata": {
        "id": "WTqcB4mRidOj"
      },
      "execution_count": 104,
      "outputs": []
    },
    {
      "cell_type": "code",
      "source": [
        "train_losses, valid_losses = [], []"
      ],
      "metadata": {
        "id": "JcKKCyLlnzUY"
      },
      "execution_count": 105,
      "outputs": []
    },
    {
      "cell_type": "code",
      "source": [
        "for epoch in range(2):\n",
        "    t, v = finetune_t5_label(\n",
        "        t5_label_prediction,\n",
        "        dataloader_train,\n",
        "        dataloader_dev,\n",
        "        optimizer,\n",
        "        1,\n",
        "        batches_per_backward\n",
        "    )\n",
        "    train_losses.append(t)\n",
        "    valid_losses.append(v)"
      ],
      "metadata": {
        "colab": {
          "base_uri": "https://localhost:8080/",
          "height": 214,
          "referenced_widgets": [
            "dee9a88f8caa4a08b534897911758778",
            "d571750941744bd5a5aec07860684de1",
            "751ef1e2305d4255b508716c81f75d46",
            "bb3eada8cf5147f6b39767c082d38e78",
            "8174121bb32347058401009c4ad7c664",
            "6a218e6612a2453ca6af1124ac565250",
            "ffa3d8eb1a6a4bb69ca4d054c0ac84ea",
            "8853f2764aad441b8a855c8cb300a22d",
            "d9b2ece8fabb49f3b1d9905ff15dbb6a",
            "e91e7bf85351480fac8a0390547db5b4",
            "93e54aec6e68486cac799654acb13100",
            "27071130de134f4092674eb73dadfc48",
            "afcf5789488d4a61ba8e4ba639f294bd",
            "ee62cff97b2d420eaa7ff1c2d6405976",
            "acc9b7040edf491585ada5ecf1dbb2ee",
            "be27f996d4fd484a983beb09e5e7a107",
            "682488c016964e3fb6e25a98da73f561",
            "8af50d83c5ab4a9b931f60162203e558",
            "4bad27dec6e04714adc579c390492400",
            "d6098f33fe624f5da29f543ac34547e9",
            "bacb1416a2b146af94b81a2f60e5705a",
            "428898c1c8754e7da0279835aa393d22",
            "77376346e8d4457ba395bf8a026832ba",
            "2775ea57b4794bb284e196a682de8a01",
            "9e0cba1afea140e4aa40ad6932bc6b0a",
            "b71499f4d992451aa41cf63123c5e0f2",
            "947afee91bb14df68646621dbb8a13e8",
            "d8ca763a6fa2442eba583166ccf727ab",
            "0b6d549f1e2543449527b5c89f0881d6",
            "9f9aecb1606944818fb7b3db8996e710",
            "f65d409dbee143a1a43f4bff1eed38ea",
            "b46e8397a17341d1a64556618f282a7e"
          ]
        },
        "id": "GKDzsEQrmYHL",
        "outputId": "3b73c21f-4b18-43db-b07a-c0d4932aeb62"
      },
      "execution_count": 160,
      "outputs": [
        {
          "output_type": "display_data",
          "data": {
            "text/plain": [
              "HBox(children=(FloatProgress(value=0.0, max=1.0), HTML(value='')))"
            ],
            "application/vnd.jupyter.widget-view+json": {
              "version_major": 2,
              "version_minor": 0,
              "model_id": "dee9a88f8caa4a08b534897911758778"
            }
          },
          "metadata": {}
        },
        {
          "output_type": "display_data",
          "data": {
            "text/plain": [
              "HBox(children=(FloatProgress(value=0.0, max=248.0), HTML(value='')))"
            ],
            "application/vnd.jupyter.widget-view+json": {
              "version_major": 2,
              "version_minor": 0,
              "model_id": "d9b2ece8fabb49f3b1d9905ff15dbb6a"
            }
          },
          "metadata": {}
        },
        {
          "output_type": "stream",
          "name": "stdout",
          "text": [
            "\n",
            "\n"
          ]
        },
        {
          "output_type": "display_data",
          "data": {
            "text/plain": [
              "HBox(children=(FloatProgress(value=0.0, max=1.0), HTML(value='')))"
            ],
            "application/vnd.jupyter.widget-view+json": {
              "version_major": 2,
              "version_minor": 0,
              "model_id": "682488c016964e3fb6e25a98da73f561"
            }
          },
          "metadata": {}
        },
        {
          "output_type": "display_data",
          "data": {
            "text/plain": [
              "HBox(children=(FloatProgress(value=0.0, max=248.0), HTML(value='')))"
            ],
            "application/vnd.jupyter.widget-view+json": {
              "version_major": 2,
              "version_minor": 0,
              "model_id": "9e0cba1afea140e4aa40ad6932bc6b0a"
            }
          },
          "metadata": {}
        },
        {
          "output_type": "stream",
          "name": "stdout",
          "text": [
            "\n",
            "\n"
          ]
        }
      ]
    },
    {
      "cell_type": "code",
      "source": [
        "print(\n",
        "    label_prediction_t5_model_size,\n",
        "    epochs_num,\n",
        "    learning_rate,\n",
        "    max_source_length,\n",
        "    max_target_length,\n",
        "    batch_size,\n",
        "    batches_per_backward,\n",
        ")"
      ],
      "metadata": {
        "colab": {
          "base_uri": "https://localhost:8080/"
        },
        "id": "hVz-TeKmfznD",
        "outputId": "247c2120-f30b-4efb-b71a-2d73f5c9bef3"
      },
      "execution_count": 161,
      "outputs": [
        {
          "output_type": "stream",
          "name": "stdout",
          "text": [
            "t5-large 28 1e-05 512 4 4 32\n"
          ]
        }
      ]
    },
    {
      "cell_type": "code",
      "source": [
        "plt.plot(train_losses[4:])\n",
        "plt.plot(valid_losses[4:])\n",
        "plt.show()"
      ],
      "metadata": {
        "id": "1bbuklCxnUZZ",
        "colab": {
          "base_uri": "https://localhost:8080/",
          "height": 268
        },
        "outputId": "c0448f41-5d6a-4c96-c3ea-7bd704e07b92"
      },
      "execution_count": 169,
      "outputs": [
        {
          "output_type": "display_data",
          "data": {
            "text/plain": [
              "<Figure size 432x288 with 1 Axes>"
            ],
            "image/png": "[encoded data removed]"
          },
          "metadata": {
            "needs_background": "light"
          }
        }
      ]
    },
    {
      "cell_type": "code",
      "source": [
        "valid_losses "
      ],
      "metadata": {
        "colab": {
          "base_uri": "https://localhost:8080/"
        },
        "id": "02tlFIZmdmuB",
        "outputId": "01e2e1d1-5c27-47e2-cc9c-03b937e424fe"
      },
      "execution_count": 163,
      "outputs": [
        {
          "output_type": "execute_result",
          "data": {
            "text/plain": [
              "[[3.4731133651733397],\n",
              " [2.5123916800816852],\n",
              " [2.063545613288879],\n",
              " [1.6195113023122152],\n",
              " [1.2770465767383576],\n",
              " [0.7594567443927129],\n",
              " [0.5693286126852035],\n",
              " [0.6251794336239497],\n",
              " [0.5043288761377335],\n",
              " [0.36550245255231856],\n",
              " [0.3910218752920628],\n",
              " [0.3280787469943364],\n",
              " [0.3438807885348797],\n",
              " [0.3342651296158632],\n",
              " [0.5296927074591319],\n",
              " [0.29466601183017094],\n",
              " [0.4009848623474439],\n",
              " [0.30763894411424797],\n",
              " [0.304647785735627],\n",
              " [0.30569897932931783],\n",
              " [0.39298139438033103],\n",
              " [0.3552166886876027],\n",
              " [0.2850217661323647],\n",
              " [0.30596134334802627],\n",
              " [0.2887713224813342],\n",
              " [0.2812422614917159],\n",
              " [0.29863379801313084],\n",
              " [0.316176548935473],\n",
              " [0.3754575698201855],\n",
              " [0.2851411816353599],\n",
              " [0.35458853097011644],\n",
              " [0.49336349047875655],\n",
              " [0.30975346468389037],\n",
              " [0.2645735313805441]]"
            ]
          },
          "metadata": {},
          "execution_count": 163
        }
      ]
    },
    {
      "cell_type": "code",
      "source": [
        "cfr, trues, preds, labels = model_prediction_report(t5_label_prediction, dataloader_dev, token_map_classification)"
      ],
      "metadata": {
        "id": "GbQDoC-BQ2m3"
      },
      "execution_count": 1321,
      "outputs": []
    },
    {
      "cell_type": "code",
      "source": [
        "print(cfr)"
      ],
      "metadata": {
        "colab": {
          "base_uri": "https://localhost:8080/"
        },
        "id": "LWBfGFEq0m7m",
        "outputId": "69ab5ab1-5602-489c-f7a1-068c08fd19e3"
      },
      "execution_count": 1322,
      "outputs": [
        {
          "output_type": "stream",
          "name": "stdout",
          "text": [
            "              precision    recall  f1-score   support\n",
            "\n",
            "        true     0.8862    0.8790    0.8826       124\n",
            "        weak     0.8654    0.8036    0.8333       112\n",
            "       false     0.6986    0.7969    0.7445        64\n",
            "\n",
            "    accuracy                         0.8333       300\n",
            "   macro avg     0.8167    0.8265    0.8201       300\n",
            "weighted avg     0.8384    0.8333    0.8347       300\n",
            "\n"
          ]
        }
      ]
    },
    {
      "cell_type": "code",
      "source": [
        "token_map_classification = {\n",
        "    tokenizer_true_id: 'true',\n",
        "    \n",
        "    tokenizer_weak_id: 'weak',\n",
        "    tokenizer_false_id: 'false',\n",
        "}"
      ],
      "metadata": {
        "id": "wy8yfhI0g8ms"
      },
      "execution_count": 1311,
      "outputs": []
    },
    {
      "cell_type": "code",
      "source": [
        "print(cfr)"
      ],
      "metadata": {
        "colab": {
          "base_uri": "https://localhost:8080/"
        },
        "id": "1Y4RC9suQ-81",
        "outputId": "eb735e9d-1784-4461-c0d5-2e84976acb4e"
      },
      "execution_count": 1313,
      "outputs": [
        {
          "output_type": "stream",
          "name": "stdout",
          "text": [
            "              precision    recall  f1-score   support\n",
            "\n",
            "        true       0.89      0.88      0.88       124\n",
            "        weak       0.87      0.80      0.83       112\n",
            "       false       0.70      0.80      0.74        64\n",
            "\n",
            "    accuracy                           0.83       300\n",
            "   macro avg       0.82      0.83      0.82       300\n",
            "weighted avg       0.84      0.83      0.83       300\n",
            "\n"
          ]
        }
      ]
    },
    {
      "cell_type": "code",
      "source": [
        "print(cfr)"
      ],
      "metadata": {
        "colab": {
          "base_uri": "https://localhost:8080/"
        },
        "id": "-zsg6bIzguyj",
        "outputId": "550b0270-8a93-434c-805f-cb0b66ebfbef"
      },
      "execution_count": 1310,
      "outputs": [
        {
          "output_type": "stream",
          "name": "stdout",
          "text": [
            "              precision    recall  f1-score   support\n",
            "\n",
            "        true       0.89      0.88      0.88       124\n",
            "       false       0.70      0.80      0.74        64\n",
            "        weak       0.87      0.80      0.83       112\n",
            "\n",
            "    accuracy                           0.83       300\n",
            "   macro avg       0.82      0.83      0.82       300\n",
            "weighted avg       0.84      0.83      0.83       300\n",
            "\n"
          ]
        }
      ]
    },
    {
      "cell_type": "code",
      "source": [
        "ConfusionMatrixDisplay(\n",
        "    confusion_matrix(trues, preds, labels=labels),\n",
        "    display_labels=labels\n",
        ").plot()"
      ],
      "metadata": {
        "colab": {
          "base_uri": "https://localhost:8080/",
          "height": 314
        },
        "id": "LDPzAXdbRXN9",
        "outputId": "395b050b-6003-402d-f8cf-3ac27dc7acc4"
      },
      "execution_count": 172,
      "outputs": [
        {
          "output_type": "execute_result",
          "data": {
            "text/plain": [
              "<sklearn.metrics._plot.confusion_matrix.ConfusionMatrixDisplay at 0x7f8799a6b210>"
            ]
          },
          "metadata": {},
          "execution_count": 172
        },
        {
          "output_type": "display_data",
          "data": {
            "text/plain": [
              "<Figure size 432x288 with 2 Axes>"
            ],
            "image/png": "[encoded data removed]"
          },
          "metadata": {
            "needs_background": "light"
          }
        }
      ]
    },
    {
      "cell_type": "markdown",
      "source": [
        "## Complete pipeline, final model"
      ],
      "metadata": {
        "id": "W-Gr5SHtPffi"
      }
    },
    {
      "cell_type": "code",
      "source": [
        "# break"
      ],
      "metadata": {
        "id": "WyVfp-DwKZKx"
      },
      "execution_count": 173,
      "outputs": []
    },
    {
      "cell_type": "code",
      "source": [
        "scifact_all['claims_train'][0]"
      ],
      "metadata": {
        "id": "yej2NrFp3ScU",
        "colab": {
          "base_uri": "https://localhost:8080/"
        },
        "outputId": "4ecefa80-928b-4e69-a486-0797846e1dab"
      },
      "execution_count": 174,
      "outputs": [
        {
          "output_type": "execute_result",
          "data": {
            "text/plain": [
              "{'id': 0,\n",
              " 'claim': '0-dimensional biomaterials lack inductive properties.',\n",
              " 'evidence': {},\n",
              " 'cited_doc_ids': [31715818]}"
            ]
          },
          "metadata": {},
          "execution_count": 174
        }
      ]
    },
    {
      "cell_type": "markdown",
      "source": [
        "### Designed pipeline\n",
        "\n",
        "#### Input\n",
        "\n",
        "```\n",
        "[\n",
        "\t{\n",
        "\t\t\"id\": 52,\n",
        "\t\t\"claim\": \"blablabla\",\n",
        "        **other_keys\n",
        "\t}\n",
        "]\n",
        "```\n",
        "\n",
        "#### Abstract retrieval >>> implementar solução \"oracle\" também\n",
        "\n",
        "```\n",
        "[\n",
        "\t{\n",
        "\t\t\"id\": 52,\n",
        "\t\t\"claim\": \"blablabla\",\n",
        "\t\t\"evidence\": [\"11\", \"44\", \"55\"]\n",
        "\t}\n",
        "]\n",
        "```\n",
        "\n",
        "## Sentence selection (scoring)\n",
        "\n",
        "```\n",
        "[\n",
        "    {\n",
        "        \"id\": 52,\n",
        "        \"claim\": \"blablabla\",\n",
        "        \"evidence\": {\n",
        "            \"11\": {\n",
        "                \"sentences\": {1: 0.88, 2: 0.90, ... 13: 0.99},\n",
        "            },\n",
        "            \"16\": {\n",
        "                \"sentences\": {1: 0.77, 2: 0.76, ... 18: 0.96, 20: 0.98},\n",
        "            }\n",
        "        }\n",
        "    }\n",
        "]\n",
        "```\n",
        "\n",
        "## Sentence selection (thresholding)\n",
        "\n",
        "```\n",
        "[\n",
        "    {\n",
        "        \"id\": 52,\n",
        "        \"claim\": \"blablabla\",\n",
        "        \"evidence\": {\n",
        "            \"11\": {\n",
        "                \"sentences\": [1, 11, 13],\n",
        "            },\n",
        "            \"16\": {\n",
        "                \"sentences\": [18, 20],\n",
        "            }\n",
        "        }\n",
        "    }\n",
        "]\n",
        "```\n",
        "\n",
        "\n",
        "## Label classification\n",
        "\n",
        "```\n",
        "[\n",
        "    {\n",
        "        \"id\": 52,\n",
        "        \"claim\": \"blablabla\",\n",
        "        \"evidence\": {\n",
        "            \"11\": {\n",
        "                \"sentences\": [1, 11, 13],\n",
        "                \"label\": \"SUPPORT\"\n",
        "            },\n",
        "            \"16\": {\n",
        "                \"sentences\": [18, 20],\n",
        "                \"label\": \"REFUTES\"\n",
        "            }\n",
        "        }\n",
        "    }\n",
        "]\n",
        "```"
      ],
      "metadata": {
        "id": "SQNY4ZZpSizR"
      }
    },
    {
      "cell_type": "markdown",
      "source": [
        "### Implementation"
      ],
      "metadata": {
        "id": "BAjlwpwW3NXK"
      }
    },
    {
      "cell_type": "markdown",
      "source": [
        "#### Abstract Retrieval"
      ],
      "metadata": {
        "id": "jmDowUXG5qXE"
      }
    },
    {
      "cell_type": "code",
      "source": [
        "scifact_all['claims_train'][1]"
      ],
      "metadata": {
        "id": "p8Uo5e3zGTmT",
        "colab": {
          "base_uri": "https://localhost:8080/"
        },
        "outputId": "0d7a5ba0-0e1b-4082-951d-3ea97e563013"
      },
      "execution_count": 243,
      "outputs": [
        {
          "output_type": "execute_result",
          "data": {
            "text/plain": [
              "{'id': 2,\n",
              " 'claim': '1 in 5 million in UK have abnormal PrP positivity.',\n",
              " 'evidence': {'13734012': [{'sentences': [4], 'label': 'CONTRADICT'}]},\n",
              " 'cited_doc_ids': [13734012]}"
            ]
          },
          "metadata": {},
          "execution_count": 243
        }
      ]
    },
    {
      "cell_type": "code",
      "source": [
        "class StepAbstractRetrieval:\n",
        "    def __init__(self, ranker=None, oracle=False):\n",
        "\n",
        "        if (ranker is None) and (oracle==False):\n",
        "            raise Exception(\"Ranker should be defined if not an Oracle\")\n",
        "        elif (ranker is not None) and (oracle==True):\n",
        "            raise Exception(\"If oracle is True, ranker cannot be defined\")\n",
        "\n",
        "        self.oracle = oracle\n",
        "        self.ranker = ranker\n",
        "\n",
        "    \n",
        "    def __call__(self, inputs):\n",
        " \n",
        "        output_list = []\n",
        "\n",
        "        for input in inputs:\n",
        "            output = {}\n",
        "            output['id'] = input['id']\n",
        "            output['claim'] = input['claim']\n",
        "\n",
        "            if self.oracle:\n",
        "                output['evidence'] = list(input['evidence'].keys())\n",
        "            else:\n",
        "                ranking, _ = self.ranker.rank(input)\n",
        "                output['evidence'] = [t.metadata['docid'] for t in ranking]\n",
        "            \n",
        "            output_list.append(output)\n",
        "        \n",
        "        return output_list"
      ],
      "metadata": {
        "id": "di4FhhE_Pg_V"
      },
      "execution_count": 244,
      "outputs": []
    },
    {
      "cell_type": "code",
      "source": [
        "step_abstract_retrieval_t5 = StepAbstractRetrieval(ranker=reranker_k3)\n",
        "step_abstract_retrieval_bm25 = StepAbstractRetrieval(ranker=Ranker(searcher, k=3))\n",
        "step_abstract_retrieval_oracle = StepAbstractRetrieval(oracle=True)"
      ],
      "metadata": {
        "id": "8VuYGKrsYrn6"
      },
      "execution_count": 245,
      "outputs": []
    },
    {
      "cell_type": "code",
      "source": [
        "output_ex1 = step_abstract_retrieval_bm25(scifact_all['claims_train'])\n",
        "print(len(output_ex1))\n",
        "output_ex1[:3]"
      ],
      "metadata": {
        "id": "-oF_Q1FhYwLR",
        "colab": {
          "base_uri": "https://localhost:8080/"
        },
        "outputId": "63eda268-15a4-4518-a4d6-8d327e104941"
      },
      "execution_count": 246,
      "outputs": [
        {
          "output_type": "stream",
          "name": "stdout",
          "text": [
            "809\n"
          ]
        },
        {
          "output_type": "execute_result",
          "data": {
            "text/plain": [
              "[{'id': 0,\n",
              "  'claim': '0-dimensional biomaterials lack inductive properties.',\n",
              "  'evidence': ['10608397', '14827874', '26071782']},\n",
              " {'id': 2,\n",
              "  'claim': '1 in 5 million in UK have abnormal PrP positivity.',\n",
              "  'evidence': ['13734012', '18617259', '4828631']},\n",
              " {'id': 4,\n",
              "  'claim': '1-1% of colorectal cancer patients are diagnosed with regional or distant metastases.',\n",
              "  'evidence': ['1387104', '24980622', '10958594']}]"
            ]
          },
          "metadata": {},
          "execution_count": 246
        }
      ]
    },
    {
      "cell_type": "code",
      "source": [
        "output_ex2 = step_abstract_retrieval_oracle(scifact_all['claims_train'])\n",
        "print(len(output_ex2))\n",
        "output_ex2[:3]"
      ],
      "metadata": {
        "id": "DP2zdO_L5awo",
        "colab": {
          "base_uri": "https://localhost:8080/"
        },
        "outputId": "2d90b98e-1b2a-416d-a101-a3df9e8d9df9"
      },
      "execution_count": 247,
      "outputs": [
        {
          "output_type": "stream",
          "name": "stdout",
          "text": [
            "809\n"
          ]
        },
        {
          "output_type": "execute_result",
          "data": {
            "text/plain": [
              "[{'id': 0,\n",
              "  'claim': '0-dimensional biomaterials lack inductive properties.',\n",
              "  'evidence': []},\n",
              " {'id': 2,\n",
              "  'claim': '1 in 5 million in UK have abnormal PrP positivity.',\n",
              "  'evidence': ['13734012']},\n",
              " {'id': 4,\n",
              "  'claim': '1-1% of colorectal cancer patients are diagnosed with regional or distant metastases.',\n",
              "  'evidence': []}]"
            ]
          },
          "metadata": {},
          "execution_count": 247
        }
      ]
    },
    {
      "cell_type": "markdown",
      "source": [
        "#### Sentence selection (scoring)"
      ],
      "metadata": {
        "id": "Yh27h1_x5x2b"
      }
    },
    {
      "cell_type": "code",
      "source": [
        "class StepSentenceSelectionScoring:\n",
        "    def __init__(self, monot5):\n",
        "        self.monot5 = monot5\n",
        "\n",
        "\n",
        "    def __call__(self, inputs):\n",
        "        output_list = []\n",
        "\n",
        "        for input in inputs:\n",
        "            output = {}\n",
        "\n",
        "            output['id'] = input['id']\n",
        "            output['claim'] = input['claim']\n",
        "            \n",
        "            output['evidence'] = {}\n",
        "            for doc_id in input['evidence']:\n",
        "                corpus = find_corpus_by_doc_id(doc_id)\n",
        "                \n",
        "                sentences_ranked = self.monot5.rerank(\n",
        "                    Query(output['claim']), \n",
        "                    [ Text(a, {'sentence_id': id}, 0) for (id, a) in enumerate(corpus['abstract'])]\n",
        "                )\n",
        "\n",
        "                sentences_scored = { t.metadata['sentence_id']: t.score for t in sentences_ranked }\n",
        "\n",
        "                output['evidence'][doc_id] = {'sentences': sentences_scored}\n",
        "            \n",
        "            output_list.append(output)\n",
        "\n",
        "        return output_list\n"
      ],
      "metadata": {
        "id": "Hkla426e5xZo"
      },
      "execution_count": 248,
      "outputs": []
    },
    {
      "cell_type": "code",
      "source": [
        "step_sentence_selection_scoring = StepSentenceSelectionScoring(t5_sentence)"
      ],
      "metadata": {
        "id": "x_OEaATVEiwq"
      },
      "execution_count": 249,
      "outputs": []
    },
    {
      "cell_type": "code",
      "source": [
        "ex_output_scoring = step_sentence_selection_scoring(output_ex1[1:2])"
      ],
      "metadata": {
        "id": "8SGez3MEY5t9",
        "colab": {
          "base_uri": "https://localhost:8080/"
        },
        "outputId": "fcf7a96d-653e-4d6b-e30f-ad20c773fc0f"
      },
      "execution_count": 250,
      "outputs": [
        {
          "output_type": "stream",
          "name": "stderr",
          "text": [
            "/usr/local/lib/python3.7/dist-packages/transformers/models/t5/tokenization_t5.py:220: UserWarning: This sequence already has </s>. In future versions this behavior may lead to duplicated eos tokens being added.\n",
            "  f\"This sequence already has {self.eos_token}. In future versions this behavior may lead to duplicated\"\n"
          ]
        }
      ]
    },
    {
      "cell_type": "code",
      "source": [
        "ex_output_scoring"
      ],
      "metadata": {
        "id": "Yf8dAPc_IzCH",
        "colab": {
          "base_uri": "https://localhost:8080/"
        },
        "outputId": "b7c5e72a-84a1-453e-d7e9-6859e79767c2"
      },
      "execution_count": 251,
      "outputs": [
        {
          "output_type": "execute_result",
          "data": {
            "text/plain": [
              "[{'id': 2,\n",
              "  'claim': '1 in 5 million in UK have abnormal PrP positivity.',\n",
              "  'evidence': {'13734012': {'sentences': {0: -5.9396891593933105,\n",
              "     1: -7.502349376678467,\n",
              "     2: -6.474424839019775,\n",
              "     3: -5.915549278259277,\n",
              "     4: -0.9743689298629761,\n",
              "     5: -2.784499406814575,\n",
              "     6: -4.017050266265869,\n",
              "     7: -2.5930826663970947,\n",
              "     8: -6.706538200378418}},\n",
              "   '18617259': {'sentences': {0: -7.7884111404418945,\n",
              "     1: -5.021060943603516,\n",
              "     2: -5.677096366882324,\n",
              "     3: -5.411457538604736,\n",
              "     4: -5.721450328826904}},\n",
              "   '4828631': {'sentences': {0: -7.6132354736328125,\n",
              "     1: -7.948862552642822,\n",
              "     2: -7.797823429107666,\n",
              "     3: -7.317359447479248,\n",
              "     4: -3.5189504623413086,\n",
              "     5: -7.389981746673584,\n",
              "     6: -5.570540428161621,\n",
              "     7: -5.204188346862793,\n",
              "     8: -6.343135833740234,\n",
              "     9: -6.567677021026611,\n",
              "     10: -7.039429187774658,\n",
              "     11: -5.18418550491333,\n",
              "     12: -7.590523719787598,\n",
              "     13: -6.610432147979736,\n",
              "     14: -7.581872463226318}}}}]"
            ]
          },
          "metadata": {},
          "execution_count": 251
        }
      ]
    },
    {
      "cell_type": "markdown",
      "source": [
        "#### Sentence selection (thresholding)"
      ],
      "metadata": {
        "id": "9J2hiYuBGj5H"
      }
    },
    {
      "cell_type": "code",
      "source": [
        "class StepSentenceSelectionThresholding:\n",
        "    def __init__(self, threshold):\n",
        "        self.threshold = threshold\n",
        "    \n",
        "    def transform(self, input):\n",
        "        output = {}\n",
        "        output['id'] = input['id']\n",
        "        output['claim'] = input['claim']\n",
        "        output['evidence'] = {}\n",
        "        for doc_id, evidence in input['evidence'].items():\n",
        "            sentences_scored = evidence['sentences']\n",
        "            sentences_filtered = [\n",
        "                s for s, score in sentences_scored.items() \n",
        "                if score >= self.threshold\n",
        "            ]\n",
        "\n",
        "            if len(sentences_filtered) > 0:\n",
        "                output['evidence'][doc_id] = {'sentences': sentences_filtered}\n",
        "\n",
        "        return output\n",
        "\n",
        "    def __call__(self, inputs):\n",
        "        return [\n",
        "            self.transform(input)\n",
        "            for input in inputs\n",
        "        ]\n"
      ],
      "metadata": {
        "id": "Odsp30dQGjbG"
      },
      "execution_count": 252,
      "outputs": []
    },
    {
      "cell_type": "code",
      "source": [
        "step_sentence_selection_th = StepSentenceSelectionThresholding(-1)"
      ],
      "metadata": {
        "id": "lYQRQ6-7InA2"
      },
      "execution_count": 253,
      "outputs": []
    },
    {
      "cell_type": "code",
      "source": [
        "ex_output_sentence_selec = step_sentence_selection_th(ex_output_scoring)\n",
        "ex_output_sentence_selec"
      ],
      "metadata": {
        "id": "VceV9fAkIvD6",
        "colab": {
          "base_uri": "https://localhost:8080/"
        },
        "outputId": "0742babe-55b4-40e3-8a87-4d683e063598"
      },
      "execution_count": 254,
      "outputs": [
        {
          "output_type": "execute_result",
          "data": {
            "text/plain": [
              "[{'id': 2,\n",
              "  'claim': '1 in 5 million in UK have abnormal PrP positivity.',\n",
              "  'evidence': {'13734012': {'sentences': [4]}}}]"
            ]
          },
          "metadata": {},
          "execution_count": 254
        }
      ]
    },
    {
      "cell_type": "markdown",
      "source": [
        "#### Label classification"
      ],
      "metadata": {
        "id": "lHGyeWXDKLSu"
      }
    },
    {
      "cell_type": "code",
      "source": [
        "token_map_step_label = {\n",
        "    tokenizer_true_id: 'SUPPORT',\n",
        "    tokenizer_false_id: 'CONTRADICT',\n",
        "    tokenizer_weak_id: 'NOINFO',\n",
        "}"
      ],
      "metadata": {
        "id": "RJHU7qCWQVJW"
      },
      "execution_count": 255,
      "outputs": []
    },
    {
      "cell_type": "code",
      "source": [
        "class StepLabelClassification:\n",
        "    def __init__(self, t5model, tokenizer, source_max_length, token_id_map):\n",
        "        self.t5model = t5model\n",
        "        self.tokenizer = tokenizer\n",
        "        self.source_max_length = source_max_length\n",
        "        self.token_id_map = token_id_map\n",
        "    \n",
        "\n",
        "    def get_sentences_text(self, doc_id, sentence_id_list):\n",
        "        doc = find_corpus_by_doc_id(doc_id)\n",
        "        return [\n",
        "            doc['abstract'][sentence_id]\n",
        "            for sentence_id in sentence_id_list\n",
        "        ]\n",
        "    \n",
        "    def get_query_text(self, claim, sentences_text):\n",
        "        input_raw = f\"hypothesis: {claim}\"\n",
        "        for i, sentence in enumerate(sentences_text):\n",
        "            input_raw += f\" sentence{i+1}: {sentence}\"\n",
        "        return input_raw\n",
        "\n",
        "\n",
        "    def _tokenize(self, query):\n",
        "        tks = self.tokenizer(\n",
        "            query, padding='max_length', truncation=True,\n",
        "            max_length=self.source_max_length, return_tensors=\"pt\"\n",
        "        )\n",
        "        return tks['input_ids'], tks['attention_mask']\n",
        "\n",
        "\n",
        "    def transform(self, input):\n",
        "        output = {}\n",
        "        output['id'] = input['id']\n",
        "        output['claim'] = input['claim']\n",
        "        output['evidence'] = {}\n",
        "        \n",
        "        for doc_id, evidences in input['evidence'].items():\n",
        "            sentences = evidences['sentences']\n",
        "            sentences_text = self.get_sentences_text(doc_id, sentences)\n",
        "            \n",
        "            q = [self.get_query_text(claim, sentences_text)]\n",
        "            input_ids, attention_mask = self._tokenize(q)\n",
        "\n",
        "            gen = self.t5model.generate(\n",
        "                input_ids.to(device),\n",
        "                attention_mask=attention_mask.to(device),\n",
        "                max_length=3\n",
        "            )\n",
        "\n",
        "            pred = gen[:, 1].cpu().detach().numpy()\n",
        "            pred = np.array([self.token_id_map.get(p, 'NOINFO') for p in pred])\n",
        "            pred = pred.item()\n",
        "\n",
        "            if pred != 'NOINFO':\n",
        "                output['evidence'][doc_id] = {\n",
        "                    'sentences': sentences,\n",
        "                    'label': pred\n",
        "                }\n",
        "        \n",
        "        return output\n",
        "\n",
        "\n",
        "    def __call__(self, inputs):\n",
        "        return [\n",
        "            self.transform(input)\n",
        "            for input in inputs\n",
        "        ]"
      ],
      "metadata": {
        "id": "V_tP34PGKROZ"
      },
      "execution_count": 256,
      "outputs": []
    },
    {
      "cell_type": "code",
      "source": [
        "class StepLabelClassification02:\n",
        "    def __init__(self, t5model, tokenizer, source_max_length, token_id_map):\n",
        "        self.t5model = t5model\n",
        "        self.tokenizer = tokenizer\n",
        "        self.source_max_length = source_max_length\n",
        "        self.token_id_map = token_id_map\n",
        "\n",
        "    def get_sentences_text(self, doc_id, sentence_id_list):\n",
        "        doc = find_corpus_by_doc_id(doc_id)\n",
        "        return [\n",
        "            doc['abstract'][sentence_id]\n",
        "            for sentence_id in sentence_id_list\n",
        "        ]\n",
        "    \n",
        "    def get_query_text(self, claim, sentences_text):\n",
        "        input_raw = f\"hypothesis: {claim}\"\n",
        "        for i, sentence in enumerate(sentences_text):\n",
        "            input_raw += f\" sentence{i+1}: {sentence}\"\n",
        "        return input_raw\n",
        "\n",
        "\n",
        "    def _tokenize(self, query):\n",
        "        tks = self.tokenizer(\n",
        "            query, padding='max_length', truncation=True,\n",
        "            max_length=self.source_max_length, return_tensors=\"pt\"\n",
        "        )\n",
        "        return tks['input_ids'], tks['attention_mask']\n",
        "\n",
        "\n",
        "    def transform(self, input):\n",
        "        output = {}\n",
        "        output['id'] = input['id']\n",
        "        output['claim'] = input['claim']\n",
        "        output['evidence'] = {}\n",
        "\n",
        "        tokens_list = [tokenizer_true_id, tokenizer_false_id, tokenizer_weak_id]\n",
        "        \n",
        "        for doc_id, evidences in input['evidence'].items():\n",
        "            sentences = evidences['sentences']\n",
        "            sentences_text = self.get_sentences_text(doc_id, sentences)\n",
        "            \n",
        "            q = [self.get_query_text(claim, sentences_text)]\n",
        "            input_ids, attention_mask = self._tokenize(q)\n",
        "            \n",
        "            num_ex = input_ids.shape[0]\n",
        "            decoder_input_ids = torch.zeros([num_ex], dtype=int).reshape(-1,1)\n",
        "\n",
        "            logits = self.t5model(\n",
        "                input_ids=input_ids.to(device),\n",
        "                attention_mask=attention_mask.to(device),\n",
        "                decoder_input_ids=decoder_input_ids.to(device)\n",
        "            ).logits\n",
        "\n",
        "            scores = logits[:,0,tokens_list]\n",
        "            scores = torch.nn.functional.log_softmax(scores, dim=1)\n",
        "            scores = scores.cpu().detach().numpy()\n",
        "\n",
        "            output['evidence'][doc_id] = {\n",
        "                'sentences': sentences,\n",
        "                'label_scores': scores\n",
        "            }\n",
        "        \n",
        "        return output\n",
        "\n",
        "\n",
        "    def __call__(self, inputs):\n",
        "        return [\n",
        "            self.transform(input)\n",
        "            for input in inputs\n",
        "        ]"
      ],
      "metadata": {
        "id": "MCP6hdENrsT8"
      },
      "execution_count": 257,
      "outputs": []
    },
    {
      "cell_type": "code",
      "source": [
        "class LabelFinal:\n",
        "    def __init__(self, weights):\n",
        "        self.w = weights\n",
        "        self.label_list = ['SUPPORT', 'CONTRADICT', 'NOINFO']\n",
        "\n",
        "    def transform(self, input):\n",
        "\n",
        "        output = {}\n",
        "        output['id'] = input['id']\n",
        "        output['claim'] = input['claim']\n",
        "        output['evidence'] = {}\n",
        "        output['noinfo_evidence'] = {}\n",
        "\n",
        "        for doc_id, evidence in input['evidence'].items():\n",
        "            scores = copy.deepcopy(evidence['label_scores'].ravel())\n",
        "\n",
        "            for i in range(len(scores)):\n",
        "                scores[i] = scores[i] + self.w[i]\n",
        "\n",
        "            pred_id = np.argmax(scores)\n",
        "            pred = self.label_list[pred_id]\n",
        "            \n",
        "            if pred == 'NOINFO':\n",
        "                evidence_output_name = \"noinfo_evidence\"\n",
        "            else:\n",
        "                evidence_output_name = \"evidence\"\n",
        "\n",
        "            output[evidence_output_name][doc_id] = {\n",
        "                'sentences': evidence['sentences'],\n",
        "                'label': pred,\n",
        "                'label_softmax': scipy.special.softmax(scores)\n",
        "            }\n",
        "\n",
        "        return output\n",
        "\n",
        "    def __call__(self, inputs):\n",
        "        return [\n",
        "            self.transform(input)\n",
        "            for input in inputs\n",
        "        ]"
      ],
      "metadata": {
        "id": "cToVBi6K3lq1"
      },
      "execution_count": 477,
      "outputs": []
    },
    {
      "cell_type": "code",
      "source": [
        "step_label_classification = StepLabelClassification(\n",
        "    t5_label_prediction,\n",
        "    tokenizer,\n",
        "    max_source_length, \n",
        "    token_map_step_label\n",
        ")"
      ],
      "metadata": {
        "id": "uYjsC6gUPeYZ"
      },
      "execution_count": 258,
      "outputs": []
    },
    {
      "cell_type": "code",
      "source": [
        "step_label_classification(ex_output_sentence_selec)"
      ],
      "metadata": {
        "id": "9MdSKXdQEoyX",
        "colab": {
          "base_uri": "https://localhost:8080/"
        },
        "outputId": "ccc7e7b6-a9b9-4b2d-aa5f-8ff6b3f23bfa"
      },
      "execution_count": 259,
      "outputs": [
        {
          "output_type": "execute_result",
          "data": {
            "text/plain": [
              "[{'id': 2,\n",
              "  'claim': '1 in 5 million in UK have abnormal PrP positivity.',\n",
              "  'evidence': {'13734012': {'sentences': [4], 'label': 'CONTRADICT'}}}]"
            ]
          },
          "metadata": {},
          "execution_count": 259
        }
      ]
    },
    {
      "cell_type": "code",
      "source": [
        "token_map_step_label"
      ],
      "metadata": {
        "colab": {
          "base_uri": "https://localhost:8080/"
        },
        "id": "VKK4US_Vru_9",
        "outputId": "fa02d399-b9b5-4e80-bdc4-1dae380b8086"
      },
      "execution_count": 260,
      "outputs": [
        {
          "output_type": "execute_result",
          "data": {
            "text/plain": [
              "{1176: 'SUPPORT', 6136: 'CONTRADICT', 5676: 'NOINFO'}"
            ]
          },
          "metadata": {},
          "execution_count": 260
        }
      ]
    },
    {
      "cell_type": "code",
      "source": [
        "step_label_classification_02 = StepLabelClassification02(\n",
        "    t5_label_prediction,\n",
        "    tokenizer,\n",
        "    max_source_length, \n",
        "    token_map_step_label\n",
        ")"
      ],
      "metadata": {
        "id": "RJm8a9YLS6aq"
      },
      "execution_count": 261,
      "outputs": []
    },
    {
      "cell_type": "code",
      "source": [
        "step_label_classification_02(ex_output_sentence_selec)"
      ],
      "metadata": {
        "colab": {
          "base_uri": "https://localhost:8080/"
        },
        "id": "ysjAIrBpq7n8",
        "outputId": "90a5307b-09aa-4892-c0c2-d705010f0870"
      },
      "execution_count": 262,
      "outputs": [
        {
          "output_type": "execute_result",
          "data": {
            "text/plain": [
              "[{'id': 2,\n",
              "  'claim': '1 in 5 million in UK have abnormal PrP positivity.',\n",
              "  'evidence': {'13734012': {'sentences': [4],\n",
              "    'label_scores': array([[-2.1829815 , -0.17148027, -3.1038055 ]], dtype=float32)}}}]"
            ]
          },
          "metadata": {},
          "execution_count": 262
        }
      ]
    },
    {
      "cell_type": "markdown",
      "source": [
        "### Run full pipeline"
      ],
      "metadata": {
        "id": "aRCca6dRjJxq"
      }
    },
    {
      "cell_type": "code",
      "source": [
        "# break"
      ],
      "metadata": {
        "id": "yvGDyOZcuuEr"
      },
      "execution_count": 263,
      "outputs": []
    },
    {
      "cell_type": "markdown",
      "source": [
        "#### Fine-tune sentence selection"
      ],
      "metadata": {
        "id": "ica70Hxt6TQV"
      }
    },
    {
      "cell_type": "code",
      "source": [
        "first_half_pipeline = toolz.compose(\n",
        "  StepSentenceSelectionScoring(t5_sentence),\n",
        "  StepAbstractRetrieval(ranker=Reranker(Ranker(searcher, k=20), t5_reranking, k=3))\n",
        ")"
      ],
      "metadata": {
        "id": "Wf6pOVdiw6f9"
      },
      "execution_count": 264,
      "outputs": []
    },
    {
      "cell_type": "code",
      "source": [
        "first_half_oracle = toolz.compose(\n",
        "  StepSentenceSelectionScoring(t5_sentence),\n",
        "  StepAbstractRetrieval(oracle=True)\n",
        ")\n",
        "\n",
        "second_half_pipeline = toolz.compose(\n",
        "  step_label_classification,\n",
        "  StepSentenceSelectionThresholding(-0.06)\n",
        ")"
      ],
      "metadata": {
        "id": "A0_aTyAHjNOZ"
      },
      "execution_count": 265,
      "outputs": []
    },
    {
      "cell_type": "code",
      "source": [
        "claims_train_input = [\n",
        "    {'id': d['id'], 'claim': d['claim']} for d in scifact_all['claims_train']\n",
        "]\n",
        "\n",
        "claims_dev_input = [\n",
        "    {'id': d['id'], 'claim': d['claim']} for d in scifact_all['claims_dev']\n",
        "]"
      ],
      "metadata": {
        "id": "8DG8k0fBkJo5"
      },
      "execution_count": 266,
      "outputs": []
    },
    {
      "cell_type": "code",
      "source": [
        "first_half_dev = first_half_pipeline(scifact_all['claims_dev'])"
      ],
      "metadata": {
        "id": "GIQubJE46VRE"
      },
      "execution_count": 267,
      "outputs": []
    },
    {
      "cell_type": "code",
      "source": [
        "scifact_all['claims_dev'][2:5]"
      ],
      "metadata": {
        "id": "ZZ64n4mk6fML",
        "colab": {
          "base_uri": "https://localhost:8080/"
        },
        "outputId": "ff713271-ed49-4813-f1b0-c4b8b62abf08"
      },
      "execution_count": 268,
      "outputs": [
        {
          "output_type": "execute_result",
          "data": {
            "text/plain": [
              "[{'id': 5,\n",
              "  'claim': '1/2000 in UK have abnormal PrP positivity.',\n",
              "  'evidence': {'13734012': [{'sentences': [4], 'label': 'SUPPORT'}]},\n",
              "  'cited_doc_ids': [13734012]},\n",
              " {'id': 13,\n",
              "  'claim': '5% of perinatal mortality is due to low birth weight.',\n",
              "  'evidence': {},\n",
              "  'cited_doc_ids': [1606628]},\n",
              " {'id': 36,\n",
              "  'claim': 'A deficiency of vitamin B12 increases blood levels of homocysteine.',\n",
              "  'evidence': {},\n",
              "  'cited_doc_ids': [5152028, 11705328]}]"
            ]
          },
          "metadata": {},
          "execution_count": 268
        }
      ]
    },
    {
      "cell_type": "code",
      "source": [
        "len(first_half_dev)"
      ],
      "metadata": {
        "id": "92U6nL1E6ZlZ",
        "colab": {
          "base_uri": "https://localhost:8080/"
        },
        "outputId": "f6d7048a-7663-472a-ff8b-29325b3508dd"
      },
      "execution_count": 269,
      "outputs": [
        {
          "output_type": "execute_result",
          "data": {
            "text/plain": [
              "300"
            ]
          },
          "metadata": {},
          "execution_count": 269
        }
      ]
    },
    {
      "cell_type": "code",
      "source": [
        "def agg_confusion(df):\n",
        "    return df.groupby(['is_gold', 'is_pred']).size().unstack(1)\n",
        "\n",
        "def f1_q(df):\n",
        "    tp = df['is_gold'] & df['is_pred']\n",
        "    fp = (~df['is_gold']) & df['is_pred']\n",
        "    fn = df['is_gold'] & (~df['is_pred'])\n",
        "\n",
        "    tp = tp.sum()\n",
        "    fp = fp.sum()\n",
        "    fn = fn.sum()\n",
        "\n",
        "    prec = tp / (tp + fp)\n",
        "    recall = tp / (tp + fn)\n",
        "    f1 = 2 * (prec * recall) / (prec + recall)\n",
        "    return prec, recall, f1"
      ],
      "metadata": {
        "id": "K1rVrLf-XHOk"
      },
      "execution_count": 270,
      "outputs": []
    },
    {
      "cell_type": "code",
      "source": [
        "first_half_dev[1]"
      ],
      "metadata": {
        "id": "GqgCDjWca2-s",
        "colab": {
          "base_uri": "https://localhost:8080/"
        },
        "outputId": "6957bd9a-1e16-4eaf-a672-318eb6d7611e"
      },
      "execution_count": 325,
      "outputs": [
        {
          "output_type": "execute_result",
          "data": {
            "text/plain": [
              "{'id': 3,\n",
              " 'claim': '1,000 genomes project enables mapping of genetic sequence variation consisting of rare variants with larger penetrance effects than common variants.',\n",
              " 'evidence': {'14717500': {'sentences': {0: -4.103703498840332,\n",
              "    1: -4.84822416305542,\n",
              "    2: -2.9818620681762695,\n",
              "    3: -6.231766223907471,\n",
              "    4: -4.788154602050781,\n",
              "    5: -4.7479448318481445,\n",
              "    6: -2.8253183364868164,\n",
              "    7: -3.225734233856201}},\n",
              "  '4378885': {'sentences': {0: -6.4671311378479,\n",
              "    1: -5.611166477203369,\n",
              "    2: -5.9701714515686035,\n",
              "    3: -3.407482385635376,\n",
              "    4: -3.3068594932556152,\n",
              "    5: -4.690845489501953,\n",
              "    6: -4.090459823608398}},\n",
              "  '2739854': {'sentences': {0: -5.215965270996094,\n",
              "    1: -2.2738897800445557,\n",
              "    2: -6.793994426727295}}}}"
            ]
          },
          "metadata": {},
          "execution_count": 325
        }
      ]
    },
    {
      "cell_type": "code",
      "source": [
        "np.log(0.50), np.log(0.80), np.log(0.94), np.log(0.99)"
      ],
      "metadata": {
        "id": "T1HJoE4Pbt6P",
        "colab": {
          "base_uri": "https://localhost:8080/"
        },
        "outputId": "739122b8-0f15-4de2-a871-d3fe1d05ebcb"
      },
      "execution_count": 272,
      "outputs": [
        {
          "output_type": "execute_result",
          "data": {
            "text/plain": [
              "(-0.6931471805599453,\n",
              " -0.22314355131420968,\n",
              " -0.06187540371808753,\n",
              " -0.01005033585350145)"
            ]
          },
          "metadata": {},
          "execution_count": 272
        }
      ]
    },
    {
      "cell_type": "code",
      "source": [
        "th_selection = StepSentenceSelectionThresholding(-1)(first_half_dev)"
      ],
      "metadata": {
        "id": "N9vffgaw83TU"
      },
      "execution_count": 295,
      "outputs": []
    },
    {
      "cell_type": "code",
      "source": [
        "for d in th_selection:\n",
        "    for d2 in d['evidence'].values():\n",
        "        if 'sentences' in d2.keys():\n",
        "            d2['label'] = 'NOINFO'"
      ],
      "metadata": {
        "id": "lckyK4-q-QB_"
      },
      "execution_count": 296,
      "outputs": []
    },
    {
      "cell_type": "code",
      "source": [
        "agg_confusion(eval_abstracts(scifact_all['claims_dev'], th_selection))"
      ],
      "metadata": {
        "id": "J72x7vm2AWE4",
        "colab": {
          "base_uri": "https://localhost:8080/",
          "height": 143
        },
        "outputId": "59007405-a0b7-40dc-e5f7-d44172f4ad6c"
      },
      "execution_count": 506,
      "outputs": [
        {
          "output_type": "execute_result",
          "data": {
            "text/plain": [
              "is_pred  False   True\n",
              "is_gold              \n",
              "False      NaN  188.0\n",
              "True      52.0  157.0"
            ],
            "text/html": [
              "\n",
              "  <div id=\"df-d673ff06-5a93-43d5-a66d-6e823d8faa0f\">\n",
              "    <div class=\"colab-df-container\">\n",
              "      <div>\n",
              "<style scoped>\n",
              "    .dataframe tbody tr th:only-of-type {\n",
              "        vertical-align: middle;\n",
              "    }\n",
              "\n",
              "    .dataframe tbody tr th {\n",
              "        vertical-align: top;\n",
              "    }\n",
              "\n",
              "    .dataframe thead th {\n",
              "        text-align: right;\n",
              "    }\n",
              "</style>\n",
              "<table border=\"1\" class=\"dataframe\">\n",
              "  <thead>\n",
              "    <tr style=\"text-align: right;\">\n",
              "      <th>is_pred</th>\n",
              "      <th>False</th>\n",
              "      <th>True</th>\n",
              "    </tr>\n",
              "    <tr>\n",
              "      <th>is_gold</th>\n",
              "      <th></th>\n",
              "      <th></th>\n",
              "    </tr>\n",
              "  </thead>\n",
              "  <tbody>\n",
              "    <tr>\n",
              "      <th>False</th>\n",
              "      <td>NaN</td>\n",
              "      <td>188.0</td>\n",
              "    </tr>\n",
              "    <tr>\n",
              "      <th>True</th>\n",
              "      <td>52.0</td>\n",
              "      <td>157.0</td>\n",
              "    </tr>\n",
              "  </tbody>\n",
              "</table>\n",
              "</div>\n",
              "      <button class=\"colab-df-convert\" onclick=\"convertToInteractive('df-d673ff06-5a93-43d5-a66d-6e823d8faa0f')\"\n",
              "              title=\"Convert this dataframe to an interactive table.\"\n",
              "              style=\"display:none;\">\n",
              "        \n",
              "  <svg xmlns=\"http://www.w3.org/2000/svg\" height=\"24px\"viewBox=\"0 0 24 24\"\n",
              "       width=\"24px\">\n",
              "    <path d=\"M0 0h24v24H0V0z\" fill=\"none\"/>\n",
              "    <path d=\"M18.56 5.44l.94 2.06.94-2.06 2.06-.94-2.06-.94-.94-2.06-.94 2.06-2.06.94zm-11 1L8.5 8.5l.94-2.06 2.06-.94-2.06-.94L8.5 2.5l-.94 2.06-2.06.94zm10 10l.94 2.06.94-2.06 2.06-.94-2.06-.94-.94-2.06-.94 2.06-2.06.94z\"/><path d=\"M17.41 7.96l-1.37-1.37c-.4-.4-.92-.59-1.43-.59-.52 0-1.04.2-1.43.59L10.3 9.45l-7.72 7.72c-.78.78-.78 2.05 0 2.83L4 21.41c.39.39.9.59 1.41.59.51 0 1.02-.2 1.41-.59l7.78-7.78 2.81-2.81c.8-.78.8-2.07 0-2.86zM5.41 20L4 18.59l7.72-7.72 1.47 1.35L5.41 20z\"/>\n",
              "  </svg>\n",
              "      </button>\n",
              "      \n",
              "  <style>\n",
              "    .colab-df-container {\n",
              "      display:flex;\n",
              "      flex-wrap:wrap;\n",
              "      gap: 12px;\n",
              "    }\n",
              "\n",
              "    .colab-df-convert {\n",
              "      background-color: #E8F0FE;\n",
              "      border: none;\n",
              "      border-radius: 50%;\n",
              "      cursor: pointer;\n",
              "      display: none;\n",
              "      fill: #1967D2;\n",
              "      height: 32px;\n",
              "      padding: 0 0 0 0;\n",
              "      width: 32px;\n",
              "    }\n",
              "\n",
              "    .colab-df-convert:hover {\n",
              "      background-color: #E2EBFA;\n",
              "      box-shadow: 0px 1px 2px rgba(60, 64, 67, 0.3), 0px 1px 3px 1px rgba(60, 64, 67, 0.15);\n",
              "      fill: #174EA6;\n",
              "    }\n",
              "\n",
              "    [theme=dark] .colab-df-convert {\n",
              "      background-color: #3B4455;\n",
              "      fill: #D2E3FC;\n",
              "    }\n",
              "\n",
              "    [theme=dark] .colab-df-convert:hover {\n",
              "      background-color: #434B5C;\n",
              "      box-shadow: 0px 1px 3px 1px rgba(0, 0, 0, 0.15);\n",
              "      filter: drop-shadow(0px 1px 2px rgba(0, 0, 0, 0.3));\n",
              "      fill: #FFFFFF;\n",
              "    }\n",
              "  </style>\n",
              "\n",
              "      <script>\n",
              "        const buttonEl =\n",
              "          document.querySelector('#df-d673ff06-5a93-43d5-a66d-6e823d8faa0f button.colab-df-convert');\n",
              "        buttonEl.style.display =\n",
              "          google.colab.kernel.accessAllowed ? 'block' : 'none';\n",
              "\n",
              "        async function convertToInteractive(key) {\n",
              "          const element = document.querySelector('#df-d673ff06-5a93-43d5-a66d-6e823d8faa0f');\n",
              "          const dataTable =\n",
              "            await google.colab.kernel.invokeFunction('convertToInteractive',\n",
              "                                                     [key], {});\n",
              "          if (!dataTable) return;\n",
              "\n",
              "          const docLinkHtml = 'Like what you see? Visit the ' +\n",
              "            '<a target=\"_blank\" href=https://colab.research.google.com/notebooks/data_table.ipynb>data table notebook</a>'\n",
              "            + ' to learn more about interactive tables.';\n",
              "          element.innerHTML = '';\n",
              "          dataTable['output_type'] = 'display_data';\n",
              "          await google.colab.output.renderOutput(dataTable, element);\n",
              "          const docLink = document.createElement('div');\n",
              "          docLink.innerHTML = docLinkHtml;\n",
              "          element.appendChild(docLink);\n",
              "        }\n",
              "      </script>\n",
              "    </div>\n",
              "  </div>\n",
              "  "
            ]
          },
          "metadata": {},
          "execution_count": 506
        }
      ]
    },
    {
      "cell_type": "code",
      "source": [
        "f1_q(eval_abstracts(scifact_all['claims_dev'], th_selection))"
      ],
      "metadata": {
        "id": "pkfADdM-V8Rf",
        "colab": {
          "base_uri": "https://localhost:8080/"
        },
        "outputId": "fc67ee72-b99a-4066-fde3-61b5343637c0"
      },
      "execution_count": 298,
      "outputs": [
        {
          "output_type": "execute_result",
          "data": {
            "text/plain": [
              "(0.45507246376811594, 0.7511961722488039, 0.5667870036101084)"
            ]
          },
          "metadata": {},
          "execution_count": 298
        }
      ]
    },
    {
      "cell_type": "code",
      "source": [
        "agg_confusion(eval_sentences(scifact_all['claims_dev'], th_selection))"
      ],
      "metadata": {
        "id": "KWSklRUAAf8y",
        "colab": {
          "base_uri": "https://localhost:8080/",
          "height": 143
        },
        "outputId": "e0dbf6cb-7744-47db-a89b-c0c3466ca95b"
      },
      "execution_count": 299,
      "outputs": [
        {
          "output_type": "execute_result",
          "data": {
            "text/plain": [
              "is_pred  False   True\n",
              "is_gold              \n",
              "False      NaN  567.0\n",
              "True     131.0  235.0"
            ],
            "text/html": [
              "\n",
              "  <div id=\"df-a89a9eba-0747-4bb7-b636-39d7c8517bb4\">\n",
              "    <div class=\"colab-df-container\">\n",
              "      <div>\n",
              "<style scoped>\n",
              "    .dataframe tbody tr th:only-of-type {\n",
              "        vertical-align: middle;\n",
              "    }\n",
              "\n",
              "    .dataframe tbody tr th {\n",
              "        vertical-align: top;\n",
              "    }\n",
              "\n",
              "    .dataframe thead th {\n",
              "        text-align: right;\n",
              "    }\n",
              "</style>\n",
              "<table border=\"1\" class=\"dataframe\">\n",
              "  <thead>\n",
              "    <tr style=\"text-align: right;\">\n",
              "      <th>is_pred</th>\n",
              "      <th>False</th>\n",
              "      <th>True</th>\n",
              "    </tr>\n",
              "    <tr>\n",
              "      <th>is_gold</th>\n",
              "      <th></th>\n",
              "      <th></th>\n",
              "    </tr>\n",
              "  </thead>\n",
              "  <tbody>\n",
              "    <tr>\n",
              "      <th>False</th>\n",
              "      <td>NaN</td>\n",
              "      <td>567.0</td>\n",
              "    </tr>\n",
              "    <tr>\n",
              "      <th>True</th>\n",
              "      <td>131.0</td>\n",
              "      <td>235.0</td>\n",
              "    </tr>\n",
              "  </tbody>\n",
              "</table>\n",
              "</div>\n",
              "      <button class=\"colab-df-convert\" onclick=\"convertToInteractive('df-a89a9eba-0747-4bb7-b636-39d7c8517bb4')\"\n",
              "              title=\"Convert this dataframe to an interactive table.\"\n",
              "              style=\"display:none;\">\n",
              "        \n",
              "  <svg xmlns=\"http://www.w3.org/2000/svg\" height=\"24px\"viewBox=\"0 0 24 24\"\n",
              "       width=\"24px\">\n",
              "    <path d=\"M0 0h24v24H0V0z\" fill=\"none\"/>\n",
              "    <path d=\"M18.56 5.44l.94 2.06.94-2.06 2.06-.94-2.06-.94-.94-2.06-.94 2.06-2.06.94zm-11 1L8.5 8.5l.94-2.06 2.06-.94-2.06-.94L8.5 2.5l-.94 2.06-2.06.94zm10 10l.94 2.06.94-2.06 2.06-.94-2.06-.94-.94-2.06-.94 2.06-2.06.94z\"/><path d=\"M17.41 7.96l-1.37-1.37c-.4-.4-.92-.59-1.43-.59-.52 0-1.04.2-1.43.59L10.3 9.45l-7.72 7.72c-.78.78-.78 2.05 0 2.83L4 21.41c.39.39.9.59 1.41.59.51 0 1.02-.2 1.41-.59l7.78-7.78 2.81-2.81c.8-.78.8-2.07 0-2.86zM5.41 20L4 18.59l7.72-7.72 1.47 1.35L5.41 20z\"/>\n",
              "  </svg>\n",
              "      </button>\n",
              "      \n",
              "  <style>\n",
              "    .colab-df-container {\n",
              "      display:flex;\n",
              "      flex-wrap:wrap;\n",
              "      gap: 12px;\n",
              "    }\n",
              "\n",
              "    .colab-df-convert {\n",
              "      background-color: #E8F0FE;\n",
              "      border: none;\n",
              "      border-radius: 50%;\n",
              "      cursor: pointer;\n",
              "      display: none;\n",
              "      fill: #1967D2;\n",
              "      height: 32px;\n",
              "      padding: 0 0 0 0;\n",
              "      width: 32px;\n",
              "    }\n",
              "\n",
              "    .colab-df-convert:hover {\n",
              "      background-color: #E2EBFA;\n",
              "      box-shadow: 0px 1px 2px rgba(60, 64, 67, 0.3), 0px 1px 3px 1px rgba(60, 64, 67, 0.15);\n",
              "      fill: #174EA6;\n",
              "    }\n",
              "\n",
              "    [theme=dark] .colab-df-convert {\n",
              "      background-color: #3B4455;\n",
              "      fill: #D2E3FC;\n",
              "    }\n",
              "\n",
              "    [theme=dark] .colab-df-convert:hover {\n",
              "      background-color: #434B5C;\n",
              "      box-shadow: 0px 1px 3px 1px rgba(0, 0, 0, 0.15);\n",
              "      filter: drop-shadow(0px 1px 2px rgba(0, 0, 0, 0.3));\n",
              "      fill: #FFFFFF;\n",
              "    }\n",
              "  </style>\n",
              "\n",
              "      <script>\n",
              "        const buttonEl =\n",
              "          document.querySelector('#df-a89a9eba-0747-4bb7-b636-39d7c8517bb4 button.colab-df-convert');\n",
              "        buttonEl.style.display =\n",
              "          google.colab.kernel.accessAllowed ? 'block' : 'none';\n",
              "\n",
              "        async function convertToInteractive(key) {\n",
              "          const element = document.querySelector('#df-a89a9eba-0747-4bb7-b636-39d7c8517bb4');\n",
              "          const dataTable =\n",
              "            await google.colab.kernel.invokeFunction('convertToInteractive',\n",
              "                                                     [key], {});\n",
              "          if (!dataTable) return;\n",
              "\n",
              "          const docLinkHtml = 'Like what you see? Visit the ' +\n",
              "            '<a target=\"_blank\" href=https://colab.research.google.com/notebooks/data_table.ipynb>data table notebook</a>'\n",
              "            + ' to learn more about interactive tables.';\n",
              "          element.innerHTML = '';\n",
              "          dataTable['output_type'] = 'display_data';\n",
              "          await google.colab.output.renderOutput(dataTable, element);\n",
              "          const docLink = document.createElement('div');\n",
              "          docLink.innerHTML = docLinkHtml;\n",
              "          element.appendChild(docLink);\n",
              "        }\n",
              "      </script>\n",
              "    </div>\n",
              "  </div>\n",
              "  "
            ]
          },
          "metadata": {},
          "execution_count": 299
        }
      ]
    },
    {
      "cell_type": "code",
      "source": [
        "f1_q(eval_sentences(scifact_all['claims_dev'], th_selection))"
      ],
      "metadata": {
        "id": "4Y0jKgVOW4W5",
        "colab": {
          "base_uri": "https://localhost:8080/"
        },
        "outputId": "736f2375-3eba-40ee-9b54-c7ba90b7b8b4"
      },
      "execution_count": 300,
      "outputs": [
        {
          "output_type": "execute_result",
          "data": {
            "text/plain": [
              "(0.29301745635910226, 0.6420765027322405, 0.4023972602739726)"
            ]
          },
          "metadata": {},
          "execution_count": 300
        }
      ]
    },
    {
      "cell_type": "markdown",
      "source": [
        "#### Last step"
      ],
      "metadata": {
        "id": "HuJnGKaP6QCR"
      }
    },
    {
      "cell_type": "code",
      "source": [
        "scenarios = [\n",
        "    -0.1,\n",
        "    -0.25,\n",
        "    -1\n",
        "]"
      ],
      "metadata": {
        "id": "rZ65Z8sQmghT"
      },
      "execution_count": 352,
      "outputs": []
    },
    {
      "cell_type": "code",
      "source": [
        "full_pred_0 = step_label_classification(StepSentenceSelectionThresholding(scenarios[0])(first_half_dev))"
      ],
      "metadata": {
        "id": "yjKdyLVnfX2r"
      },
      "execution_count": 302,
      "outputs": []
    },
    {
      "cell_type": "code",
      "source": [
        "abstract_metrics(scifact_all['claims_dev'], full_pred_0)"
      ],
      "metadata": {
        "id": "orW98dG9fZrm",
        "colab": {
          "base_uri": "https://localhost:8080/"
        },
        "outputId": "f74a41c8-f19e-4370-d23f-4aa51bb6db20"
      },
      "execution_count": 303,
      "outputs": [
        {
          "output_type": "execute_result",
          "data": {
            "text/plain": [
              "{'label__precision': 0.23333333333333334,\n",
              " 'label__recall': 0.06698564593301436,\n",
              " 'label__f1': 0.10408921933085502,\n",
              " 'label_rationale__precision': 0.18333333333333332,\n",
              " 'label_rationale__recall': 0.05263157894736842,\n",
              " 'label_rationale__f1': 0.08178438661710037}"
            ]
          },
          "metadata": {},
          "execution_count": 303
        }
      ]
    },
    {
      "cell_type": "code",
      "source": [
        "sentences_metrics(scifact_all['claims_dev'], full_pred_0)"
      ],
      "metadata": {
        "id": "aoZYmQw9fZRE",
        "colab": {
          "base_uri": "https://localhost:8080/"
        },
        "outputId": "7d197721-86e2-4ceb-f152-c1ba164b3218"
      },
      "execution_count": 304,
      "outputs": [
        {
          "output_type": "execute_result",
          "data": {
            "text/plain": [
              "{'select__precision': 0.6382978723404256,\n",
              " 'select__recall': 0.16393442622950818,\n",
              " 'select__f1': 0.2608695652173913,\n",
              " 'select_label__precision': 0.1702127659574468,\n",
              " 'select_label__recall': 0.04371584699453552,\n",
              " 'select_label__f1': 0.06956521739130435}"
            ]
          },
          "metadata": {},
          "execution_count": 304
        }
      ]
    },
    {
      "cell_type": "code",
      "source": [
        "full_pred_1 = step_label_classification(StepSentenceSelectionThresholding(scenarios[1])(first_half_dev))"
      ],
      "metadata": {
        "id": "7fNDs5z-YzPb"
      },
      "execution_count": 305,
      "outputs": []
    },
    {
      "cell_type": "code",
      "source": [
        "abstract_metrics(scifact_all['claims_dev'], full_pred_1)"
      ],
      "metadata": {
        "id": "AhxZfdXHllhZ",
        "colab": {
          "base_uri": "https://localhost:8080/"
        },
        "outputId": "3c32af2c-cb5d-4cf6-eb98-622c238bad5f"
      },
      "execution_count": 306,
      "outputs": [
        {
          "output_type": "execute_result",
          "data": {
            "text/plain": [
              "{'label__precision': 0.1773049645390071,\n",
              " 'label__recall': 0.11961722488038277,\n",
              " 'label__f1': 0.14285714285714285,\n",
              " 'label_rationale__precision': 0.14893617021276595,\n",
              " 'label_rationale__recall': 0.10047846889952153,\n",
              " 'label_rationale__f1': 0.12}"
            ]
          },
          "metadata": {},
          "execution_count": 306
        }
      ]
    },
    {
      "cell_type": "code",
      "source": [
        "sentences_metrics(scifact_all['claims_dev'], full_pred_1)"
      ],
      "metadata": {
        "id": "Buln7QYvmQzk",
        "colab": {
          "base_uri": "https://localhost:8080/"
        },
        "outputId": "b75756c9-b847-4051-fc72-74e947e8940b"
      },
      "execution_count": 307,
      "outputs": [
        {
          "output_type": "execute_result",
          "data": {
            "text/plain": [
              "{'select__precision': 0.5169491525423728,\n",
              " 'select__recall': 0.3333333333333333,\n",
              " 'select__f1': 0.4053156146179402,\n",
              " 'select_label__precision': 0.13983050847457626,\n",
              " 'select_label__recall': 0.09016393442622951,\n",
              " 'select_label__f1': 0.1096345514950166}"
            ]
          },
          "metadata": {},
          "execution_count": 307
        }
      ]
    },
    {
      "cell_type": "code",
      "source": [
        "full_pred_2 = step_label_classification(StepSentenceSelectionThresholding(scenarios[2])(first_half_dev))"
      ],
      "metadata": {
        "id": "WZhOvPj1Z11I"
      },
      "execution_count": 353,
      "outputs": []
    },
    {
      "cell_type": "code",
      "source": [
        "abstract_metrics(scifact_all['claims_dev'], full_pred_2)"
      ],
      "metadata": {
        "id": "HkRQhrYPY2X5",
        "colab": {
          "base_uri": "https://localhost:8080/"
        },
        "outputId": "afd25851-0007-4337-8176-8b5bcd6a125a"
      },
      "execution_count": 354,
      "outputs": [
        {
          "output_type": "execute_result",
          "data": {
            "text/plain": [
              "{'label__precision': 0.13851351351351351,\n",
              " 'label__recall': 0.19617224880382775,\n",
              " 'label__f1': 0.16237623762376235,\n",
              " 'label_rationale__precision': 0.10810810810810811,\n",
              " 'label_rationale__recall': 0.15311004784688995,\n",
              " 'label_rationale__f1': 0.12673267326732673}"
            ]
          },
          "metadata": {},
          "execution_count": 354
        }
      ]
    },
    {
      "cell_type": "code",
      "source": [
        "sentences_metrics(scifact_all['claims_dev'], full_pred_2)"
      ],
      "metadata": {
        "id": "1b0CiZ94Z47v",
        "colab": {
          "base_uri": "https://localhost:8080/"
        },
        "outputId": "bfdcb689-958f-46ef-b66f-e3bd6818b228"
      },
      "execution_count": 355,
      "outputs": [
        {
          "output_type": "execute_result",
          "data": {
            "text/plain": [
              "{'select__precision': 0.28924418604651164,\n",
              " 'select__recall': 0.5437158469945356,\n",
              " 'select__f1': 0.37760910815939286,\n",
              " 'select_label__precision': 0.09302325581395349,\n",
              " 'select_label__recall': 0.17486338797814208,\n",
              " 'select_label__f1': 0.12144212523719165}"
            ]
          },
          "metadata": {},
          "execution_count": 355
        }
      ]
    },
    {
      "cell_type": "markdown",
      "source": [
        "### Full pipeline, second try"
      ],
      "metadata": {
        "id": "lJVARygU3np9"
      }
    },
    {
      "cell_type": "markdown",
      "source": [
        "#### Apply abstract retrieval"
      ],
      "metadata": {
        "id": "Ldme1piB4za9"
      }
    },
    {
      "cell_type": "code",
      "source": [
        "abstract_retrieval = toolz.compose(\n",
        "  StepSentenceSelectionScoring(t5_sentence),\n",
        "  StepAbstractRetrieval(ranker=Reranker(Ranker(searcher, k=20), t5_reranking, k=3)),\n",
        ")\n",
        "\n",
        "abstract_retrieval_oracle = toolz.compose(\n",
        "  StepSentenceSelectionScoring(t5_sentence),\n",
        "  StepAbstractRetrieval(oracle=True)\n",
        ")"
      ],
      "metadata": {
        "id": "lVHKhbEL6O4t"
      },
      "execution_count": 494,
      "outputs": []
    },
    {
      "cell_type": "code",
      "source": [
        "dev_abstract_retrieval = abstract_retrieval(scifact_all['claims_dev'])"
      ],
      "metadata": {
        "colab": {
          "base_uri": "https://localhost:8080/"
        },
        "id": "h2Br_PIw4pw7",
        "outputId": "180df6ce-a322-4490-9d64-1ea9674cf662"
      },
      "execution_count": 480,
      "outputs": [
        {
          "output_type": "stream",
          "name": "stderr",
          "text": [
            "/usr/local/lib/python3.7/dist-packages/transformers/models/t5/tokenization_t5.py:220: UserWarning: This sequence already has </s>. In future versions this behavior may lead to duplicated eos tokens being added.\n",
            "  f\"This sequence already has {self.eos_token}. In future versions this behavior may lead to duplicated\"\n"
          ]
        }
      ]
    },
    {
      "cell_type": "code",
      "source": [
        "dev_abstract_retrieval_oracle = abstract_retrieval_oracle(scifact_all['claims_dev'])"
      ],
      "metadata": {
        "colab": {
          "base_uri": "https://localhost:8080/"
        },
        "id": "JcXBqY8x45DO",
        "outputId": "8cd804dc-c768-4687-c313-604c81806342"
      },
      "execution_count": 481,
      "outputs": [
        {
          "output_type": "stream",
          "name": "stderr",
          "text": [
            "/usr/local/lib/python3.7/dist-packages/transformers/models/t5/tokenization_t5.py:220: UserWarning: This sequence already has </s>. In future versions this behavior may lead to duplicated eos tokens being added.\n",
            "  f\"This sequence already has {self.eos_token}. In future versions this behavior may lead to duplicated\"\n"
          ]
        }
      ]
    },
    {
      "cell_type": "markdown",
      "source": [
        "#### Apply sentence selection and label"
      ],
      "metadata": {
        "id": "-OJykWPP4_ky"
      }
    },
    {
      "cell_type": "code",
      "source": [
        "# -1.0\n",
        "# 0, -4, 0"
      ],
      "metadata": {
        "id": "uSxdeQKtB579"
      },
      "execution_count": 1289,
      "outputs": []
    },
    {
      "cell_type": "code",
      "source": [
        "label_scoring_pipeline = toolz.compose(\n",
        "    step_label_classification_02,\n",
        "    StepSentenceSelectionThresholding(-0.4)\n",
        ")"
      ],
      "metadata": {
        "id": "NxHB1RTv6JSD"
      },
      "execution_count": 1290,
      "outputs": []
    },
    {
      "cell_type": "code",
      "source": [
        "dev_pred_scoring = label_scoring_pipeline(dev_abstract_retrieval)"
      ],
      "metadata": {
        "id": "dbZooLZe4_BY"
      },
      "execution_count": 1291,
      "outputs": []
    },
    {
      "cell_type": "code",
      "source": [
        "dev_pred_scoring_oracle = label_scoring_pipeline(dev_abstract_retrieval_oracle)"
      ],
      "metadata": {
        "id": "-SdHE-jt5Kz9"
      },
      "execution_count": 1292,
      "outputs": []
    },
    {
      "cell_type": "markdown",
      "source": [
        "#### Final labeling"
      ],
      "metadata": {
        "id": "oQcahI1a5YS8"
      }
    },
    {
      "cell_type": "code",
      "source": [
        "labels_w = [0, -2.5, -3]\n",
        "\n",
        "final_label = LabelFinal(labels_w)\n",
        "\n",
        "dev_pred_label = final_label(dev_pred_scoring)\n",
        "dev_pred_label_oracle = final_label(dev_pred_scoring_oracle)"
      ],
      "metadata": {
        "id": "WI_WIDa45XyX"
      },
      "execution_count": 1293,
      "outputs": []
    },
    {
      "cell_type": "code",
      "source": [
        "am = abstract_metrics(scifact_all['claims_dev'], dev_pred_label)\n",
        "am"
      ],
      "metadata": {
        "colab": {
          "base_uri": "https://localhost:8080/"
        },
        "id": "HgfCzzMg_hUn",
        "outputId": "2b7dde7a-2328-4a7f-d806-73313499c275"
      },
      "execution_count": 1294,
      "outputs": [
        {
          "output_type": "execute_result",
          "data": {
            "text/plain": [
              "{'label__precision': 0.37,\n",
              " 'label__recall': 0.35406698564593303,\n",
              " 'label__f1': 0.36185819070904646,\n",
              " 'label_rationale__precision': 0.305,\n",
              " 'label_rationale__recall': 0.291866028708134,\n",
              " 'label_rationale__f1': 0.29828850855745725}"
            ]
          },
          "metadata": {},
          "execution_count": 1294
        }
      ]
    },
    {
      "cell_type": "code",
      "source": [
        "sm = sentences_metrics(scifact_all['claims_dev'], dev_pred_label)\n",
        "sm"
      ],
      "metadata": {
        "colab": {
          "base_uri": "https://localhost:8080/"
        },
        "id": "GODbZl0M_l4R",
        "outputId": "b991dbc6-6da0-4a69-a82a-fdfa88d2e706"
      },
      "execution_count": 1295,
      "outputs": [
        {
          "output_type": "execute_result",
          "data": {
            "text/plain": [
              "{'select__precision': 0.42178770949720673,\n",
              " 'select__recall': 0.412568306010929,\n",
              " 'select__f1': 0.4171270718232044,\n",
              " 'select_label__precision': 0.25139664804469275,\n",
              " 'select_label__recall': 0.2459016393442623,\n",
              " 'select_label__f1': 0.24861878453038674}"
            ]
          },
          "metadata": {},
          "execution_count": 1295
        }
      ]
    },
    {
      "cell_type": "code",
      "source": [
        "t = eval_abstract_selection(scifact_all['claims_dev'], dev_pred_label)\n",
        "t['label_pred'].fillna(\"NOINFO\", inplace=True)\n",
        "t['label_gold'].fillna(\"NOINFO\", inplace=True)\n",
        "print(classification_report(t['label_gold'], t['label_pred']))"
      ],
      "metadata": {
        "colab": {
          "base_uri": "https://localhost:8080/"
        },
        "id": "Ag6wDHWgTl1U",
        "outputId": "73a00524-e7e0-42ac-f1a3-a8ac7f6bb2a4"
      },
      "execution_count": 1296,
      "outputs": [
        {
          "output_type": "stream",
          "name": "stdout",
          "text": [
            "              precision    recall  f1-score   support\n",
            "\n",
            "  CONTRADICT       0.28      0.27      0.28       122\n",
            "      NOINFO       0.00      0.00      0.00        81\n",
            "     SUPPORT       0.55      0.44      0.48       216\n",
            "\n",
            "    accuracy                           0.30       419\n",
            "   macro avg       0.28      0.24      0.25       419\n",
            "weighted avg       0.36      0.30      0.33       419\n",
            "\n"
          ]
        }
      ]
    },
    {
      "cell_type": "code",
      "source": [
        "\"\"\"\n",
        "-0.1 > 0.28874734607218683\n",
        "-0.4 > 0.4216216216216216\n",
        "-0.5 > 0.4203980099502488\n",
        "-0.7 > 0.40421052631578946\n",
        "-1.0 > 0.386986301369863\n",
        "-2.0 > 0.28329809725158567\n",
        "\"\"\""
      ],
      "metadata": {
        "colab": {
          "base_uri": "https://localhost:8080/",
          "height": 70
        },
        "id": "kxgpX9bMEffU",
        "outputId": "ea23050a-7596-471c-9135-0a0406a4e6dd"
      },
      "execution_count": 1297,
      "outputs": [
        {
          "output_type": "execute_result",
          "data": {
            "text/plain": [
              "'\\n-0.1 > 0.28874734607218683\\n-0.4 > 0.4216216216216216\\n-0.5 > 0.4203980099502488\\n-0.7 > 0.40421052631578946\\n-1.0 > 0.386986301369863\\n-2.0 > 0.28329809725158567\\n'"
            ],
            "application/vnd.google.colaboratory.intrinsic+json": {
              "type": "string"
            }
          },
          "metadata": {},
          "execution_count": 1297
        }
      ]
    },
    {
      "cell_type": "markdown",
      "source": [
        "#### Oracle"
      ],
      "metadata": {
        "id": "T6tA8SDGVF5-"
      }
    },
    {
      "cell_type": "code",
      "source": [
        "am = abstract_metrics(scifact_all['claims_dev'], dev_pred_label_oracle)\n",
        "am"
      ],
      "metadata": {
        "colab": {
          "base_uri": "https://localhost:8080/"
        },
        "id": "VJ6ER8eVVExH",
        "outputId": "43b2a65f-94c8-4b56-f8e1-b95802ceb9ba"
      },
      "execution_count": 1300,
      "outputs": [
        {
          "output_type": "execute_result",
          "data": {
            "text/plain": [
              "{'label__precision': 0.5909090909090909,\n",
              " 'label__recall': 0.37320574162679426,\n",
              " 'label__f1': 0.4574780058651026,\n",
              " 'label_rationale__precision': 0.49242424242424243,\n",
              " 'label_rationale__recall': 0.31100478468899523,\n",
              " 'label_rationale__f1': 0.38123167155425225}"
            ]
          },
          "metadata": {},
          "execution_count": 1300
        }
      ]
    },
    {
      "cell_type": "code",
      "source": [
        "sm = sentences_metrics(scifact_all['claims_dev'], dev_pred_label_oracle)\n",
        "sm"
      ],
      "metadata": {
        "colab": {
          "base_uri": "https://localhost:8080/"
        },
        "id": "AdxG3heiVOL3",
        "outputId": "343b5130-a58e-4578-8b3f-065825929f03"
      },
      "execution_count": 1301,
      "outputs": [
        {
          "output_type": "execute_result",
          "data": {
            "text/plain": [
              "{'select__precision': 0.6482213438735178,\n",
              " 'select__recall': 0.44808743169398907,\n",
              " 'select__f1': 0.529886914378029,\n",
              " 'select_label__precision': 0.3715415019762846,\n",
              " 'select_label__recall': 0.2568306010928962,\n",
              " 'select_label__f1': 0.3037156704361874}"
            ]
          },
          "metadata": {},
          "execution_count": 1301
        }
      ]
    },
    {
      "cell_type": "code",
      "source": [
        "t = eval_abstract_selection(scifact_all['claims_dev'], dev_pred_label_oracle)\n",
        "t['label_pred'].fillna(\"NOINFO\", inplace=True)\n",
        "t['label_gold'].fillna(\"NOINFO\", inplace=True)\n",
        "print(classification_report(t['label_gold'], t['label_pred']))"
      ],
      "metadata": {
        "colab": {
          "base_uri": "https://localhost:8080/"
        },
        "id": "Wb0w2u94VSK3",
        "outputId": "be12be87-406b-4daa-ec33-6c55ce41fff2"
      },
      "execution_count": 1314,
      "outputs": [
        {
          "output_type": "stream",
          "name": "stdout",
          "text": [
            "              precision    recall  f1-score   support\n",
            "\n",
            "  CONTRADICT       0.39      0.32      0.35       122\n",
            "      NOINFO       0.00      0.00      0.00         0\n",
            "     SUPPORT       0.73      0.45      0.56       216\n",
            "\n",
            "    accuracy                           0.40       338\n",
            "   macro avg       0.37      0.26      0.30       338\n",
            "weighted avg       0.61      0.40      0.48       338\n",
            "\n"
          ]
        },
        {
          "output_type": "stream",
          "name": "stderr",
          "text": [
            "/usr/local/lib/python3.7/dist-packages/sklearn/metrics/_classification.py:1318: UndefinedMetricWarning: Recall and F-score are ill-defined and being set to 0.0 in labels with no true samples. Use `zero_division` parameter to control this behavior.\n",
            "  _warn_prf(average, modifier, msg_start, len(result))\n",
            "/usr/local/lib/python3.7/dist-packages/sklearn/metrics/_classification.py:1318: UndefinedMetricWarning: Recall and F-score are ill-defined and being set to 0.0 in labels with no true samples. Use `zero_division` parameter to control this behavior.\n",
            "  _warn_prf(average, modifier, msg_start, len(result))\n",
            "/usr/local/lib/python3.7/dist-packages/sklearn/metrics/_classification.py:1318: UndefinedMetricWarning: Recall and F-score are ill-defined and being set to 0.0 in labels with no true samples. Use `zero_division` parameter to control this behavior.\n",
            "  _warn_prf(average, modifier, msg_start, len(result))\n"
          ]
        }
      ]
    },
    {
      "cell_type": "markdown",
      "source": [
        "#### Grid search params"
      ],
      "metadata": {
        "id": "RBR-m8h6ImXR"
      }
    },
    {
      "cell_type": "code",
      "source": [
        "selection_th_list = [-0.4, -1.0, -2.0]\n",
        "labels_w_list = [\n",
        "    [0,0,0],\n",
        "    [0,-2,0],\n",
        "    [0,-3,0],\n",
        "    [0,0,-1],\n",
        "    [0,0,-2],\n",
        "    [0,-2,-1],\n",
        "    [0,-3,-1],\n",
        "    [0,-2,-2],\n",
        "    [0,-3,-2],\n",
        "]\n",
        "break\n",
        "exps = []\n",
        "\n",
        "for th in selection_th_list:\n",
        "    for w in labels_w_list:\n",
        "        print(th, w)\n",
        "        \n",
        "        label_scoring_pipeline = toolz.compose(\n",
        "            step_label_classification_02,\n",
        "            StepSentenceSelectionThresholding(th))\n",
        "        \n",
        "        final_label = LabelFinal(w)\n",
        "        \n",
        "        dev_pred_scoring = label_scoring_pipeline(dev_abstract_retrieval)\n",
        "        dev_pred_label = final_label(dev_pred_scoring)\n",
        "\n",
        "        am = abstract_metrics(scifact_all['claims_dev'], dev_pred_label)\n",
        "        sm = sentences_metrics(scifact_all['claims_dev'], dev_pred_label)\n",
        "\n",
        "        exps.append({\n",
        "            'th': th,\n",
        "            'w': w,\n",
        "            'am': am,\n",
        "            'sm': sm\n",
        "            })"
      ],
      "metadata": {
        "colab": {
          "base_uri": "https://localhost:8080/"
        },
        "id": "9EhZMG7QIlJM",
        "outputId": "831ce535-48a5-4a5f-ba38-7d7d73b18663"
      },
      "execution_count": 1080,
      "outputs": [
        {
          "output_type": "stream",
          "name": "stdout",
          "text": [
            "-0.4 [0, 0, 0]\n",
            "-0.4 [0, -2, 0]\n",
            "-0.4 [0, -3, 0]\n",
            "-0.4 [0, 0, -1]\n",
            "-0.4 [0, 0, -2]\n",
            "-0.4 [0, -2, -1]\n",
            "-0.4 [0, -3, -1]\n",
            "-0.4 [0, -2, -2]\n",
            "-0.4 [0, -3, -2]\n",
            "-1.0 [0, 0, 0]\n",
            "-1.0 [0, -2, 0]\n",
            "-1.0 [0, -3, 0]\n",
            "-1.0 [0, 0, -1]\n",
            "-1.0 [0, 0, -2]\n",
            "-1.0 [0, -2, -1]\n",
            "-1.0 [0, -3, -1]\n",
            "-1.0 [0, -2, -2]\n",
            "-1.0 [0, -3, -2]\n",
            "-2.0 [0, 0, 0]\n",
            "-2.0 [0, -2, 0]\n",
            "-2.0 [0, -3, 0]\n",
            "-2.0 [0, 0, -1]\n",
            "-2.0 [0, 0, -2]\n",
            "-2.0 [0, -2, -1]\n",
            "-2.0 [0, -3, -1]\n",
            "-2.0 [0, -2, -2]\n",
            "-2.0 [0, -3, -2]\n"
          ]
        }
      ]
    },
    {
      "cell_type": "code",
      "source": [
        "# backup = copy.deepcopy(exps)"
      ],
      "metadata": {
        "id": "7D0CU_5QNxMS"
      },
      "execution_count": 1082,
      "outputs": []
    },
    {
      "cell_type": "code",
      "source": [
        "exps"
      ],
      "metadata": {
        "id": "cfFev68iO5FW"
      },
      "execution_count": null,
      "outputs": []
    },
    {
      "cell_type": "code",
      "source": [
        "formatted = []\n",
        "for exp in exps:\n",
        "    formatted.append({\n",
        "        'th': exp['th'],\n",
        "        'w': exp['w'],\n",
        "        'label_rationale__f1': exp['am']['label_rationale__f1'],\n",
        "        'select_label__f1': exp['sm']['select_label__f1'],\n",
        "    })\n",
        "  \n",
        "formatted = pd.DataFrame(formatted)"
      ],
      "metadata": {
        "id": "Z5fLdGUNNluf"
      },
      "execution_count": 1083,
      "outputs": []
    },
    {
      "cell_type": "code",
      "source": [
        "formatted.sort_values('select_label__f1', ascending=False)"
      ],
      "metadata": {
        "colab": {
          "base_uri": "https://localhost:8080/",
          "height": 896
        },
        "id": "k7HSeKIEOivX",
        "outputId": "ebf5deea-9956-49d4-e718-10763c4c3a91"
      },
      "execution_count": 1085,
      "outputs": [
        {
          "output_type": "execute_result",
          "data": {
            "text/plain": [
              "     th            w  label_rationale__f1  select_label__f1\n",
              "8  -0.4  [0, -3, -2]             0.304569          0.246734\n",
              "17 -1.0  [0, -3, -2]             0.266393          0.226415\n",
              "6  -0.4  [0, -3, -1]             0.279570          0.222576\n",
              "15 -1.0  [0, -3, -1]             0.234483          0.208431\n",
              "11 -1.0   [0, -3, 0]             0.205263          0.174286\n",
              "2  -0.4   [0, -3, 0]             0.235294          0.166052\n",
              "26 -2.0  [0, -3, -2]             0.202946          0.157460\n",
              "7  -0.4  [0, -2, -2]             0.179104          0.155367\n",
              "16 -1.0  [0, -2, -2]             0.177515          0.154863\n",
              "5  -0.4  [0, -2, -1]             0.176166          0.152239\n",
              "24 -2.0  [0, -3, -1]             0.172794          0.150805\n",
              "20 -2.0   [0, -3, 0]             0.164080          0.145455\n",
              "14 -1.0  [0, -2, -1]             0.157205          0.138678\n",
              "4  -0.4   [0, 0, -2]             0.154217          0.132791\n",
              "3  -0.4   [0, 0, -1]             0.150852          0.128767\n",
              "1  -0.4   [0, -2, 0]             0.157303          0.126496\n",
              "0  -0.4    [0, 0, 0]             0.145000          0.125178\n",
              "9  -1.0    [0, 0, 0]             0.126733          0.121442\n",
              "10 -1.0   [0, -2, 0]             0.137931          0.119171\n",
              "12 -1.0   [0, 0, -1]             0.125475          0.119134\n",
              "25 -2.0  [0, -2, -2]             0.147799          0.118932\n",
              "13 -1.0   [0, 0, -2]             0.128205          0.118261\n",
              "23 -2.0  [0, -2, -1]             0.119298          0.105988\n",
              "19 -2.0   [0, -2, 0]             0.101833          0.092359\n",
              "21 -2.0   [0, 0, -1]             0.115556          0.091013\n",
              "22 -2.0   [0, 0, -2]             0.117647          0.089827\n",
              "18 -2.0    [0, 0, 0]             0.108280          0.089736"
            ],
            "text/html": [
              "\n",
              "  <div id=\"df-4d059719-f222-4359-924b-c63502a9fff0\">\n",
              "    <div class=\"colab-df-container\">\n",
              "      <div>\n",
              "<style scoped>\n",
              "    .dataframe tbody tr th:only-of-type {\n",
              "        vertical-align: middle;\n",
              "    }\n",
              "\n",
              "    .dataframe tbody tr th {\n",
              "        vertical-align: top;\n",
              "    }\n",
              "\n",
              "    .dataframe thead th {\n",
              "        text-align: right;\n",
              "    }\n",
              "</style>\n",
              "<table border=\"1\" class=\"dataframe\">\n",
              "  <thead>\n",
              "    <tr style=\"text-align: right;\">\n",
              "      <th></th>\n",
              "      <th>th</th>\n",
              "      <th>w</th>\n",
              "      <th>label_rationale__f1</th>\n",
              "      <th>select_label__f1</th>\n",
              "    </tr>\n",
              "  </thead>\n",
              "  <tbody>\n",
              "    <tr>\n",
              "      <th>8</th>\n",
              "      <td>-0.4</td>\n",
              "      <td>[0, -3, -2]</td>\n",
              "      <td>0.304569</td>\n",
              "      <td>0.246734</td>\n",
              "    </tr>\n",
              "    <tr>\n",
              "      <th>17</th>\n",
              "      <td>-1.0</td>\n",
              "      <td>[0, -3, -2]</td>\n",
              "      <td>0.266393</td>\n",
              "      <td>0.226415</td>\n",
              "    </tr>\n",
              "    <tr>\n",
              "      <th>6</th>\n",
              "      <td>-0.4</td>\n",
              "      <td>[0, -3, -1]</td>\n",
              "      <td>0.279570</td>\n",
              "      <td>0.222576</td>\n",
              "    </tr>\n",
              "    <tr>\n",
              "      <th>15</th>\n",
              "      <td>-1.0</td>\n",
              "      <td>[0, -3, -1]</td>\n",
              "      <td>0.234483</td>\n",
              "      <td>0.208431</td>\n",
              "    </tr>\n",
              "    <tr>\n",
              "      <th>11</th>\n",
              "      <td>-1.0</td>\n",
              "      <td>[0, -3, 0]</td>\n",
              "      <td>0.205263</td>\n",
              "      <td>0.174286</td>\n",
              "    </tr>\n",
              "    <tr>\n",
              "      <th>2</th>\n",
              "      <td>-0.4</td>\n",
              "      <td>[0, -3, 0]</td>\n",
              "      <td>0.235294</td>\n",
              "      <td>0.166052</td>\n",
              "    </tr>\n",
              "    <tr>\n",
              "      <th>26</th>\n",
              "      <td>-2.0</td>\n",
              "      <td>[0, -3, -2]</td>\n",
              "      <td>0.202946</td>\n",
              "      <td>0.157460</td>\n",
              "    </tr>\n",
              "    <tr>\n",
              "      <th>7</th>\n",
              "      <td>-0.4</td>\n",
              "      <td>[0, -2, -2]</td>\n",
              "      <td>0.179104</td>\n",
              "      <td>0.155367</td>\n",
              "    </tr>\n",
              "    <tr>\n",
              "      <th>16</th>\n",
              "      <td>-1.0</td>\n",
              "      <td>[0, -2, -2]</td>\n",
              "      <td>0.177515</td>\n",
              "      <td>0.154863</td>\n",
              "    </tr>\n",
              "    <tr>\n",
              "      <th>5</th>\n",
              "      <td>-0.4</td>\n",
              "      <td>[0, -2, -1]</td>\n",
              "      <td>0.176166</td>\n",
              "      <td>0.152239</td>\n",
              "    </tr>\n",
              "    <tr>\n",
              "      <th>24</th>\n",
              "      <td>-2.0</td>\n",
              "      <td>[0, -3, -1]</td>\n",
              "      <td>0.172794</td>\n",
              "      <td>0.150805</td>\n",
              "    </tr>\n",
              "    <tr>\n",
              "      <th>20</th>\n",
              "      <td>-2.0</td>\n",
              "      <td>[0, -3, 0]</td>\n",
              "      <td>0.164080</td>\n",
              "      <td>0.145455</td>\n",
              "    </tr>\n",
              "    <tr>\n",
              "      <th>14</th>\n",
              "      <td>-1.0</td>\n",
              "      <td>[0, -2, -1]</td>\n",
              "      <td>0.157205</td>\n",
              "      <td>0.138678</td>\n",
              "    </tr>\n",
              "    <tr>\n",
              "      <th>4</th>\n",
              "      <td>-0.4</td>\n",
              "      <td>[0, 0, -2]</td>\n",
              "      <td>0.154217</td>\n",
              "      <td>0.132791</td>\n",
              "    </tr>\n",
              "    <tr>\n",
              "      <th>3</th>\n",
              "      <td>-0.4</td>\n",
              "      <td>[0, 0, -1]</td>\n",
              "      <td>0.150852</td>\n",
              "      <td>0.128767</td>\n",
              "    </tr>\n",
              "    <tr>\n",
              "      <th>1</th>\n",
              "      <td>-0.4</td>\n",
              "      <td>[0, -2, 0]</td>\n",
              "      <td>0.157303</td>\n",
              "      <td>0.126496</td>\n",
              "    </tr>\n",
              "    <tr>\n",
              "      <th>0</th>\n",
              "      <td>-0.4</td>\n",
              "      <td>[0, 0, 0]</td>\n",
              "      <td>0.145000</td>\n",
              "      <td>0.125178</td>\n",
              "    </tr>\n",
              "    <tr>\n",
              "      <th>9</th>\n",
              "      <td>-1.0</td>\n",
              "      <td>[0, 0, 0]</td>\n",
              "      <td>0.126733</td>\n",
              "      <td>0.121442</td>\n",
              "    </tr>\n",
              "    <tr>\n",
              "      <th>10</th>\n",
              "      <td>-1.0</td>\n",
              "      <td>[0, -2, 0]</td>\n",
              "      <td>0.137931</td>\n",
              "      <td>0.119171</td>\n",
              "    </tr>\n",
              "    <tr>\n",
              "      <th>12</th>\n",
              "      <td>-1.0</td>\n",
              "      <td>[0, 0, -1]</td>\n",
              "      <td>0.125475</td>\n",
              "      <td>0.119134</td>\n",
              "    </tr>\n",
              "    <tr>\n",
              "      <th>25</th>\n",
              "      <td>-2.0</td>\n",
              "      <td>[0, -2, -2]</td>\n",
              "      <td>0.147799</td>\n",
              "      <td>0.118932</td>\n",
              "    </tr>\n",
              "    <tr>\n",
              "      <th>13</th>\n",
              "      <td>-1.0</td>\n",
              "      <td>[0, 0, -2]</td>\n",
              "      <td>0.128205</td>\n",
              "      <td>0.118261</td>\n",
              "    </tr>\n",
              "    <tr>\n",
              "      <th>23</th>\n",
              "      <td>-2.0</td>\n",
              "      <td>[0, -2, -1]</td>\n",
              "      <td>0.119298</td>\n",
              "      <td>0.105988</td>\n",
              "    </tr>\n",
              "    <tr>\n",
              "      <th>19</th>\n",
              "      <td>-2.0</td>\n",
              "      <td>[0, -2, 0]</td>\n",
              "      <td>0.101833</td>\n",
              "      <td>0.092359</td>\n",
              "    </tr>\n",
              "    <tr>\n",
              "      <th>21</th>\n",
              "      <td>-2.0</td>\n",
              "      <td>[0, 0, -1]</td>\n",
              "      <td>0.115556</td>\n",
              "      <td>0.091013</td>\n",
              "    </tr>\n",
              "    <tr>\n",
              "      <th>22</th>\n",
              "      <td>-2.0</td>\n",
              "      <td>[0, 0, -2]</td>\n",
              "      <td>0.117647</td>\n",
              "      <td>0.089827</td>\n",
              "    </tr>\n",
              "    <tr>\n",
              "      <th>18</th>\n",
              "      <td>-2.0</td>\n",
              "      <td>[0, 0, 0]</td>\n",
              "      <td>0.108280</td>\n",
              "      <td>0.089736</td>\n",
              "    </tr>\n",
              "  </tbody>\n",
              "</table>\n",
              "</div>\n",
              "      <button class=\"colab-df-convert\" onclick=\"convertToInteractive('df-4d059719-f222-4359-924b-c63502a9fff0')\"\n",
              "              title=\"Convert this dataframe to an interactive table.\"\n",
              "              style=\"display:none;\">\n",
              "        \n",
              "  <svg xmlns=\"http://www.w3.org/2000/svg\" height=\"24px\"viewBox=\"0 0 24 24\"\n",
              "       width=\"24px\">\n",
              "    <path d=\"M0 0h24v24H0V0z\" fill=\"none\"/>\n",
              "    <path d=\"M18.56 5.44l.94 2.06.94-2.06 2.06-.94-2.06-.94-.94-2.06-.94 2.06-2.06.94zm-11 1L8.5 8.5l.94-2.06 2.06-.94-2.06-.94L8.5 2.5l-.94 2.06-2.06.94zm10 10l.94 2.06.94-2.06 2.06-.94-2.06-.94-.94-2.06-.94 2.06-2.06.94z\"/><path d=\"M17.41 7.96l-1.37-1.37c-.4-.4-.92-.59-1.43-.59-.52 0-1.04.2-1.43.59L10.3 9.45l-7.72 7.72c-.78.78-.78 2.05 0 2.83L4 21.41c.39.39.9.59 1.41.59.51 0 1.02-.2 1.41-.59l7.78-7.78 2.81-2.81c.8-.78.8-2.07 0-2.86zM5.41 20L4 18.59l7.72-7.72 1.47 1.35L5.41 20z\"/>\n",
              "  </svg>\n",
              "      </button>\n",
              "      \n",
              "  <style>\n",
              "    .colab-df-container {\n",
              "      display:flex;\n",
              "      flex-wrap:wrap;\n",
              "      gap: 12px;\n",
              "    }\n",
              "\n",
              "    .colab-df-convert {\n",
              "      background-color: #E8F0FE;\n",
              "      border: none;\n",
              "      border-radius: 50%;\n",
              "      cursor: pointer;\n",
              "      display: none;\n",
              "      fill: #1967D2;\n",
              "      height: 32px;\n",
              "      padding: 0 0 0 0;\n",
              "      width: 32px;\n",
              "    }\n",
              "\n",
              "    .colab-df-convert:hover {\n",
              "      background-color: #E2EBFA;\n",
              "      box-shadow: 0px 1px 2px rgba(60, 64, 67, 0.3), 0px 1px 3px 1px rgba(60, 64, 67, 0.15);\n",
              "      fill: #174EA6;\n",
              "    }\n",
              "\n",
              "    [theme=dark] .colab-df-convert {\n",
              "      background-color: #3B4455;\n",
              "      fill: #D2E3FC;\n",
              "    }\n",
              "\n",
              "    [theme=dark] .colab-df-convert:hover {\n",
              "      background-color: #434B5C;\n",
              "      box-shadow: 0px 1px 3px 1px rgba(0, 0, 0, 0.15);\n",
              "      filter: drop-shadow(0px 1px 2px rgba(0, 0, 0, 0.3));\n",
              "      fill: #FFFFFF;\n",
              "    }\n",
              "  </style>\n",
              "\n",
              "      <script>\n",
              "        const buttonEl =\n",
              "          document.querySelector('#df-4d059719-f222-4359-924b-c63502a9fff0 button.colab-df-convert');\n",
              "        buttonEl.style.display =\n",
              "          google.colab.kernel.accessAllowed ? 'block' : 'none';\n",
              "\n",
              "        async function convertToInteractive(key) {\n",
              "          const element = document.querySelector('#df-4d059719-f222-4359-924b-c63502a9fff0');\n",
              "          const dataTable =\n",
              "            await google.colab.kernel.invokeFunction('convertToInteractive',\n",
              "                                                     [key], {});\n",
              "          if (!dataTable) return;\n",
              "\n",
              "          const docLinkHtml = 'Like what you see? Visit the ' +\n",
              "            '<a target=\"_blank\" href=https://colab.research.google.com/notebooks/data_table.ipynb>data table notebook</a>'\n",
              "            + ' to learn more about interactive tables.';\n",
              "          element.innerHTML = '';\n",
              "          dataTable['output_type'] = 'display_data';\n",
              "          await google.colab.output.renderOutput(dataTable, element);\n",
              "          const docLink = document.createElement('div');\n",
              "          docLink.innerHTML = docLinkHtml;\n",
              "          element.appendChild(docLink);\n",
              "        }\n",
              "      </script>\n",
              "    </div>\n",
              "  </div>\n",
              "  "
            ]
          },
          "metadata": {},
          "execution_count": 1085
        }
      ]
    },
    {
      "cell_type": "markdown",
      "source": [
        "#### Performance"
      ],
      "metadata": {
        "id": "fpD1EbJK6xFI"
      }
    },
    {
      "cell_type": "code",
      "source": [
        "# flatten_predicted_abstracts(dev_pred_label)"
      ],
      "metadata": {
        "id": "nJXrb4u8-xtX"
      },
      "execution_count": 990,
      "outputs": []
    },
    {
      "cell_type": "code",
      "source": [
        "# flatten_gold_abstracts(scifact_all['claims_dev'])"
      ],
      "metadata": {
        "id": "OeJU80Dk-s0A"
      },
      "execution_count": 991,
      "outputs": []
    },
    {
      "cell_type": "code",
      "source": [
        "def eval_abstract_selection(gold_labels, predictions):\n",
        "    df_gold_labels = flatten_gold_abstracts(gold_labels)\n",
        "    df_predictions = flatten_predicted_abstracts(predictions)\n",
        "    \n",
        "    df_eval = df_gold_labels \\\n",
        "        .join(\n",
        "            df_predictions.reset_index(drop=True).set_index(['id', 'doc_id']),\n",
        "            on=['id', 'doc_id'],\n",
        "            lsuffix='_gold',\n",
        "            rsuffix='_pred',\n",
        "            how='outer'\n",
        "        )\n",
        "\n",
        "    def _add_sentence_correctness(row):\n",
        "        if row['sentence_gold'] is not np.nan and row['sentence_pred'] is not np.nan:\n",
        "            return row['sentence_gold'].issubset(row['sentence_pred'])\n",
        "        return False\n",
        "    \n",
        "    df_eval['gold_is_subset'] = df_eval.apply(_add_sentence_correctness, axis=1)\n",
        "    df_eval['label_is_correct'] = df_eval['label_gold'] == df_eval['label_pred']\n",
        "    df_eval['gold_and_label_correct'] = df_eval['gold_is_subset'] & df_eval['label_is_correct']\n",
        "\n",
        "    df_eval['is_gold'] = df_eval['label_gold'].notna()\n",
        "    df_eval['is_pred'] = df_eval['label_pred'].notna()\n",
        "\n",
        "    def _abstract_correctness(df):\n",
        "        return pd.Series({\n",
        "            'correct_label_only': df['label_is_correct'].any(),\n",
        "            'correct_label_rationale': df['gold_and_label_correct'].any(),\n",
        "            'is_gold': df['is_gold'].any(),\n",
        "            'is_pred': df['is_pred'].any(),\n",
        "        })\n",
        "\n",
        "    return df_eval\n",
        "    # return df_eval.groupby(['id', 'doc_id']).apply(_abstract_correctness)\n"
      ],
      "metadata": {
        "id": "WkeuTQsb-FyE"
      },
      "execution_count": 992,
      "outputs": []
    },
    {
      "cell_type": "code",
      "source": [
        "t = eval_abstract_selection(scifact_all['claims_dev'], dev_pred_label)\n",
        "t['label_pred'].fillna(\"NOINFO\", inplace=True)\n",
        "t['label_gold'].fillna(\"NOINFO\", inplace=True)\n",
        "print(classification_report(t['label_gold'], t['label_pred']))"
      ],
      "metadata": {
        "colab": {
          "base_uri": "https://localhost:8080/"
        },
        "id": "AjyotwNE6WNT",
        "outputId": "73268bf6-a1b6-4bb0-feb3-83f74d6476d9"
      },
      "execution_count": 1162,
      "outputs": [
        {
          "output_type": "stream",
          "name": "stdout",
          "text": [
            "              precision    recall  f1-score   support\n",
            "\n",
            "  CONTRADICT       0.18      0.10      0.13       122\n",
            "      NOINFO       0.00      0.00      0.00        75\n",
            "     SUPPORT       0.48      0.44      0.46       216\n",
            "\n",
            "    accuracy                           0.26       413\n",
            "   macro avg       0.22      0.18      0.20       413\n",
            "weighted avg       0.30      0.26      0.28       413\n",
            "\n"
          ]
        }
      ]
    },
    {
      "cell_type": "code",
      "source": [
        "print(classification_report(t['label_gold'], t['label_pred']))"
      ],
      "metadata": {
        "colab": {
          "base_uri": "https://localhost:8080/"
        },
        "id": "2hN4M1NIBKE4",
        "outputId": "ba23a07d-2b83-4249-9f76-6c0ea8657113"
      },
      "execution_count": 1149,
      "outputs": [
        {
          "output_type": "stream",
          "name": "stdout",
          "text": [
            "              precision    recall  f1-score   support\n",
            "\n",
            "  CONTRADICT       0.28      0.08      0.13       122\n",
            "      NOINFO       0.00      0.00      0.00        75\n",
            "     SUPPORT       0.49      0.52      0.50       216\n",
            "\n",
            "    accuracy                           0.30       413\n",
            "   macro avg       0.25      0.20      0.21       413\n",
            "weighted avg       0.34      0.30      0.30       413\n",
            "\n"
          ]
        }
      ]
    },
    {
      "cell_type": "code",
      "source": [
        "full_pred_correct = LabelFinal([0,-3,0])(full_pred_x)"
      ],
      "metadata": {
        "id": "TADu6JVquJSX"
      },
      "execution_count": 472,
      "outputs": []
    },
    {
      "cell_type": "code",
      "source": [
        "full_pred_correct[:3]"
      ],
      "metadata": {
        "colab": {
          "base_uri": "https://localhost:8080/"
        },
        "id": "cNulU9J8ugG_",
        "outputId": "a67c2e05-f7fb-4963-8e44-8726fa734a4a"
      },
      "execution_count": 473,
      "outputs": [
        {
          "output_type": "execute_result",
          "data": {
            "text/plain": [
              "[{'id': 1,\n",
              "  'claim': '0-dimensional biomaterials show inductive properties.',\n",
              "  'evidence': {},\n",
              "  'noinfo_evidence': {}},\n",
              " {'id': 3,\n",
              "  'claim': '1,000 genomes project enables mapping of genetic sequence variation consisting of rare variants with larger penetrance effects than common variants.',\n",
              "  'evidence': {},\n",
              "  'noinfo_evidence': {}},\n",
              " {'id': 5,\n",
              "  'claim': '1/2000 in UK have abnormal PrP positivity.',\n",
              "  'evidence': {},\n",
              "  'noinfo_evidence': {'13734012': {'sentences': [4, 7],\n",
              "    'label': 'NOINFO',\n",
              "    'label_softmax': array([0.02684684, 0.00723093, 0.9659223 ], dtype=float32)}}}]"
            ]
          },
          "metadata": {},
          "execution_count": 473
        }
      ]
    },
    {
      "cell_type": "code",
      "source": [
        "scifact_all['claims_dev'][:3]"
      ],
      "metadata": {
        "colab": {
          "base_uri": "https://localhost:8080/"
        },
        "id": "3yxgeRwT2SRA",
        "outputId": "30953b0e-0468-4311-9aeb-bfc801e2e356"
      },
      "execution_count": 471,
      "outputs": [
        {
          "output_type": "execute_result",
          "data": {
            "text/plain": [
              "[{'id': 1,\n",
              "  'claim': '0-dimensional biomaterials show inductive properties.',\n",
              "  'evidence': {},\n",
              "  'cited_doc_ids': [31715818]},\n",
              " {'id': 3,\n",
              "  'claim': '1,000 genomes project enables mapping of genetic sequence variation consisting of rare variants with larger penetrance effects than common variants.',\n",
              "  'evidence': {'14717500': [{'sentences': [2, 5], 'label': 'SUPPORT'},\n",
              "    {'sentences': [7], 'label': 'SUPPORT'}]},\n",
              "  'cited_doc_ids': [14717500]},\n",
              " {'id': 5,\n",
              "  'claim': '1/2000 in UK have abnormal PrP positivity.',\n",
              "  'evidence': {'13734012': [{'sentences': [4], 'label': 'SUPPORT'}]},\n",
              "  'cited_doc_ids': [13734012]}]"
            ]
          },
          "metadata": {},
          "execution_count": 471
        }
      ]
    },
    {
      "cell_type": "code",
      "source": [],
      "metadata": {
        "id": "EKqTO7Jw3PNS"
      },
      "execution_count": null,
      "outputs": []
    }
  ]
}