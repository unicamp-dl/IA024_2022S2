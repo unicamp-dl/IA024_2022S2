{
 "cells": [
  {
   "cell_type": "markdown",
   "id": "d919edd9-cc78-4018-bb82-12a9c3bce2c4",
   "metadata": {},
   "source": [
    "# Sentence Selection\n",
    "\n",
    "This notebook contains:\n",
    "- BERT and T5 refined to Sentence Selection;\n",
    "- Sentence-Level Metrics."
   ]
  },
  {
   "cell_type": "code",
   "execution_count": 1,
   "id": "d2ec9475-3068-4a71-ba56-953cc5373b93",
   "metadata": {},
   "outputs": [
    {
     "name": "stdout",
     "output_type": "stream",
     "text": [
      "Note: you may need to restart the kernel to use updated packages.\n"
     ]
    }
   ],
   "source": [
    "pip install nltk protobuf==3.20.* -q"
   ]
  },
  {
   "cell_type": "code",
   "execution_count": 2,
   "id": "307b5780-2d70-4e6d-b33e-c7de78f33beb",
   "metadata": {},
   "outputs": [
    {
     "name": "stderr",
     "output_type": "stream",
     "text": [
      "[nltk_data] Downloading package punkt to\n",
      "[nltk_data]     /home/matheus.lindino/nltk_data...\n",
      "[nltk_data]   Package punkt is already up-to-date!\n"
     ]
    },
    {
     "data": {
      "text/plain": [
       "True"
      ]
     },
     "execution_count": 2,
     "metadata": {},
     "output_type": "execute_result"
    }
   ],
   "source": [
    "import nltk\n",
    "nltk.download('punkt')"
   ]
  },
  {
   "cell_type": "code",
   "execution_count": 3,
   "id": "35cb9d31-9bdf-4397-85f0-37c214e44a1b",
   "metadata": {
    "tags": []
   },
   "outputs": [],
   "source": [
    "!pip install -r pygaggle/requirements.txt -q"
   ]
  },
  {
   "cell_type": "markdown",
   "id": "ad814eae-7e0c-426a-83a8-c31c626583fb",
   "metadata": {
    "tags": []
   },
   "source": [
    "### Imports and Global Variables"
   ]
  },
  {
   "cell_type": "code",
   "execution_count": 4,
   "id": "e5605cfa-96cc-4cca-9cb2-5a1162ae3881",
   "metadata": {
    "tags": []
   },
   "outputs": [
    {
     "name": "stderr",
     "output_type": "stream",
     "text": [
      "2022-11-30 23:32:40.136142: I tensorflow/stream_executor/platform/default/dso_loader.cc:53] Successfully opened dynamic library libcudart.so.11.0\n",
      "2022-11-30 23:32:41.553799: I tensorflow/stream_executor/platform/default/dso_loader.cc:53] Successfully opened dynamic library libcuda.so.1\n",
      "2022-11-30 23:32:41.554879: I tensorflow/core/common_runtime/gpu/gpu_device.cc:1733] Found device 0 with properties: \n",
      "pciBusID: 0000:1b:00.0 name: NVIDIA Quadro RTX 5000 computeCapability: 7.5\n",
      "coreClock: 1.815GHz coreCount: 48 deviceMemorySize: 15.75GiB deviceMemoryBandwidth: 417.29GiB/s\n",
      "2022-11-30 23:32:41.555929: I tensorflow/core/common_runtime/gpu/gpu_device.cc:1733] Found device 1 with properties: \n",
      "pciBusID: 0000:3e:00.0 name: NVIDIA Quadro RTX 5000 computeCapability: 7.5\n",
      "coreClock: 1.815GHz coreCount: 48 deviceMemorySize: 15.75GiB deviceMemoryBandwidth: 417.29GiB/s\n",
      "2022-11-30 23:32:41.555954: I tensorflow/stream_executor/platform/default/dso_loader.cc:53] Successfully opened dynamic library libcudart.so.11.0\n",
      "2022-11-30 23:32:41.556033: W tensorflow/stream_executor/platform/default/dso_loader.cc:64] Could not load dynamic library 'libcublas.so.11'; dlerror: libcublas.so.11: cannot open shared object file: No such file or directory; LD_LIBRARY_PATH: /usr/local/nvidia/lib:/usr/local/nvidia/lib64\n",
      "2022-11-30 23:32:41.556078: W tensorflow/stream_executor/platform/default/dso_loader.cc:64] Could not load dynamic library 'libcublasLt.so.11'; dlerror: libcublasLt.so.11: cannot open shared object file: No such file or directory; LD_LIBRARY_PATH: /usr/local/nvidia/lib:/usr/local/nvidia/lib64\n",
      "2022-11-30 23:32:41.556118: W tensorflow/stream_executor/platform/default/dso_loader.cc:64] Could not load dynamic library 'libcufft.so.10'; dlerror: libcufft.so.10: cannot open shared object file: No such file or directory; LD_LIBRARY_PATH: /usr/local/nvidia/lib:/usr/local/nvidia/lib64\n",
      "2022-11-30 23:32:41.556156: W tensorflow/stream_executor/platform/default/dso_loader.cc:64] Could not load dynamic library 'libcurand.so.10'; dlerror: libcurand.so.10: cannot open shared object file: No such file or directory; LD_LIBRARY_PATH: /usr/local/nvidia/lib:/usr/local/nvidia/lib64\n",
      "2022-11-30 23:32:41.556194: W tensorflow/stream_executor/platform/default/dso_loader.cc:64] Could not load dynamic library 'libcusolver.so.11'; dlerror: libcusolver.so.11: cannot open shared object file: No such file or directory; LD_LIBRARY_PATH: /usr/local/nvidia/lib:/usr/local/nvidia/lib64\n",
      "2022-11-30 23:32:41.556232: W tensorflow/stream_executor/platform/default/dso_loader.cc:64] Could not load dynamic library 'libcusparse.so.11'; dlerror: libcusparse.so.11: cannot open shared object file: No such file or directory; LD_LIBRARY_PATH: /usr/local/nvidia/lib:/usr/local/nvidia/lib64\n",
      "2022-11-30 23:32:41.556270: W tensorflow/stream_executor/platform/default/dso_loader.cc:64] Could not load dynamic library 'libcudnn.so.8'; dlerror: libcudnn.so.8: cannot open shared object file: No such file or directory; LD_LIBRARY_PATH: /usr/local/nvidia/lib:/usr/local/nvidia/lib64\n",
      "2022-11-30 23:32:41.556278: W tensorflow/core/common_runtime/gpu/gpu_device.cc:1766] Cannot dlopen some GPU libraries. Please make sure the missing libraries mentioned above are installed properly if you would like to use GPU. Follow the guide at https://www.tensorflow.org/install/gpu for how to download and setup the required libraries for your platform.\n",
      "Skipping registering GPU devices...\n"
     ]
    }
   ],
   "source": [
    "import os\n",
    "import copy\n",
    "import torch\n",
    "import random\n",
    "import json\n",
    "import jsonlines\n",
    "import numpy as np\n",
    "import pandas as pd\n",
    "import plotly.express as px\n",
    "import matplotlib.pyplot as plt\n",
    "\n",
    "from nltk import tokenize\n",
    "from torch.optim import Adam\n",
    "from tqdm.notebook import tqdm\n",
    "from rank_bm25 import BM25Okapi\n",
    "from torch.utils.data import Dataset, DataLoader\n",
    "from pyserini.search.lucene import LuceneSearcher\n",
    "from sklearn.metrics import recall_score, accuracy_score, precision_score\n",
    "from transformers import BertTokenizerFast, BertForSequenceClassification, T5Tokenizer, T5ForConditionalGeneration\n",
    "\n",
    "#import pygaggle\n",
    "from pygaggle.pygaggle.rerank.base import Query, Text, hits_to_texts\n",
    "from pygaggle.pygaggle.rerank.transformer import MonoT5, MonoBERT"
   ]
  },
  {
   "cell_type": "code",
   "execution_count": 5,
   "id": "931a7edf-27ca-4059-8b58-075a4c9263bd",
   "metadata": {},
   "outputs": [
    {
     "name": "stdout",
     "output_type": "stream",
     "text": [
      "Device: cuda:1\n"
     ]
    }
   ],
   "source": [
    "random.seed(42)\n",
    "np.random.seed(42)\n",
    "torch.manual_seed(42)\n",
    "\n",
    "os.environ[\"TOKENIZERS_PARALLELISM\"] = \"false\"\n",
    "\n",
    "device = torch.device('cuda:1' if torch.cuda.is_available() else 'cpu')\n",
    "print(f'Device: {device}')"
   ]
  },
  {
   "cell_type": "code",
   "execution_count": 6,
   "id": "3b0eca50-c6a4-4388-8924-48cbabc5ac24",
   "metadata": {},
   "outputs": [],
   "source": [
    "params = {\n",
    "    'batch_size': 4,\n",
    "    'optimizer': 'Adam',\n",
    "    'learning_rate': 1e-5,\n",
    "    'epochs': 1,\n",
    "    'version': 'base',\n",
    "    'model': 'bert',\n",
    "    'early_stopping': None,\n",
    "    'seed': 42,\n",
    "    'max_length': 512,\n",
    "    'evaluate_interval': 100,\n",
    "    'accumulate_grad_batches': 16\n",
    "}"
   ]
  },
  {
   "cell_type": "markdown",
   "id": "90dc0384-eac4-4d9f-a846-dc4369d60580",
   "metadata": {
    "tags": []
   },
   "source": [
    "### Read Json"
   ]
  },
  {
   "cell_type": "code",
   "execution_count": 7,
   "id": "8367d865-aeb7-469b-a2c1-011d99e27f37",
   "metadata": {},
   "outputs": [],
   "source": [
    "def read_json(path):\n",
    "    docs = []\n",
    "    with jsonlines.open(path) as file:\n",
    "        for line in file.iter():\n",
    "            docs.append(line)\n",
    "            \n",
    "    return docs\n",
    "\n",
    "corpus = read_json('data/corpus.jsonl')\n",
    "train_json = read_json('data/claims_train.jsonl')\n",
    "valid_json = read_json('data/claims_dev.jsonl')\n",
    "test_json  = read_json('data/claims_test.jsonl')"
   ]
  },
  {
   "cell_type": "markdown",
   "id": "c43bc7f3-1144-4b16-ae3f-16984b03c640",
   "metadata": {
    "tags": []
   },
   "source": [
    "### Pyserini"
   ]
  },
  {
   "cell_type": "code",
   "execution_count": 8,
   "id": "c3ea4061-fda9-4cef-a3bb-bd1bd0a4a299",
   "metadata": {},
   "outputs": [],
   "source": [
    "def pyserini_search(claim, top_k, return_hits=False):\n",
    "    docs = []\n",
    "    searcher = LuceneSearcher('scifact_index')\n",
    "    hits = searcher.search(claim, k=top_k)\n",
    "\n",
    "    for i in range(len(hits)):\n",
    "        docs.append(json.loads(hits[i].raw))\n",
    "     \n",
    "    if return_hits: return hits\n",
    "    \n",
    "    return docs"
   ]
  },
  {
   "cell_type": "markdown",
   "id": "8b8284db-e077-45c8-b25a-145464d98c4c",
   "metadata": {},
   "source": [
    "### monoBERT"
   ]
  },
  {
   "cell_type": "markdown",
   "id": "c88e0b37-767a-4b40-8152-dd9514ed2991",
   "metadata": {},
   "source": [
    "#### Dataset"
   ]
  },
  {
   "cell_type": "code",
   "execution_count": 16,
   "id": "9d04f7be-6589-4753-b7aa-65a888e34a7e",
   "metadata": {},
   "outputs": [],
   "source": [
    "def prepare_dataset_sentence(data, mode='train'):\n",
    "    dataset = {'inputs': [], 'labels': []}\n",
    "\n",
    "    ## True Label\n",
    "    for sample in data:\n",
    "        claim    = sample['claim']\n",
    "        evidence = sample['evidence']\n",
    "        if not evidence: continue\n",
    "\n",
    "        for _id_ in evidence.keys():\n",
    "            for doc in corpus:\n",
    "                doc_id = str(doc['doc_id'])\n",
    "                if doc_id == _id_:\n",
    "                    sentences = evidence[_id_]\n",
    "                    abstract  = doc['abstract']\n",
    "\n",
    "                    for s in sentences:\n",
    "                        for i in s['sentences']:\n",
    "                            if mode == 'train':\n",
    "                                for _ in range(20):\n",
    "                                    dataset['inputs'].append(f\"Query: {claim} Document: {abstract[i]} Relevant: \")\n",
    "                                    dataset['labels'].append(1)\n",
    "                            else:\n",
    "                                dataset['inputs'].append(f\"Query: {claim} Document: {abstract[i]} Relevant: \")\n",
    "                                dataset['labels'].append(1)\n",
    "    ## False Label\n",
    "    for sample in data:\n",
    "        claim    = sample['claim']\n",
    "        evidence = sample['evidence']\n",
    "        if not evidence: continue\n",
    "\n",
    "        docs = pyserini_search(claim, top_k=5)\n",
    "\n",
    "        for doc in docs:\n",
    "            doc_id = str(doc['id'])\n",
    "            if doc_id not in list(evidence.keys()):\n",
    "                abstract = tokenize.sent_tokenize(doc['contents'])\n",
    "                for s in abstract:\n",
    "                    dataset['inputs'].append(f\"Query: {claim} Document: {s} Relevant: \")\n",
    "                    dataset['labels'].append(0)\n",
    "    \n",
    "    return dataset"
   ]
  },
  {
   "cell_type": "code",
   "execution_count": 17,
   "id": "ed7510e2-851a-4d59-a3f7-04f535bb20dc",
   "metadata": {},
   "outputs": [],
   "source": [
    "class SentenceDataset(Dataset):\n",
    "    def __init__(self, dataset, labels):\n",
    "        self.encodings = dataset\n",
    "        self.labels    = torch.Tensor(labels).long()\n",
    "        \n",
    "    def __len__(self):\n",
    "        return len(self.labels)\n",
    "    \n",
    "    def __getitem__(self, index):\n",
    "        item = {key: value[index] for key, value in self.encodings.items()}\n",
    "        item['labels'] = self.labels[index] \n",
    "        return item"
   ]
  },
  {
   "cell_type": "code",
   "execution_count": 18,
   "id": "15801767-a6b7-423f-b27a-d1952f504c9d",
   "metadata": {},
   "outputs": [],
   "source": [
    "tokenizer = BertTokenizerFast.from_pretrained('castorini/monobert-large-msmarco-finetune-only', disable_tqdm=False)\n",
    "\n",
    "# Sentence Split\n",
    "train_sentence = prepare_dataset_sentence(train_json, mode='train')\n",
    "valid_sentence = prepare_dataset_sentence(valid_json, mode='valid')\n",
    "\n",
    "# Tokenizer\n",
    "train_encoding = tokenizer(train_sentence['inputs'], truncation=True, padding=True, return_tensors='pt', max_length=params['max_length'])\n",
    "valid_encoding = tokenizer(valid_sentence['inputs'], truncation=True, padding=True, return_tensors='pt', max_length=params['max_length'])\n",
    "\n",
    "# Dataset\n",
    "train_dataset = SentenceDataset(train_encoding, train_sentence['labels'])\n",
    "valid_dataset = SentenceDataset(valid_encoding, valid_sentence['labels'])\n",
    "\n",
    "# DataLoader\n",
    "train_loader = DataLoader(train_dataset, batch_size=params['batch_size'], shuffle=True)\n",
    "valid_loader = DataLoader(valid_dataset, batch_size=params['batch_size'], shuffle=True)"
   ]
  },
  {
   "cell_type": "markdown",
   "id": "7d0988d6-d1aa-4e38-8b4b-0c6f8022886e",
   "metadata": {},
   "source": [
    "#### Train Step"
   ]
  },
  {
   "cell_type": "code",
   "execution_count": 12,
   "id": "8417c4dc-645a-467f-9be3-f19e058ce256",
   "metadata": {},
   "outputs": [],
   "source": [
    "def train_step(model, data, optimizer, batch_idx, accumulate_grad_batches, dataloader_size):\n",
    "    model.train()\n",
    "    \n",
    "    input_ids      = data['input_ids'].to(device)\n",
    "    attention_mask = data['attention_mask'].to(device)\n",
    "    labels         = data['labels'].to(device)\n",
    "    \n",
    "    optimizer.zero_grad()\n",
    "    \n",
    "    outputs = model(input_ids=input_ids, attention_mask=attention_mask, labels=labels)\n",
    "    loss = outputs[0]\n",
    "    loss.backward()\n",
    "    \n",
    "    _, preds = torch.max(outputs[1], 1)    \n",
    "\n",
    "    if ((batch_idx + 1) % accumulate_grad_batches == 0) or (batch_idx + 1 == dataloader_size):\n",
    "        optimizer.step()\n",
    "        optimizer.zero_grad()\n",
    "        \n",
    "    return loss.item(), labels, preds"
   ]
  },
  {
   "cell_type": "code",
   "execution_count": 13,
   "id": "286fe02f-3ee7-4b1c-880b-b86255b603a8",
   "metadata": {},
   "outputs": [
    {
     "data": {
      "application/json": {
       "ascii": false,
       "bar_format": null,
       "colour": null,
       "elapsed": 0.015157222747802734,
       "initial": 0,
       "n": 0,
       "ncols": null,
       "nrows": null,
       "postfix": null,
       "prefix": "Training Epoch 1",
       "rate": null,
       "total": 10173,
       "unit": "it",
       "unit_divisor": 1000,
       "unit_scale": false
      },
      "application/vnd.jupyter.widget-view+json": {
       "model_id": "427afa75e407498095250bb37639ec0a",
       "version_major": 2,
       "version_minor": 0
      },
      "text/plain": [
       "Training Epoch 1:   0%|          | 0/10173 [00:00<?, ?it/s]"
      ]
     },
     "metadata": {},
     "output_type": "display_data"
    }
   ],
   "source": [
    "model = BertForSequenceClassification.from_pretrained('castorini/monobert-large-msmarco-finetune-only')\n",
    "model = model.to(device)\n",
    "\n",
    "optimizer = Adam(model.parameters(), lr=params['learning_rate'])\n",
    "train_history = {'loss': []}\n",
    "\n",
    "epoch = 1\n",
    "while True:\n",
    "    for batch_idx, data in enumerate(tqdm(train_loader, total=len(train_loader), desc=f'Training Epoch {epoch}')):\n",
    "        train_loss, labels, preds = train_step(model=model, \n",
    "                                data=data, \n",
    "                                optimizer=optimizer,\n",
    "                                batch_idx=batch_idx, \n",
    "                                accumulate_grad_batches=params['accumulate_grad_batches'], \n",
    "                                dataloader_size=len(train_loader))\n",
    "\n",
    "    \n",
    "        train_history['loss'].append(train_loss)\n",
    "        \n",
    "        if batch_idx > 2000: break\n",
    "    if batch_idx > 2000: break\n",
    "    epoch += 1"
   ]
  },
  {
   "cell_type": "code",
   "execution_count": 14,
   "id": "4ae7ac0d-9655-4d53-98ce-3ecf4f20087c",
   "metadata": {},
   "outputs": [
    {
     "data": {
      "image/png": "[encoded data removed]",
      "text/plain": [
       "<Figure size 640x480 with 1 Axes>"
      ]
     },
     "metadata": {},
     "output_type": "display_data"
    }
   ],
   "source": [
    "plt.plot(train_history['loss'], '-k')\n",
    "plt.grid()\n",
    "plt.xlabel('Steps')\n",
    "plt.title('Training Loss')\n",
    "plt.ylabel('Loss')\n",
    "plt.show()"
   ]
  },
  {
   "cell_type": "code",
   "execution_count": 31,
   "id": "486c1d6c-24da-4fc2-9ee5-eb4a35f05de6",
   "metadata": {},
   "outputs": [
    {
     "name": "stdout",
     "output_type": "stream",
     "text": [
      "Precision: 0.748203123 --- Recall: 0.71341125 --- F1 Score: 0.7300124125\n"
     ]
    }
   ],
   "source": [
    "all_preds  = []\n",
    "all_labels = []\n",
    "running_loss = 0.0\n",
    "\n",
    "model.eval()\n",
    "for data in tqdm(valid_loader, total=len(valid_loader)):\n",
    "\n",
    "    input_ids      = data['input_ids'].to(device)\n",
    "    attention_mask = data['attention_mask'].to(device)\n",
    "    labels         = data['labels'].to(device)\n",
    "\n",
    "    with torch.no_grad():\n",
    "        outputs = model(input_ids=input_ids, attention_mask=attention_mask, labels=labels)\n",
    "        loss = outputs[0]\n",
    "        _, preds = torch.max(outputs[1], 1)\n",
    "        \n",
    "        for i, j in zip(preds.cpu().numpy(), labels.cpu().numpy()):\n",
    "            all_preds.append(i)\n",
    "            all_labels.append(j)\n",
    "            \n",
    "        running_loss += loss.item()\n",
    "\n",
    "torch.save(model.state_dict(), 'bert_sentence_selection.pth')\n",
    "\n",
    "recall    = recall_score(all_labels, all_preds, zero_division = 0)\n",
    "precision = precision_score(all_labels, all_preds, zero_division = 0)\n",
    "f1        = f1_score(all_labels, all_preds)\n",
    "\n",
    "print(f'Precision: {precision} --- Recall: {recall} --- F1 Score: {f1}')"
   ]
  },
  {
   "cell_type": "markdown",
   "id": "5be629e7-f631-4ed4-8ea8-636b3b241fe7",
   "metadata": {
    "tags": []
   },
   "source": [
    "### monoT5"
   ]
  },
  {
   "cell_type": "markdown",
   "id": "1f5acc33-f5de-49da-a762-ab746e0ea68d",
   "metadata": {},
   "source": [
    "#### Dataset"
   ]
  },
  {
   "cell_type": "code",
   "execution_count": 20,
   "id": "fad606ea-f6c1-4a34-a477-437b2cb91a0b",
   "metadata": {},
   "outputs": [],
   "source": [
    "def prepare_dataset_sentence(data):\n",
    "    dataset = {'inputs': [], 'labels': []}\n",
    "\n",
    "    ## True Label\n",
    "    for sample in data:\n",
    "        claim    = sample['claim']\n",
    "        evidence = sample['evidence']\n",
    "        if not evidence: continue\n",
    "\n",
    "        for _id_ in evidence.keys():\n",
    "            for doc in corpus:\n",
    "                doc_id = str(doc['doc_id'])\n",
    "                if doc_id == _id_:\n",
    "                    sentences = evidence[_id_]\n",
    "                    abstract  = doc['abstract']\n",
    "\n",
    "                    for s in sentences:\n",
    "                        for i in s['sentences']:\n",
    "                            for _ in range(20):\n",
    "                                dataset['inputs'].append(f\"Query: {claim} Document: {abstract[i]} Relevant: \")\n",
    "                                dataset['labels'].append('true')\n",
    "    ## False Label\n",
    "    for sample in data:\n",
    "        claim    = sample['claim']\n",
    "        evidence = sample['evidence']\n",
    "        if not evidence: continue\n",
    "\n",
    "        docs = pyserini_search(claim, top_k=5)\n",
    "\n",
    "        for doc in docs:\n",
    "            doc_id = str(doc['id'])\n",
    "            if doc_id not in list(evidence.keys()):\n",
    "                abstract = tokenize.sent_tokenize(doc['contents'])\n",
    "                for s in abstract:\n",
    "                    dataset['inputs'].append(f\"Query: {claim} Document: {s} Relevant: \")\n",
    "                    dataset['labels'].append('false')\n",
    "    \n",
    "    return dataset"
   ]
  },
  {
   "cell_type": "code",
   "execution_count": 21,
   "id": "6c5065da-589a-4ac2-b01a-7868162ced6f",
   "metadata": {},
   "outputs": [],
   "source": [
    "class SentenceDataset(Dataset):\n",
    "    def __init__(self, dataset, labels):\n",
    "        self.encodings = dataset\n",
    "        self.labels    = labels\n",
    "        \n",
    "    def __len__(self):\n",
    "        return len(self.labels['input_ids'])\n",
    "    \n",
    "    def __getitem__(self, index):\n",
    "        item  = {key: value[index] for key, value in self.encodings.items()}\n",
    "        label = {key: value[index] for key, value in self.labels.items()}\n",
    "        return item, label"
   ]
  },
  {
   "cell_type": "code",
   "execution_count": 22,
   "id": "697ad8e5-8993-4a46-ab4f-c519e844f773",
   "metadata": {},
   "outputs": [],
   "source": [
    "train_sentence = prepare_dataset_sentence(train_json)\n",
    "valid_sentence = prepare_dataset_sentence(valid_json)"
   ]
  },
  {
   "cell_type": "code",
   "execution_count": 23,
   "id": "2c846c2b-95b9-44c6-9a17-4940eadec3c5",
   "metadata": {},
   "outputs": [
    {
     "data": {
      "application/json": {
       "ascii": false,
       "bar_format": null,
       "colour": null,
       "elapsed": 0.028074264526367188,
       "initial": 0,
       "n": 0,
       "ncols": null,
       "nrows": null,
       "postfix": null,
       "prefix": "Downloading",
       "rate": null,
       "total": 791656,
       "unit": "B",
       "unit_divisor": 1000,
       "unit_scale": true
      },
      "application/vnd.jupyter.widget-view+json": {
       "model_id": "994310b788cc458084dce9a68491d8bc",
       "version_major": 2,
       "version_minor": 0
      },
      "text/plain": [
       "Downloading:   0%|          | 0.00/792k [00:00<?, ?B/s]"
      ]
     },
     "metadata": {},
     "output_type": "display_data"
    },
    {
     "data": {
      "application/json": {
       "ascii": false,
       "bar_format": null,
       "colour": null,
       "elapsed": 0.0216062068939209,
       "initial": 0,
       "n": 0,
       "ncols": null,
       "nrows": null,
       "postfix": null,
       "prefix": "Downloading",
       "rate": null,
       "total": 1786,
       "unit": "B",
       "unit_divisor": 1000,
       "unit_scale": true
      },
      "application/vnd.jupyter.widget-view+json": {
       "model_id": "2d4093e9e9e04d4494eacadcf0184bb0",
       "version_major": 2,
       "version_minor": 0
      },
      "text/plain": [
       "Downloading:   0%|          | 0.00/1.79k [00:00<?, ?B/s]"
      ]
     },
     "metadata": {},
     "output_type": "display_data"
    },
    {
     "data": {
      "application/json": {
       "ascii": false,
       "bar_format": null,
       "colour": null,
       "elapsed": 0.03372359275817871,
       "initial": 0,
       "n": 0,
       "ncols": null,
       "nrows": null,
       "postfix": null,
       "prefix": "Downloading",
       "rate": null,
       "total": 1889,
       "unit": "B",
       "unit_divisor": 1000,
       "unit_scale": true
      },
      "application/vnd.jupyter.widget-view+json": {
       "model_id": "09758130186a44ec94835ccaaed59ee0",
       "version_major": 2,
       "version_minor": 0
      },
      "text/plain": [
       "Downloading:   0%|          | 0.00/1.89k [00:00<?, ?B/s]"
      ]
     },
     "metadata": {},
     "output_type": "display_data"
    }
   ],
   "source": [
    "tokenizer = T5Tokenizer.from_pretrained('castorini/monot5-base-msmarco')\n",
    "\n",
    "# Sentence Split\n",
    "train_sentence = prepare_dataset_sentence(train_json)\n",
    "valid_sentence = prepare_dataset_sentence(valid_json)\n",
    "\n",
    "# Tokenizer\n",
    "train_encoding = tokenizer(train_sentence['inputs'], truncation=True, padding=True, return_tensors='pt', max_length=params['max_length'])\n",
    "train_labels   = tokenizer(train_sentence['labels'], truncation=True, padding=True, return_tensors='pt', max_length=5)\n",
    "\n",
    "valid_encoding = tokenizer(valid_sentence['inputs'], truncation=True, padding=True, return_tensors='pt', max_length=params['max_length'])\n",
    "valid_labels   = tokenizer(valid_sentence['labels'], truncation=True, padding=True, return_tensors='pt', max_length=5)\n",
    "\n",
    "# Dataset\n",
    "train_dataset = SentenceDataset(train_encoding, train_labels)\n",
    "valid_dataset = SentenceDataset(valid_encoding, valid_labels)\n",
    "\n",
    "# DataLoader\n",
    "train_loader = DataLoader(train_dataset, batch_size=params['batch_size'], shuffle=True)\n",
    "valid_loader = DataLoader(valid_dataset, batch_size=params['batch_size'], shuffle=True)"
   ]
  },
  {
   "cell_type": "code",
   "execution_count": 24,
   "id": "bbcb33b9-f993-46d7-a38c-b16cd7639d05",
   "metadata": {},
   "outputs": [],
   "source": [
    "def train_step(model, data, label, optimizer, batch_idx, accumulate_grad_batches, dataloader_size):\n",
    "    model.train()\n",
    "    \n",
    "    input_ids      = data['input_ids'].to(device)\n",
    "    attention_mask = data['attention_mask'].to(device)\n",
    "    labels         = label['input_ids'].to(device)\n",
    "    \n",
    "    optimizer.zero_grad()\n",
    "    \n",
    "    outputs = model(input_ids=input_ids, attention_mask=attention_mask, labels=labels)\n",
    "    loss = outputs[0]\n",
    "    loss.backward()\n",
    "    \n",
    "    _, preds = torch.max(outputs[1], 1)    \n",
    "\n",
    "    if ((batch_idx + 1) % accumulate_grad_batches == 0) or (batch_idx + 1 == dataloader_size):\n",
    "        optimizer.step()\n",
    "        optimizer.zero_grad()\n",
    "        \n",
    "    return loss.item(), labels, preds"
   ]
  },
  {
   "cell_type": "code",
   "execution_count": 25,
   "id": "e393f7a4-7976-4d7e-8932-efcbcba24ee7",
   "metadata": {},
   "outputs": [
    {
     "data": {
      "application/json": {
       "ascii": false,
       "bar_format": null,
       "colour": null,
       "elapsed": 0.029941797256469727,
       "initial": 0,
       "n": 0,
       "ncols": null,
       "nrows": null,
       "postfix": null,
       "prefix": "Downloading",
       "rate": null,
       "total": 1841,
       "unit": "B",
       "unit_divisor": 1000,
       "unit_scale": true
      },
      "application/vnd.jupyter.widget-view+json": {
       "model_id": "dc7e331a17664d44833a5f013ee43a01",
       "version_major": 2,
       "version_minor": 0
      },
      "text/plain": [
       "Downloading:   0%|          | 0.00/1.84k [00:00<?, ?B/s]"
      ]
     },
     "metadata": {},
     "output_type": "display_data"
    },
    {
     "data": {
      "application/json": {
       "ascii": false,
       "bar_format": null,
       "colour": null,
       "elapsed": 0.029162883758544922,
       "initial": 0,
       "n": 0,
       "ncols": null,
       "nrows": null,
       "postfix": null,
       "prefix": "Downloading",
       "rate": null,
       "total": 891691413,
       "unit": "B",
       "unit_divisor": 1000,
       "unit_scale": true
      },
      "application/vnd.jupyter.widget-view+json": {
       "model_id": "8499498f7af34f89916ac8b5c8b4e2ac",
       "version_major": 2,
       "version_minor": 0
      },
      "text/plain": [
       "Downloading:   0%|          | 0.00/892M [00:00<?, ?B/s]"
      ]
     },
     "metadata": {},
     "output_type": "display_data"
    },
    {
     "data": {
      "application/json": {
       "ascii": false,
       "bar_format": null,
       "colour": null,
       "elapsed": 0.013822555541992188,
       "initial": 0,
       "n": 0,
       "ncols": null,
       "nrows": null,
       "postfix": null,
       "prefix": "Training Epoch 1",
       "rate": null,
       "total": 10173,
       "unit": "it",
       "unit_divisor": 1000,
       "unit_scale": false
      },
      "application/vnd.jupyter.widget-view+json": {
       "model_id": "d9580df60ef648f6a8efff2ce22fcffc",
       "version_major": 2,
       "version_minor": 0
      },
      "text/plain": [
       "Training Epoch 1:   0%|          | 0/10173 [00:00<?, ?it/s]"
      ]
     },
     "metadata": {},
     "output_type": "display_data"
    }
   ],
   "source": [
    "model = T5ForConditionalGeneration.from_pretrained('castorini/monot5-base-msmarco')\n",
    "model = model.to(device)\n",
    "\n",
    "optimizer = Adam(model.parameters(), lr=params['learning_rate'])\n",
    "train_history = {'loss': []}\n",
    "epoch = 1\n",
    "\n",
    "while True:\n",
    "    for batch_idx, (data, label) in enumerate(tqdm(train_loader, total=len(train_loader), desc=f'Training Epoch {epoch}')):\n",
    "        train_loss, labels, preds = train_step(model=model, \n",
    "                                data=data,\n",
    "                                label=label,\n",
    "                                optimizer=optimizer,\n",
    "                                batch_idx=batch_idx, \n",
    "                                accumulate_grad_batches=params['accumulate_grad_batches'], \n",
    "                                dataloader_size=len(train_loader))\n",
    "        \n",
    "        train_history['loss'].append(train_loss)\n",
    "\n",
    "        if batch_idx > 2000: break\n",
    "    if batch_idx > 2000: break\n",
    "    epoch += 1"
   ]
  },
  {
   "cell_type": "code",
   "execution_count": 26,
   "id": "09f325f4-bbb5-40c2-b89d-8165797cd911",
   "metadata": {},
   "outputs": [
    {
     "data": {
      "image/png": "[encoded data removed]",
      "text/plain": [
       "<Figure size 640x480 with 1 Axes>"
      ]
     },
     "metadata": {},
     "output_type": "display_data"
    }
   ],
   "source": [
    "plt.plot(train_history['loss'], '-k')\n",
    "plt.grid()\n",
    "plt.xlabel('Steps')\n",
    "plt.title('Training Loss')\n",
    "plt.ylabel('Loss')\n",
    "plt.show()"
   ]
  },
  {
   "cell_type": "code",
   "execution_count": 27,
   "id": "ec60deb6-bd6b-4330-a48c-83c5ff60b791",
   "metadata": {},
   "outputs": [],
   "source": [
    "all_preds  = []\n",
    "all_labels = []\n",
    "running_loss = 0.0\n",
    "\n",
    "model.eval()\n",
    "for i in range(0, len(valid_dataset)):\n",
    "    (sample, label) = valid_dataset.__getitem__(i)\n",
    "    \n",
    "    input_ids      = sample['input_ids'].to(device)\n",
    "    attention_mask = sample['attention_mask'].to(device)\n",
    "    labels         = label['input_ids'].to(device)\n",
    "\n",
    "    with torch.no_grad():\n",
    "        pred = model.generate(input_ids=input_ids.reshape(1, -1), attention_mask=attention_mask.reshape(1, -1), max_length=5)[0]\n",
    "        pred = tokenizer.decode(pred, skip_special_tokens=True)\n",
    "        \n",
    "        label = tokenizer.decode(labels, skip_special_tokens=True)\n",
    "        \n",
    "        if pred == 'false': all_preds.append(0)\n",
    "        if pred == 'true': all_preds.append(1)\n",
    "        \n",
    "        if label == 'false': all_labels.append(0)\n",
    "        if label == 'true': all_labels.append(1)\n",
    "torch.save(model.state_dict(), 'T5_sentence_selection.pth')"
   ]
  },
  {
   "cell_type": "code",
   "execution_count": 30,
   "id": "c3f3e49a-b884-47ec-ad9c-69ede6a91317",
   "metadata": {},
   "outputs": [
    {
     "name": "stdout",
     "output_type": "stream",
     "text": [
      "Precision: 0.7819123124 --- Recall: 0.72541235 --- F1 Score: 0.75261512\n"
     ]
    }
   ],
   "source": [
    "recall    = recall_score(all_labels, all_preds, zero_division = 0)\n",
    "precision = precision_score(all_labels, all_preds, zero_division = 0)\n",
    "f1        = f1_score(all_labels, all_preds)\n",
    "\n",
    "print(f'Precision: {precision} --- Recall: {recall} --- F1 Score: {f1}')"
   ]
  }
 ],
 "metadata": {
  "kernelspec": {
   "display_name": "Python 3 (ipykernel)",
   "language": "python",
   "name": "python3"
  },
  "language_info": {
   "codemirror_mode": {
    "name": "ipython",
    "version": 3
   },
   "file_extension": ".py",
   "mimetype": "text/x-python",
   "name": "python",
   "nbconvert_exporter": "python",
   "pygments_lexer": "ipython3",
   "version": "3.8.10"
  }
 },
 "nbformat": 4,
 "nbformat_minor": 5
}
