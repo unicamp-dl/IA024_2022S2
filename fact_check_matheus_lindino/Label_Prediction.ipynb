{
 "cells": [
  {
   "cell_type": "markdown",
   "id": "d919edd9-cc78-4018-bb82-12a9c3bce2c4",
   "metadata": {},
   "source": [
    "# Label Prediction\n",
    "\n",
    "This notebook contains:\n",
    "- BERT and T5 refined to Label Prediction;"
   ]
  },
  {
   "cell_type": "code",
   "execution_count": null,
   "id": "d2ec9475-3068-4a71-ba56-953cc5373b93",
   "metadata": {},
   "outputs": [],
   "source": [
    "pip install nltk protobuf==3.20.* -q"
   ]
  },
  {
   "cell_type": "code",
   "execution_count": null,
   "id": "307b5780-2d70-4e6d-b33e-c7de78f33beb",
   "metadata": {},
   "outputs": [],
   "source": [
    "import nltk\n",
    "nltk.download('punkt')"
   ]
  },
  {
   "cell_type": "code",
   "execution_count": null,
   "id": "35cb9d31-9bdf-4397-85f0-37c214e44a1b",
   "metadata": {
    "tags": []
   },
   "outputs": [],
   "source": [
    "!pip install -r pygaggle/requirements.txt -q"
   ]
  },
  {
   "cell_type": "markdown",
   "id": "ad814eae-7e0c-426a-83a8-c31c626583fb",
   "metadata": {
    "tags": []
   },
   "source": [
    "### Imports and Global Variables"
   ]
  },
  {
   "cell_type": "code",
   "execution_count": 24,
   "id": "e5605cfa-96cc-4cca-9cb2-5a1162ae3881",
   "metadata": {
    "tags": []
   },
   "outputs": [],
   "source": [
    "import os\n",
    "import copy\n",
    "import torch\n",
    "import random\n",
    "import json\n",
    "import jsonlines\n",
    "import numpy as np\n",
    "import pandas as pd\n",
    "import plotly.express as px\n",
    "import matplotlib.pyplot as plt\n",
    "\n",
    "from nltk import tokenize\n",
    "from torch.optim import Adam\n",
    "from tqdm.notebook import tqdm\n",
    "from rank_bm25 import BM25Okapi\n",
    "from torch.utils.data import Dataset, DataLoader\n",
    "from pyserini.search.lucene import LuceneSearcher\n",
    "from sklearn.metrics import recall_score, accuracy_score, precision_score, classification_report, f1_score\n",
    "from transformers import BertTokenizerFast, BertForSequenceClassification, T5Tokenizer, T5ForConditionalGeneration"
   ]
  },
  {
   "cell_type": "code",
   "execution_count": 2,
   "id": "931a7edf-27ca-4059-8b58-075a4c9263bd",
   "metadata": {},
   "outputs": [
    {
     "name": "stdout",
     "output_type": "stream",
     "text": [
      "Device: cuda:1\n"
     ]
    }
   ],
   "source": [
    "random.seed(42)\n",
    "np.random.seed(42)\n",
    "torch.manual_seed(42)\n",
    "\n",
    "os.environ[\"TOKENIZERS_PARALLELISM\"] = \"false\"\n",
    "\n",
    "device = torch.device('cuda:1' if torch.cuda.is_available() else 'cpu')\n",
    "print(f'Device: {device}')"
   ]
  },
  {
   "cell_type": "code",
   "execution_count": 4,
   "id": "3b0eca50-c6a4-4388-8924-48cbabc5ac24",
   "metadata": {},
   "outputs": [],
   "source": [
    "params = {\n",
    "    'batch_size': 8,\n",
    "    'optimizer': 'Adam',\n",
    "    'learning_rate': 1e-5,\n",
    "    'epochs': 1,\n",
    "    'version': 'base',\n",
    "    'model': 'bert',\n",
    "    'early_stopping': None,\n",
    "    'seed': 42,\n",
    "    'max_length': 512,\n",
    "    'evaluate_interval': 100,\n",
    "    'accumulate_grad_batches': 8\n",
    "}"
   ]
  },
  {
   "cell_type": "markdown",
   "id": "90dc0384-eac4-4d9f-a846-dc4369d60580",
   "metadata": {
    "tags": []
   },
   "source": [
    "### Read Json"
   ]
  },
  {
   "cell_type": "code",
   "execution_count": 5,
   "id": "8367d865-aeb7-469b-a2c1-011d99e27f37",
   "metadata": {},
   "outputs": [],
   "source": [
    "def read_json(path):\n",
    "    docs = []\n",
    "    with jsonlines.open(path) as file:\n",
    "        for line in file.iter():\n",
    "            docs.append(line)\n",
    "            \n",
    "    return docs\n",
    "\n",
    "corpus = read_json('data/corpus.jsonl')\n",
    "train_json = read_json('data/claims_train.jsonl')\n",
    "valid_json = read_json('data/claims_dev.jsonl')\n",
    "test_json  = read_json('data/claims_test.jsonl')"
   ]
  },
  {
   "cell_type": "markdown",
   "id": "c43bc7f3-1144-4b16-ae3f-16984b03c640",
   "metadata": {
    "tags": []
   },
   "source": [
    "### Pyserini"
   ]
  },
  {
   "cell_type": "code",
   "execution_count": 6,
   "id": "c3ea4061-fda9-4cef-a3bb-bd1bd0a4a299",
   "metadata": {},
   "outputs": [],
   "source": [
    "def pyserini_search(claim, top_k, return_hits=False):\n",
    "    docs = []\n",
    "    searcher = LuceneSearcher('scifact_index')\n",
    "    hits = searcher.search(claim, k=top_k)\n",
    "\n",
    "    for i in range(len(hits)):\n",
    "        docs.append(json.loads(hits[i].raw))\n",
    "     \n",
    "    if return_hits: return hits\n",
    "    \n",
    "    return docs"
   ]
  },
  {
   "cell_type": "markdown",
   "id": "8b8284db-e077-45c8-b25a-145464d98c4c",
   "metadata": {
    "tags": []
   },
   "source": [
    "### BERT"
   ]
  },
  {
   "cell_type": "markdown",
   "id": "c88e0b37-767a-4b40-8152-dd9514ed2991",
   "metadata": {},
   "source": [
    "#### Dataset"
   ]
  },
  {
   "cell_type": "code",
   "execution_count": 26,
   "id": "9d04f7be-6589-4753-b7aa-65a888e34a7e",
   "metadata": {},
   "outputs": [],
   "source": [
    "def prepare_dataset_sentence(data):\n",
    "    dataset = {'inputs': [], 'labels': []}\n",
    "\n",
    "    # SUPPORT AND REFUTES - 0 - 1\n",
    "    for sample in train_json:\n",
    "        claim    = sample['claim']\n",
    "        evidence = sample['evidence']\n",
    "        if not evidence: continue\n",
    "\n",
    "        for _id_ in evidence.keys():\n",
    "            for doc in corpus:\n",
    "                doc_id = str(doc['doc_id'])\n",
    "                if doc_id == _id_:\n",
    "                    sentences = evidence[_id_]\n",
    "                    abstract  = doc['abstract']\n",
    "\n",
    "                    idxs  = []\n",
    "                    for s in sentences:\n",
    "                        for i in s['sentences']:\n",
    "                            idxs.append(i)\n",
    "                            label = 1 if s['label'] == 'SUPPORT' else 0\n",
    "\n",
    "                    hypothesis = f'hypothesis: {claim} '\n",
    "                    for i, idx in enumerate(idxs):\n",
    "                        hypothesis += f'sentence{i}: {abstract[idx]} '\n",
    "                    \n",
    "                    #for _ in range(0, 10):\n",
    "                    dataset['inputs'].append(hypothesis)\n",
    "                    dataset['labels'].append(label)\n",
    "                    \n",
    "    ## NoInfo - 2\n",
    "    for sample in train_json:\n",
    "        claim    = sample['claim']\n",
    "        evidence = sample['evidence']\n",
    "        if not evidence: continue\n",
    "\n",
    "        docs = pyserini_search(claim, top_k=5)\n",
    "\n",
    "        for doc in docs:\n",
    "            doc_id = str(doc['id'])\n",
    "            if doc_id not in list(evidence.keys()):\n",
    "                abstract = tokenize.sent_tokenize(doc['contents'])\n",
    "                random_sentences = random.randint(1,2)\n",
    "                random_idx = random.sample(range(0, len(abstract)), random_sentences)\n",
    "\n",
    "                hypothesis = f'hypothesis: {claim} '\n",
    "                for i, idx in enumerate(random_idx):\n",
    "                    hypothesis += f'sentence{i}: {abstract[idx]} '\n",
    "\n",
    "                dataset['inputs'].append(hypothesis)\n",
    "                dataset['labels'].append(2)\n",
    "    \n",
    "    return dataset"
   ]
  },
  {
   "cell_type": "code",
   "execution_count": 27,
   "id": "ed7510e2-851a-4d59-a3f7-04f535bb20dc",
   "metadata": {},
   "outputs": [],
   "source": [
    "class SentenceDataset(Dataset):\n",
    "    def __init__(self, dataset, labels):\n",
    "        self.encodings = dataset\n",
    "        self.labels    = torch.Tensor(labels).long()\n",
    "        \n",
    "    def __len__(self):\n",
    "        return len(self.labels)\n",
    "    \n",
    "    def __getitem__(self, index):\n",
    "        item = {key: value[index] for key, value in self.encodings.items()}\n",
    "        item['labels'] = self.labels[index] \n",
    "        return item"
   ]
  },
  {
   "cell_type": "code",
   "execution_count": 28,
   "id": "15801767-a6b7-423f-b27a-d1952f504c9d",
   "metadata": {},
   "outputs": [],
   "source": [
    "tokenizer = BertTokenizerFast.from_pretrained('bert-large-cased', disable_tqdm=False)\n",
    "\n",
    "# Sentence Split\n",
    "train_sentence = prepare_dataset_sentence(train_json)\n",
    "valid_sentence = prepare_dataset_sentence(valid_json)\n",
    "\n",
    "# Tokenizer\n",
    "train_encoding = tokenizer(train_sentence['inputs'], truncation=True, padding=True, return_tensors='pt', max_length=params['max_length'])\n",
    "valid_encoding = tokenizer(valid_sentence['inputs'], truncation=True, padding=True, return_tensors='pt', max_length=params['max_length'])\n",
    "\n",
    "# Dataset\n",
    "train_dataset = SentenceDataset(train_encoding, train_sentence['labels'])\n",
    "valid_dataset = SentenceDataset(valid_encoding, valid_sentence['labels'])\n",
    "\n",
    "# DataLoader\n",
    "train_loader = DataLoader(train_dataset, batch_size=params['batch_size'], shuffle=True)\n",
    "valid_loader = DataLoader(valid_dataset, batch_size=params['batch_size'], shuffle=True)"
   ]
  },
  {
   "cell_type": "markdown",
   "id": "7d0988d6-d1aa-4e38-8b4b-0c6f8022886e",
   "metadata": {},
   "source": [
    "#### Train Step"
   ]
  },
  {
   "cell_type": "code",
   "execution_count": 7,
   "id": "cd462fa2-09e9-4f21-aea3-9d091c320406",
   "metadata": {},
   "outputs": [],
   "source": [
    "class EarlyStopping():\n",
    "    def __init__(self, patience=3, min_delta=0.0001):\n",
    "        self.patience = patience\n",
    "        self.counter = 0\n",
    "        self.best_score = None\n",
    "        self.best_model_wts = None\n",
    "        self.min_delta = min_delta\n",
    "\n",
    "    def __call__(self, model, val_loss):\n",
    "        score = -val_loss\n",
    "\n",
    "        if self.best_score is None:\n",
    "            self.best_score = score\n",
    "            self.best_model_wts = copy.deepcopy(model.state_dict())\n",
    "            return False\n",
    "\n",
    "        elif score < self.best_score + self.min_delta:\n",
    "            self.counter += 1\n",
    "            if self.counter >= self.patience:\n",
    "                return True\n",
    "        else:\n",
    "            self.best_score = score\n",
    "            self.best_model_wts = copy.deepcopy(model.state_dict())\n",
    "            self.counter = 0\n",
    "        return False"
   ]
  },
  {
   "cell_type": "code",
   "execution_count": 21,
   "id": "8417c4dc-645a-467f-9be3-f19e058ce256",
   "metadata": {},
   "outputs": [],
   "source": [
    "def train_step(model, data, optimizer, batch_idx, accumulate_grad_batches, dataloader_size):\n",
    "    model.train()\n",
    "    \n",
    "    input_ids      = data['input_ids'].to(device)\n",
    "    attention_mask = data['attention_mask'].to(device)\n",
    "    labels         = data['labels'].to(device)\n",
    "    \n",
    "    optimizer.zero_grad()\n",
    "    \n",
    "    outputs = model(input_ids=input_ids, attention_mask=attention_mask, labels=labels)\n",
    "    loss = outputs[0]\n",
    "    loss.backward()\n",
    "    \n",
    "    _, preds = torch.max(outputs[1], 1)    \n",
    "\n",
    "    if ((batch_idx + 1) % accumulate_grad_batches == 0) or (batch_idx + 1 == dataloader_size):\n",
    "        optimizer.step()\n",
    "        optimizer.zero_grad()\n",
    "        \n",
    "    return loss.item(), labels, preds\n",
    "\n",
    "def evaluate(model, dataloader):\n",
    "    running_loss = 0.0\n",
    "    #running_corrects = 0\n",
    "\n",
    "    model.eval()\n",
    "    for data in dataloader:\n",
    "        \n",
    "        input_ids      = data['input_ids'].to(device)\n",
    "        attention_mask = data['attention_mask'].to(device)\n",
    "        labels         = data['labels'].to(device)\n",
    "\n",
    "        with torch.no_grad():\n",
    "            outputs = model(input_ids=input_ids, attention_mask=attention_mask, labels=labels)\n",
    "            loss = outputs[0]\n",
    "            _, preds = torch.max(outputs[1], 1)\n",
    "\n",
    "            running_loss += loss.item()\n",
    "            #running_corrects += torch.sum(preds == labels)\n",
    "\n",
    "    return running_loss/len(dataloader)"
   ]
  },
  {
   "cell_type": "code",
   "execution_count": 24,
   "id": "286fe02f-3ee7-4b1c-880b-b86255b603a8",
   "metadata": {},
   "outputs": [
    {
     "name": "stderr",
     "output_type": "stream",
     "text": [
      "Some weights of the model checkpoint at bert-base-uncased were not used when initializing BertForSequenceClassification: ['cls.predictions.transform.dense.weight', 'cls.predictions.transform.dense.bias', 'cls.seq_relationship.bias', 'cls.predictions.transform.LayerNorm.bias', 'cls.predictions.decoder.weight', 'cls.seq_relationship.weight', 'cls.predictions.bias', 'cls.predictions.transform.LayerNorm.weight']\n",
      "- This IS expected if you are initializing BertForSequenceClassification from the checkpoint of a model trained on another task or with another architecture (e.g. initializing a BertForSequenceClassification model from a BertForPreTraining model).\n",
      "- This IS NOT expected if you are initializing BertForSequenceClassification from the checkpoint of a model that you expect to be exactly identical (initializing a BertForSequenceClassification model from a BertForSequenceClassification model).\n",
      "Some weights of BertForSequenceClassification were not initialized from the model checkpoint at bert-base-uncased and are newly initialized: ['classifier.weight', 'classifier.bias']\n",
      "You should probably TRAIN this model on a down-stream task to be able to use it for predictions and inference.\n"
     ]
    },
    {
     "data": {
      "application/vnd.jupyter.widget-view+json": {
       "model_id": "07b751c7fc8c424b81537098e138329d",
       "version_major": 2,
       "version_minor": 0
      },
      "text/plain": [
       "Training Epoch 1:   0%|          | 0/480 [00:00<?, ?it/s]"
      ]
     },
     "metadata": {},
     "output_type": "display_data"
    },
    {
     "data": {
      "application/vnd.jupyter.widget-view+json": {
       "model_id": "fe1d477f83f84a8dacda0cf72915e65b",
       "version_major": 2,
       "version_minor": 0
      },
      "text/plain": [
       "Training Epoch 2:   0%|          | 0/480 [00:00<?, ?it/s]"
      ]
     },
     "metadata": {},
     "output_type": "display_data"
    },
    {
     "data": {
      "application/vnd.jupyter.widget-view+json": {
       "model_id": "f56fd9efe4df47f58965d941b65df306",
       "version_major": 2,
       "version_minor": 0
      },
      "text/plain": [
       "Training Epoch 3:   0%|          | 0/480 [00:00<?, ?it/s]"
      ]
     },
     "metadata": {},
     "output_type": "display_data"
    },
    {
     "data": {
      "application/vnd.jupyter.widget-view+json": {
       "model_id": "22819e523ddd404aa1f36dd64fd79b33",
       "version_major": 2,
       "version_minor": 0
      },
      "text/plain": [
       "Training Epoch 4:   0%|          | 0/480 [00:00<?, ?it/s]"
      ]
     },
     "metadata": {},
     "output_type": "display_data"
    },
    {
     "data": {
      "application/vnd.jupyter.widget-view+json": {
       "model_id": "65c3bb3b21904eddbaee36b71c2463ac",
       "version_major": 2,
       "version_minor": 0
      },
      "text/plain": [
       "Training Epoch 5:   0%|          | 0/480 [00:00<?, ?it/s]"
      ]
     },
     "metadata": {},
     "output_type": "display_data"
    },
    {
     "data": {
      "application/vnd.jupyter.widget-view+json": {
       "model_id": "183349dffac34f7faa57e98d51cc7ad2",
       "version_major": 2,
       "version_minor": 0
      },
      "text/plain": [
       "Training Epoch 6:   0%|          | 0/480 [00:00<?, ?it/s]"
      ]
     },
     "metadata": {},
     "output_type": "display_data"
    }
   ],
   "source": [
    "model = BertForSequenceClassification.from_pretrained('bert-large-cased', num_labels=3)\n",
    "model = model.to(device)\n",
    "\n",
    "optimizer = Adam(model.parameters(), lr=params['learning_rate'])\n",
    "train_history = {'loss': [], 'recall': [], 'precision': [], 'accuracy': []}\n",
    "valid_history = {'loss': []}\n",
    "early_stopping = EarlyStopping()\n",
    "\n",
    "epoch = 1\n",
    "while True:\n",
    "    for batch_idx, data in enumerate(tqdm(train_loader, total=len(train_loader), desc=f'Training Epoch {epoch}')):\n",
    "        train_loss, labels, preds = train_step(model=model, \n",
    "                                data=data, \n",
    "                                optimizer=optimizer,\n",
    "                                batch_idx=batch_idx, \n",
    "                                accumulate_grad_batches=params['accumulate_grad_batches'], \n",
    "                                dataloader_size=len(train_loader))\n",
    "        \n",
    "        recall    = recall_score(labels.cpu().numpy(), preds.cpu().numpy(), zero_division=0, average='micro')\n",
    "        precision = precision_score(labels.cpu().numpy(), preds.cpu().numpy(), zero_division=0, average='micro')\n",
    "        accuracy  = accuracy_score(labels.cpu().numpy(), preds.cpu().numpy())\n",
    "    \n",
    "        train_history['loss'].append(train_loss)\n",
    "        train_history['recall'].append(recall)\n",
    "        train_history['precision'].append(precision)\n",
    "        train_history['accuracy'].append(accuracy)\n",
    "        \n",
    "        if ((batch_idx + 1) % params['evaluate_interval'] == 0):\n",
    "            val_loss = evaluate(model=model,\n",
    "                                dataloader=valid_loader)\n",
    "        \n",
    "            valid_history['loss'].append(val_loss)\n",
    "            \n",
    "            if early_stopping(model=model, val_loss=val_loss): break\n",
    "            \n",
    "    epoch += 1\n",
    "    if early_stopping(model=model, val_loss=val_loss): break"
   ]
  },
  {
   "cell_type": "code",
   "execution_count": 44,
   "id": "1c2b5bb9-697c-48f2-89a9-dea6b060f9fb",
   "metadata": {},
   "outputs": [
    {
     "data": {
      "image/png": "[encoded data removed]",
      "text/plain": [
       "<Figure size 2000x500 with 2 Axes>"
      ]
     },
     "metadata": {},
     "output_type": "display_data"
    }
   ],
   "source": [
    "fig, ax = plt.subplots(1, 2, figsize=(20, 5))\n",
    "ax[0].plot(train_history['loss'], '-k')\n",
    "ax[0].grid()\n",
    "ax[0].set_xlabel('Steps')\n",
    "ax[0].set_title('Training Loss')\n",
    "ax[0].set_ylabel('Loss')\n",
    "\n",
    "ax[1].plot(valid_history['loss'], '-k')\n",
    "ax[1].grid()\n",
    "ax[1].set_xlabel('Steps')\n",
    "ax[1].set_title('Validation Loss')\n",
    "ax[1].set_ylabel('Loss')\n",
    "\n",
    "plt.show()"
   ]
  },
  {
   "cell_type": "code",
   "execution_count": 7,
   "id": "486c1d6c-24da-4fc2-9ee5-eb4a35f05de6",
   "metadata": {},
   "outputs": [
    {
     "name": "stdout",
     "output_type": "stream",
     "text": [
      "              precision    recall  f1-score   support\n",
      "\n",
      "    Supports       0.80      0.75      0.77       194\n",
      "     Refutes       0.67      0.77      0.71       370\n",
      "      NoInfo       0.76      0.81      0.78      2035\n",
      "\n",
      "    accuracy                           0.75      2599\n",
      "   macro avg       0.74      0.77      0.75      2599\n",
      "weighted avg       0.75      0.79      0.78      2599\n",
      "\n"
     ]
    }
   ],
   "source": [
    "all_preds  = []\n",
    "all_labels = []\n",
    "running_loss = 0.0\n",
    "\n",
    "model.eval()\n",
    "for data in tqdm(valid_loader, total=len(valid_loader), desc='Validating Model'):\n",
    "\n",
    "    input_ids      = data['input_ids'].to(device)\n",
    "    attention_mask = data['attention_mask'].to(device)\n",
    "    labels         = data['labels'].to(device)\n",
    "\n",
    "    with torch.no_grad():\n",
    "        outputs = model(input_ids=input_ids, attention_mask=attention_mask, labels=labels)\n",
    "        loss = outputs[0]\n",
    "        _, preds = torch.max(outputs[1], 1)\n",
    "        \n",
    "        for i, j in zip(preds.cpu().numpy(), labels.cpu().numpy()):\n",
    "            all_preds.append(i)\n",
    "            all_labels.append(j)\n",
    "            \n",
    "        running_loss += loss.item()\n",
    "\n",
    "torch.save(model.state_dict(), 'bert_label_prediction.pth')\n",
    "print(classification_report(all_labels, all_preds, target_names=['Supports', 'Refutes', 'NoInfo']))"
   ]
  },
  {
   "cell_type": "markdown",
   "id": "5be629e7-f631-4ed4-8ea8-636b3b241fe7",
   "metadata": {
    "tags": []
   },
   "source": [
    "### monoT5"
   ]
  },
  {
   "cell_type": "markdown",
   "id": "1f5acc33-f5de-49da-a762-ab746e0ea68d",
   "metadata": {},
   "source": [
    "#### Dataset"
   ]
  },
  {
   "cell_type": "code",
   "execution_count": 16,
   "id": "fad606ea-f6c1-4a34-a477-437b2cb91a0b",
   "metadata": {},
   "outputs": [],
   "source": [
    "def prepare_dataset_sentence(data):\n",
    "    dataset = {'inputs': [], 'labels': []}\n",
    "\n",
    "    # SUPPORT AND REFUTES - 0 - 1\n",
    "    for sample in train_json:\n",
    "        claim    = sample['claim']\n",
    "        evidence = sample['evidence']\n",
    "        if not evidence: continue\n",
    "\n",
    "        for _id_ in evidence.keys():\n",
    "            for doc in corpus:\n",
    "                doc_id = str(doc['doc_id'])\n",
    "                if doc_id == _id_:\n",
    "                    sentences = evidence[_id_]\n",
    "                    abstract  = doc['abstract']\n",
    "\n",
    "                    idxs  = []\n",
    "                    for s in sentences:\n",
    "                        for i in s['sentences']:\n",
    "                            idxs.append(i)\n",
    "                            label = 'true' if s['label'] == 'SUPPORT' else 'false'\n",
    "\n",
    "                    hypothesis = f'hypothesis: {claim} '\n",
    "                    for i, idx in enumerate(idxs):\n",
    "                        hypothesis += f'sentence{i}: {abstract[idx]} '\n",
    "                    \n",
    "                    #for _ in range(0, 10):\n",
    "                    dataset['inputs'].append(hypothesis)\n",
    "                    dataset['labels'].append(label)\n",
    "                    \n",
    "    ## NoInfo - 2\n",
    "    for sample in train_json:\n",
    "        claim    = sample['claim']\n",
    "        evidence = sample['evidence']\n",
    "        if not evidence: continue\n",
    "\n",
    "        docs = pyserini_search(claim, top_k=5)\n",
    "\n",
    "        for doc in docs:\n",
    "            doc_id = str(doc['id'])\n",
    "            if doc_id not in list(evidence.keys()):\n",
    "                abstract = tokenize.sent_tokenize(doc['contents'])\n",
    "                random_sentences = random.randint(1,2)\n",
    "                random_idx = random.sample(range(0, len(abstract)), random_sentences)\n",
    "\n",
    "                hypothesis = f'hypothesis: {claim} '\n",
    "                for i, idx in enumerate(random_idx):\n",
    "                    hypothesis += f'sentence{i}: {abstract[idx]} '\n",
    "\n",
    "                dataset['inputs'].append(hypothesis)\n",
    "                dataset['labels'].append('weak')\n",
    "    \n",
    "    return dataset"
   ]
  },
  {
   "cell_type": "code",
   "execution_count": 17,
   "id": "6c5065da-589a-4ac2-b01a-7868162ced6f",
   "metadata": {},
   "outputs": [],
   "source": [
    "class SentenceDataset(Dataset):\n",
    "    def __init__(self, dataset, labels):\n",
    "        self.encodings = dataset\n",
    "        self.labels    = labels\n",
    "        \n",
    "    def __len__(self):\n",
    "        return len(self.labels['input_ids'])\n",
    "    \n",
    "    def __getitem__(self, index):\n",
    "        item  = {key: value[index] for key, value in self.encodings.items()}\n",
    "        label = {key: value[index] for key, value in self.labels.items()}\n",
    "        return item, label"
   ]
  },
  {
   "cell_type": "code",
   "execution_count": 18,
   "id": "697ad8e5-8993-4a46-ab4f-c519e844f773",
   "metadata": {},
   "outputs": [],
   "source": [
    "train_sentence = prepare_dataset_sentence(train_json)\n",
    "valid_sentence = prepare_dataset_sentence(valid_json)"
   ]
  },
  {
   "cell_type": "code",
   "execution_count": 19,
   "id": "2c846c2b-95b9-44c6-9a17-4940eadec3c5",
   "metadata": {},
   "outputs": [],
   "source": [
    "tokenizer = T5Tokenizer.from_pretrained('t5-large')\n",
    "\n",
    "# Sentence Split\n",
    "train_sentence = prepare_dataset_sentence(train_json)\n",
    "valid_sentence = prepare_dataset_sentence(valid_json)\n",
    "\n",
    "# Tokenizer\n",
    "train_encoding = tokenizer(train_sentence['inputs'], truncation=True, padding=True, return_tensors='pt', max_length=params['max_length'])\n",
    "train_labels   = tokenizer(train_sentence['labels'], truncation=True, padding=True, return_tensors='pt', max_length=5)\n",
    "\n",
    "valid_encoding = tokenizer(valid_sentence['inputs'], truncation=True, padding=True, return_tensors='pt', max_length=params['max_length'])\n",
    "valid_labels   = tokenizer(valid_sentence['labels'], truncation=True, padding=True, return_tensors='pt', max_length=5)\n",
    "\n",
    "# Dataset\n",
    "train_dataset = SentenceDataset(train_encoding, train_labels)\n",
    "valid_dataset = SentenceDataset(valid_encoding, valid_labels)\n",
    "\n",
    "# DataLoader\n",
    "train_loader = DataLoader(train_dataset, batch_size=params['batch_size'], shuffle=True)\n",
    "valid_loader = DataLoader(valid_dataset, batch_size=params['batch_size'], shuffle=True)"
   ]
  },
  {
   "cell_type": "code",
   "execution_count": 12,
   "id": "bbcb33b9-f993-46d7-a38c-b16cd7639d05",
   "metadata": {},
   "outputs": [],
   "source": [
    "def train_step(model, data, label, optimizer, batch_idx, accumulate_grad_batches, dataloader_size):\n",
    "    model.train()\n",
    "    \n",
    "    input_ids      = data['input_ids'].to(device)\n",
    "    attention_mask = data['attention_mask'].to(device)\n",
    "    labels         = label['input_ids'].to(device)\n",
    "    \n",
    "    optimizer.zero_grad()\n",
    "    \n",
    "    outputs = model(input_ids=input_ids, attention_mask=attention_mask, labels=labels)\n",
    "    loss = outputs[0]\n",
    "    loss.backward()\n",
    "    \n",
    "    _, preds = torch.max(outputs[1], 1)    \n",
    "\n",
    "    if ((batch_idx + 1) % accumulate_grad_batches == 0) or (batch_idx + 1 == dataloader_size):\n",
    "        optimizer.step()\n",
    "        optimizer.zero_grad()\n",
    "        \n",
    "    return loss.item(), labels, preds\n",
    "\n",
    "def evaluate(model, dataloader):\n",
    "    running_loss = 0.0\n",
    "    #running_corrects = 0\n",
    "\n",
    "    model.eval()\n",
    "    for (data, label) in dataloader:\n",
    "        \n",
    "        input_ids      = data['input_ids'].to(device)\n",
    "        attention_mask = data['attention_mask'].to(device)\n",
    "        labels         = label['input_ids'].to(device)\n",
    "\n",
    "        with torch.no_grad():\n",
    "            outputs = model(input_ids=input_ids, attention_mask=attention_mask, labels=labels)\n",
    "            loss = outputs[0]\n",
    "            _, preds = torch.max(outputs[1], 1)\n",
    "\n",
    "            running_loss += loss.item()\n",
    "            #running_corrects += torch.sum(preds == labels)\n",
    "\n",
    "    return running_loss/len(dataloader)"
   ]
  },
  {
   "cell_type": "code",
   "execution_count": 13,
   "id": "e393f7a4-7976-4d7e-8932-efcbcba24ee7",
   "metadata": {},
   "outputs": [
    {
     "data": {
      "application/vnd.jupyter.widget-view+json": {
       "model_id": "f157811f768e45de86c993cc8e8f7988",
       "version_major": 2,
       "version_minor": 0
      },
      "text/plain": [
       "Training Epoch 1:   0%|          | 0/960 [00:00<?, ?it/s]"
      ]
     },
     "metadata": {},
     "output_type": "display_data"
    },
    {
     "data": {
      "application/vnd.jupyter.widget-view+json": {
       "model_id": "e9ce1e52c0d34072bb6e569595b3b2cf",
       "version_major": 2,
       "version_minor": 0
      },
      "text/plain": [
       "Training Epoch 2:   0%|          | 0/960 [00:00<?, ?it/s]"
      ]
     },
     "metadata": {},
     "output_type": "display_data"
    },
    {
     "data": {
      "application/vnd.jupyter.widget-view+json": {
       "model_id": "1137715bc75e47bb8ad172206cc646e3",
       "version_major": 2,
       "version_minor": 0
      },
      "text/plain": [
       "Training Epoch 3:   0%|          | 0/960 [00:00<?, ?it/s]"
      ]
     },
     "metadata": {},
     "output_type": "display_data"
    }
   ],
   "source": [
    "model = T5ForConditionalGeneration.from_pretrained('t5-large')\n",
    "model = model.to(device)\n",
    "\n",
    "optimizer = Adam(model.parameters(), lr=params['learning_rate'])\n",
    "train_history = {'loss': []}\n",
    "valid_history = {'loss': []}\n",
    "early_stopping = EarlyStopping()\n",
    "\n",
    "epoch = 1\n",
    "\n",
    "while True:\n",
    "    for batch_idx, (data, label) in enumerate(tqdm(train_loader, total=len(train_loader), desc=f'Training Epoch {epoch}')):\n",
    "        train_loss, labels, preds = train_step(model=model, \n",
    "                                data=data,\n",
    "                                label=label,\n",
    "                                optimizer=optimizer,\n",
    "                                batch_idx=batch_idx, \n",
    "                                accumulate_grad_batches=params['accumulate_grad_batches'], \n",
    "                                dataloader_size=len(train_loader))\n",
    "        \n",
    "        train_history['loss'].append(train_loss)\n",
    "        \n",
    "        if ((batch_idx + 1) % params['evaluate_interval'] == 0):\n",
    "            val_loss = evaluate(model=model,\n",
    "                                dataloader=valid_loader)\n",
    "        \n",
    "            valid_history['loss'].append(val_loss)\n",
    "            \n",
    "            if early_stopping(model=model, val_loss=val_loss): break\n",
    "            \n",
    "    epoch += 1\n",
    "    if early_stopping(model=model, val_loss=val_loss): break"
   ]
  },
  {
   "cell_type": "code",
   "execution_count": 14,
   "id": "5848f994-6654-49a9-a165-9877e8c6706d",
   "metadata": {},
   "outputs": [
    {
     "data": {
      "image/png": "[encoded data removed]",
      "text/plain": [
       "<Figure size 2000x500 with 2 Axes>"
      ]
     },
     "metadata": {},
     "output_type": "display_data"
    }
   ],
   "source": [
    "fig, ax = plt.subplots(1, 2, figsize=(20, 5))\n",
    "ax[0].plot(train_history['loss'], '-k')\n",
    "ax[0].grid()\n",
    "ax[0].set_xlabel('Steps')\n",
    "ax[0].set_title('Training Loss')\n",
    "ax[0].set_ylabel('Loss')\n",
    "\n",
    "ax[1].plot(valid_history['loss'], '-k')\n",
    "ax[1].grid()\n",
    "ax[1].set_xlabel('Steps')\n",
    "ax[1].set_title('Validation Loss')\n",
    "ax[1].set_ylabel('Loss')\n",
    "\n",
    "plt.show()"
   ]
  },
  {
   "cell_type": "code",
   "execution_count": 20,
   "id": "ec60deb6-bd6b-4330-a48c-83c5ff60b791",
   "metadata": {},
   "outputs": [
    {
     "data": {
      "application/vnd.jupyter.widget-view+json": {
       "model_id": "cb90ecb5cca946f4a1ca2f7d340234ed",
       "version_major": 2,
       "version_minor": 0
      },
      "text/plain": [
       "  0%|          | 0/2599 [00:00<?, ?it/s]"
      ]
     },
     "metadata": {},
     "output_type": "display_data"
    }
   ],
   "source": [
    "all_preds  = []\n",
    "all_labels = []\n",
    "running_loss = 0.0\n",
    "\n",
    "model.eval()\n",
    "for i in tqdm(range(0, len(valid_dataset))):\n",
    "    (sample, label) = valid_dataset.__getitem__(i)\n",
    "    \n",
    "    input_ids      = sample['input_ids'].to(device)\n",
    "    attention_mask = sample['attention_mask'].to(device)\n",
    "    labels         = label['input_ids'].to(device)\n",
    "\n",
    "    with torch.no_grad():\n",
    "        pred = model.generate(input_ids=input_ids.reshape(1, -1), attention_mask=attention_mask.reshape(1, -1), max_length=5)[0]\n",
    "        pred = tokenizer.decode(pred, skip_special_tokens=True)\n",
    "        \n",
    "        label = tokenizer.decode(labels, skip_special_tokens=True)\n",
    "        \n",
    "        if pred == 'false': all_preds.append(0)\n",
    "        if pred == 'true': all_preds.append(1)\n",
    "        if pred == 'weak': all_preds.append(2)\n",
    "        \n",
    "        if label == 'false': all_labels.append(0)\n",
    "        if label == 'true': all_labels.append(1)\n",
    "        if label == 'weak': all_labels.append(2)\n",
    "torch.save(model.state_dict(), 'T5_label_prediction.pth')"
   ]
  },
  {
   "cell_type": "code",
   "execution_count": 55,
   "id": "c3f3e49a-b884-47ec-ad9c-69ede6a91317",
   "metadata": {},
   "outputs": [
    {
     "name": "stdout",
     "output_type": "stream",
     "text": [
      "              precision    recall  f1-score   support\n",
      "\n",
      "    Supports       0.91      0.84      0.87       194\n",
      "     Refutes       0.81      0.83      0.82       370\n",
      "      NoInfo       0.97      0.78      0.87      2035\n",
      "\n",
      "    accuracy                           0.88      2599\n",
      "   macro avg       0.89      0.81      0.85      2599\n",
      "weighted avg       0.94      0.79      0.86      2599\n",
      "\n"
     ]
    }
   ],
   "source": [
    "print(classification_report(all_labels, all_preds, target_names=['Supports', 'Refutes', 'NoInfo']))"
   ]
  }
 ],
 "metadata": {
  "kernelspec": {
   "display_name": "Python 3 (ipykernel)",
   "language": "python",
   "name": "python3"
  },
  "language_info": {
   "codemirror_mode": {
    "name": "ipython",
    "version": 3
   },
   "file_extension": ".py",
   "mimetype": "text/x-python",
   "name": "python",
   "nbconvert_exporter": "python",
   "pygments_lexer": "ipython3",
   "version": "3.8.10"
  }
 },
 "nbformat": 4,
 "nbformat_minor": 5
}
